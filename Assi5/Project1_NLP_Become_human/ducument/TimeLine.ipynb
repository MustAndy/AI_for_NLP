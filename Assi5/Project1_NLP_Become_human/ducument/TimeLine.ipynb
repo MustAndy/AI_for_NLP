{
 "cells": [
  {
   "cell_type": "markdown",
   "metadata": {},
   "source": [
    "因为前段时间的毕设，所以很晚才开始制作这个project，因为我没法及时提交工作，所以就选择了自己一个人慢慢做；用此notebook来记录一下自己的开发过程，以便我做完之后进行反思复盘。Orz"
   ]
  },
  {
   "cell_type": "code",
   "execution_count": 1,
   "metadata": {},
   "outputs": [
    {
     "data": {
      "text/plain": [
       "'\\nno bug no life =, =\\n'"
      ]
     },
     "execution_count": 1,
     "metadata": {},
     "output_type": "execute_result"
    }
   ],
   "source": [
    "\"\"\"\n",
    "no bug no life =, =\n",
    "\"\"\""
   ]
  },
  {
   "cell_type": "markdown",
   "metadata": {},
   "source": [
    "# 5.11"
   ]
  },
  {
   "cell_type": "markdown",
   "metadata": {},
   "source": [
    "\n",
    "在自己完成了assi1-4的情况之下，开始思考这个项目。先去补了前面的两个课程，发现自己在word2Vec部分几乎没有能够理解好...今天对这一块知识进行补充，并且根据之前课程代码进行学习。"
   ]
  },
  {
   "cell_type": "markdown",
   "metadata": {},
   "source": [
    "目前基本决定是先完成后台算法的核心思路，然后再进行前端的对接，前端我flask没用过，但是用过django；这次想尝试补充一点前端的知识，因为我真的前端0经验"
   ]
  },
  {
   "cell_type": "markdown",
   "metadata": {},
   "source": [
    "# 5.12"
   ]
  },
  {
   "cell_type": "markdown",
   "metadata": {},
   "source": [
    "5.12\n",
    "母亲节快乐=，=~\n",
    "今天在理解了词向量之后，开始进行核心功能的构造；\n",
    "目前合并了wiki和news的两个语料库作为词向量模型的训练数据。\n",
    "\n",
    "    Q问题：每次启动程序难道都要加载吗=，=？小电脑跑不过来了，这个问题后期思考；\n",
    "        A：发现可以保存模型....\n",
    "今天布置pyltp以及相关概念的复习。并且通过代码来更好的学习这些概念。"
   ]
  },
  {
   "cell_type": "markdown",
   "metadata": {},
   "source": [
    "# 5.13"
   ]
  },
  {
   "cell_type": "markdown",
   "metadata": {},
   "source": [
    "今天继续听第五课第六课录播课，然后补全概念；之后配置pycharm、sql等开发环境，并搭建项目模块框架。以前是写pure c的.. 然后之前做python都是jupyter+vscode+cmd+anaconda的硬核手段..."
   ]
  }
 ],
 "metadata": {
  "kernelspec": {
   "display_name": "Python 3",
   "language": "python",
   "name": "python3"
  },
  "language_info": {
   "codemirror_mode": {
    "name": "ipython",
    "version": 3
   },
   "file_extension": ".py",
   "mimetype": "text/x-python",
   "name": "python",
   "nbconvert_exporter": "python",
   "pygments_lexer": "ipython3",
   "version": "3.6.8"
  }
 },
 "nbformat": 4,
 "nbformat_minor": 2
}
