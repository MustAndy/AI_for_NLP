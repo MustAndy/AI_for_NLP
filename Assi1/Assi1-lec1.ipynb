{
 "cells": [
  {
   "cell_type": "markdown",
   "metadata": {},
   "source": [
    "深度优先搜索、广度优先搜索"
   ]
  },
  {
   "cell_type": "code",
   "execution_count": 1,
   "metadata": {},
   "outputs": [],
   "source": [
    "BEIJING,CHANGCHUN,WULUMUQI,WUHAN,GUANGZHOU,SHENZHEN,BANGKOK,SHANGHAI,NEWYORK=\"\"\"\n",
    "BEIJING CHANGCHUN WULUMUQI WUHAN GUANGZHOU SHENZHEN BANGKOK SHANGHAI NEWYORK\n",
    "\"\"\".split()\n"
   ]
  },
  {
   "cell_type": "code",
   "execution_count": 2,
   "metadata": {},
   "outputs": [],
   "source": [
    "dictionaty={}\n",
    "connection={\n",
    "    CHANGCHUN:{BEIJING},\n",
    "    WULUMUQI:{BEIJING},\n",
    "    BEIJING:{WULUMUQI,CHANGCHUN,WUHAN,SHENZHEN,NEWYORK},\n",
    "    NEWYORK:{BEIJING,SHANGHAI},\n",
    "    SHANGHAI:{NEWYORK,WUHAN},\n",
    "    WUHAN:{SHANGHAI,BEIJING,GUANGZHOU},\n",
    "    GUANGZHOU:{WUHAN,BANGKOK},\n",
    "    SHENZHEN:{WUHAN,BANGKOK},\n",
    "    BANGKOK:{SHENZHEN,GUANGZHOU}\n",
    "    \n",
    "}"
   ]
  },
  {
   "cell_type": "code",
   "execution_count": 3,
   "metadata": {},
   "outputs": [],
   "source": [
    "import networkx as nx\n",
    "%matplotlib inline"
   ]
  },
  {
   "cell_type": "code",
   "execution_count": 4,
   "metadata": {},
   "outputs": [],
   "source": [
    "graph=connection"
   ]
  },
  {
   "cell_type": "code",
   "execution_count": 5,
   "metadata": {},
   "outputs": [],
   "source": [
    "g=nx.Graph(graph)"
   ]
  },
  {
   "cell_type": "code",
   "execution_count": 6,
   "metadata": {},
   "outputs": [
    {
     "name": "stderr",
     "output_type": "stream",
     "text": [
      "d:\\anaconda3\\envs\\aicourse\\lib\\site-packages\\networkx\\drawing\\nx_pylab.py:611: MatplotlibDeprecationWarning: isinstance(..., numbers.Number)\n",
      "  if cb.is_numlike(alpha):\n"
     ]
    },
    {
     "data": {
      "image/png": "[encoded data removed]",
      "text/plain": [
       "<Figure size 432x288 with 1 Axes>"
      ]
     },
     "metadata": {},
     "output_type": "display_data"
    }
   ],
   "source": [
    "nx.draw(g,with_label=True)"
   ]
  },
  {
   "cell_type": "code",
   "execution_count": 7,
   "metadata": {},
   "outputs": [],
   "source": [
    "def nagivator(start,destination,connection_graph):\n",
    "    pathes=[[start]]\n",
    "    seen=set()\n",
    "    while pathes:\n",
    "        path=pathes.pop()\n",
    "        froniter=path[-1]\n",
    "        if froniter in seen:continue\n",
    "        #print('I am standing at:{}'.format(froniter))\n",
    "        successors=connection_graph[froniter]\n",
    "        \n",
    "        for s in successors:\n",
    "            #print('\\t----I am looking forward to:{}'.format(s))\n",
    "            if s==destination: \n",
    "                path.append(s)\n",
    "                return pathes\n",
    "            \n",
    "            else:\n",
    "                pathes.append(path+[s])\n",
    "        pathes=sorted(pathes,key=len) \n",
    "        \n",
    "        seen.add(froniter)"
   ]
  },
  {
   "cell_type": "code",
   "execution_count": 8,
   "metadata": {},
   "outputs": [
    {
     "name": "stdout",
     "output_type": "stream",
     "text": [
      "[['CHANGCHUN', 'BEIJING', 'WUHAN'], ['CHANGCHUN', 'BEIJING', 'WULUMUQI'], ['CHANGCHUN', 'BEIJING', 'NEWYORK']]\n"
     ]
    }
   ],
   "source": [
    "print(nagivator(CHANGCHUN,BANGKOK,connection))"
   ]
  },
  {
   "cell_type": "code",
   "execution_count": 9,
   "metadata": {},
   "outputs": [],
   "source": [
    "def nagivator_bfs(start, destination, connection_graph):\n",
    "    pathes = [start ]\n",
    "    seen = set()\n",
    "    \n",
    "    while pathes:\n",
    "        froniter = pathes.pop(0)\n",
    "        \n",
    "        if froniter in seen: continue\n",
    "            \n",
    "        successors = connection_graph[froniter]\n",
    "        print('standing on {} Looking forward {}'.format(froniter, successors))\n",
    "        pathes = pathes + successors\n",
    "                \n",
    "        seen.add(froniter)\n",
    "        \n"
   ]
  },
  {
   "cell_type": "code",
   "execution_count": 10,
   "metadata": {},
   "outputs": [],
   "source": [
    "connection_2 = {\n",
    "    0: [1, 5], \n",
    "    1: [0, 2], \n",
    "    2: [1, 3], \n",
    "    3: [2, 4], \n",
    "    4: [3],\n",
    "    5: [0, 6], \n",
    "    6: [5, 7],\n",
    "    7: [6]\n",
    "}"
   ]
  },
  {
   "cell_type": "code",
   "execution_count": 11,
   "metadata": {},
   "outputs": [
    {
     "data": {
      "image/png": "[encoded data removed]",
      "text/plain": [
       "<Figure size 432x288 with 1 Axes>"
      ]
     },
     "metadata": {},
     "output_type": "display_data"
    }
   ],
   "source": [
    "nx.draw(nx.Graph(connection_2))"
   ]
  },
  {
   "cell_type": "code",
   "execution_count": 12,
   "metadata": {},
   "outputs": [
    {
     "name": "stdout",
     "output_type": "stream",
     "text": [
      "standing on 0 Looking forward [1, 5]\n",
      "standing on 1 Looking forward [0, 2]\n",
      "standing on 5 Looking forward [0, 6]\n",
      "standing on 2 Looking forward [1, 3]\n",
      "standing on 6 Looking forward [5, 7]\n",
      "standing on 3 Looking forward [2, 4]\n",
      "standing on 7 Looking forward [6]\n",
      "standing on 4 Looking forward [3]\n"
     ]
    }
   ],
   "source": [
    "nagivator_bfs(0, 7, connection_2)"
   ]
  },
  {
   "cell_type": "code",
   "execution_count": 13,
   "metadata": {},
   "outputs": [],
   "source": [
    "def nagivator_dfs(start, destination, connection_graph):\n",
    "    pathes = [start ]\n",
    "    seen = set()\n",
    "    \n",
    "    while pathes:\n",
    "        froniter = pathes.pop(0)\n",
    "        \n",
    "        if froniter in seen: continue\n",
    "            \n",
    "        successors = connection_graph[froniter]\n",
    "        print('standing on {} Looking forward {}'.format(froniter, successors))\n",
    "        pathes = successors + pathes\n",
    "                \n",
    "        seen.add(froniter)"
   ]
  },
  {
   "cell_type": "code",
   "execution_count": 14,
   "metadata": {},
   "outputs": [
    {
     "name": "stdout",
     "output_type": "stream",
     "text": [
      "standing on 0 Looking forward [1, 5]\n",
      "standing on 1 Looking forward [0, 2]\n",
      "standing on 2 Looking forward [1, 3]\n",
      "standing on 3 Looking forward [2, 4]\n",
      "standing on 4 Looking forward [3]\n",
      "standing on 5 Looking forward [0, 6]\n",
      "standing on 6 Looking forward [5, 7]\n",
      "standing on 7 Looking forward [6]\n"
     ]
    }
   ],
   "source": [
    "nagivator_dfs(0, 7, connection_2)"
   ]
  },
  {
   "cell_type": "code",
   "execution_count": 15,
   "metadata": {},
   "outputs": [],
   "source": [
    "def draw_route(routes):\n",
    "    print('🛫->'.join(routes))"
   ]
  },
  {
   "cell_type": "code",
   "execution_count": 16,
   "metadata": {},
   "outputs": [
    {
     "name": "stdout",
     "output_type": "stream",
     "text": [
      "CHANGCHUN🛫->BEIJING🛫->WUHAN\n",
      "CHANGCHUN🛫->BEIJING🛫->WULUMUQI\n",
      "CHANGCHUN🛫->BEIJING🛫->NEWYORK\n"
     ]
    }
   ],
   "source": [
    "allWay=nagivator(CHANGCHUN, BANGKOK, connection)\n",
    "for i in allWay:\n",
    "    draw_route(i)"
   ]
  },
  {
   "cell_type": "markdown",
   "metadata": {},
   "source": [
    "语句生成"
   ]
  },
  {
   "cell_type": "code",
   "execution_count": 17,
   "metadata": {},
   "outputs": [],
   "source": [
    "decimal_grammar = \"\"\"\n",
    "expression = operator op operator\n",
    "operator = num op num\n",
    "num = 0 | 1 | 2 | 3 | 4 | 5 | 6 | 7 | 8 | 9 | num num\n",
    "op = + | - | * | /\n",
    "\"\"\""
   ]
  },
  {
   "cell_type": "code",
   "execution_count": 18,
   "metadata": {},
   "outputs": [],
   "source": [
    "grammar = \"\"\"\n",
    "stmt = if block else block\n",
    "block = cmp; assigment\n",
    "assgiment = XXX\n",
    "XXX\n",
    "\"\"\""
   ]
  },
  {
   "cell_type": "code",
   "execution_count": 19,
   "metadata": {},
   "outputs": [],
   "source": [
    "grammar = \"\"\"\n",
    "sentence => noun_phrase verb_phrase \n",
    "noun_phrase => Article Adj* noun\n",
    "Adj* => null | Adj Adj*\n",
    "verb_phrase => verb noun_phrase\n",
    "Article =>  一个 | 这个\n",
    "noun =>   女人 |  篮球 | 桌子 | 小猫\n",
    "verb => 看着   |  坐在 |  听着 | 看见\n",
    "Adj =>   蓝色的 |  好看的 | 小小的\n",
    "\"\"\""
   ]
  },
  {
   "cell_type": "code",
   "execution_count": 20,
   "metadata": {},
   "outputs": [],
   "source": [
    "import random"
   ]
  },
  {
   "cell_type": "code",
   "execution_count": 21,
   "metadata": {},
   "outputs": [],
   "source": [
    "def parse_grammar(grammar_str, sep='=>'):\n",
    "    grammar = {}\n",
    "    for line in grammar_str.split('\\n'): \n",
    "        line = line.strip()\n",
    "        if not line: continue\n",
    "        \n",
    "        target, rules = line.split(sep)\n",
    "        \n",
    "        grammar[target.strip()] = [r.split() for r in rules.split('|')]\n",
    "    \n",
    "    return grammar"
   ]
  },
  {
   "cell_type": "code",
   "execution_count": 22,
   "metadata": {},
   "outputs": [],
   "source": [
    "g = parse_grammar(grammar)"
   ]
  },
  {
   "cell_type": "code",
   "execution_count": 23,
   "metadata": {},
   "outputs": [],
   "source": [
    "def gene(grammar_parsed, target='sentence'):\n",
    "    if target not in grammar_parsed: return target\n",
    "    \n",
    "    rule = random.choice(grammar_parsed[target])\n",
    "    return ''.join(gene(grammar_parsed, target=r) for r in rule if r!='null')"
   ]
  },
  {
   "cell_type": "code",
   "execution_count": 24,
   "metadata": {},
   "outputs": [
    {
     "data": {
      "text/plain": [
       "[['noun_phrase', 'verb_phrase']]"
      ]
     },
     "execution_count": 24,
     "metadata": {},
     "output_type": "execute_result"
    }
   ],
   "source": [
    "g['sentence']"
   ]
  },
  {
   "cell_type": "code",
   "execution_count": 25,
   "metadata": {},
   "outputs": [
    {
     "data": {
      "text/plain": [
       "'这个桌子坐在这个小小的女人'"
      ]
     },
     "execution_count": 25,
     "metadata": {},
     "output_type": "execute_result"
    }
   ],
   "source": [
    "gene(g)"
   ]
  },
  {
   "cell_type": "code",
   "execution_count": 26,
   "metadata": {},
   "outputs": [
    {
     "name": "stdout",
     "output_type": "stream",
     "text": [
      "5-69-71-2\n",
      "2-3/1*7\n",
      "2-2/5/35\n",
      "9*7-2-2\n",
      "21/1+6-7\n",
      "4/7/27-6\n",
      "4/2+6*7\n",
      "4/6*1/8\n",
      "1/5+7-9\n",
      "7*8/9-78\n",
      "1/1-1-0\n",
      "8*5+9+1\n",
      "4-5+4+30\n",
      "0*6+4*8\n",
      "1*1+0*9\n",
      "6-7+9-4\n",
      "3*8-9-82\n",
      "8+1*2*3\n",
      "73+2+3/1\n",
      "3*7/697-5\n"
     ]
    }
   ],
   "source": [
    "for i in range(20):\n",
    "    print(gene(parse_grammar(decimal_grammar, sep='='), target='expression'))"
   ]
  },
  {
   "cell_type": "code",
   "execution_count": null,
   "metadata": {},
   "outputs": [],
   "source": []
  }
 ],
 "metadata": {
  "kernelspec": {
   "display_name": "Python 3",
   "language": "python",
   "name": "python3"
  },
  "language_info": {
   "codemirror_mode": {
    "name": "ipython",
    "version": 3
   },
   "file_extension": ".py",
   "mimetype": "text/x-python",
   "name": "python",
   "nbconvert_exporter": "python",
   "pygments_lexer": "ipython3",
   "version": "3.6.8"
  }
 },
 "nbformat": 4,
 "nbformat_minor": 2
}
