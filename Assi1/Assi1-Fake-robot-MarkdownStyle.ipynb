{
 "cells": [
  {
   "cell_type": "markdown",
   "metadata": {},
   "source": [
    "# 问题1"
   ]
  },
  {
   "cell_type": "markdown",
   "metadata": {},
   "source": [
    "编写一个程序, ```get_response(saying, response_rules)```输入是一个字符串 + 我们定义的 rules，例如上边我们所写的 pattern， 输出是一个回答。"
   ]
  },
  {
   "cell_type": "code",
   "execution_count": 1,
   "metadata": {},
   "outputs": [],
   "source": [
    "import random \n",
    "import jieba\n",
    "from collections import defaultdict"
   ]
  },
  {
   "cell_type": "code",
   "execution_count": 2,
   "metadata": {},
   "outputs": [],
   "source": [
    "\"\"\"\n",
    "判断匹配规则中的  ?X\n",
    "\"\"\"\n",
    "def is_variable(pat):\n",
    "        return pat.startswith('?') and all(s.isalpha() for s in pat[1:])"
   ]
  },
  {
   "cell_type": "code",
   "execution_count": 3,
   "metadata": {},
   "outputs": [],
   "source": [
    "\"\"\"\n",
    "递归逐分字判断匹配规则与输入语句\n",
    "\"\"\"\n",
    "\n",
    "def pat_match(pattern, saying):\n",
    "        if not pattern or not saying: return []\n",
    "\n",
    "        if is_variable(pattern[0]):\n",
    "            return [(pattern[0], saying[0])] + pat_match(pattern[1:], saying[1:])\n",
    "        else:\n",
    "            if pattern[0] != saying[0]:\n",
    "                return []\n",
    "            else:\n",
    "                return pat_match(pattern[1:], saying[1:])"
   ]
  },
  {
   "cell_type": "code",
   "execution_count": 4,
   "metadata": {},
   "outputs": [],
   "source": [
    "\"\"\"\n",
    "将查找出的匹配分词转为字典\n",
    "\"\"\"\n",
    "\n",
    "def pat_to_dict(patterns):\n",
    "        return {k: v for k, v in patterns}"
   ]
  },
  {
   "cell_type": "code",
   "execution_count": 5,
   "metadata": {},
   "outputs": [],
   "source": [
    "\"\"\"\n",
    "根据查找出的匹配分词对回答中的?X进行替换\n",
    "\"\"\"\n",
    "def subsitite(rule, parsed_rules):\n",
    "        if not rule: return []\n",
    "        return [parsed_rules.get(rule[0], rule[0])] +subsitite(rule[1:], parsed_rules)"
   ]
  },
  {
   "cell_type": "code",
   "execution_count": 6,
   "metadata": {},
   "outputs": [],
   "source": [
    "\"\"\"\n",
    "先用遍历查找是否有与输入语句匹配的规则，然后再根据查找到的规则进行回答替换。\n",
    "\"\"\"\n",
    "\n",
    "def get_response(saying,rules):\n",
    "\n",
    "    for rule,response in rules.items():\n",
    "        john_pat=pat_match(rule.split(),saying.split())\n",
    "        if john_pat!=[]:\n",
    "            return ' '.join(subsitite(random.choice(response).split(),pat_to_dict(john_pat)))\n",
    "\n",
    "    if not john_pat:\n",
    "        return 'I am sorry for not understanding your word. Please try again.'\n",
    "\n",
    "    return ''"
   ]
  },
  {
   "cell_type": "code",
   "execution_count": 7,
   "metadata": {},
   "outputs": [
    {
     "name": "stdout",
     "output_type": "stream",
     "text": [
      "Image you will get xps9380 soon\n"
     ]
    }
   ],
   "source": [
    "defined_patterns = {\n",
    "    \"I need ?X\": [\"Image you will get ?X soon\", \"Why do you need ?X ?\"], \n",
    "    \"My ?X told me something\": [\"Talk about more about your ?X\", \"How do you think about your ?X ?\"]\n",
    "    }\n",
    "print(get_response('I need xps9380',defined_patterns))\n"
   ]
  },
  {
   "cell_type": "markdown",
   "metadata": {},
   "source": [
    "#上面只能匹配单字无空格的情况，我们接下来将其修改为可以匹配多个字符。"
   ]
  },
  {
   "cell_type": "code",
   "execution_count": 8,
   "metadata": {},
   "outputs": [],
   "source": [
    "\"\"\"\n",
    "修改pat_to_dict函数，将字典的值变为带空格的字符串。\n",
    "\"\"\"\n",
    "\n",
    "def pat_to_dict(patterns):\n",
    "    return {k: ' '.join(v) if isinstance(v, list) else v for k, v in patterns}"
   ]
  },
  {
   "cell_type": "code",
   "execution_count": 9,
   "metadata": {},
   "outputs": [],
   "source": [
    "\"\"\"\n",
    "新的匹配函数， 匹配?*关键字。\n",
    "\"\"\"\n",
    "def is_pattern_segment(pattern):\n",
    "    return pattern.startswith('?*') and all(a.isalpha() for a in pattern[2:])"
   ]
  },
  {
   "cell_type": "code",
   "execution_count": 10,
   "metadata": {},
   "outputs": [],
   "source": [
    "\"\"\"\n",
    "将该函数将逐分词匹配规则与输入语句，并生成关键字替换字典。\n",
    "其中加入了边界条件的判断以防止错误回复。\n",
    "边界情况主要为：输入语句消耗完了，但匹配规则依然有剩余的分词，此时应返回fail，而不是字典里的内容。\n",
    "\n",
    "\"\"\"\n",
    "fail = [True, None]\n",
    "\n",
    "def pat_match_with_seg(pattern, saying):\n",
    "\n",
    "    if not pattern or not saying: return []\n",
    "\n",
    "    pat = pattern[0]\n",
    "\n",
    "    if is_variable(pat):\n",
    "        if pattern[1:] and not saying[1:]: \n",
    "            return fail\n",
    "        else:\n",
    "            return [(pat, saying[0])] + pat_match_with_seg(pattern[1:], saying[1:])\n",
    "    elif is_pattern_segment(pat):\n",
    "        match, index = segment_match(pattern, saying)\n",
    "        if pattern[1:] and not saying[index:]:\n",
    "            return fail\n",
    "\n",
    "        return [match] + pat_match_with_seg(pattern[1:], saying[index:])\n",
    "    elif pat == saying[0]:\n",
    "        if pattern[1:] and not  saying[1:]: \n",
    "            return fail\n",
    "        else:\n",
    "            return pat_match_with_seg(pattern[1:], saying[1:])\n",
    "    else:\n",
    "        return fail"
   ]
  },
  {
   "cell_type": "code",
   "execution_count": 11,
   "metadata": {},
   "outputs": [],
   "source": [
    "\"\"\"\n",
    "用于一次性匹配多个分词，并将?*转为?\n",
    "返回结果为以匹配的字典值，与saying继续改匹配的地方\n",
    "\"\"\"\n",
    "def segment_match(pattern, saying):\n",
    "    seg_pat, rest = pattern[0], pattern[1:]\n",
    "    seg_pat = seg_pat.replace('?*', '?')\n",
    "\n",
    "    if not rest: return (seg_pat, saying), len(saying)    \n",
    "\n",
    "    for i, token in enumerate(saying):\n",
    "        if rest[0] == token:  \n",
    "            return (seg_pat, saying[:i]), i\n",
    "\n",
    "    return (seg_pat, saying), len(saying)"
   ]
  },
  {
   "cell_type": "code",
   "execution_count": 12,
   "metadata": {},
   "outputs": [],
   "source": [
    "\"\"\"\n",
    "依然是将输入与规则进行遍历查询。\n",
    "其中会有开头的?*X将语句消耗完，但是返回字典中带fail的情况，遇到该情况直接将结果重置为fail。\n",
    "\"\"\"\n",
    "def get_response(saying,rules):\n",
    "        \n",
    "    for rule,response in rules.items():\n",
    "        john_pat=pat_match_with_seg(rule.split(),saying.split())\n",
    "        for j in john_pat:\n",
    "            if j==None:\n",
    "                john_pat=fail\n",
    "                continue\n",
    "        if john_pat!=fail:\n",
    "            return ' '.join(subsitite(random.choice(response).split(),pat_to_dict(john_pat)))\n",
    "\n",
    "    return 'I am sorry for not understanding your word. Please try again.'"
   ]
  },
  {
   "cell_type": "code",
   "execution_count": 13,
   "metadata": {},
   "outputs": [
    {
     "name": "stdout",
     "output_type": "stream",
     "text": [
      "Why do you need Dell XPS 9380 ?\n",
      "Do you often feel terrible ?\n",
      "May be you can show me!\n",
      "I am sorry for not understanding your word. Please try again.\n"
     ]
    }
   ],
   "source": [
    "rule_responses = {\n",
    "    'I need ?*X':['Image you will get ?X soon', 'Why do you need ?X ?'], \n",
    "    '?*X I feel ?*Y': ['Do you often feel ?Y ?', 'What other feelings do you have?'],\n",
    "    '?*P is very good and ?*X':['May be you can show me!','What a coincidence！ ?P is very good and ?X ,too!'],\n",
    "    '?*x': ['I am sorry for not understanding your word. Please try again.']\n",
    "}\n",
    "\n",
    "print(get_response('I need Dell XPS 9380',rule_responses))\n",
    "print(get_response('Ewww I feel terrible',rule_responses))\n",
    "print(get_response('My dog is very good and my cat is very cute',rule_responses))\n",
    "print(get_response('I',rule_responses))"
   ]
  },
  {
   "cell_type": "markdown",
   "metadata": {},
   "source": [
    "# 问题2"
   ]
  },
  {
   "cell_type": "markdown",
   "metadata": {},
   "source": [
    "之后将其修改为可支持中文输入与规则的情况。"
   ]
  },
  {
   "cell_type": "code",
   "execution_count": 14,
   "metadata": {},
   "outputs": [],
   "source": [
    "\"\"\"\n",
    "lcut_processor 用来处理所有的进入的字符串，不管中英。\n",
    "代替前面的split()函数。\n",
    "其中要注意结尾的?的匹配。\n",
    "将?X与?*X重新组合成一个列表元素，并沿用上面写好了的回答模块。\n",
    "\n",
    "\"\"\"\n",
    "def lcut_processor(seg_list):\n",
    "    seg_list=jieba.lcut(seg_list)\n",
    "    new_list=[]\n",
    "    i=0\n",
    "    while i<len(seg_list):\n",
    "        if seg_list[i]=='?'and i!=(len(seg_list)-1):\n",
    "            if seg_list[i+1]=='*':\n",
    "                if seg_list[i+2].isalpha():\n",
    "                    new_list.append('?*'+(seg_list[i+2])) \n",
    "                    i+=3\n",
    "            elif seg_list[i+1].isalpha():\n",
    "                new_list.append('?'+(seg_list[i+1]))\n",
    "                i+=2\n",
    "            else:\n",
    "                new_list.append(seg_list[i])\n",
    "                i+=1\n",
    "        elif seg_list[i]==' ':\n",
    "                i+=1\n",
    "        else:\n",
    "            new_list.append(seg_list[i])\n",
    "            i+=1\n",
    "    return new_list"
   ]
  },
  {
   "cell_type": "code",
   "execution_count": 15,
   "metadata": {},
   "outputs": [],
   "source": [
    "\"\"\"\n",
    "用来判断回答中是否有中文，若是有，就不需要用空格分割词语。\n",
    "若是没有，则为英文句子，就需要用空格分割。\n",
    "\"\"\"\n",
    "\n",
    "def is_Chinese(sentence):\n",
    "    for word in sentence:\n",
    "        for ch in word:\n",
    "            if '\\u4e00' <= ch <= '\\u9fff':\n",
    "                return True\n",
    "    return False"
   ]
  },
  {
   "cell_type": "code",
   "execution_count": 16,
   "metadata": {},
   "outputs": [],
   "source": [
    "\"\"\"\n",
    "思路与之前相似，先是遍历规则，然后随机挑选回答并判断中英文，给出回复。\n",
    "\"\"\"\n",
    "def get_response(saying,rules):\n",
    "        \n",
    "    for rule,response in rules.items():\n",
    "        john_pat=pat_match_with_seg(lcut_processor(rule),lcut_processor(saying)) \n",
    "        for j in john_pat:\n",
    "            if j==None:\n",
    "                john_pat=fail\n",
    "                continue\n",
    "        if john_pat!=fail:\n",
    "            Reply=subsitite(lcut_processor(random.choice(response)),pat_to_dict(john_pat))\n",
    "            if is_Chinese(Reply):\n",
    "                return ''.join(Reply)\n",
    "            else:\n",
    "                return ' '.join(Reply)\n",
    "    return 'I am sorry for not understanding your word. Please try again.'"
   ]
  },
  {
   "cell_type": "code",
   "execution_count": 17,
   "metadata": {},
   "outputs": [
    {
     "name": "stderr",
     "output_type": "stream",
     "text": [
      "Building prefix dict from the default dictionary ...\n",
      "Loading model from cache C:\\Users\\dell\\AppData\\Local\\Temp\\jieba.cache\n",
      "Loading model cost 0.769 seconds.\n",
      "Prefix dict has been built succesfully.\n"
     ]
    },
    {
     "name": "stdout",
     "output_type": "stream",
     "text": [
      "喜欢DELL XPS 9380的哪里？\n",
      "Image you will get XPS 9380 soon\n",
      "What a coincidence ！ My dog is very good and my cat is very cute , too !\n"
     ]
    }
   ],
   "source": [
    "rule_responses = {\n",
    "    'I need ?*X':['Image you will get ?X soon', 'Why do you need ?X ?'], \n",
    "    '?*X I feel ?*Y': ['Do you often feel ?Y ?', 'What other feelings do you have?'],\n",
    "    '?*P is very good and ?*X':['May be you can show me!','What a coincidence！ ?P is very good and ?X ,too!'],\n",
    "    '?*x喜欢?*y': ['喜欢?y的哪里？', '?y有什么好的呢？', '你想要?y吗？'],\n",
    "    '?*x': ['I am sorry for not understanding your word. Please try again.']\n",
    "}\n",
    "print(get_response('我喜欢DELL XPS 9380',rule_responses))\n",
    "print(get_response('I need XPS 9380',rule_responses))\n",
    "print(get_response('My dog is very good and my cat is very cute',rule_responses))"
   ]
  },
  {
   "cell_type": "markdown",
   "metadata": {},
   "source": [
    "# 问题3"
   ]
  },
  {
   "cell_type": "markdown",
   "metadata": {},
   "source": [
    "历史记录模式，在完成一次对话之后，将模式中匹配到的?X关键词字典储存下来，并添加到模式中，以呈现一种机器人记忆的方式。\n",
    "如：\n",
    "    人：我喜欢猫\n",
    "    机器：我也是。\n",
    "    人：我喜欢狗\n",
    "    机器：但你上次说你喜欢猫。\n",
    "    \n",
    "在与一个人对话的同时，机器为这个人建立语料库，并储存这些历史信息。"
   ]
  },
  {
   "cell_type": "markdown",
   "metadata": {},
   "source": [
    "# 问题4"
   ]
  },
  {
   "cell_type": "markdown",
   "metadata": {},
   "source": [
    "1. 这样的程序有什么优点？有什么缺点？你有什么可以改进的方法吗？ \n",
    "\n",
    "    答：优点是，程序应答速度快，在面对一些“有规律的、反复的”问答时，一旦匹配到了特定的规则，机器人可以快速的完成问答任务。\n",
    "        缺点是，规则是死的，出现规则外的问答时，直接失去作用。其次规则的增改删查依然需要人类来进行操作。\n",
    "        \n",
    "        我个人认为可以通过语料库的方式储存对话，在面对同一个人的问答时，机器人可以搜索历史记录来“获得对话历史信息”以增加对话的丰富程度。在对话失败的记录(\"I don't understand you\")中，可以用聚类的方式向规则库增加新的规则。\n",
    "    \n",
    "\n"
   ]
  },
  {
   "cell_type": "markdown",
   "metadata": {},
   "source": [
    "2. 什么是数据驱动？数据驱动在这个程序里如何体现？\n",
    "\n",
    "   答：个人的理解是，新的数据能够影响机器进行决策，就已经是数据驱动了。再往深了说，机器能够从数据中获得“信息”，并根据这个信息来进行决策，也是数据驱动的一种体现。\n",
    "   \n",
    "       在这个程序中，我们的输入语句就是数据，机器处理了这份数据(匹配规则，分割语句等)，并作出不同的决策(回答)，就是体现了数据驱动的思想。\n"
   ]
  },
  {
   "cell_type": "markdown",
   "metadata": {},
   "source": [
    "3. 数据驱动与 AI 的关系是什么？ \n",
    "    \n",
    "    答：AI的学习能力，来自于数据驱动。\n",
    "        我们的程序设计让AI程序有了能够处理并提取信息的能力，然后AI不断的处理数据，并从中提取信息，进行学习，这一切的根源就是数据。\n",
    "        没有新新新的数据，AI的处理提取能力再强大，也无法继续学习到新的知识，准确率不再上升。\n",
    "    \n",
    "        "
   ]
  }
 ],
 "metadata": {
  "kernelspec": {
   "display_name": "Python 3",
   "language": "python",
   "name": "python3"
  },
  "language_info": {
   "codemirror_mode": {
    "name": "ipython",
    "version": 3
   },
   "file_extension": ".py",
   "mimetype": "text/x-python",
   "name": "python",
   "nbconvert_exporter": "python",
   "pygments_lexer": "ipython3",
   "version": "3.6.8"
  }
 },
 "nbformat": 4,
 "nbformat_minor": 2
}
