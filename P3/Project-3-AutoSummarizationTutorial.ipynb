{
 "cells": [
  {
   "cell_type": "code",
   "execution_count": 1,
   "metadata": {
    "ExecuteTime": {
     "end_time": "2019-08-19T08:28:47.493043Z",
     "start_time": "2019-08-19T08:28:47.488057Z"
    }
   },
   "outputs": [],
   "source": [
    "def hint(string): return print(''.join(map(chr, map(lambda x: int(x, 16), string.split('.')))))"
   ]
  },
  {
   "cell_type": "markdown",
   "metadata": {},
   "source": [
    "## Environment\n",
    "+ Pycharm\n",
    "+ python3.6\n",
    "+ networkx\n",
    "+ jieba\n",
    "+ numpy, pandas, matplotlib\n",
    "+ gensim"
   ]
  },
  {
   "cell_type": "markdown",
   "metadata": {},
   "source": [
    "## References"
   ]
  },
  {
   "cell_type": "markdown",
   "metadata": {},
   "source": [
    "+ https://nlp.stanford.edu/pubs/see2017get.pdf\n",
    "+ https://web.eecs.umich.edu/~mihalcea/papers/mihalcea.emnlp04.pdf\n",
    "+ https://openreview.net/pdf?id=SyK00v5xx\n",
    "+ https://arxiv.org/abs/1409.0473\n",
    "+ TextRank: https://web.eecs.umich.edu/~mihalcea/papers/mihalcea.emnlp04.pdf\n",
    "+ SentenceEmbedding: https://openreview.net/pdf?id=SyK00v5xx\n",
    "+ InformationRetrievalAndTextMining: https://github.com/Artificial-Intelligence-for-NLP-Chinese/References/tree/master/information-retrieve\n"
   ]
  },
  {
   "cell_type": "markdown",
   "metadata": {},
   "source": [
    "## Background Knowledge"
   ]
  },
  {
   "cell_type": "markdown",
   "metadata": {},
   "source": [
    "Q1. 简述自动摘要技术的三个应用场景？"
   ]
  },
  {
   "cell_type": "markdown",
   "metadata": {},
   "source": [
    "回答： 新闻摘要提取，汇报文件"
   ]
  },
  {
   "cell_type": "markdown",
   "metadata": {},
   "source": [
    "##### 提示，如果需要帮助，可以运行以下的提示"
   ]
  },
  {
   "cell_type": "code",
   "execution_count": 2,
   "metadata": {
    "ExecuteTime": {
     "end_time": "2019-08-19T08:28:47.506008Z",
     "start_time": "2019-08-19T08:28:47.496033Z"
    }
   },
   "outputs": [
    {
     "name": "stdout",
     "output_type": "stream",
     "text": [
      "\n",
      "1. 搜索引擎；\n",
      "2. 观点抽取；\n",
      "3. 新闻；\n",
      "4. 汇报文档\n",
      "\n"
     ]
    }
   ],
   "source": [
    "# remove the # before hint(), to show the example sulution\n",
    "hint('a.31.2e.20.641c.7d22.5f15.64ce.ff1b.a.32.2e.20.89c2.70b9.62bd.53d6.ff1b.a.33.2e.20.65b0.95fb.ff1b.a.34.2e.20.6c47.62a5.6587.6863.a')"
   ]
  },
  {
   "cell_type": "markdown",
   "metadata": {},
   "source": [
    "Q2. 目前的摘要技术分为哪两类？"
   ]
  },
  {
   "cell_type": "markdown",
   "metadata": {},
   "source": [
    "回答： 提取，重新生成"
   ]
  },
  {
   "cell_type": "code",
   "execution_count": 3,
   "metadata": {
    "ExecuteTime": {
     "end_time": "2019-08-19T08:28:47.514984Z",
     "start_time": "2019-08-19T08:28:47.508001Z"
    }
   },
   "outputs": [
    {
     "name": "stdout",
     "output_type": "stream",
     "text": [
      "\n",
      "摘要 Abstractive: 重新整理信息\n",
      "抽取 Extractive: 从原文中提取部分\n",
      "\n"
     ]
    }
   ],
   "source": [
    "hint('a.6458.8981.20.41.62.73.74.72.61.63.74.69.76.65.3a.20.91cd.65b0.6574.7406.4fe1.606f.a.62bd.53d6.20.45.78.74.72.61.63.74.69.76.65.3a.20.4ece.539f.6587.4e2d.63d0.53d6.90e8.5206.a')"
   ]
  },
  {
   "cell_type": "markdown",
   "metadata": {},
   "source": [
    "Q3. 目前实现自动摘要的难点在哪里？列出三点。"
   ]
  },
  {
   "cell_type": "markdown",
   "metadata": {},
   "source": [
    "回答： 缺乏标注数据集，难提取，容错率很低"
   ]
  },
  {
   "cell_type": "code",
   "execution_count": 4,
   "metadata": {
    "ExecuteTime": {
     "end_time": "2019-08-19T08:28:47.519971Z",
     "start_time": "2019-08-19T08:28:47.515981Z"
    }
   },
   "outputs": [
    {
     "name": "stdout",
     "output_type": "stream",
     "text": [
      "\n",
      "1. 缺乏标注训练数据；\n",
      "2. 基于文本理解，提取重要内容难；\n",
      "3. 人类对文本逻辑敏感，摘要结果容错率低\n",
      "\n"
     ]
    }
   ],
   "source": [
    "hint('a.31.2e.20.7f3a.4e4f.6807.6ce8.8bad.7ec3.6570.636e.ff1b.a.32.2e.20.57fa.4e8e.6587.672c.7406.89e3.ff0c.63d0.53d6.91cd.8981.5185.5bb9.96be.ff1b.a.33.2e.20.4eba.7c7b.5bf9.6587.672c.903b.8f91.654f.611f.ff0c.6458.8981.7ed3.679c.5bb9.9519.7387.4f4e.a')"
   ]
  },
  {
   "cell_type": "markdown",
   "metadata": {},
   "source": [
    "## Basic Technologies"
   ]
  },
  {
   "cell_type": "markdown",
   "metadata": {},
   "source": [
    "Q4. 什么是PageRank？ PageRank 用在什么地方？用 $Latex$ 写出其方程"
   ]
  },
  {
   "cell_type": "markdown",
   "metadata": {},
   "source": [
    "回答：  以page为单位，将的page连接起来，如果某一page所连结的结点越多，我们认为这个page更重要，同时如果某page越重要，那么与它相连接的结点也更重要。\n",
    "\n",
    "$$PR(p_i) = rac{1-d}{N} + d \\sum_{p_j \\in M(p_i)}rac{PR (p_j)}{L(p_j)}$$"
   ]
  },
  {
   "cell_type": "code",
   "execution_count": 5,
   "metadata": {
    "ExecuteTime": {
     "end_time": "2019-08-19T08:28:47.525953Z",
     "start_time": "2019-08-19T08:28:47.520967Z"
    }
   },
   "outputs": [
    {
     "name": "stdout",
     "output_type": "stream",
     "text": [
      "\n",
      "1. 方程:\n",
      "    PR(p_i) = \n",
      "rac{1-d}{N} + d \\sum_{p_j \\in M(p_i)} \n",
      "rac{PR (p_j)}{L(p_j)}\n",
      "2. 参考：\n",
      "    https://www.wikiwand.com/en/PageRank\n",
      "\n"
     ]
    }
   ],
   "source": [
    "hint('a.31.2e.20.65b9.7a0b.3a.a.20.20.20.20.50.52.28.70.5f.69.29.20.3d.20.a.72.61.63.7b.31.2d.64.7d.7b.4e.7d.20.2b.20.64.20.5c.73.75.6d.5f.7b.70.5f.6a.20.5c.69.6e.20.4d.28.70.5f.69.29.7d.20.a.72.61.63.7b.50.52.20.28.70.5f.6a.29.7d.7b.4c.28.70.5f.6a.29.7d.a.32.2e.20.53c2.8003.ff1a.a.20.20.20.20.68.74.74.70.73.3a.2f.2f.77.77.77.2e.77.69.6b.69.77.61.6e.64.2e.63.6f.6d.2f.65.6e.2f.50.61.67.65.52.61.6e.6b.a')"
   ]
  },
  {
   "cell_type": "markdown",
   "metadata": {},
   "source": [
    "Q5. PageRank和TextRank的关系是什么，TextRank的背景原理是什么？ "
   ]
  },
  {
   "cell_type": "markdown",
   "metadata": {},
   "source": [
    "回答：基于图的，带权重的，决定因子的重要程度的，排序方法。TextRank是PageRank的一种延申"
   ]
  },
  {
   "cell_type": "code",
   "execution_count": 6,
   "metadata": {
    "ExecuteTime": {
     "end_time": "2019-08-19T08:28:47.530940Z",
     "start_time": "2019-08-19T08:28:47.526951Z"
    }
   },
   "outputs": [
    {
     "name": "stdout",
     "output_type": "stream",
     "text": [
      "\n",
      "参考论文： https://web.eecs.umich.edu/~mihalcea/papers/mihalcea.emnlp04.pdf\n",
      "\n"
     ]
    }
   ],
   "source": [
    "hint('a.53c2.8003.8bba.6587.ff1a.20.68.74.74.70.73.3a.2f.2f.77.65.62.2e.65.65.63.73.2e.75.6d.69.63.68.2e.65.64.75.2f.7e.6d.69.68.61.6c.63.65.61.2f.70.61.70.65.72.73.2f.6d.69.68.61.6c.63.65.61.2e.65.6d.6e.6c.70.30.34.2e.70.64.66.a')"
   ]
  },
  {
   "cell_type": "markdown",
   "metadata": {},
   "source": [
    "Q6. 在存在大量原始文本以及该文本对应的摘要内容时，我们是否可以使用 Seq2Seq 进行生成？ Sequence2Sequence的原理是什么？ Attention的机制原理是什么？ \n",
    "\n",
    "回答：可以，训练编码器将输入的原文向量提取出关键的语义，作为解码器的输入；训练的答案是摘要文本的向量。原理就是将LSTM分别作为encoder和decoder来进行信息的提取与还原生成。attention的机制是对encoder的每一个隐藏状态有一个权值的打分评判，分数越高的，说明输出的结果越依赖当前encoder的输入，而让模型达到更加‘注意’这一个输入点的结果。"
   ]
  },
  {
   "cell_type": "markdown",
   "metadata": {},
   "source": [
    "### "
   ]
  },
  {
   "cell_type": "markdown",
   "metadata": {},
   "source": [
    "## Data Pipeline"
   ]
  },
  {
   "cell_type": "markdown",
   "metadata": {},
   "source": [
    "我们首先加载数据"
   ]
  },
  {
   "cell_type": "code",
   "execution_count": 7,
   "metadata": {
    "ExecuteTime": {
     "end_time": "2019-08-19T08:29:15.755564Z",
     "start_time": "2019-08-19T08:28:47.531938Z"
    }
   },
   "outputs": [],
   "source": [
    "import pandas as pd\n",
    "import numpy as np\n",
    "import jieba\n",
    "import os\n",
    "import pandas as pd\n",
    "from collections import Counter\n",
    "import numpy as np\n",
    "from opencc import OpenCC\n",
    "import jieba\n",
    "import random\n",
    "from gensim.models import FastText\n",
    "from gensim.models.word2vec import LineSentence\n",
    "\n",
    "def cut(string): return ' '.join(jieba.cut(string))\n",
    "path_root = 'D:/senior/aiCourse/dataSource/'\n",
    "news_file = os.path.join(path_root, 'sqlResult_1558435.csv') \n",
    "# this file could downloaded from github group's : \n",
    "#  https://github.com/Artificial-Intelligence-for-NLP-Chinese/datasource "
   ]
  },
  {
   "cell_type": "code",
   "execution_count": 8,
   "metadata": {
    "ExecuteTime": {
     "end_time": "2019-08-19T08:29:17.941215Z",
     "start_time": "2019-08-19T08:29:15.756493Z"
    }
   },
   "outputs": [],
   "source": [
    "news_content = pd.read_csv(news_file, encoding='gb18030')\n",
    "news_content['content'] = news_content['content'].fillna('')\n"
   ]
  },
  {
   "cell_type": "markdown",
   "metadata": {},
   "source": [
    "sample = 2000\n",
    "random_indices = np.random.choice(np.arange(len(news_content['content'])), sample)\n",
    "sub_data = news_content.iloc[random_indices]"
   ]
  },
  {
   "cell_type": "markdown",
   "metadata": {},
   "source": [
    "然后进行：\n",
    "    1. 把content这一列全部拿出来\n",
    "    2. 对content进行切词\n",
    "    3. 统计单词出现的频率格式\n",
    "    4. 其他的分析\n",
    "`提示`：相关代码可以在Github Group的Slides里边的Lecture18，自动摘要里边看到。 "
   ]
  },
  {
   "cell_type": "code",
   "execution_count": 9,
   "metadata": {
    "ExecuteTime": {
     "end_time": "2019-08-19T08:29:20.295584Z",
     "start_time": "2019-08-19T08:29:17.944127Z"
    }
   },
   "outputs": [
    {
     "name": "stdout",
     "output_type": "stream",
     "text": [
      "File found! \n"
     ]
    }
   ],
   "source": [
    "def load_data():\n",
    "    pure_file = os.path.join(path_root, 'P3/pureContent.csv')\n",
    "    if not os.path.exists(pure_file):\n",
    "        news_file = os.path.join(path_root, 'sqlResult_1558435.csv')\n",
    "        news_content = pd.read_csv(news_file, encoding='gb18030')\n",
    "        news_content['content'] = news_content['content'].fillna('')\n",
    "        pure_content = pd.DataFrame()\n",
    "        pure_content['content'] = news_content['content']\n",
    "        pure_content = pure_content.fillna('')\n",
    "        pure_content['tokenized_content'] = pure_content['content'].apply(cut)\n",
    "        pure_content.to_csv(pure_file, encoding='gb18030')\n",
    "    else:\n",
    "        print('File found! ')\n",
    "        pure_content = pd.read_csv(pure_file, encoding='gb18030')\n",
    "        pure_content = pure_content.fillna('')\n",
    "    return pure_content\n",
    "pure_content = load_data()"
   ]
  },
  {
   "cell_type": "markdown",
   "metadata": {},
   "source": [
    "# word Vector"
   ]
  },
  {
   "cell_type": "code",
   "execution_count": 10,
   "metadata": {
    "ExecuteTime": {
     "end_time": "2019-08-19T08:29:22.005528Z",
     "start_time": "2019-08-19T08:29:20.297522Z"
    }
   },
   "outputs": [
    {
     "name": "stdout",
     "output_type": "stream",
     "text": [
      "model Found!\n"
     ]
    },
    {
     "name": "stderr",
     "output_type": "stream",
     "text": [
      "e:\\anaconda\\envs\\aicourse\\lib\\site-packages\\smart_open\\smart_open_lib.py:398: UserWarning: This function is deprecated, use smart_open.open instead. See the migration notes for details: https://github.com/RaRe-Technologies/smart_open/blob/master/README.rst#migrating-to-the-new-open-function\n",
      "  'See the migration notes for details: %s' % _MIGRATION_NOTES_URL\n"
     ]
    }
   ],
   "source": [
    "def load_model(pure_content):\n",
    "    model_file = os.path.join(path_root, 'P3/wordmodel_50.model')\n",
    "    savedContent = os.path.join(path_root, 'P3/all_corpus.txt')\n",
    "\n",
    "    if not os.path.exists(model_file):\n",
    "        if not os.path.exists(savedContent):\n",
    "            with open(savedContent , 'w', encoding='utf-8') as f:\n",
    "                f.write(' '.join(pure_content['tokenized_content'].tolist()))\n",
    "        model = FastText(LineSentence(savedContent), workers=8,window=5, size=50, iter=10, min_count=1)\n",
    "        model.save(model_file)\n",
    "    else:\n",
    "        print('model Found!')\n",
    "        model = FastText.load(model_file)\n",
    "    return model\n",
    "\n",
    "model = load_model(pure_content)"
   ]
  },
  {
   "cell_type": "code",
   "execution_count": 11,
   "metadata": {
    "ExecuteTime": {
     "end_time": "2019-08-19T08:29:22.011400Z",
     "start_time": "2019-08-19T08:29:22.007426Z"
    }
   },
   "outputs": [],
   "source": [
    "from functools import reduce"
   ]
  },
  {
   "cell_type": "code",
   "execution_count": 12,
   "metadata": {
    "ExecuteTime": {
     "end_time": "2019-08-19T08:29:24.136367Z",
     "start_time": "2019-08-19T08:29:22.013396Z"
    }
   },
   "outputs": [],
   "source": [
    "tokeners = [t for l in pure_content['tokenized_content'].tolist() for t in l.split()]"
   ]
  },
  {
   "cell_type": "code",
   "execution_count": 13,
   "metadata": {
    "ExecuteTime": {
     "end_time": "2019-08-19T08:29:24.146310Z",
     "start_time": "2019-08-19T08:29:24.138285Z"
    }
   },
   "outputs": [
    {
     "data": {
      "text/plain": [
       "['此外', '，', '自', '本周', '（', '6', '月', '12', '日', '）']"
      ]
     },
     "execution_count": 13,
     "metadata": {},
     "output_type": "execute_result"
    }
   ],
   "source": [
    "tokeners[:10]"
   ]
  },
  {
   "cell_type": "markdown",
   "metadata": {},
   "source": [
    "## Counts the words occurence # "
   ]
  },
  {
   "cell_type": "code",
   "execution_count": 14,
   "metadata": {
    "ExecuteTime": {
     "end_time": "2019-08-19T08:29:27.877031Z",
     "start_time": "2019-08-19T08:29:24.147297Z"
    }
   },
   "outputs": [
    {
     "data": {
      "text/plain": [
       "[<matplotlib.lines.Line2D at 0x274593bfa58>]"
      ]
     },
     "execution_count": 14,
     "metadata": {},
     "output_type": "execute_result"
    },
    {
     "data": {
      "image/png": "[encoded data removed]",
      "text/plain": [
       "<Figure size 432x288 with 1 Axes>"
      ]
     },
     "metadata": {
      "needs_background": "light"
     },
     "output_type": "display_data"
    }
   ],
   "source": [
    "%matplotlib inline\n",
    "from collections import Counter\n",
    "tokener_counter = Counter(tokeners)\n",
    "frequence = {w: count/len(tokeners) for w, count in tokener_counter.items()}\n",
    "occurences_frequences = sorted(list(frequence.values()), reverse=True)\n",
    "X = range(len(occurences_frequences))\n",
    "import matplotlib.pyplot as plt\n",
    "plt.plot(X[:50], occurences_frequences[:50])"
   ]
  },
  {
   "cell_type": "markdown",
   "metadata": {
    "ExecuteTime": {
     "end_time": "2019-08-17T05:41:13.449986Z",
     "start_time": "2019-08-17T05:41:13.441979Z"
    }
   },
   "source": [
    "def is_CN_char(ch):\n",
    "    return ch >= u'\\u4e00' and ch <= u'\\u9fa5' and ch!='n' and ch!='\\n'\n",
    "\n",
    "def cut(string):\n",
    "    return list(jieba.cut(string))\n",
    "\n",
    "def get_stopwords(filename = \"D:/senior/aiCourse/dataSource/stop_word.txt\"):\n",
    "    stopwords_dic = open(filename, encoding= 'utf-8')\n",
    "    stopwords = stopwords_dic.readlines()\n",
    "    stopwords = [w.strip() for w in stopwords]\n",
    "    stopwords_dic.close()\n",
    "    return stopwords\n",
    "\n",
    "def convert2simple(word):\n",
    "    openCC = OpenCC('tw2sp')\n",
    "    return openCC.convert(word)\n",
    "\n",
    "def clean_sentence(sentence):\n",
    "    stopwords = get_stopwords()\n",
    "    sentence = ''.join(filter(is_CN_char,sentence))\n",
    "    #print(sentence)\n",
    "    \n",
    "    \n",
    "    sentence = convert2simple(sentence)\n",
    "    words = [w for w in cut(sentence) if len(w)>0 and w not in stopwords]\n",
    "    #print(words)\n",
    "    words = ' '.join(words)\n",
    "    return words  \n",
    "\n",
    "content = sub_data['content'].apply(clean_sentence)\n",
    "vocab = ' '.join(content).split()\n",
    "from wordcloud import WordCloud\n",
    "wc = WordCloud(\n",
    "        background_color='white', font_path='D://senior/aiCourse/dataSource/SourceHanSerifSC-Regular.otf'       \n",
    "    )\n",
    "worddata = ''.join(sub_data['content'].tolist())\n",
    "wc.generate_from_text(' '.join(content))\n",
    "wc.to_file('comment_wc.png')"
   ]
  },
  {
   "cell_type": "markdown",
   "metadata": {},
   "source": [
    "## 使用TextRank进行自动摘要提取"
   ]
  },
  {
   "cell_type": "markdown",
   "metadata": {},
   "source": [
    "#### Task 1 使用neteworkx包，建立一个随机图，对该图进行PageRank分析\n"
   ]
  },
  {
   "cell_type": "code",
   "execution_count": 15,
   "metadata": {
    "ExecuteTime": {
     "end_time": "2019-08-19T08:29:28.117048Z",
     "start_time": "2019-08-19T08:29:27.878027Z"
    }
   },
   "outputs": [],
   "source": [
    "import networkx\n",
    "import random"
   ]
  },
  {
   "cell_type": "code",
   "execution_count": 16,
   "metadata": {
    "ExecuteTime": {
     "end_time": "2019-08-19T08:29:28.120991Z",
     "start_time": "2019-08-19T08:29:28.117976Z"
    }
   },
   "outputs": [],
   "source": [
    "def genrate_name(length=3):  return ''.join(chr(random.randint(65, 73)) for _ in range(length))"
   ]
  },
  {
   "cell_type": "code",
   "execution_count": 17,
   "metadata": {
    "ExecuteTime": {
     "end_time": "2019-08-19T08:29:28.340956Z",
     "start_time": "2019-08-19T08:29:28.121965Z"
    }
   },
   "outputs": [
    {
     "name": "stderr",
     "output_type": "stream",
     "text": [
      "e:\\anaconda\\envs\\aicourse\\lib\\site-packages\\networkx\\drawing\\nx_pylab.py:579: MatplotlibDeprecationWarning: \n",
      "The iterable function was deprecated in Matplotlib 3.1 and will be removed in 3.3. Use np.iterable instead.\n",
      "  if not cb.iterable(width):\n"
     ]
    },
    {
     "data": {
      "image/png": "[encoded data removed]",
      "text/plain": [
       "<Figure size 432x288 with 1 Axes>"
      ]
     },
     "metadata": {},
     "output_type": "display_data"
    }
   ],
   "source": [
    "graph = {\n",
    "    'Yao': ['Guo', 'Wang', 'Tian', 'Tim'] + [genrate_name() for _ in range(6)], \n",
    "    'Guo': ['Li'] + [genrate_name() for _ in range(5)], \n",
    "    'Wang': ['Li_2'] + [genrate_name() for _ in range(5)], \n",
    "    'Li': [genrate_name() for _ in range(3)], \n",
    "    'Li_2': [genrate_name() for _ in range(1)]\n",
    "}\n",
    "social_network = networkx.graph.Graph()\n",
    "for vertex, edge in graph.items():\n",
    "    for v in edge:\n",
    "        social_network.add_edges_from([(vertex, v)])\n",
    "networkx.draw_networkx(social_network)"
   ]
  },
  {
   "cell_type": "code",
   "execution_count": 18,
   "metadata": {
    "ExecuteTime": {
     "end_time": "2019-08-19T08:29:28.353951Z",
     "start_time": "2019-08-19T08:29:28.341954Z"
    }
   },
   "outputs": [
    {
     "data": {
      "text/plain": [
       "[('Yao', 0.1747698412634544),\n",
       " ('Wang', 0.12616099221117885),\n",
       " ('Guo', 0.12434209154337311),\n",
       " ('Li', 0.07600909782512963),\n",
       " ('Li_2', 0.04007465697366682),\n",
       " ('DHG', 0.022586982681035123),\n",
       " ('IFE', 0.021706946858994478),\n",
       " ('FHD', 0.021706946858994478),\n",
       " ('ACF', 0.021706946858994478),\n",
       " ('EBE', 0.020875426652805028),\n",
       " ('AEB', 0.020875426652805028),\n",
       " ('EGI', 0.020875426652805028),\n",
       " ('DCI', 0.020875426652805028),\n",
       " ('GID', 0.020875426652805028),\n",
       " ('BDG', 0.020654738077342236),\n",
       " ('GHI', 0.020654738077342236),\n",
       " ('GCA', 0.020654738077342236),\n",
       " ('BGE', 0.020654738077342236),\n",
       " ('IGA', 0.020654738077342236),\n",
       " ('Tian', 0.020410584159305276),\n",
       " ('Tim', 0.020410584159305276),\n",
       " ('FFH', 0.020410584159305276),\n",
       " ('IBA', 0.020410584159305276),\n",
       " ('IEI', 0.020410584159305276),\n",
       " ('DAI', 0.020410584159305276),\n",
       " ('CHD', 0.020410584159305276),\n",
       " ('FFC', 0.020410584159305276)]"
      ]
     },
     "execution_count": 18,
     "metadata": {},
     "output_type": "execute_result"
    }
   ],
   "source": [
    "ranking_result = networkx.pagerank(social_network)\n",
    "sorted(ranking_result.items(), key=lambda x: x[1], reverse=True)"
   ]
  },
  {
   "cell_type": "code",
   "execution_count": 19,
   "metadata": {
    "ExecuteTime": {
     "end_time": "2019-08-19T08:29:28.364892Z",
     "start_time": "2019-08-19T08:29:28.354919Z"
    }
   },
   "outputs": [
    {
     "data": {
      "text/plain": [
       "{'Yao': 0.1747698412634544,\n",
       " 'Guo': 0.12434209154337311,\n",
       " 'Wang': 0.12616099221117885,\n",
       " 'Tian': 0.020410584159305276,\n",
       " 'Tim': 0.020410584159305276,\n",
       " 'FFH': 0.020410584159305276,\n",
       " 'IBA': 0.020410584159305276,\n",
       " 'IEI': 0.020410584159305276,\n",
       " 'DAI': 0.020410584159305276,\n",
       " 'CHD': 0.020410584159305276,\n",
       " 'FFC': 0.020410584159305276,\n",
       " 'Li': 0.07600909782512963,\n",
       " 'BDG': 0.020654738077342236,\n",
       " 'GHI': 0.020654738077342236,\n",
       " 'GCA': 0.020654738077342236,\n",
       " 'BGE': 0.020654738077342236,\n",
       " 'IGA': 0.020654738077342236,\n",
       " 'Li_2': 0.04007465697366682,\n",
       " 'EBE': 0.020875426652805028,\n",
       " 'AEB': 0.020875426652805028,\n",
       " 'EGI': 0.020875426652805028,\n",
       " 'DCI': 0.020875426652805028,\n",
       " 'GID': 0.020875426652805028,\n",
       " 'IFE': 0.021706946858994478,\n",
       " 'FHD': 0.021706946858994478,\n",
       " 'ACF': 0.021706946858994478,\n",
       " 'DHG': 0.022586982681035123}"
      ]
     },
     "execution_count": 19,
     "metadata": {},
     "output_type": "execute_result"
    }
   ],
   "source": [
    "networkx.pagerank(social_network)"
   ]
  },
  {
   "cell_type": "markdown",
   "metadata": {},
   "source": [
    "## TextRank page"
   ]
  },
  {
   "cell_type": "markdown",
   "metadata": {},
   "source": [
    "#### Task 2 使用PageRank 对文本进行关联分析"
   ]
  },
  {
   "cell_type": "code",
   "execution_count": 20,
   "metadata": {
    "ExecuteTime": {
     "end_time": "2019-08-19T08:29:28.369881Z",
     "start_time": "2019-08-19T08:29:28.366887Z"
    }
   },
   "outputs": [],
   "source": [
    "#hints: 代码可以在Github Group 中看到"
   ]
  },
  {
   "cell_type": "code",
   "execution_count": 21,
   "metadata": {
    "ExecuteTime": {
     "end_time": "2019-08-19T08:29:28.377881Z",
     "start_time": "2019-08-19T08:29:28.371873Z"
    }
   },
   "outputs": [],
   "source": [
    "lengthes_of_text = map(len, pure_content['content'].tolist())"
   ]
  },
  {
   "cell_type": "code",
   "execution_count": 22,
   "metadata": {
    "ExecuteTime": {
     "end_time": "2019-08-19T08:29:28.384859Z",
     "start_time": "2019-08-19T08:29:28.378854Z"
    }
   },
   "outputs": [],
   "source": [
    "import matplotlib.font_manager as fm\n",
    "fp1 = fm.FontProperties(fname=\"D://senior/aiCourse/dataSource/SourceHanSerifSC-Regular.otf\")\n",
    "def get_connect_graph_by_text_rank(tokenized_text: str, window=3):\n",
    "    keywords_graph = networkx.Graph()\n",
    "    tokeners = tokenized_text.split()\n",
    "    for ii, t in enumerate(tokeners):\n",
    "        word_tuples = [(tokeners[connect], t) \n",
    "                       for connect in range(ii-window, ii+window+1) \n",
    "                       if connect >= 0 and connect < len(tokeners)]\n",
    "        keywords_graph.add_edges_from(word_tuples)\n",
    "\n",
    "    return keywords_graph"
   ]
  },
  {
   "cell_type": "code",
   "execution_count": 23,
   "metadata": {
    "ExecuteTime": {
     "end_time": "2019-08-19T08:29:28.391823Z",
     "start_time": "2019-08-19T08:29:28.385836Z"
    }
   },
   "outputs": [],
   "source": [
    "first_content = pure_content.iloc[1]['tokenized_content']"
   ]
  },
  {
   "cell_type": "code",
   "execution_count": 24,
   "metadata": {
    "ExecuteTime": {
     "end_time": "2019-08-19T08:29:28.404393Z",
     "start_time": "2019-08-19T08:29:28.400411Z"
    }
   },
   "outputs": [],
   "source": [
    "first_content_continous = pure_content.iloc[4]['content']"
   ]
  },
  {
   "cell_type": "code",
   "execution_count": 25,
   "metadata": {
    "ExecuteTime": {
     "end_time": "2019-08-19T08:29:28.411352Z",
     "start_time": "2019-08-19T08:29:28.406364Z"
    }
   },
   "outputs": [
    {
     "data": {
      "text/plain": [
       "['（原标题：44岁女子跑深圳约会网友被拒，暴雨中裸身奔走……）',\n",
       " '@深圳交警微博称：昨日清晨交警发现有一女子赤裸上身，行走在南坪快速上，期间还起了轻生年头，一辅警发现后赶紧为其披上黄衣，并一路劝说她。',\n",
       " '那么事发时',\n",
       " '到底都发生了些什么呢？',\n",
       " '南都记者带您一起还原现场',\n",
       " '南都记者在龙岗大队坂田中队见到了辅警刘青（发现女生的辅警），一位外表高大帅气，说话略带些腼腆的90后青年。',\n",
       " '刘青介绍，6月16日早上7时36分，他正在环城南路附近值勤，接到中队关于一位女子裸身进入机动车可能有危险的警情，随后骑着小铁骑开始沿路寻找，大概花了十多分钟在南坪大道坂田出口往龙岗方向的逆行辅道上发现该女子。',\n",
       " '女子身上一丝不挂地逆车流而行，时走时停，时坐时躺，险象环生。刘青停好小铁骑，和另外一名巡防员追了上去，发现女子的情绪很低落，话不多，刘青尝试和女子交流，劝说女子离开，可女子并不愿意接受，继续缓慢地往南坪快速路的主干道上走去。',\n",
       " '此时路边上已经聚集了很市民围观，为了不刺激女子的情绪，刘青和巡防员一边盯着女子一边驱赶着围观的群众。',\n",
       " '现场还原',\n",
       " '从警方提供的一份视频了解到，16日早上7时25分，女子出现在坂雪岗大道与环城南路的监控视频中，此时女子还穿着白色的内裤，正沿着坂雪岗大道往南坪快速的方向缓慢地走着。',\n",
       " '当时正值上班高峰期，十字路口的车流已经排起了长队。当女子出现时，路上的市民纷纷驻足观望，不少车辆也放慢了速度，但女子并不为市民观望停下脚步，依然缓慢走着。当女子行进到十字路口中间时，一辆大货车挡住了镜头，但是当女子再次出现镜头时，可以发现女子已经没穿内裤了，全身裸露继续朝着南坪快速方向走去。记者发现，视频中女子周围并没有人尾随或者上前劝止的市民。',\n",
       " '一大清早路上看到这样的情况',\n",
       " '恐怕大家都没办法淡定',\n",
       " '面对这一情况',\n",
       " '刘青表示，“一开始根本不敢看她，心里挺别扭，感觉很尴尬”，但当刘青跟随女子上了南坪快速路主干道时，女子作出了让人意想不到的举动，她突然靠近护栏要从上面跳下去，刘青赶忙冲上去拉住了女子的手，将其控制住并远离护栏。碍于女子没有穿衣服，刘青递上衣服，女子没接受还把衣服扔到排水沟里，继续往前走，没办法刘青只能紧紧拉着她的一只手跟在后面。',\n",
       " '刘青一路上耐心地开导安慰她，但只听到她不断地重复着一句话“要是你也遭遇我的事，你也会这样的”，期间她还不时试图挣脱刘青的手要冲向护栏往下跳。',\n",
       " '就这样，我被牵着走了大概十多分钟，天突然下起了大暴雨，雨大的连眼睛都睁不开”刘青继续说着，瞬间他们就被雨透了，但女子依然不愿意接受刘青的帮助，就继续冒着大雨往前走。',\n",
       " '大概走了有四十分钟吧，女子突然停下来说“我想回家了”，然后女子也接受了刘青递过来的小黄衣，就出现了深圳微博上的照片，女子披着小黄衣，刘青小心翼翼地在旁边走着的场景。从南平快速下来后，刘青和巡防员将女子带到了附近的坂田派出所。',\n",
       " '那姑娘到底是遭遇了什么样的事情',\n",
       " '才会说',\n",
       " '“要是你也遭遇我的事，你也会这样”',\n",
       " '据警方透露，该女子姓陈，系湖北人，今年44岁，据家属反映其有精神病史。三天前，陈某从老家来深圳约会网友，但约会受挫导致情绪异常，女子遂产生轻生念头。',\n",
       " '目前',\n",
       " '陈某已经被送往深圳某精神病医院进行治疗',\n",
       " '大大君只希望姑娘能早点康复',\n",
       " '其实真爱的到来并不存在年龄的限制',\n",
       " '你们说呢？',\n",
       " '因善良的原因',\n",
       " '一众网友纷纷为',\n",
       " '交警暖男点ZAN',\n",
       " '@弓常yan桦：就想问这个小哥哥有女票吗',\n",
       " '@原谅我这一辈子浪荡不羁爱萨摩耶：有什么过不去的要轻生嘛？',\n",
       " '想想自己的家人。同时也感谢交警蜀黍',\n",
       " '@火心聆听心灵：点赞交警',\n",
       " '@中華云盾：警察……警察就是群众最需时申出援手',\n",
       " '@Tomchlee：蜀黍帅！',\n",
       " '@SJ-李赫海i：这个交警很暖有木有！',\n",
       " '男子迷奸网友拍418个视频',\n",
       " '女方从20岁到50岁不等',\n",
       " '去年6月7号上午，淮安市涟水县公安局刑警大队突然接到了一个奇怪的报警电话，一名女子言语不清，声称自己遭到了侵害。女子、被侵害、言语不清，几个关键词令接到电话的民警瞬间紧张起来。']"
      ]
     },
     "execution_count": 25,
     "metadata": {},
     "output_type": "execute_result"
    }
   ],
   "source": [
    "first_content_continous.replace(',', ' ').split()"
   ]
  },
  {
   "cell_type": "code",
   "execution_count": 26,
   "metadata": {
    "ExecuteTime": {
     "end_time": "2019-08-19T08:29:28.418360Z",
     "start_time": "2019-08-19T08:29:28.412349Z"
    }
   },
   "outputs": [],
   "source": [
    "import re\n",
    "pattern = re.compile('[。，,.]')\n",
    "token_by_sentence_first = pattern.sub(' ', first_content_continous).split()"
   ]
  },
  {
   "cell_type": "code",
   "execution_count": 27,
   "metadata": {
    "ExecuteTime": {
     "end_time": "2019-08-19T08:29:28.424348Z",
     "start_time": "2019-08-19T08:29:28.419330Z"
    }
   },
   "outputs": [
    {
     "data": {
      "text/plain": [
       "['（原标题：44岁女子跑深圳约会网友被拒',\n",
       " '暴雨中裸身奔走……）',\n",
       " '@深圳交警微博称：昨日清晨交警发现有一女子赤裸上身',\n",
       " '行走在南坪快速上',\n",
       " '期间还起了轻生年头',\n",
       " '一辅警发现后赶紧为其披上黄衣',\n",
       " '并一路劝说她',\n",
       " '那么事发时',\n",
       " '到底都发生了些什么呢？',\n",
       " '南都记者带您一起还原现场']"
      ]
     },
     "execution_count": 27,
     "metadata": {},
     "output_type": "execute_result"
    }
   ],
   "source": [
    "token_by_sentence_first[:10]"
   ]
  },
  {
   "cell_type": "code",
   "execution_count": 28,
   "metadata": {
    "ExecuteTime": {
     "end_time": "2019-08-19T08:29:28.576941Z",
     "start_time": "2019-08-19T08:29:28.425314Z"
    },
    "scrolled": true
   },
   "outputs": [
    {
     "data": {
      "image/png": "[encoded data removed]",
      "text/plain": [
       "<Figure size 432x288 with 1 Axes>"
      ]
     },
     "metadata": {},
     "output_type": "display_data"
    }
   ],
   "source": [
    "sentence_graph = get_connect_graph_by_text_rank(' '.join(token_by_sentence_first))\n",
    "networkx.draw(sentence_graph)"
   ]
  },
  {
   "cell_type": "code",
   "execution_count": 29,
   "metadata": {
    "ExecuteTime": {
     "end_time": "2019-08-19T08:29:28.601872Z",
     "start_time": "2019-08-19T08:29:28.577906Z"
    }
   },
   "outputs": [],
   "source": [
    "ranking_sentence = networkx.pagerank(sentence_graph)"
   ]
  },
  {
   "cell_type": "markdown",
   "metadata": {},
   "source": [
    "Q6. 切句子是如何实现的？如何使用正则表达式进行句子分割？ "
   ]
  },
  {
   "cell_type": "code",
   "execution_count": 30,
   "metadata": {
    "ExecuteTime": {
     "end_time": "2019-08-19T08:29:28.607856Z",
     "start_time": "2019-08-19T08:29:28.604833Z"
    }
   },
   "outputs": [],
   "source": [
    "#分割句子，将句子按照逗号和句号分隔开。\n",
    "def split_sentence(sentence):\n",
    "    pattern = re.compile('[(。\\s)！？。.]')\n",
    "    split = pattern.sub(' ', sentence).split()  # split sentence\n",
    "    return split"
   ]
  },
  {
   "cell_type": "code",
   "execution_count": 31,
   "metadata": {
    "ExecuteTime": {
     "end_time": "2019-08-19T08:29:28.613844Z",
     "start_time": "2019-08-19T08:29:28.608823Z"
    }
   },
   "outputs": [
    {
     "data": {
      "text/plain": [
       "['我生气了', '我不开心']"
      ]
     },
     "execution_count": 31,
     "metadata": {},
     "output_type": "execute_result"
    }
   ],
   "source": [
    "split_sentence('我生气了！ 我不开心。')"
   ]
  },
  {
   "cell_type": "markdown",
   "metadata": {},
   "source": [
    "Q7. 如果对切词之后的句子的标点符号进行恢复？"
   ]
  },
  {
   "cell_type": "code",
   "execution_count": 32,
   "metadata": {
    "ExecuteTime": {
     "end_time": "2019-08-19T08:29:28.649717Z",
     "start_time": "2019-08-19T08:29:28.616806Z"
    }
   },
   "outputs": [
    {
     "data": {
      "text/plain": [
       "'原来他们每天偷偷摸摸干这事。 原来他们每天偷偷摸摸干这事。 大家还记得今年4月光谷曾发生的一件大事吗。 抢购高峰期，网页打开慢，网银交易出现比较迟钝现象。 有不法分子会冒充客服或店主，以单子出现“调单”“卡单”等说法为幌子，故意说没有收到款项欺诈消费者，取得信任后要求消费者以其他办法进行转账。 识骗方法：消费者要注意，调单、卡单、激活订单等多为诈骗术语，见此类词语基本可以断定对方是骗子。 没有收到款项这样的问题，是不会在东京、天猫这样的大型网络购物平台出现的。 抢购高峰期，网页打开慢，网银交易出现比较迟钝现象。 有不法分子会冒充客服或店主，以单子出现“调单”“卡单”等说法为幌子，故意说没有收到款项欺诈消费者，取得信任后要求消费者以其他办法进行转账。 识骗方法：消费者要注意，调单、卡单、激活订单等多为诈骗术语，见此类词语基本可以断定对方是骗子。 没有收到款项这样的问题，是不会在东京、天猫这样的大型网络购物平台出现的。 同时，提醒大家：保护好自己账户信息，遇到情况一定及时报警。 武汉破特大网络诈骗案抓808人:以\"内幕消息\"骗人'"
      ]
     },
     "execution_count": 32,
     "metadata": {},
     "output_type": "execute_result"
    }
   ],
   "source": [
    "def get_summarization_simple_with_text_rank(text, constraint=200):\n",
    "    return get_summarization_simple(text, sentence_ranking_by_text_ranking, constraint)\n",
    "\n",
    "\n",
    "#建立句子和标点符号之间的关系，例如，建立一个字典\n",
    "def get_summarization_simple(text, score_fn, constraint=200):\n",
    "    sub_sentence = split_sentence(text)\n",
    "    ranking_sentence = score_fn(sub_sentence)\n",
    "    selected_text = set()\n",
    "    current_text = ''\n",
    "    \n",
    "    for sen, _ in ranking_sentence:\n",
    "        if len(current_text) < constraint:\n",
    "            current_text += sen\n",
    "            selected_text.add(sen)\n",
    "        else:\n",
    "            break\n",
    "\n",
    "    summarized = []\n",
    "    for sen in sub_sentence:  # print the selected sentence by sequent\n",
    "        if sen in selected_text:\n",
    "            summarized.append(sen)\n",
    "    return summarized\n",
    "\n",
    "\n",
    "def sentence_ranking_by_text_ranking(split_sentence):\n",
    "    sentence_graph = get_connect_graph_by_text_rank(' '.join(split_sentence))\n",
    "    ranking_sentence = networkx.pagerank(sentence_graph)\n",
    "    ranking_sentence = sorted(ranking_sentence.items(), key=lambda x: x[1], reverse=True)\n",
    "    return ranking_sentence\n",
    "\n",
    "\n",
    "sharp_news = pure_content.iloc[8]['content']\n",
    "'。 '.join(get_summarization_simple_with_text_rank(sharp_news, constraint=250))"
   ]
  },
  {
   "cell_type": "code",
   "execution_count": 33,
   "metadata": {
    "ExecuteTime": {
     "end_time": "2019-08-19T08:29:28.680630Z",
     "start_time": "2019-08-19T08:29:28.651708Z"
    }
   },
   "outputs": [
    {
     "name": "stdout",
     "output_type": "stream",
     "text": [
      "8058----\n",
      "俞正声在致辞中受习近平总书记委托，向第九届海峡论坛的举办表示热烈祝贺，向与会两岸同胞特别是台湾乡亲表示诚挚问候 俞正声指出，去年以来，尽管两岸关系和平发展遭遇严重冲击，面临新的风险和挑战，但两岸交流已经站在新的历史起点上 我们推进两岸民间交流合作、深化两岸经济社会融合发展、造福两岸同胞的决心和态度没有改变 两岸同胞要接过历史的接力棒，坚定维护一个中国原则，深化两岸经济社会融合发展，推进祖国和平统一进程，为实现国家富强、民族复兴、人民幸福贡献力量 中国国民党主席洪秀柱等在发言中表示，作为一个中国人，中华文化是我们的根，两岸和平与合作是现阶段必须追寻的目标\n",
      "57070----\n",
      "\\n民族地区发展和各族群众生产生活，俞正声一直牵挂在心 在原州区头营镇泉港村，他详细了解移民安置及对口帮扶援建情况，强调要全力为群众排忧解难 在南关街道宋家巷社区，他走进回、汉群众家中问生计、拉家常，勉励各族群众守望相助、和睦相处 在永宁县纳家户清真寺，他与宗教界人士及信教群众亲切交谈，了解清真寺日常管理和宗教活动开展情况 俞正声强调，要认真贯彻落实全国宗教工作会议精神，坚持党的宗教工作基本方针，积极引导宗教与社会主义社会相适应，加强宗教界人士教育培养，不断提高宗教工作水平 要认真总结我国宗教中国化经验，支持宗教界对教义教规作出符合我国国情和时代进步要求的阐释，在社会发展进步中发挥积极作用\n",
      "55632----\n",
      "\\n\\n\\n据媒体报道，2010年6月1日，中央储备粮南阳向东直属库光武分库与新野县金硕粮油有限公司签订合同，用于储存中央储备粮，可在近7年的时间里，中储粮“好像把这事忘了”，不派人对这批粮食进行管理，“眼睁睁的看着由二等品变为等外品”，导致粮食变质 \\n\\n\\n对此，中储粮河南省公司购销计划处提供的书面材料表示，万余吨小麦并非被“遗忘”，而是因经济纠纷而导致流通受阻 据介绍，2010年5月，金硕公司将仓库租赁给中储粮南阳直属库光武分库收购托市粮，并于当年收购小麦1 \\n\\n\\n据了解，截至目前，1 6万吨仓储小麦已移库6600吨，拍卖出库4450吨，移库工作还在执行中\n"
     ]
    }
   ],
   "source": [
    "for index in random.sample(list(range(len(pure_content))), 30):\n",
    "    content = pure_content.iloc[index]['content']\n",
    "    if len(content) > 1000:\n",
    "        print('{}----'.format(index))\n",
    "        print(' '.join(get_summarization_simple_with_text_rank(content, constraint=250)))"
   ]
  },
  {
   "cell_type": "code",
   "execution_count": 34,
   "metadata": {
    "ExecuteTime": {
     "end_time": "2019-08-19T08:29:28.691632Z",
     "start_time": "2019-08-19T08:29:28.682658Z"
    }
   },
   "outputs": [
    {
     "data": {
      "text/plain": [
       "[('一名女子言语不清', 0.008761809701694283),\n",
       " ('行走在南坪快速上', 0.008761809701694281),\n",
       " ('期间还起了轻生年头', 0.00853806788025346),\n",
       " ('淮安市涟水县公安局刑警大队突然接到了一个奇怪的报警电话', 0.00853806788025346),\n",
       " ('一辅警发现后赶紧为其披上黄衣', 0.008371719895408159),\n",
       " ('去年6月7号上午', 0.008371719895408159),\n",
       " ('并一路劝说她', 0.008245759268329758),\n",
       " ('女方从20岁到50岁不等', 0.008245759268329758),\n",
       " ('那么事发时', 0.00815029910456809),\n",
       " ('男子迷奸网友拍418个视频', 0.00815029910456809),\n",
       " ('@SJ-李赫海i：这个交警很暖有木有！', 0.008078401421739694),\n",
       " ('到底都发生了些什么呢？', 0.008078401421739692),\n",
       " ('南都记者带您一起还原现场', 0.008024087516959199),\n",
       " ('@Tomchlee：蜀黍帅！', 0.008024087516959199),\n",
       " ('南都记者在龙岗大队坂田中队见到了辅警刘青（发现女生的辅警）', 0.007983207314774927),\n",
       " ('@中華云盾：警察……警察就是群众最需时申出援手', 0.007983207314774927),\n",
       " ('一位外表高大帅气', 0.007952624377193676),\n",
       " ('@火心聆听心灵：点赞交警', 0.007952624377193674),\n",
       " ('说话略带些腼腆的90后青年', 0.007929884597094566),\n",
       " ('同时也感谢交警蜀黍', 0.007929884597094566),\n",
       " ('刘青介绍', 0.007913142240506744),\n",
       " ('想想自己的家人', 0.007913142240506744),\n",
       " ('@原谅我这一辈子浪荡不羁爱萨摩耶：有什么过不去的要轻生嘛？', 0.007900964870248895),\n",
       " ('6月16日早上7时36分', 0.007900964870248892),\n",
       " ('他正在环城南路附近值勤', 0.007892232774304273),\n",
       " ('@弓常yan桦：就想问这个小哥哥有女票吗', 0.007892232774304273),\n",
       " ('接到中队关于一位女子裸身进入机动车可能有危险的警情', 0.00788607704919873),\n",
       " ('交警暖男点ZAN', 0.00788607704919873),\n",
       " ('一众网友纷纷为', 0.007881820981426759),\n",
       " ('随后骑着小铁骑开始沿路寻找', 0.007881820981426757),\n",
       " ('因善良的原因', 0.007878941618434662),\n",
       " ('大概花了十多分钟在南坪大道坂田出口往龙岗方向的逆行辅道上发现该女子', 0.00787894161843466),\n",
       " ('你们说呢？', 0.007877040414333012),\n",
       " ('女子身上一丝不挂地逆车流而行', 0.00787704041433301),\n",
       " ('时走时停', 0.007875818243366639),\n",
       " ('其实真爱的到来并不存在年龄的限制', 0.007875818243366639),\n",
       " ('时坐时躺', 0.007875055326830038),\n",
       " ('大大君只希望姑娘能早点康复', 0.007875055326830038),\n",
       " ('险象环生', 0.007874594202822473),\n",
       " ('陈某已经被送往深圳某精神病医院进行治疗', 0.007874594202822473),\n",
       " ('目前', 0.007874325165885149),\n",
       " ('刘青停好小铁骑', 0.007874325165885147),\n",
       " ('女子遂产生轻生念头', 0.00787417418096783),\n",
       " ('和另外一名巡防员追了上去', 0.007874174180967829),\n",
       " ('但约会受挫导致情绪异常', 0.007874093011541456),\n",
       " ('发现女子的情绪很低落', 0.007874093011541454),\n",
       " ('话不多', 0.007874051412730365),\n",
       " ('陈某从老家来深圳约会网友', 0.007874051412730365),\n",
       " ('刘青尝试和女子交流', 0.007874031209340058),\n",
       " ('三天前', 0.007874031209340058),\n",
       " ('劝说女子离开', 0.007874021979828482),\n",
       " ('据家属反映其有精神病史', 0.007874021979828482),\n",
       " ('今年44岁', 0.00787401805200212),\n",
       " ('可女子并不愿意接受', 0.007874018052002118),\n",
       " ('继续缓慢地往南坪快速路的主干道上走去', 0.007874016514985274),\n",
       " ('系湖北人', 0.007874016514985274),\n",
       " ('此时路边上已经聚集了很市民围观', 0.007874015971942193),\n",
       " ('该女子姓陈', 0.007874015971942193),\n",
       " ('为了不刺激女子的情绪', 0.007874015803169621),\n",
       " ('据警方透露', 0.007874015803169621),\n",
       " ('你也会这样”', 0.007874015758793634),\n",
       " ('刘青和巡防员一边盯着女子一边驱赶着围观的群众', 0.007874015758793632),\n",
       " ('现场还原', 0.007874015749519759),\n",
       " ('“要是你也遭遇我的事', 0.007874015749519759),\n",
       " ('从警方提供的一份视频了解到', 0.00787401574814256),\n",
       " ('才会说', 0.00787401574814256),\n",
       " ('16日早上7时25分', 0.007874015748031496),\n",
       " ('女子出现在坂雪岗大道与环城南路的监控视频中', 0.007874015748031496),\n",
       " ('此时女子还穿着白色的内裤', 0.007874015748031496),\n",
       " ('正沿着坂雪岗大道往南坪快速的方向缓慢地走着', 0.007874015748031496),\n",
       " ('当时正值上班高峰期', 0.007874015748031496),\n",
       " ('十字路口的车流已经排起了长队', 0.007874015748031496),\n",
       " ('当女子出现时', 0.007874015748031496),\n",
       " ('路上的市民纷纷驻足观望', 0.007874015748031496),\n",
       " ('不少车辆也放慢了速度', 0.007874015748031496),\n",
       " ('但女子并不为市民观望停下脚步', 0.007874015748031496),\n",
       " ('依然缓慢走着', 0.007874015748031496),\n",
       " ('当女子行进到十字路口中间时', 0.007874015748031496),\n",
       " ('一辆大货车挡住了镜头', 0.007874015748031496),\n",
       " ('但是当女子再次出现镜头时', 0.007874015748031496),\n",
       " ('可以发现女子已经没穿内裤了', 0.007874015748031496),\n",
       " ('全身裸露继续朝着南坪快速方向走去', 0.007874015748031496),\n",
       " ('记者发现', 0.007874015748031496),\n",
       " ('视频中女子周围并没有人尾随或者上前劝止的市民', 0.007874015748031496),\n",
       " ('一大清早路上看到这样的情况', 0.007874015748031496),\n",
       " ('恐怕大家都没办法淡定', 0.007874015748031496),\n",
       " ('面对这一情况', 0.007874015748031496),\n",
       " ('刘青表示', 0.007874015748031496),\n",
       " ('“一开始根本不敢看她', 0.007874015748031496),\n",
       " ('心里挺别扭', 0.007874015748031496),\n",
       " ('感觉很尴尬”', 0.007874015748031496),\n",
       " ('但当刘青跟随女子上了南坪快速路主干道时', 0.007874015748031496),\n",
       " ('女子作出了让人意想不到的举动', 0.007874015748031496),\n",
       " ('她突然靠近护栏要从上面跳下去', 0.007874015748031496),\n",
       " ('刘青赶忙冲上去拉住了女子的手', 0.007874015748031496),\n",
       " ('将其控制住并远离护栏', 0.007874015748031496),\n",
       " ('碍于女子没有穿衣服', 0.007874015748031496),\n",
       " ('刘青递上衣服', 0.007874015748031496),\n",
       " ('女子没接受还把衣服扔到排水沟里', 0.007874015748031496),\n",
       " ('继续往前走', 0.007874015748031496),\n",
       " ('没办法刘青只能紧紧拉着她的一只手跟在后面', 0.007874015748031496),\n",
       " ('刘青一路上耐心地开导安慰她', 0.007874015748031496),\n",
       " ('但只听到她不断地重复着一句话“要是你也遭遇我的事', 0.007874015748031496),\n",
       " ('你也会这样的”', 0.007874015748031496),\n",
       " ('期间她还不时试图挣脱刘青的手要冲向护栏往下跳', 0.007874015748031496),\n",
       " ('就这样', 0.007874015748031496),\n",
       " ('我被牵着走了大概十多分钟', 0.007874015748031496),\n",
       " ('天突然下起了大暴雨', 0.007874015748031496),\n",
       " ('雨大的连眼睛都睁不开”刘青继续说着', 0.007874015748031496),\n",
       " ('瞬间他们就被雨透了', 0.007874015748031496),\n",
       " ('但女子依然不愿意接受刘青的帮助', 0.007874015748031496),\n",
       " ('就继续冒着大雨往前走', 0.007874015748031496),\n",
       " ('大概走了有四十分钟吧', 0.007874015748031496),\n",
       " ('女子突然停下来说“我想回家了”', 0.007874015748031496),\n",
       " ('然后女子也接受了刘青递过来的小黄衣', 0.007874015748031496),\n",
       " ('就出现了深圳微博上的照片', 0.007874015748031496),\n",
       " ('女子披着小黄衣', 0.007874015748031496),\n",
       " ('刘青小心翼翼地在旁边走着的场景', 0.007874015748031496),\n",
       " ('从南平快速下来后', 0.007874015748031496),\n",
       " ('刘青和巡防员将女子带到了附近的坂田派出所', 0.007874015748031496),\n",
       " ('那姑娘到底是遭遇了什么样的事情', 0.007874015748031496),\n",
       " ('声称自己遭到了侵害', 0.007760391420088102),\n",
       " ('@深圳交警微博称：昨日清晨交警发现有一女子赤裸上身', 0.007760391420088101),\n",
       " ('暴雨中裸身奔走……）', 0.006743520732558356),\n",
       " ('女子、被侵害、言语不清', 0.006743520732558355),\n",
       " ('（原标题：44岁女子跑深圳约会网友被拒', 0.005706295418150805),\n",
       " ('几个关键词令接到电话的民警瞬间紧张起来', 0.005706295418150804)]"
      ]
     },
     "execution_count": 34,
     "metadata": {},
     "output_type": "execute_result"
    }
   ],
   "source": [
    "sorted(ranking_sentence.items(), key=lambda x: x[1], reverse=True)"
   ]
  },
  {
   "cell_type": "code",
   "execution_count": 35,
   "metadata": {
    "ExecuteTime": {
     "end_time": "2019-08-19T08:29:28.697589Z",
     "start_time": "2019-08-19T08:29:28.692599Z"
    }
   },
   "outputs": [],
   "source": [
    "keywords_graph = get_connect_graph_by_text_rank(first_content, window=5)"
   ]
  },
  {
   "cell_type": "code",
   "execution_count": 36,
   "metadata": {
    "ExecuteTime": {
     "end_time": "2019-08-19T08:29:28.733518Z",
     "start_time": "2019-08-19T08:29:28.699581Z"
    }
   },
   "outputs": [],
   "source": [
    "ranking_words = networkx.pagerank(keywords_graph)"
   ]
  },
  {
   "cell_type": "code",
   "execution_count": 37,
   "metadata": {
    "ExecuteTime": {
     "end_time": "2019-08-19T08:29:29.269061Z",
     "start_time": "2019-08-19T08:29:28.734487Z"
    }
   },
   "outputs": [
    {
     "name": "stderr",
     "output_type": "stream",
     "text": [
      "e:\\anaconda\\envs\\aicourse\\lib\\site-packages\\matplotlib\\backends\\backend_agg.py:211: RuntimeWarning: Glyph 39553 missing from current font.\n",
      "  font.set_text(s, 0.0, flags=flags)\n",
      "e:\\anaconda\\envs\\aicourse\\lib\\site-packages\\matplotlib\\backends\\backend_agg.py:211: RuntimeWarning: Glyph 40857 missing from current font.\n",
      "  font.set_text(s, 0.0, flags=flags)\n",
      "e:\\anaconda\\envs\\aicourse\\lib\\site-packages\\matplotlib\\backends\\backend_agg.py:180: RuntimeWarning: Glyph 39553 missing from current font.\n",
      "  font.set_text(s, 0, flags=flags)\n",
      "e:\\anaconda\\envs\\aicourse\\lib\\site-packages\\matplotlib\\backends\\backend_agg.py:180: RuntimeWarning: Glyph 40857 missing from current font.\n",
      "  font.set_text(s, 0, flags=flags)\n",
      "e:\\anaconda\\envs\\aicourse\\lib\\site-packages\\matplotlib\\backends\\backend_agg.py:211: RuntimeWarning: Glyph 20316 missing from current font.\n",
      "  font.set_text(s, 0.0, flags=flags)\n",
      "e:\\anaconda\\envs\\aicourse\\lib\\site-packages\\matplotlib\\backends\\backend_agg.py:211: RuntimeWarning: Glyph 20026 missing from current font.\n",
      "  font.set_text(s, 0.0, flags=flags)\n",
      "e:\\anaconda\\envs\\aicourse\\lib\\site-packages\\matplotlib\\backends\\backend_agg.py:180: RuntimeWarning: Glyph 20316 missing from current font.\n",
      "  font.set_text(s, 0, flags=flags)\n",
      "e:\\anaconda\\envs\\aicourse\\lib\\site-packages\\matplotlib\\backends\\backend_agg.py:180: RuntimeWarning: Glyph 20026 missing from current font.\n",
      "  font.set_text(s, 0, flags=flags)\n",
      "e:\\anaconda\\envs\\aicourse\\lib\\site-packages\\matplotlib\\backends\\backend_agg.py:211: RuntimeWarning: Glyph 21807 missing from current font.\n",
      "  font.set_text(s, 0.0, flags=flags)\n",
      "e:\\anaconda\\envs\\aicourse\\lib\\site-packages\\matplotlib\\backends\\backend_agg.py:211: RuntimeWarning: Glyph 19968 missing from current font.\n",
      "  font.set_text(s, 0.0, flags=flags)\n",
      "e:\\anaconda\\envs\\aicourse\\lib\\site-packages\\matplotlib\\backends\\backend_agg.py:180: RuntimeWarning: Glyph 21807 missing from current font.\n",
      "  font.set_text(s, 0, flags=flags)\n",
      "e:\\anaconda\\envs\\aicourse\\lib\\site-packages\\matplotlib\\backends\\backend_agg.py:180: RuntimeWarning: Glyph 19968 missing from current font.\n",
      "  font.set_text(s, 0, flags=flags)\n",
      "e:\\anaconda\\envs\\aicourse\\lib\\site-packages\\matplotlib\\backends\\backend_agg.py:211: RuntimeWarning: Glyph 36890 missing from current font.\n",
      "  font.set_text(s, 0.0, flags=flags)\n",
      "e:\\anaconda\\envs\\aicourse\\lib\\site-packages\\matplotlib\\backends\\backend_agg.py:211: RuntimeWarning: Glyph 36807 missing from current font.\n",
      "  font.set_text(s, 0.0, flags=flags)\n",
      "e:\\anaconda\\envs\\aicourse\\lib\\site-packages\\matplotlib\\backends\\backend_agg.py:180: RuntimeWarning: Glyph 36890 missing from current font.\n",
      "  font.set_text(s, 0, flags=flags)\n",
      "e:\\anaconda\\envs\\aicourse\\lib\\site-packages\\matplotlib\\backends\\backend_agg.py:180: RuntimeWarning: Glyph 36807 missing from current font.\n",
      "  font.set_text(s, 0, flags=flags)\n",
      "e:\\anaconda\\envs\\aicourse\\lib\\site-packages\\matplotlib\\backends\\backend_agg.py:211: RuntimeWarning: Glyph 26700 missing from current font.\n",
      "  font.set_text(s, 0.0, flags=flags)\n",
      "e:\\anaconda\\envs\\aicourse\\lib\\site-packages\\matplotlib\\backends\\backend_agg.py:211: RuntimeWarning: Glyph 38754 missing from current font.\n",
      "  font.set_text(s, 0.0, flags=flags)\n",
      "e:\\anaconda\\envs\\aicourse\\lib\\site-packages\\matplotlib\\backends\\backend_agg.py:180: RuntimeWarning: Glyph 26700 missing from current font.\n",
      "  font.set_text(s, 0, flags=flags)\n",
      "e:\\anaconda\\envs\\aicourse\\lib\\site-packages\\matplotlib\\backends\\backend_agg.py:180: RuntimeWarning: Glyph 38754 missing from current font.\n",
      "  font.set_text(s, 0, flags=flags)\n",
      "e:\\anaconda\\envs\\aicourse\\lib\\site-packages\\matplotlib\\backends\\backend_agg.py:211: RuntimeWarning: Glyph 24179 missing from current font.\n",
      "  font.set_text(s, 0.0, flags=flags)\n",
      "e:\\anaconda\\envs\\aicourse\\lib\\site-packages\\matplotlib\\backends\\backend_agg.py:211: RuntimeWarning: Glyph 21488 missing from current font.\n",
      "  font.set_text(s, 0.0, flags=flags)\n",
      "e:\\anaconda\\envs\\aicourse\\lib\\site-packages\\matplotlib\\backends\\backend_agg.py:180: RuntimeWarning: Glyph 24179 missing from current font.\n",
      "  font.set_text(s, 0, flags=flags)\n",
      "e:\\anaconda\\envs\\aicourse\\lib\\site-packages\\matplotlib\\backends\\backend_agg.py:180: RuntimeWarning: Glyph 21488 missing from current font.\n",
      "  font.set_text(s, 0, flags=flags)\n",
      "e:\\anaconda\\envs\\aicourse\\lib\\site-packages\\matplotlib\\backends\\backend_agg.py:211: RuntimeWarning: Glyph 35748 missing from current font.\n",
      "  font.set_text(s, 0.0, flags=flags)\n",
      "e:\\anaconda\\envs\\aicourse\\lib\\site-packages\\matplotlib\\backends\\backend_agg.py:211: RuntimeWarning: Glyph 35777 missing from current font.\n",
      "  font.set_text(s, 0.0, flags=flags)\n",
      "e:\\anaconda\\envs\\aicourse\\lib\\site-packages\\matplotlib\\backends\\backend_agg.py:180: RuntimeWarning: Glyph 35748 missing from current font.\n",
      "  font.set_text(s, 0, flags=flags)\n",
      "e:\\anaconda\\envs\\aicourse\\lib\\site-packages\\matplotlib\\backends\\backend_agg.py:180: RuntimeWarning: Glyph 35777 missing from current font.\n",
      "  font.set_text(s, 0, flags=flags)\n",
      "e:\\anaconda\\envs\\aicourse\\lib\\site-packages\\matplotlib\\backends\\backend_agg.py:211: RuntimeWarning: Glyph 30340 missing from current font.\n",
      "  font.set_text(s, 0.0, flags=flags)\n",
      "e:\\anaconda\\envs\\aicourse\\lib\\site-packages\\matplotlib\\backends\\backend_agg.py:176: RuntimeWarning: Glyph 30340 missing from current font.\n",
      "  font.load_char(ord(s), flags=flags)\n",
      "e:\\anaconda\\envs\\aicourse\\lib\\site-packages\\matplotlib\\backends\\backend_agg.py:211: RuntimeWarning: Glyph 22788 missing from current font.\n",
      "  font.set_text(s, 0.0, flags=flags)\n",
      "e:\\anaconda\\envs\\aicourse\\lib\\site-packages\\matplotlib\\backends\\backend_agg.py:211: RuntimeWarning: Glyph 29702 missing from current font.\n",
      "  font.set_text(s, 0.0, flags=flags)\n",
      "e:\\anaconda\\envs\\aicourse\\lib\\site-packages\\matplotlib\\backends\\backend_agg.py:211: RuntimeWarning: Glyph 22120 missing from current font.\n",
      "  font.set_text(s, 0.0, flags=flags)\n",
      "e:\\anaconda\\envs\\aicourse\\lib\\site-packages\\matplotlib\\backends\\backend_agg.py:180: RuntimeWarning: Glyph 22788 missing from current font.\n",
      "  font.set_text(s, 0, flags=flags)\n",
      "e:\\anaconda\\envs\\aicourse\\lib\\site-packages\\matplotlib\\backends\\backend_agg.py:180: RuntimeWarning: Glyph 29702 missing from current font.\n",
      "  font.set_text(s, 0, flags=flags)\n",
      "e:\\anaconda\\envs\\aicourse\\lib\\site-packages\\matplotlib\\backends\\backend_agg.py:180: RuntimeWarning: Glyph 22120 missing from current font.\n",
      "  font.set_text(s, 0, flags=flags)\n",
      "e:\\anaconda\\envs\\aicourse\\lib\\site-packages\\matplotlib\\backends\\backend_agg.py:211: RuntimeWarning: Glyph 65292 missing from current font.\n",
      "  font.set_text(s, 0.0, flags=flags)\n",
      "e:\\anaconda\\envs\\aicourse\\lib\\site-packages\\matplotlib\\backends\\backend_agg.py:176: RuntimeWarning: Glyph 65292 missing from current font.\n",
      "  font.load_char(ord(s), flags=flags)\n",
      "e:\\anaconda\\envs\\aicourse\\lib\\site-packages\\matplotlib\\backends\\backend_agg.py:211: RuntimeWarning: Glyph 39640 missing from current font.\n",
      "  font.set_text(s, 0.0, flags=flags)\n",
      "e:\\anaconda\\envs\\aicourse\\lib\\site-packages\\matplotlib\\backends\\backend_agg.py:180: RuntimeWarning: Glyph 39640 missing from current font.\n",
      "  font.set_text(s, 0, flags=flags)\n",
      "e:\\anaconda\\envs\\aicourse\\lib\\site-packages\\matplotlib\\backends\\backend_agg.py:211: RuntimeWarning: Glyph 24378 missing from current font.\n",
      "  font.set_text(s, 0.0, flags=flags)\n",
      "e:\\anaconda\\envs\\aicourse\\lib\\site-packages\\matplotlib\\backends\\backend_agg.py:211: RuntimeWarning: Glyph 35843 missing from current font.\n",
      "  font.set_text(s, 0.0, flags=flags)\n",
      "e:\\anaconda\\envs\\aicourse\\lib\\site-packages\\matplotlib\\backends\\backend_agg.py:180: RuntimeWarning: Glyph 24378 missing from current font.\n",
      "  font.set_text(s, 0, flags=flags)\n",
      "e:\\anaconda\\envs\\aicourse\\lib\\site-packages\\matplotlib\\backends\\backend_agg.py:180: RuntimeWarning: Glyph 35843 missing from current font.\n",
      "  font.set_text(s, 0, flags=flags)\n",
      "e:\\anaconda\\envs\\aicourse\\lib\\site-packages\\matplotlib\\backends\\backend_agg.py:211: RuntimeWarning: Glyph 19981 missing from current font.\n",
      "  font.set_text(s, 0.0, flags=flags)\n",
      "e:\\anaconda\\envs\\aicourse\\lib\\site-packages\\matplotlib\\backends\\backend_agg.py:211: RuntimeWarning: Glyph 20250 missing from current font.\n",
      "  font.set_text(s, 0.0, flags=flags)\n",
      "e:\\anaconda\\envs\\aicourse\\lib\\site-packages\\matplotlib\\backends\\backend_agg.py:180: RuntimeWarning: Glyph 19981 missing from current font.\n",
      "  font.set_text(s, 0, flags=flags)\n",
      "e:\\anaconda\\envs\\aicourse\\lib\\site-packages\\matplotlib\\backends\\backend_agg.py:180: RuntimeWarning: Glyph 20250 missing from current font.\n",
      "  font.set_text(s, 0, flags=flags)\n",
      "e:\\anaconda\\envs\\aicourse\\lib\\site-packages\\matplotlib\\backends\\backend_agg.py:211: RuntimeWarning: Glyph 22240 missing from current font.\n",
      "  font.set_text(s, 0.0, flags=flags)\n",
      "e:\\anaconda\\envs\\aicourse\\lib\\site-packages\\matplotlib\\backends\\backend_agg.py:180: RuntimeWarning: Glyph 22240 missing from current font.\n",
      "  font.set_text(s, 0, flags=flags)\n",
      "e:\\anaconda\\envs\\aicourse\\lib\\site-packages\\matplotlib\\backends\\backend_agg.py:211: RuntimeWarning: Glyph 21482 missing from current font.\n",
      "  font.set_text(s, 0.0, flags=flags)\n",
      "e:\\anaconda\\envs\\aicourse\\lib\\site-packages\\matplotlib\\backends\\backend_agg.py:176: RuntimeWarning: Glyph 21482 missing from current font.\n",
      "  font.load_char(ord(s), flags=flags)\n",
      "e:\\anaconda\\envs\\aicourse\\lib\\site-packages\\matplotlib\\backends\\backend_agg.py:211: RuntimeWarning: Glyph 32771 missing from current font.\n",
      "  font.set_text(s, 0.0, flags=flags)\n",
      "e:\\anaconda\\envs\\aicourse\\lib\\site-packages\\matplotlib\\backends\\backend_agg.py:211: RuntimeWarning: Glyph 34385 missing from current font.\n",
      "  font.set_text(s, 0.0, flags=flags)\n",
      "e:\\anaconda\\envs\\aicourse\\lib\\site-packages\\matplotlib\\backends\\backend_agg.py:180: RuntimeWarning: Glyph 32771 missing from current font.\n",
      "  font.set_text(s, 0, flags=flags)\n",
      "e:\\anaconda\\envs\\aicourse\\lib\\site-packages\\matplotlib\\backends\\backend_agg.py:180: RuntimeWarning: Glyph 34385 missing from current font.\n",
      "  font.set_text(s, 0, flags=flags)\n",
      "e:\\anaconda\\envs\\aicourse\\lib\\site-packages\\matplotlib\\backends\\backend_agg.py:211: RuntimeWarning: Glyph 24615 missing from current font.\n",
      "  font.set_text(s, 0.0, flags=flags)\n",
      "e:\\anaconda\\envs\\aicourse\\lib\\site-packages\\matplotlib\\backends\\backend_agg.py:211: RuntimeWarning: Glyph 33021 missing from current font.\n",
      "  font.set_text(s, 0.0, flags=flags)\n",
      "e:\\anaconda\\envs\\aicourse\\lib\\site-packages\\matplotlib\\backends\\backend_agg.py:180: RuntimeWarning: Glyph 24615 missing from current font.\n",
      "  font.set_text(s, 0, flags=flags)\n",
      "e:\\anaconda\\envs\\aicourse\\lib\\site-packages\\matplotlib\\backends\\backend_agg.py:180: RuntimeWarning: Glyph 33021 missing from current font.\n",
      "  font.set_text(s, 0, flags=flags)\n",
      "e:\\anaconda\\envs\\aicourse\\lib\\site-packages\\matplotlib\\backends\\backend_agg.py:211: RuntimeWarning: Glyph 32780 missing from current font.\n",
      "  font.set_text(s, 0.0, flags=flags)\n",
      "e:\\anaconda\\envs\\aicourse\\lib\\site-packages\\matplotlib\\backends\\backend_agg.py:176: RuntimeWarning: Glyph 32780 missing from current font.\n",
      "  font.load_char(ord(s), flags=flags)\n",
      "e:\\anaconda\\envs\\aicourse\\lib\\site-packages\\matplotlib\\backends\\backend_agg.py:211: RuntimeWarning: Glyph 21435 missing from current font.\n",
      "  font.set_text(s, 0.0, flags=flags)\n",
      "e:\\anaconda\\envs\\aicourse\\lib\\site-packages\\matplotlib\\backends\\backend_agg.py:176: RuntimeWarning: Glyph 21435 missing from current font.\n",
      "  font.load_char(ord(s), flags=flags)\n",
      "e:\\anaconda\\envs\\aicourse\\lib\\site-packages\\matplotlib\\backends\\backend_agg.py:211: RuntimeWarning: Glyph 23631 missing from current font.\n",
      "  font.set_text(s, 0.0, flags=flags)\n",
      "e:\\anaconda\\envs\\aicourse\\lib\\site-packages\\matplotlib\\backends\\backend_agg.py:211: RuntimeWarning: Glyph 34109 missing from current font.\n",
      "  font.set_text(s, 0.0, flags=flags)\n",
      "e:\\anaconda\\envs\\aicourse\\lib\\site-packages\\matplotlib\\backends\\backend_agg.py:211: RuntimeWarning: Glyph 25481 missing from current font.\n",
      "  font.set_text(s, 0.0, flags=flags)\n",
      "e:\\anaconda\\envs\\aicourse\\lib\\site-packages\\matplotlib\\backends\\backend_agg.py:180: RuntimeWarning: Glyph 23631 missing from current font.\n",
      "  font.set_text(s, 0, flags=flags)\n",
      "e:\\anaconda\\envs\\aicourse\\lib\\site-packages\\matplotlib\\backends\\backend_agg.py:180: RuntimeWarning: Glyph 34109 missing from current font.\n",
      "  font.set_text(s, 0, flags=flags)\n",
      "e:\\anaconda\\envs\\aicourse\\lib\\site-packages\\matplotlib\\backends\\backend_agg.py:180: RuntimeWarning: Glyph 25481 missing from current font.\n",
      "  font.set_text(s, 0, flags=flags)\n",
      "e:\\anaconda\\envs\\aicourse\\lib\\site-packages\\matplotlib\\backends\\backend_agg.py:211: RuntimeWarning: Glyph 23567 missing from current font.\n",
      "  font.set_text(s, 0.0, flags=flags)\n",
      "e:\\anaconda\\envs\\aicourse\\lib\\site-packages\\matplotlib\\backends\\backend_agg.py:176: RuntimeWarning: Glyph 23567 missing from current font.\n",
      "  font.load_char(ord(s), flags=flags)\n",
      "e:\\anaconda\\envs\\aicourse\\lib\\site-packages\\matplotlib\\backends\\backend_agg.py:211: RuntimeWarning: Glyph 26680 missing from current font.\n",
      "  font.set_text(s, 0.0, flags=flags)\n",
      "e:\\anaconda\\envs\\aicourse\\lib\\site-packages\\matplotlib\\backends\\backend_agg.py:211: RuntimeWarning: Glyph 24515 missing from current font.\n",
      "  font.set_text(s, 0.0, flags=flags)\n",
      "e:\\anaconda\\envs\\aicourse\\lib\\site-packages\\matplotlib\\backends\\backend_agg.py:180: RuntimeWarning: Glyph 26680 missing from current font.\n",
      "  font.set_text(s, 0, flags=flags)\n",
      "e:\\anaconda\\envs\\aicourse\\lib\\site-packages\\matplotlib\\backends\\backend_agg.py:180: RuntimeWarning: Glyph 24515 missing from current font.\n",
      "  font.set_text(s, 0, flags=flags)\n",
      "e:\\anaconda\\envs\\aicourse\\lib\\site-packages\\matplotlib\\backends\\backend_agg.py:211: RuntimeWarning: Glyph 12290 missing from current font.\n",
      "  font.set_text(s, 0.0, flags=flags)\n",
      "e:\\anaconda\\envs\\aicourse\\lib\\site-packages\\matplotlib\\backends\\backend_agg.py:176: RuntimeWarning: Glyph 12290 missing from current font.\n",
      "  font.load_char(ord(s), flags=flags)\n",
      "e:\\anaconda\\envs\\aicourse\\lib\\site-packages\\matplotlib\\backends\\backend_agg.py:211: RuntimeWarning: Glyph 30456 missing from current font.\n",
      "  font.set_text(s, 0.0, flags=flags)\n",
      "e:\\anaconda\\envs\\aicourse\\lib\\site-packages\\matplotlib\\backends\\backend_agg.py:211: RuntimeWarning: Glyph 21453 missing from current font.\n",
      "  font.set_text(s, 0.0, flags=flags)\n",
      "e:\\anaconda\\envs\\aicourse\\lib\\site-packages\\matplotlib\\backends\\backend_agg.py:180: RuntimeWarning: Glyph 30456 missing from current font.\n",
      "  font.set_text(s, 0, flags=flags)\n",
      "e:\\anaconda\\envs\\aicourse\\lib\\site-packages\\matplotlib\\backends\\backend_agg.py:180: RuntimeWarning: Glyph 21453 missing from current font.\n",
      "  font.set_text(s, 0, flags=flags)\n",
      "e:\\anaconda\\envs\\aicourse\\lib\\site-packages\\matplotlib\\backends\\backend_agg.py:211: RuntimeWarning: Glyph 20182 missing from current font.\n",
      "  font.set_text(s, 0.0, flags=flags)\n",
      "e:\\anaconda\\envs\\aicourse\\lib\\site-packages\\matplotlib\\backends\\backend_agg.py:211: RuntimeWarning: Glyph 20204 missing from current font.\n",
      "  font.set_text(s, 0.0, flags=flags)\n",
      "e:\\anaconda\\envs\\aicourse\\lib\\site-packages\\matplotlib\\backends\\backend_agg.py:180: RuntimeWarning: Glyph 20182 missing from current font.\n",
      "  font.set_text(s, 0, flags=flags)\n",
      "e:\\anaconda\\envs\\aicourse\\lib\\site-packages\\matplotlib\\backends\\backend_agg.py:180: RuntimeWarning: Glyph 20204 missing from current font.\n",
      "  font.set_text(s, 0, flags=flags)\n",
      "e:\\anaconda\\envs\\aicourse\\lib\\site-packages\\matplotlib\\backends\\backend_agg.py:211: RuntimeWarning: Glyph 27491 missing from current font.\n",
      "  font.set_text(s, 0.0, flags=flags)\n",
      "e:\\anaconda\\envs\\aicourse\\lib\\site-packages\\matplotlib\\backends\\backend_agg.py:176: RuntimeWarning: Glyph 27491 missing from current font.\n",
      "  font.load_char(ord(s), flags=flags)\n",
      "e:\\anaconda\\envs\\aicourse\\lib\\site-packages\\matplotlib\\backends\\backend_agg.py:211: RuntimeWarning: Glyph 32852 missing from current font.\n",
      "  font.set_text(s, 0.0, flags=flags)\n",
      "e:\\anaconda\\envs\\aicourse\\lib\\site-packages\\matplotlib\\backends\\backend_agg.py:211: RuntimeWarning: Glyph 25163 missing from current font.\n",
      "  font.set_text(s, 0.0, flags=flags)\n",
      "e:\\anaconda\\envs\\aicourse\\lib\\site-packages\\matplotlib\\backends\\backend_agg.py:180: RuntimeWarning: Glyph 32852 missing from current font.\n",
      "  font.set_text(s, 0, flags=flags)\n",
      "e:\\anaconda\\envs\\aicourse\\lib\\site-packages\\matplotlib\\backends\\backend_agg.py:180: RuntimeWarning: Glyph 25163 missing from current font.\n",
      "  font.set_text(s, 0, flags=flags)\n",
      "e:\\anaconda\\envs\\aicourse\\lib\\site-packages\\matplotlib\\backends\\backend_agg.py:211: RuntimeWarning: Glyph 24494 missing from current font.\n",
      "  font.set_text(s, 0.0, flags=flags)\n",
      "e:\\anaconda\\envs\\aicourse\\lib\\site-packages\\matplotlib\\backends\\backend_agg.py:211: RuntimeWarning: Glyph 36719 missing from current font.\n",
      "  font.set_text(s, 0.0, flags=flags)\n",
      "e:\\anaconda\\envs\\aicourse\\lib\\site-packages\\matplotlib\\backends\\backend_agg.py:180: RuntimeWarning: Glyph 24494 missing from current font.\n",
      "  font.set_text(s, 0, flags=flags)\n",
      "e:\\anaconda\\envs\\aicourse\\lib\\site-packages\\matplotlib\\backends\\backend_agg.py:180: RuntimeWarning: Glyph 36719 missing from current font.\n",
      "  font.set_text(s, 0, flags=flags)\n",
      "e:\\anaconda\\envs\\aicourse\\lib\\site-packages\\matplotlib\\backends\\backend_agg.py:211: RuntimeWarning: Glyph 25214 missing from current font.\n",
      "  font.set_text(s, 0.0, flags=flags)\n",
      "e:\\anaconda\\envs\\aicourse\\lib\\site-packages\\matplotlib\\backends\\backend_agg.py:211: RuntimeWarning: Glyph 21040 missing from current font.\n",
      "  font.set_text(s, 0.0, flags=flags)\n",
      "e:\\anaconda\\envs\\aicourse\\lib\\site-packages\\matplotlib\\backends\\backend_agg.py:180: RuntimeWarning: Glyph 25214 missing from current font.\n",
      "  font.set_text(s, 0, flags=flags)\n",
      "e:\\anaconda\\envs\\aicourse\\lib\\site-packages\\matplotlib\\backends\\backend_agg.py:180: RuntimeWarning: Glyph 21040 missing from current font.\n",
      "  font.set_text(s, 0, flags=flags)\n",
      "e:\\anaconda\\envs\\aicourse\\lib\\site-packages\\matplotlib\\backends\\backend_agg.py:211: RuntimeWarning: Glyph 31181 missing from current font.\n",
      "  font.set_text(s, 0.0, flags=flags)\n",
      "e:\\anaconda\\envs\\aicourse\\lib\\site-packages\\matplotlib\\backends\\backend_agg.py:180: RuntimeWarning: Glyph 31181 missing from current font.\n",
      "  font.set_text(s, 0, flags=flags)\n",
      "e:\\anaconda\\envs\\aicourse\\lib\\site-packages\\matplotlib\\backends\\backend_agg.py:211: RuntimeWarning: Glyph 36866 missing from current font.\n",
      "  font.set_text(s, 0.0, flags=flags)\n",
      "e:\\anaconda\\envs\\aicourse\\lib\\site-packages\\matplotlib\\backends\\backend_agg.py:211: RuntimeWarning: Glyph 21512 missing from current font.\n",
      "  font.set_text(s, 0.0, flags=flags)\n",
      "e:\\anaconda\\envs\\aicourse\\lib\\site-packages\\matplotlib\\backends\\backend_agg.py:180: RuntimeWarning: Glyph 36866 missing from current font.\n",
      "  font.set_text(s, 0, flags=flags)\n",
      "e:\\anaconda\\envs\\aicourse\\lib\\site-packages\\matplotlib\\backends\\backend_agg.py:180: RuntimeWarning: Glyph 21512 missing from current font.\n",
      "  font.set_text(s, 0, flags=flags)\n",
      "e:\\anaconda\\envs\\aicourse\\lib\\site-packages\\matplotlib\\backends\\backend_agg.py:211: RuntimeWarning: Glyph 12289 missing from current font.\n",
      "  font.set_text(s, 0.0, flags=flags)\n",
      "e:\\anaconda\\envs\\aicourse\\lib\\site-packages\\matplotlib\\backends\\backend_agg.py:176: RuntimeWarning: Glyph 12289 missing from current font.\n",
      "  font.load_char(ord(s), flags=flags)\n",
      "e:\\anaconda\\envs\\aicourse\\lib\\site-packages\\matplotlib\\backends\\backend_agg.py:211: RuntimeWarning: Glyph 20860 missing from current font.\n",
      "  font.set_text(s, 0.0, flags=flags)\n",
      "e:\\anaconda\\envs\\aicourse\\lib\\site-packages\\matplotlib\\backends\\backend_agg.py:211: RuntimeWarning: Glyph 39038 missing from current font.\n",
      "  font.set_text(s, 0.0, flags=flags)\n",
      "e:\\anaconda\\envs\\aicourse\\lib\\site-packages\\matplotlib\\backends\\backend_agg.py:180: RuntimeWarning: Glyph 20860 missing from current font.\n",
      "  font.set_text(s, 0, flags=flags)\n",
      "e:\\anaconda\\envs\\aicourse\\lib\\site-packages\\matplotlib\\backends\\backend_agg.py:180: RuntimeWarning: Glyph 39038 missing from current font.\n",
      "  font.set_text(s, 0, flags=flags)\n",
      "e:\\anaconda\\envs\\aicourse\\lib\\site-packages\\matplotlib\\backends\\backend_agg.py:211: RuntimeWarning: Glyph 21644 missing from current font.\n",
      "  font.set_text(s, 0.0, flags=flags)\n",
      "e:\\anaconda\\envs\\aicourse\\lib\\site-packages\\matplotlib\\backends\\backend_agg.py:176: RuntimeWarning: Glyph 21644 missing from current font.\n",
      "  font.load_char(ord(s), flags=flags)\n",
      "e:\\anaconda\\envs\\aicourse\\lib\\site-packages\\matplotlib\\backends\\backend_agg.py:211: RuntimeWarning: Glyph 21151 missing from current font.\n",
      "  font.set_text(s, 0.0, flags=flags)\n",
      "e:\\anaconda\\envs\\aicourse\\lib\\site-packages\\matplotlib\\backends\\backend_agg.py:211: RuntimeWarning: Glyph 32791 missing from current font.\n",
      "  font.set_text(s, 0.0, flags=flags)\n",
      "e:\\anaconda\\envs\\aicourse\\lib\\site-packages\\matplotlib\\backends\\backend_agg.py:180: RuntimeWarning: Glyph 21151 missing from current font.\n",
      "  font.set_text(s, 0, flags=flags)\n",
      "e:\\anaconda\\envs\\aicourse\\lib\\site-packages\\matplotlib\\backends\\backend_agg.py:180: RuntimeWarning: Glyph 32791 missing from current font.\n",
      "  font.set_text(s, 0, flags=flags)\n",
      "e:\\anaconda\\envs\\aicourse\\lib\\site-packages\\matplotlib\\backends\\backend_agg.py:211: RuntimeWarning: Glyph 23436 missing from current font.\n",
      "  font.set_text(s, 0.0, flags=flags)\n",
      "e:\\anaconda\\envs\\aicourse\\lib\\site-packages\\matplotlib\\backends\\backend_agg.py:211: RuntimeWarning: Glyph 32654 missing from current font.\n",
      "  font.set_text(s, 0.0, flags=flags)\n",
      "e:\\anaconda\\envs\\aicourse\\lib\\site-packages\\matplotlib\\backends\\backend_agg.py:180: RuntimeWarning: Glyph 23436 missing from current font.\n",
      "  font.set_text(s, 0, flags=flags)\n",
      "e:\\anaconda\\envs\\aicourse\\lib\\site-packages\\matplotlib\\backends\\backend_agg.py:180: RuntimeWarning: Glyph 32654 missing from current font.\n",
      "  font.set_text(s, 0, flags=flags)\n",
      "e:\\anaconda\\envs\\aicourse\\lib\\site-packages\\matplotlib\\backends\\backend_agg.py:211: RuntimeWarning: Glyph 26041 missing from current font.\n",
      "  font.set_text(s, 0.0, flags=flags)\n",
      "e:\\anaconda\\envs\\aicourse\\lib\\site-packages\\matplotlib\\backends\\backend_agg.py:211: RuntimeWarning: Glyph 26696 missing from current font.\n",
      "  font.set_text(s, 0.0, flags=flags)\n",
      "e:\\anaconda\\envs\\aicourse\\lib\\site-packages\\matplotlib\\backends\\backend_agg.py:180: RuntimeWarning: Glyph 26041 missing from current font.\n",
      "  font.set_text(s, 0, flags=flags)\n",
      "e:\\anaconda\\envs\\aicourse\\lib\\site-packages\\matplotlib\\backends\\backend_agg.py:180: RuntimeWarning: Glyph 26696 missing from current font.\n",
      "  font.set_text(s, 0, flags=flags)\n",
      "e:\\anaconda\\envs\\aicourse\\lib\\site-packages\\matplotlib\\backends\\backend_agg.py:211: RuntimeWarning: Glyph 25253 missing from current font.\n",
      "  font.set_text(s, 0.0, flags=flags)\n",
      "e:\\anaconda\\envs\\aicourse\\lib\\site-packages\\matplotlib\\backends\\backend_agg.py:211: RuntimeWarning: Glyph 36947 missing from current font.\n",
      "  font.set_text(s, 0.0, flags=flags)\n",
      "e:\\anaconda\\envs\\aicourse\\lib\\site-packages\\matplotlib\\backends\\backend_agg.py:180: RuntimeWarning: Glyph 25253 missing from current font.\n",
      "  font.set_text(s, 0, flags=flags)\n",
      "e:\\anaconda\\envs\\aicourse\\lib\\site-packages\\matplotlib\\backends\\backend_agg.py:180: RuntimeWarning: Glyph 36947 missing from current font.\n",
      "  font.set_text(s, 0, flags=flags)\n",
      "e:\\anaconda\\envs\\aicourse\\lib\\site-packages\\matplotlib\\backends\\backend_agg.py:211: RuntimeWarning: Glyph 31216 missing from current font.\n",
      "  font.set_text(s, 0.0, flags=flags)\n",
      "e:\\anaconda\\envs\\aicourse\\lib\\site-packages\\matplotlib\\backends\\backend_agg.py:176: RuntimeWarning: Glyph 31216 missing from current font.\n",
      "  font.load_char(ord(s), flags=flags)\n",
      "e:\\anaconda\\envs\\aicourse\\lib\\site-packages\\matplotlib\\backends\\backend_agg.py:211: RuntimeWarning: Glyph 24050 missing from current font.\n",
      "  font.set_text(s, 0.0, flags=flags)\n",
      "e:\\anaconda\\envs\\aicourse\\lib\\site-packages\\matplotlib\\backends\\backend_agg.py:211: RuntimeWarning: Glyph 32463 missing from current font.\n",
      "  font.set_text(s, 0.0, flags=flags)\n",
      "e:\\anaconda\\envs\\aicourse\\lib\\site-packages\\matplotlib\\backends\\backend_agg.py:180: RuntimeWarning: Glyph 24050 missing from current font.\n",
      "  font.set_text(s, 0, flags=flags)\n",
      "e:\\anaconda\\envs\\aicourse\\lib\\site-packages\\matplotlib\\backends\\backend_agg.py:180: RuntimeWarning: Glyph 32463 missing from current font.\n",
      "  font.set_text(s, 0, flags=flags)\n",
      "e:\\anaconda\\envs\\aicourse\\lib\\site-packages\\matplotlib\\backends\\backend_agg.py:211: RuntimeWarning: Glyph 25343 missing from current font.\n",
      "  font.set_text(s, 0.0, flags=flags)\n",
      "e:\\anaconda\\envs\\aicourse\\lib\\site-packages\\matplotlib\\backends\\backend_agg.py:180: RuntimeWarning: Glyph 25343 missing from current font.\n",
      "  font.set_text(s, 0, flags=flags)\n",
      "e:\\anaconda\\envs\\aicourse\\lib\\site-packages\\matplotlib\\backends\\backend_agg.py:211: RuntimeWarning: Glyph 20102 missing from current font.\n",
      "  font.set_text(s, 0.0, flags=flags)\n",
      "e:\\anaconda\\envs\\aicourse\\lib\\site-packages\\matplotlib\\backends\\backend_agg.py:176: RuntimeWarning: Glyph 20102 missing from current font.\n",
      "  font.load_char(ord(s), flags=flags)\n",
      "e:\\anaconda\\envs\\aicourse\\lib\\site-packages\\matplotlib\\backends\\backend_agg.py:211: RuntimeWarning: Glyph 20123 missing from current font.\n",
      "  font.set_text(s, 0.0, flags=flags)\n",
      "e:\\anaconda\\envs\\aicourse\\lib\\site-packages\\matplotlib\\backends\\backend_agg.py:180: RuntimeWarning: Glyph 20123 missing from current font.\n",
      "  font.set_text(s, 0, flags=flags)\n",
      "e:\\anaconda\\envs\\aicourse\\lib\\site-packages\\matplotlib\\backends\\backend_agg.py:211: RuntimeWarning: Glyph 26032 missing from current font.\n",
      "  font.set_text(s, 0.0, flags=flags)\n",
      "e:\\anaconda\\envs\\aicourse\\lib\\site-packages\\matplotlib\\backends\\backend_agg.py:176: RuntimeWarning: Glyph 26032 missing from current font.\n",
      "  font.load_char(ord(s), flags=flags)\n",
      "e:\\anaconda\\envs\\aicourse\\lib\\site-packages\\matplotlib\\backends\\backend_agg.py:211: RuntimeWarning: Glyph 28304 missing from current font.\n",
      "  font.set_text(s, 0.0, flags=flags)\n",
      "e:\\anaconda\\envs\\aicourse\\lib\\site-packages\\matplotlib\\backends\\backend_agg.py:211: RuntimeWarning: Glyph 30721 missing from current font.\n",
      "  font.set_text(s, 0.0, flags=flags)\n",
      "e:\\anaconda\\envs\\aicourse\\lib\\site-packages\\matplotlib\\backends\\backend_agg.py:180: RuntimeWarning: Glyph 28304 missing from current font.\n",
      "  font.set_text(s, 0, flags=flags)\n",
      "e:\\anaconda\\envs\\aicourse\\lib\\site-packages\\matplotlib\\backends\\backend_agg.py:180: RuntimeWarning: Glyph 30721 missing from current font.\n",
      "  font.set_text(s, 0, flags=flags)\n",
      "e:\\anaconda\\envs\\aicourse\\lib\\site-packages\\matplotlib\\backends\\backend_agg.py:211: RuntimeWarning: Glyph 20197 missing from current font.\n",
      "  font.set_text(s, 0.0, flags=flags)\n",
      "e:\\anaconda\\envs\\aicourse\\lib\\site-packages\\matplotlib\\backends\\backend_agg.py:211: RuntimeWarning: Glyph 20415 missing from current font.\n",
      "  font.set_text(s, 0.0, flags=flags)\n",
      "e:\\anaconda\\envs\\aicourse\\lib\\site-packages\\matplotlib\\backends\\backend_agg.py:180: RuntimeWarning: Glyph 20197 missing from current font.\n",
      "  font.set_text(s, 0, flags=flags)\n",
      "e:\\anaconda\\envs\\aicourse\\lib\\site-packages\\matplotlib\\backends\\backend_agg.py:180: RuntimeWarning: Glyph 20415 missing from current font.\n",
      "  font.set_text(s, 0, flags=flags)\n",
      "e:\\anaconda\\envs\\aicourse\\lib\\site-packages\\matplotlib\\backends\\backend_agg.py:211: RuntimeWarning: Glyph 26356 missing from current font.\n",
      "  font.set_text(s, 0.0, flags=flags)\n",
      "e:\\anaconda\\envs\\aicourse\\lib\\site-packages\\matplotlib\\backends\\backend_agg.py:211: RuntimeWarning: Glyph 22909 missing from current font.\n",
      "  font.set_text(s, 0.0, flags=flags)\n",
      "e:\\anaconda\\envs\\aicourse\\lib\\site-packages\\matplotlib\\backends\\backend_agg.py:180: RuntimeWarning: Glyph 26356 missing from current font.\n",
      "  font.set_text(s, 0, flags=flags)\n",
      "e:\\anaconda\\envs\\aicourse\\lib\\site-packages\\matplotlib\\backends\\backend_agg.py:180: RuntimeWarning: Glyph 22909 missing from current font.\n",
      "  font.set_text(s, 0, flags=flags)\n",
      "e:\\anaconda\\envs\\aicourse\\lib\\site-packages\\matplotlib\\backends\\backend_agg.py:211: RuntimeWarning: Glyph 22320 missing from current font.\n",
      "  font.set_text(s, 0.0, flags=flags)\n",
      "e:\\anaconda\\envs\\aicourse\\lib\\site-packages\\matplotlib\\backends\\backend_agg.py:176: RuntimeWarning: Glyph 22320 missing from current font.\n",
      "  font.load_char(ord(s), flags=flags)\n",
      "e:\\anaconda\\envs\\aicourse\\lib\\site-packages\\matplotlib\\backends\\backend_agg.py:211: RuntimeWarning: Glyph 35299 missing from current font.\n",
      "  font.set_text(s, 0.0, flags=flags)\n",
      "e:\\anaconda\\envs\\aicourse\\lib\\site-packages\\matplotlib\\backends\\backend_agg.py:180: RuntimeWarning: Glyph 35299 missing from current font.\n",
      "  font.set_text(s, 0, flags=flags)\n",
      "e:\\anaconda\\envs\\aicourse\\lib\\site-packages\\matplotlib\\backends\\backend_agg.py:211: RuntimeWarning: Glyph 26550 missing from current font.\n",
      "  font.set_text(s, 0.0, flags=flags)\n",
      "e:\\anaconda\\envs\\aicourse\\lib\\site-packages\\matplotlib\\backends\\backend_agg.py:211: RuntimeWarning: Glyph 26500 missing from current font.\n",
      "  font.set_text(s, 0.0, flags=flags)\n",
      "e:\\anaconda\\envs\\aicourse\\lib\\site-packages\\matplotlib\\backends\\backend_agg.py:180: RuntimeWarning: Glyph 26550 missing from current font.\n",
      "  font.set_text(s, 0, flags=flags)\n",
      "e:\\anaconda\\envs\\aicourse\\lib\\site-packages\\matplotlib\\backends\\backend_agg.py:180: RuntimeWarning: Glyph 26500 missing from current font.\n",
      "  font.set_text(s, 0, flags=flags)\n",
      "e:\\anaconda\\envs\\aicourse\\lib\\site-packages\\matplotlib\\backends\\backend_agg.py:211: RuntimeWarning: Glyph 36164 missing from current font.\n",
      "  font.set_text(s, 0.0, flags=flags)\n",
      "e:\\anaconda\\envs\\aicourse\\lib\\site-packages\\matplotlib\\backends\\backend_agg.py:211: RuntimeWarning: Glyph 26009 missing from current font.\n",
      "  font.set_text(s, 0.0, flags=flags)\n",
      "e:\\anaconda\\envs\\aicourse\\lib\\site-packages\\matplotlib\\backends\\backend_agg.py:180: RuntimeWarning: Glyph 36164 missing from current font.\n",
      "  font.set_text(s, 0, flags=flags)\n",
      "e:\\anaconda\\envs\\aicourse\\lib\\site-packages\\matplotlib\\backends\\backend_agg.py:180: RuntimeWarning: Glyph 26009 missing from current font.\n",
      "  font.set_text(s, 0, flags=flags)\n",
      "e:\\anaconda\\envs\\aicourse\\lib\\site-packages\\matplotlib\\backends\\backend_agg.py:211: RuntimeWarning: Glyph 26174 missing from current font.\n",
      "  font.set_text(s, 0.0, flags=flags)\n",
      "e:\\anaconda\\envs\\aicourse\\lib\\site-packages\\matplotlib\\backends\\backend_agg.py:211: RuntimeWarning: Glyph 31034 missing from current font.\n",
      "  font.set_text(s, 0.0, flags=flags)\n",
      "e:\\anaconda\\envs\\aicourse\\lib\\site-packages\\matplotlib\\backends\\backend_agg.py:180: RuntimeWarning: Glyph 26174 missing from current font.\n",
      "  font.set_text(s, 0, flags=flags)\n",
      "e:\\anaconda\\envs\\aicourse\\lib\\site-packages\\matplotlib\\backends\\backend_agg.py:180: RuntimeWarning: Glyph 31034 missing from current font.\n",
      "  font.set_text(s, 0, flags=flags)\n",
      "e:\\anaconda\\envs\\aicourse\\lib\\site-packages\\matplotlib\\backends\\backend_agg.py:211: RuntimeWarning: Glyph 27454 missing from current font.\n",
      "  font.set_text(s, 0.0, flags=flags)\n",
      "e:\\anaconda\\envs\\aicourse\\lib\\site-packages\\matplotlib\\backends\\backend_agg.py:180: RuntimeWarning: Glyph 27454 missing from current font.\n",
      "  font.set_text(s, 0, flags=flags)\n",
      "e:\\anaconda\\envs\\aicourse\\lib\\site-packages\\matplotlib\\backends\\backend_agg.py:211: RuntimeWarning: Glyph 38598 missing from current font.\n",
      "  font.set_text(s, 0.0, flags=flags)\n",
      "e:\\anaconda\\envs\\aicourse\\lib\\site-packages\\matplotlib\\backends\\backend_agg.py:211: RuntimeWarning: Glyph 25104 missing from current font.\n",
      "  font.set_text(s, 0.0, flags=flags)\n",
      "e:\\anaconda\\envs\\aicourse\\lib\\site-packages\\matplotlib\\backends\\backend_agg.py:180: RuntimeWarning: Glyph 38598 missing from current font.\n",
      "  font.set_text(s, 0, flags=flags)\n",
      "e:\\anaconda\\envs\\aicourse\\lib\\site-packages\\matplotlib\\backends\\backend_agg.py:180: RuntimeWarning: Glyph 25104 missing from current font.\n",
      "  font.set_text(s, 0, flags=flags)\n",
      "e:\\anaconda\\envs\\aicourse\\lib\\site-packages\\matplotlib\\backends\\backend_agg.py:211: RuntimeWarning: Glyph 22522 missing from current font.\n",
      "  font.set_text(s, 0.0, flags=flags)\n",
      "e:\\anaconda\\envs\\aicourse\\lib\\site-packages\\matplotlib\\backends\\backend_agg.py:211: RuntimeWarning: Glyph 24102 missing from current font.\n",
      "  font.set_text(s, 0.0, flags=flags)\n",
      "e:\\anaconda\\envs\\aicourse\\lib\\site-packages\\matplotlib\\backends\\backend_agg.py:180: RuntimeWarning: Glyph 22522 missing from current font.\n",
      "  font.set_text(s, 0, flags=flags)\n",
      "e:\\anaconda\\envs\\aicourse\\lib\\site-packages\\matplotlib\\backends\\backend_agg.py:180: RuntimeWarning: Glyph 24102 missing from current font.\n",
      "  font.set_text(s, 0, flags=flags)\n",
      "e:\\anaconda\\envs\\aicourse\\lib\\site-packages\\matplotlib\\backends\\backend_agg.py:211: RuntimeWarning: Glyph 34013 missing from current font.\n",
      "  font.set_text(s, 0.0, flags=flags)\n",
      "e:\\anaconda\\envs\\aicourse\\lib\\site-packages\\matplotlib\\backends\\backend_agg.py:211: RuntimeWarning: Glyph 29273 missing from current font.\n",
      "  font.set_text(s, 0.0, flags=flags)\n",
      "e:\\anaconda\\envs\\aicourse\\lib\\site-packages\\matplotlib\\backends\\backend_agg.py:180: RuntimeWarning: Glyph 34013 missing from current font.\n",
      "  font.set_text(s, 0, flags=flags)\n",
      "e:\\anaconda\\envs\\aicourse\\lib\\site-packages\\matplotlib\\backends\\backend_agg.py:180: RuntimeWarning: Glyph 29273 missing from current font.\n",
      "  font.set_text(s, 0, flags=flags)\n",
      "e:\\anaconda\\envs\\aicourse\\lib\\site-packages\\matplotlib\\backends\\backend_agg.py:211: RuntimeWarning: Glyph 27604 missing from current font.\n",
      "  font.set_text(s, 0.0, flags=flags)\n",
      "e:\\anaconda\\envs\\aicourse\\lib\\site-packages\\matplotlib\\backends\\backend_agg.py:176: RuntimeWarning: Glyph 27604 missing from current font.\n",
      "  font.load_char(ord(s), flags=flags)\n",
      "e:\\anaconda\\envs\\aicourse\\lib\\site-packages\\matplotlib\\backends\\backend_agg.py:211: RuntimeWarning: Glyph 20256 missing from current font.\n",
      "  font.set_text(s, 0.0, flags=flags)\n",
      "e:\\anaconda\\envs\\aicourse\\lib\\site-packages\\matplotlib\\backends\\backend_agg.py:211: RuntimeWarning: Glyph 32479 missing from current font.\n",
      "  font.set_text(s, 0.0, flags=flags)\n",
      "e:\\anaconda\\envs\\aicourse\\lib\\site-packages\\matplotlib\\backends\\backend_agg.py:180: RuntimeWarning: Glyph 20256 missing from current font.\n",
      "  font.set_text(s, 0, flags=flags)\n",
      "e:\\anaconda\\envs\\aicourse\\lib\\site-packages\\matplotlib\\backends\\backend_agg.py:180: RuntimeWarning: Glyph 32479 missing from current font.\n",
      "  font.set_text(s, 0, flags=flags)\n",
      "e:\\anaconda\\envs\\aicourse\\lib\\site-packages\\matplotlib\\backends\\backend_agg.py:211: RuntimeWarning: Glyph 21487 missing from current font.\n",
      "  font.set_text(s, 0.0, flags=flags)\n",
      "e:\\anaconda\\envs\\aicourse\\lib\\site-packages\\matplotlib\\backends\\backend_agg.py:180: RuntimeWarning: Glyph 21487 missing from current font.\n",
      "  font.set_text(s, 0, flags=flags)\n",
      "e:\\anaconda\\envs\\aicourse\\lib\\site-packages\\matplotlib\\backends\\backend_agg.py:211: RuntimeWarning: Glyph 33410 missing from current font.\n",
      "  font.set_text(s, 0.0, flags=flags)\n",
      "e:\\anaconda\\envs\\aicourse\\lib\\site-packages\\matplotlib\\backends\\backend_agg.py:211: RuntimeWarning: Glyph 30465 missing from current font.\n",
      "  font.set_text(s, 0.0, flags=flags)\n",
      "e:\\anaconda\\envs\\aicourse\\lib\\site-packages\\matplotlib\\backends\\backend_agg.py:180: RuntimeWarning: Glyph 33410 missing from current font.\n",
      "  font.set_text(s, 0, flags=flags)\n",
      "e:\\anaconda\\envs\\aicourse\\lib\\site-packages\\matplotlib\\backends\\backend_agg.py:180: RuntimeWarning: Glyph 30465 missing from current font.\n",
      "  font.set_text(s, 0, flags=flags)\n",
      "e:\\anaconda\\envs\\aicourse\\lib\\site-packages\\matplotlib\\backends\\backend_agg.py:211: RuntimeWarning: Glyph 33267 missing from current font.\n",
      "  font.set_text(s, 0.0, flags=flags)\n",
      "e:\\anaconda\\envs\\aicourse\\lib\\site-packages\\matplotlib\\backends\\backend_agg.py:211: RuntimeWarning: Glyph 23569 missing from current font.\n",
      "  font.set_text(s, 0.0, flags=flags)\n",
      "e:\\anaconda\\envs\\aicourse\\lib\\site-packages\\matplotlib\\backends\\backend_agg.py:180: RuntimeWarning: Glyph 33267 missing from current font.\n",
      "  font.set_text(s, 0, flags=flags)\n",
      "e:\\anaconda\\envs\\aicourse\\lib\\site-packages\\matplotlib\\backends\\backend_agg.py:180: RuntimeWarning: Glyph 23569 missing from current font.\n",
      "  font.set_text(s, 0, flags=flags)\n",
      "e:\\anaconda\\envs\\aicourse\\lib\\site-packages\\matplotlib\\backends\\backend_agg.py:211: RuntimeWarning: Glyph 31354 missing from current font.\n",
      "  font.set_text(s, 0.0, flags=flags)\n",
      "e:\\anaconda\\envs\\aicourse\\lib\\site-packages\\matplotlib\\backends\\backend_agg.py:211: RuntimeWarning: Glyph 38388 missing from current font.\n",
      "  font.set_text(s, 0.0, flags=flags)\n",
      "e:\\anaconda\\envs\\aicourse\\lib\\site-packages\\matplotlib\\backends\\backend_agg.py:180: RuntimeWarning: Glyph 31354 missing from current font.\n",
      "  font.set_text(s, 0, flags=flags)\n",
      "e:\\anaconda\\envs\\aicourse\\lib\\site-packages\\matplotlib\\backends\\backend_agg.py:180: RuntimeWarning: Glyph 38388 missing from current font.\n",
      "  font.set_text(s, 0, flags=flags)\n",
      "e:\\anaconda\\envs\\aicourse\\lib\\site-packages\\matplotlib\\backends\\backend_agg.py:211: RuntimeWarning: Glyph 25353 missing from current font.\n",
      "  font.set_text(s, 0.0, flags=flags)\n",
      "e:\\anaconda\\envs\\aicourse\\lib\\site-packages\\matplotlib\\backends\\backend_agg.py:211: RuntimeWarning: Glyph 35745 missing from current font.\n",
      "  font.set_text(s, 0.0, flags=flags)\n",
      "e:\\anaconda\\envs\\aicourse\\lib\\site-packages\\matplotlib\\backends\\backend_agg.py:211: RuntimeWarning: Glyph 21010 missing from current font.\n",
      "  font.set_text(s, 0.0, flags=flags)\n",
      "e:\\anaconda\\envs\\aicourse\\lib\\site-packages\\matplotlib\\backends\\backend_agg.py:180: RuntimeWarning: Glyph 25353 missing from current font.\n",
      "  font.set_text(s, 0, flags=flags)\n",
      "e:\\anaconda\\envs\\aicourse\\lib\\site-packages\\matplotlib\\backends\\backend_agg.py:180: RuntimeWarning: Glyph 35745 missing from current font.\n",
      "  font.set_text(s, 0, flags=flags)\n",
      "e:\\anaconda\\envs\\aicourse\\lib\\site-packages\\matplotlib\\backends\\backend_agg.py:180: RuntimeWarning: Glyph 21010 missing from current font.\n",
      "  font.set_text(s, 0, flags=flags)\n",
      "e:\\anaconda\\envs\\aicourse\\lib\\site-packages\\matplotlib\\backends\\backend_agg.py:211: RuntimeWarning: Glyph 20170 missing from current font.\n",
      "  font.set_text(s, 0.0, flags=flags)\n",
      "e:\\anaconda\\envs\\aicourse\\lib\\site-packages\\matplotlib\\backends\\backend_agg.py:211: RuntimeWarning: Glyph 24180 missing from current font.\n",
      "  font.set_text(s, 0.0, flags=flags)\n",
      "e:\\anaconda\\envs\\aicourse\\lib\\site-packages\\matplotlib\\backends\\backend_agg.py:180: RuntimeWarning: Glyph 20170 missing from current font.\n",
      "  font.set_text(s, 0, flags=flags)\n",
      "e:\\anaconda\\envs\\aicourse\\lib\\site-packages\\matplotlib\\backends\\backend_agg.py:180: RuntimeWarning: Glyph 24180 missing from current font.\n",
      "  font.set_text(s, 0, flags=flags)\n",
      "e:\\anaconda\\envs\\aicourse\\lib\\site-packages\\matplotlib\\backends\\backend_agg.py:211: RuntimeWarning: Glyph 21326 missing from current font.\n",
      "  font.set_text(s, 0.0, flags=flags)\n",
      "e:\\anaconda\\envs\\aicourse\\lib\\site-packages\\matplotlib\\backends\\backend_agg.py:211: RuntimeWarning: Glyph 30805 missing from current font.\n",
      "  font.set_text(s, 0.0, flags=flags)\n",
      "e:\\anaconda\\envs\\aicourse\\lib\\site-packages\\matplotlib\\backends\\backend_agg.py:180: RuntimeWarning: Glyph 21326 missing from current font.\n",
      "  font.set_text(s, 0, flags=flags)\n",
      "e:\\anaconda\\envs\\aicourse\\lib\\site-packages\\matplotlib\\backends\\backend_agg.py:180: RuntimeWarning: Glyph 30805 missing from current font.\n",
      "  font.set_text(s, 0, flags=flags)\n",
      "e:\\anaconda\\envs\\aicourse\\lib\\site-packages\\matplotlib\\backends\\backend_agg.py:211: RuntimeWarning: Glyph 24800 missing from current font.\n",
      "  font.set_text(s, 0.0, flags=flags)\n",
      "e:\\anaconda\\envs\\aicourse\\lib\\site-packages\\matplotlib\\backends\\backend_agg.py:211: RuntimeWarning: Glyph 26222 missing from current font.\n",
      "  font.set_text(s, 0.0, flags=flags)\n",
      "e:\\anaconda\\envs\\aicourse\\lib\\site-packages\\matplotlib\\backends\\backend_agg.py:180: RuntimeWarning: Glyph 24800 missing from current font.\n",
      "  font.set_text(s, 0, flags=flags)\n",
      "e:\\anaconda\\envs\\aicourse\\lib\\site-packages\\matplotlib\\backends\\backend_agg.py:180: RuntimeWarning: Glyph 26222 missing from current font.\n",
      "  font.set_text(s, 0, flags=flags)\n",
      "e:\\anaconda\\envs\\aicourse\\lib\\site-packages\\matplotlib\\backends\\backend_agg.py:211: RuntimeWarning: Glyph 24819 missing from current font.\n",
      "  font.set_text(s, 0.0, flags=flags)\n",
      "e:\\anaconda\\envs\\aicourse\\lib\\site-packages\\matplotlib\\backends\\backend_agg.py:180: RuntimeWarning: Glyph 24819 missing from current font.\n",
      "  font.set_text(s, 0, flags=flags)\n",
      "e:\\anaconda\\envs\\aicourse\\lib\\site-packages\\matplotlib\\backends\\backend_agg.py:211: RuntimeWarning: Glyph 23558 missing from current font.\n",
      "  font.set_text(s, 0.0, flags=flags)\n",
      "e:\\anaconda\\envs\\aicourse\\lib\\site-packages\\matplotlib\\backends\\backend_agg.py:176: RuntimeWarning: Glyph 23558 missing from current font.\n",
      "  font.load_char(ord(s), flags=flags)\n",
      "e:\\anaconda\\envs\\aicourse\\lib\\site-packages\\matplotlib\\backends\\backend_agg.py:211: RuntimeWarning: Glyph 39318 missing from current font.\n",
      "  font.set_text(s, 0.0, flags=flags)\n",
      "e:\\anaconda\\envs\\aicourse\\lib\\site-packages\\matplotlib\\backends\\backend_agg.py:211: RuntimeWarning: Glyph 21457 missing from current font.\n",
      "  font.set_text(s, 0.0, flags=flags)\n",
      "e:\\anaconda\\envs\\aicourse\\lib\\site-packages\\matplotlib\\backends\\backend_agg.py:180: RuntimeWarning: Glyph 39318 missing from current font.\n",
      "  font.set_text(s, 0, flags=flags)\n",
      "e:\\anaconda\\envs\\aicourse\\lib\\site-packages\\matplotlib\\backends\\backend_agg.py:180: RuntimeWarning: Glyph 21457 missing from current font.\n",
      "  font.set_text(s, 0, flags=flags)\n",
      "e:\\anaconda\\envs\\aicourse\\lib\\site-packages\\matplotlib\\backends\\backend_agg.py:211: RuntimeWarning: Glyph 30005 missing from current font.\n",
      "  font.set_text(s, 0.0, flags=flags)\n",
      "e:\\anaconda\\envs\\aicourse\\lib\\site-packages\\matplotlib\\backends\\backend_agg.py:211: RuntimeWarning: Glyph 33041 missing from current font.\n",
      "  font.set_text(s, 0.0, flags=flags)\n",
      "e:\\anaconda\\envs\\aicourse\\lib\\site-packages\\matplotlib\\backends\\backend_agg.py:180: RuntimeWarning: Glyph 30005 missing from current font.\n",
      "  font.set_text(s, 0, flags=flags)\n",
      "e:\\anaconda\\envs\\aicourse\\lib\\site-packages\\matplotlib\\backends\\backend_agg.py:180: RuntimeWarning: Glyph 33041 missing from current font.\n",
      "  font.set_text(s, 0, flags=flags)\n",
      "e:\\anaconda\\envs\\aicourse\\lib\\site-packages\\matplotlib\\backends\\backend_agg.py:211: RuntimeWarning: Glyph 39044 missing from current font.\n",
      "  font.set_text(s, 0.0, flags=flags)\n",
      "e:\\anaconda\\envs\\aicourse\\lib\\site-packages\\matplotlib\\backends\\backend_agg.py:180: RuntimeWarning: Glyph 39044 missing from current font.\n",
      "  font.set_text(s, 0, flags=flags)\n",
      "e:\\anaconda\\envs\\aicourse\\lib\\site-packages\\matplotlib\\backends\\backend_agg.py:211: RuntimeWarning: Glyph 22343 missing from current font.\n",
      "  font.set_text(s, 0.0, flags=flags)\n",
      "e:\\anaconda\\envs\\aicourse\\lib\\site-packages\\matplotlib\\backends\\backend_agg.py:176: RuntimeWarning: Glyph 22343 missing from current font.\n",
      "  font.load_char(ord(s), flags=flags)\n",
      "e:\\anaconda\\envs\\aicourse\\lib\\site-packages\\matplotlib\\backends\\backend_agg.py:211: RuntimeWarning: Glyph 26159 missing from current font.\n",
      "  font.set_text(s, 0.0, flags=flags)\n",
      "e:\\anaconda\\envs\\aicourse\\lib\\site-packages\\matplotlib\\backends\\backend_agg.py:176: RuntimeWarning: Glyph 26159 missing from current font.\n",
      "  font.load_char(ord(s), flags=flags)\n",
      "e:\\anaconda\\envs\\aicourse\\lib\\site-packages\\matplotlib\\backends\\backend_agg.py:211: RuntimeWarning: Glyph 20108 missing from current font.\n",
      "  font.set_text(s, 0.0, flags=flags)\n",
      "e:\\anaconda\\envs\\aicourse\\lib\\site-packages\\matplotlib\\backends\\backend_agg.py:180: RuntimeWarning: Glyph 20108 missing from current font.\n",
      "  font.set_text(s, 0, flags=flags)\n",
      "e:\\anaconda\\envs\\aicourse\\lib\\site-packages\\matplotlib\\backends\\backend_agg.py:211: RuntimeWarning: Glyph 24418 missing from current font.\n",
      "  font.set_text(s, 0.0, flags=flags)\n",
      "e:\\anaconda\\envs\\aicourse\\lib\\site-packages\\matplotlib\\backends\\backend_agg.py:211: RuntimeWarning: Glyph 24577 missing from current font.\n",
      "  font.set_text(s, 0.0, flags=flags)\n",
      "e:\\anaconda\\envs\\aicourse\\lib\\site-packages\\matplotlib\\backends\\backend_agg.py:180: RuntimeWarning: Glyph 24418 missing from current font.\n",
      "  font.set_text(s, 0, flags=flags)\n",
      "e:\\anaconda\\envs\\aicourse\\lib\\site-packages\\matplotlib\\backends\\backend_agg.py:180: RuntimeWarning: Glyph 24577 missing from current font.\n",
      "  font.set_text(s, 0, flags=flags)\n",
      "e:\\anaconda\\envs\\aicourse\\lib\\site-packages\\matplotlib\\backends\\backend_agg.py:211: RuntimeWarning: Glyph 20135 missing from current font.\n",
      "  font.set_text(s, 0.0, flags=flags)\n",
      "e:\\anaconda\\envs\\aicourse\\lib\\site-packages\\matplotlib\\backends\\backend_agg.py:211: RuntimeWarning: Glyph 21697 missing from current font.\n",
      "  font.set_text(s, 0.0, flags=flags)\n",
      "e:\\anaconda\\envs\\aicourse\\lib\\site-packages\\matplotlib\\backends\\backend_agg.py:180: RuntimeWarning: Glyph 20135 missing from current font.\n",
      "  font.set_text(s, 0, flags=flags)\n",
      "e:\\anaconda\\envs\\aicourse\\lib\\site-packages\\matplotlib\\backends\\backend_agg.py:180: RuntimeWarning: Glyph 21697 missing from current font.\n",
      "  font.set_text(s, 0, flags=flags)\n",
      "e:\\anaconda\\envs\\aicourse\\lib\\site-packages\\matplotlib\\backends\\backend_agg.py:211: RuntimeWarning: Glyph 24403 missing from current font.\n",
      "  font.set_text(s, 0.0, flags=flags)\n",
      "e:\\anaconda\\envs\\aicourse\\lib\\site-packages\\matplotlib\\backends\\backend_agg.py:211: RuntimeWarning: Glyph 28982 missing from current font.\n",
      "  font.set_text(s, 0.0, flags=flags)\n",
      "e:\\anaconda\\envs\\aicourse\\lib\\site-packages\\matplotlib\\backends\\backend_agg.py:180: RuntimeWarning: Glyph 24403 missing from current font.\n",
      "  font.set_text(s, 0, flags=flags)\n",
      "e:\\anaconda\\envs\\aicourse\\lib\\site-packages\\matplotlib\\backends\\backend_agg.py:180: RuntimeWarning: Glyph 28982 missing from current font.\n",
      "  font.set_text(s, 0, flags=flags)\n",
      "e:\\anaconda\\envs\\aicourse\\lib\\site-packages\\matplotlib\\backends\\backend_agg.py:180: RuntimeWarning: Glyph 21482 missing from current font.\n",
      "  font.set_text(s, 0, flags=flags)\n",
      "e:\\anaconda\\envs\\aicourse\\lib\\site-packages\\matplotlib\\backends\\backend_agg.py:180: RuntimeWarning: Glyph 26159 missing from current font.\n",
      "  font.set_text(s, 0, flags=flags)\n",
      "e:\\anaconda\\envs\\aicourse\\lib\\site-packages\\matplotlib\\backends\\backend_agg.py:211: RuntimeWarning: Glyph 20010 missing from current font.\n",
      "  font.set_text(s, 0.0, flags=flags)\n",
      "e:\\anaconda\\envs\\aicourse\\lib\\site-packages\\matplotlib\\backends\\backend_agg.py:176: RuntimeWarning: Glyph 20010 missing from current font.\n",
      "  font.load_char(ord(s), flags=flags)\n",
      "e:\\anaconda\\envs\\aicourse\\lib\\site-packages\\matplotlib\\backends\\backend_agg.py:211: RuntimeWarning: Glyph 24320 missing from current font.\n",
      "  font.set_text(s, 0.0, flags=flags)\n",
      "e:\\anaconda\\envs\\aicourse\\lib\\site-packages\\matplotlib\\backends\\backend_agg.py:211: RuntimeWarning: Glyph 22987 missing from current font.\n",
      "  font.set_text(s, 0.0, flags=flags)\n",
      "e:\\anaconda\\envs\\aicourse\\lib\\site-packages\\matplotlib\\backends\\backend_agg.py:180: RuntimeWarning: Glyph 24320 missing from current font.\n",
      "  font.set_text(s, 0, flags=flags)\n",
      "e:\\anaconda\\envs\\aicourse\\lib\\site-packages\\matplotlib\\backends\\backend_agg.py:180: RuntimeWarning: Glyph 22987 missing from current font.\n",
      "  font.set_text(s, 0, flags=flags)\n",
      "e:\\anaconda\\envs\\aicourse\\lib\\site-packages\\matplotlib\\backends\\backend_agg.py:211: RuntimeWarning: Glyph 26410 missing from current font.\n",
      "  font.set_text(s, 0.0, flags=flags)\n",
      "e:\\anaconda\\envs\\aicourse\\lib\\site-packages\\matplotlib\\backends\\backend_agg.py:211: RuntimeWarning: Glyph 26469 missing from current font.\n",
      "  font.set_text(s, 0.0, flags=flags)\n",
      "e:\\anaconda\\envs\\aicourse\\lib\\site-packages\\matplotlib\\backends\\backend_agg.py:180: RuntimeWarning: Glyph 26410 missing from current font.\n",
      "  font.set_text(s, 0, flags=flags)\n",
      "e:\\anaconda\\envs\\aicourse\\lib\\site-packages\\matplotlib\\backends\\backend_agg.py:180: RuntimeWarning: Glyph 26469 missing from current font.\n",
      "  font.set_text(s, 0, flags=flags)\n",
      "e:\\anaconda\\envs\\aicourse\\lib\\site-packages\\matplotlib\\backends\\backend_agg.py:211: RuntimeWarning: Glyph 20063 missing from current font.\n",
      "  font.set_text(s, 0.0, flags=flags)\n",
      "e:\\anaconda\\envs\\aicourse\\lib\\site-packages\\matplotlib\\backends\\backend_agg.py:211: RuntimeWarning: Glyph 35768 missing from current font.\n",
      "  font.set_text(s, 0.0, flags=flags)\n",
      "e:\\anaconda\\envs\\aicourse\\lib\\site-packages\\matplotlib\\backends\\backend_agg.py:180: RuntimeWarning: Glyph 20063 missing from current font.\n",
      "  font.set_text(s, 0, flags=flags)\n",
      "e:\\anaconda\\envs\\aicourse\\lib\\site-packages\\matplotlib\\backends\\backend_agg.py:180: RuntimeWarning: Glyph 35768 missing from current font.\n",
      "  font.set_text(s, 0, flags=flags)\n",
      "e:\\anaconda\\envs\\aicourse\\lib\\site-packages\\matplotlib\\backends\\backend_agg.py:211: RuntimeWarning: Glyph 36824 missing from current font.\n",
      "  font.set_text(s, 0.0, flags=flags)\n",
      "e:\\anaconda\\envs\\aicourse\\lib\\site-packages\\matplotlib\\backends\\backend_agg.py:176: RuntimeWarning: Glyph 36824 missing from current font.\n",
      "  font.load_char(ord(s), flags=flags)\n",
      "e:\\anaconda\\envs\\aicourse\\lib\\site-packages\\matplotlib\\backends\\backend_agg.py:176: RuntimeWarning: Glyph 33021 missing from current font.\n",
      "  font.load_char(ord(s), flags=flags)\n",
      "e:\\anaconda\\envs\\aicourse\\lib\\site-packages\\matplotlib\\backends\\backend_agg.py:211: RuntimeWarning: Glyph 35265 missing from current font.\n",
      "  font.set_text(s, 0.0, flags=flags)\n",
      "e:\\anaconda\\envs\\aicourse\\lib\\site-packages\\matplotlib\\backends\\backend_agg.py:180: RuntimeWarning: Glyph 35265 missing from current font.\n",
      "  font.set_text(s, 0, flags=flags)\n",
      "e:\\anaconda\\envs\\aicourse\\lib\\site-packages\\matplotlib\\backends\\backend_agg.py:211: RuntimeWarning: Glyph 19977 missing from current font.\n",
      "  font.set_text(s, 0.0, flags=flags)\n",
      "e:\\anaconda\\envs\\aicourse\\lib\\site-packages\\matplotlib\\backends\\backend_agg.py:211: RuntimeWarning: Glyph 26143 missing from current font.\n",
      "  font.set_text(s, 0.0, flags=flags)\n",
      "e:\\anaconda\\envs\\aicourse\\lib\\site-packages\\matplotlib\\backends\\backend_agg.py:180: RuntimeWarning: Glyph 19977 missing from current font.\n",
      "  font.set_text(s, 0, flags=flags)\n",
      "e:\\anaconda\\envs\\aicourse\\lib\\site-packages\\matplotlib\\backends\\backend_agg.py:180: RuntimeWarning: Glyph 26143 missing from current font.\n",
      "  font.set_text(s, 0, flags=flags)\n",
      "e:\\anaconda\\envs\\aicourse\\lib\\site-packages\\matplotlib\\backends\\backend_agg.py:211: RuntimeWarning: Glyph 31185 missing from current font.\n",
      "  font.set_text(s, 0.0, flags=flags)\n",
      "e:\\anaconda\\envs\\aicourse\\lib\\site-packages\\matplotlib\\backends\\backend_agg.py:180: RuntimeWarning: Glyph 31185 missing from current font.\n",
      "  font.set_text(s, 0, flags=flags)\n",
      "e:\\anaconda\\envs\\aicourse\\lib\\site-packages\\matplotlib\\backends\\backend_agg.py:211: RuntimeWarning: Glyph 40594 missing from current font.\n",
      "  font.set_text(s, 0.0, flags=flags)\n",
      "e:\\anaconda\\envs\\aicourse\\lib\\site-packages\\matplotlib\\backends\\backend_agg.py:211: RuntimeWarning: Glyph 40607 missing from current font.\n",
      "  font.set_text(s, 0.0, flags=flags)\n",
      "e:\\anaconda\\envs\\aicourse\\lib\\site-packages\\matplotlib\\backends\\backend_agg.py:180: RuntimeWarning: Glyph 40594 missing from current font.\n",
      "  font.set_text(s, 0, flags=flags)\n",
      "e:\\anaconda\\envs\\aicourse\\lib\\site-packages\\matplotlib\\backends\\backend_agg.py:180: RuntimeWarning: Glyph 40607 missing from current font.\n",
      "  font.set_text(s, 0, flags=flags)\n",
      "e:\\anaconda\\envs\\aicourse\\lib\\site-packages\\matplotlib\\backends\\backend_agg.py:211: RuntimeWarning: Glyph 31859 missing from current font.\n",
      "  font.set_text(s, 0.0, flags=flags)\n",
      "e:\\anaconda\\envs\\aicourse\\lib\\site-packages\\matplotlib\\backends\\backend_agg.py:180: RuntimeWarning: Glyph 23567 missing from current font.\n",
      "  font.set_text(s, 0, flags=flags)\n",
      "e:\\anaconda\\envs\\aicourse\\lib\\site-packages\\matplotlib\\backends\\backend_agg.py:180: RuntimeWarning: Glyph 31859 missing from current font.\n",
      "  font.set_text(s, 0, flags=flags)\n",
      "e:\\anaconda\\envs\\aicourse\\lib\\site-packages\\matplotlib\\backends\\backend_agg.py:211: RuntimeWarning: Glyph 28558 missing from current font.\n",
      "  font.set_text(s, 0.0, flags=flags)\n",
      "e:\\anaconda\\envs\\aicourse\\lib\\site-packages\\matplotlib\\backends\\backend_agg.py:211: RuntimeWarning: Glyph 28227 missing from current font.\n",
      "  font.set_text(s, 0.0, flags=flags)\n",
      "e:\\anaconda\\envs\\aicourse\\lib\\site-packages\\matplotlib\\backends\\backend_agg.py:180: RuntimeWarning: Glyph 28558 missing from current font.\n",
      "  font.set_text(s, 0, flags=flags)\n",
      "e:\\anaconda\\envs\\aicourse\\lib\\site-packages\\matplotlib\\backends\\backend_agg.py:180: RuntimeWarning: Glyph 28227 missing from current font.\n",
      "  font.set_text(s, 0, flags=flags)\n",
      "e:\\anaconda\\envs\\aicourse\\lib\\site-packages\\matplotlib\\backends\\backend_agg.py:211: RuntimeWarning: Glyph 31561 missing from current font.\n",
      "  font.set_text(s, 0.0, flags=flags)\n",
      "e:\\anaconda\\envs\\aicourse\\lib\\site-packages\\matplotlib\\backends\\backend_agg.py:176: RuntimeWarning: Glyph 31561 missing from current font.\n",
      "  font.load_char(ord(s), flags=flags)\n",
      "e:\\anaconda\\envs\\aicourse\\lib\\site-packages\\matplotlib\\backends\\backend_agg.py:211: RuntimeWarning: Glyph 36827 missing from current font.\n",
      "  font.set_text(s, 0.0, flags=flags)\n",
      "e:\\anaconda\\envs\\aicourse\\lib\\site-packages\\matplotlib\\backends\\backend_agg.py:211: RuntimeWarning: Glyph 20837 missing from current font.\n",
      "  font.set_text(s, 0.0, flags=flags)\n",
      "e:\\anaconda\\envs\\aicourse\\lib\\site-packages\\matplotlib\\backends\\backend_agg.py:180: RuntimeWarning: Glyph 36827 missing from current font.\n",
      "  font.set_text(s, 0, flags=flags)\n",
      "e:\\anaconda\\envs\\aicourse\\lib\\site-packages\\matplotlib\\backends\\backend_agg.py:180: RuntimeWarning: Glyph 20837 missing from current font.\n",
      "  font.set_text(s, 0, flags=flags)\n"
     ]
    },
    {
     "data": {
      "image/png": "[encoded data removed]",
      "text/plain": [
       "<Figure size 432x288 with 1 Axes>"
      ]
     },
     "metadata": {},
     "output_type": "display_data"
    }
   ],
   "source": [
    "from matplotlib import rcParams\n",
    "rcParams['font.family'] = 'D://senior/aiCourse/dataSource/SourceHanSerifSC-Regular.otf'\n",
    "networkx.draw_networkx(keywords_graph)"
   ]
  },
  {
   "cell_type": "code",
   "execution_count": 38,
   "metadata": {
    "ExecuteTime": {
     "end_time": "2019-08-19T08:29:29.277034Z",
     "start_time": "2019-08-19T08:29:29.272049Z"
    }
   },
   "outputs": [
    {
     "data": {
      "text/plain": [
       "[('，', 0.04971796909107254),\n",
       " ('的', 0.032169208603727614),\n",
       " ('。', 0.02860228225909264),\n",
       " ('、', 0.02771502328849811),\n",
       " ('骁龙', 0.017759850248184172),\n",
       " ('Windows', 0.015115542829056361),\n",
       " ('10', 0.014661459543306039),\n",
       " ('835', 0.01417195081727616),\n",
       " ('桌面', 0.013938442660657342),\n",
       " ('平台', 0.012843338290542764)]"
      ]
     },
     "execution_count": 38,
     "metadata": {},
     "output_type": "execute_result"
    }
   ],
   "source": [
    "sorted(ranking_words.items(), key=lambda x: x[1], reverse=True)[:10]"
   ]
  },
  {
   "cell_type": "markdown",
   "metadata": {},
   "source": [
    "#### Task3 在Pycharm里边合并代码，合并成一个单独的函数，实现输入一篇文章，输出该文本的摘要流程"
   ]
  },
  {
   "cell_type": "markdown",
   "metadata": {},
   "source": [
    "## 使用词向量进行自动摘要"
   ]
  },
  {
   "cell_type": "markdown",
   "metadata": {},
   "source": [
    "Q8. 使用词向量进行自动摘要的基本假设是什么？ "
   ]
  },
  {
   "cell_type": "markdown",
   "metadata": {},
   "source": [
    "回答:句子向量能够和词向量起到相同的功能，衡量句子之间的相似程度。"
   ]
  },
  {
   "cell_type": "code",
   "execution_count": 39,
   "metadata": {
    "ExecuteTime": {
     "end_time": "2019-08-19T08:29:29.282053Z",
     "start_time": "2019-08-19T08:29:29.278033Z"
    }
   },
   "outputs": [
    {
     "name": "stdout",
     "output_type": "stream",
     "text": [
      "\n",
      "句子向量能够衡量句子之间的相似度，故而可以通过该方法判断某个句子是否和文本含义相关\n",
      "\n"
     ]
    }
   ],
   "source": [
    "hint('a.53e5.5b50.5411.91cf.80fd.591f.8861.91cf.53e5.5b50.4e4b.95f4.7684.76f8.4f3c.5ea6.ff0c.6545.800c.53ef.4ee5.901a.8fc7.8be5.65b9.6cd5.5224.65ad.67d0.4e2a.53e5.5b50.662f.5426.548c.6587.672c.542b.4e49.76f8.5173.a')"
   ]
  },
  {
   "cell_type": "markdown",
   "metadata": {},
   "source": [
    "#### Task4. 使用普林斯顿2017年的sentence embedding方法，进行句子embedding的构建"
   ]
  },
  {
   "cell_type": "markdown",
   "metadata": {},
   "source": [
    "Q9. 该句子embedding的原理是什么，有什么优势？ "
   ]
  },
  {
   "cell_type": "markdown",
   "metadata": {},
   "source": [
    "回答：\n",
    "\n",
    "第一步，将句子里所有的词向量都乘以一个权重，这个权重是（a）/（a+frequency），其中a是一个常数；然后把所有的词向量相加，得到一个简单的句向量。\n",
    "\n",
    "第二步：将所有的句向量减去他们在句向量矩阵的主成分U的投影，有点类似PCA，然后得到的就是该句子的句向量。\n",
    "\n",
    "优点：快，无监督，性能好，运算简单"
   ]
  },
  {
   "cell_type": "code",
   "execution_count": 40,
   "metadata": {
    "ExecuteTime": {
     "end_time": "2019-08-19T08:29:29.287039Z",
     "start_time": "2019-08-19T08:29:29.283019Z"
    }
   },
   "outputs": [
    {
     "name": "stdout",
     "output_type": "stream",
     "text": [
      "\n",
      "提示：频率，重要性，快速，性能好\n",
      "\n"
     ]
    }
   ],
   "source": [
    "hint('a.63d0.793a.ff1a.9891.7387.ff0c.91cd.8981.6027.ff0c.5feb.901f.ff0c.6027.80fd.597d.a')"
   ]
  },
  {
   "cell_type": "markdown",
   "metadata": {},
   "source": [
    "Q10. embedding是什么？ 用数学的方式解释embedding。"
   ]
  },
  {
   "cell_type": "markdown",
   "metadata": {},
   "source": [
    "回答：将数据中个体原本之间的关系能够在低维空间上表示，同时能够用数学的方法来保留这些个体之间的相互关系"
   ]
  },
  {
   "cell_type": "code",
   "execution_count": 41,
   "metadata": {
    "ExecuteTime": {
     "end_time": "2019-08-19T08:29:29.292991Z",
     "start_time": "2019-08-19T08:29:29.288006Z"
    }
   },
   "outputs": [
    {
     "name": "stdout",
     "output_type": "stream",
     "text": [
      "\n",
      "提示：假设两个entity保持具有某种“偏序”特性，即，可以比较，那么，将这两个 entity 投影到另外的空间中，在该空间中，这种“偏序”依然能够保持\n",
      "\n"
     ]
    }
   ],
   "source": [
    "hint('a.63d0.793a.ff1a.5047.8bbe.4e24.4e2a.65.6e.74.69.74.79.4fdd.6301.5177.6709.67d0.79cd.201c.504f.5e8f.201d.7279.6027.ff0c.5373.ff0c.53ef.4ee5.6bd4.8f83.ff0c.90a3.4e48.ff0c.5c06.8fd9.4e24.4e2a.20.65.6e.74.69.74.79.20.6295.5f71.5230.53e6.5916.7684.7a7a.95f4.4e2d.ff0c.5728.8be5.7a7a.95f4.4e2d.ff0c.8fd9.79cd.201c.504f.5e8f.201d.4f9d.7136.80fd.591f.4fdd.6301.a')"
   ]
  },
  {
   "cell_type": "markdown",
   "metadata": {},
   "source": [
    "Q11. 除了word embedding， sentence embedding， embedding还可以应用到哪些场景？"
   ]
  },
  {
   "cell_type": "markdown",
   "metadata": {},
   "source": [
    "回答：用户、商品。对于之间的关系描述性非常强，更加准确。"
   ]
  },
  {
   "cell_type": "code",
   "execution_count": 42,
   "metadata": {
    "ExecuteTime": {
     "end_time": "2019-08-19T08:29:29.298977Z",
     "start_time": "2019-08-19T08:29:29.293989Z"
    }
   },
   "outputs": [
    {
     "name": "stdout",
     "output_type": "stream",
     "text": [
      "\n",
      "例如社交网络里边人员的embedding（进行好友推荐）， 购物网站商品的embedding（进行商品推荐）\n",
      "另外，可以思考一下基于这种embedding的推荐的优点在哪里？ \n",
      "\n"
     ]
    }
   ],
   "source": [
    "hint('a.4f8b.5982.793e.4ea4.7f51.7edc.91cc.8fb9.4eba.5458.7684.65.6d.62.65.64.64.69.6e.67.ff08.8fdb.884c.597d.53cb.63a8.8350.ff09.ff0c.20.8d2d.7269.7f51.7ad9.5546.54c1.7684.65.6d.62.65.64.64.69.6e.67.ff08.8fdb.884c.5546.54c1.63a8.8350.ff09.a.53e6.5916.ff0c.53ef.4ee5.601d.8003.4e00.4e0b.57fa.4e8e.8fd9.79cd.65.6d.62.65.64.64.69.6e.67.7684.63a8.8350.7684.4f18.70b9.5728.54ea.91cc.ff1f.20.a')"
   ]
  },
  {
   "cell_type": "markdown",
   "metadata": {},
   "source": [
    "Q12. 这种embedding的方法和tfidf有何异同？ "
   ]
  },
  {
   "cell_type": "markdown",
   "metadata": {},
   "source": [
    "回答：tf-idf通过计算某个单字在一段文字中出现的频率，与在全部文档中出现的频率，来计算这个词出现的频率，通常用来表示这个词对于一段文字的重要程度； embedding方法是计算这个词上下文中的词出现的概率，通过这个矩阵来表示这个词的语义。"
   ]
  },
  {
   "cell_type": "code",
   "execution_count": 43,
   "metadata": {
    "ExecuteTime": {
     "end_time": "2019-08-19T08:29:29.303969Z",
     "start_time": "2019-08-19T08:29:29.300972Z"
    }
   },
   "outputs": [
    {
     "name": "stdout",
     "output_type": "stream",
     "text": [
      "\n",
      "提示：tfidf考虑的频率其 tf 和 idf 分别是什么？ 该embedding的频率类似于什么？ \n",
      "\n"
     ]
    }
   ],
   "source": [
    "hint('a.63d0.793a.ff1a.74.66.69.64.66.8003.8651.7684.9891.7387.5176.20.74.66.20.548c.20.69.64.66.20.5206.522b.662f.4ec0.4e48.ff1f.20.8be5.65.6d.62.65.64.64.69.6e.67.7684.9891.7387.7c7b.4f3c.4e8e.4ec0.4e48.ff1f.20.a')"
   ]
  },
  {
   "cell_type": "markdown",
   "metadata": {},
   "source": [
    "Q13. 构建句子想了的过程中，面对未知的单词，如果解决？"
   ]
  },
  {
   "cell_type": "markdown",
   "metadata": {},
   "source": [
    "回答: 省略、随机值、古德-图灵法"
   ]
  },
  {
   "cell_type": "code",
   "execution_count": 44,
   "metadata": {
    "ExecuteTime": {
     "end_time": "2019-08-19T08:29:29.309464Z",
     "start_time": "2019-08-19T08:29:29.305958Z"
    }
   },
   "outputs": [
    {
     "name": "stdout",
     "output_type": "stream",
     "text": [
      "\n",
      "开发型问题，可以省略，可以赋予随机值，可以给一特定值，具体情况需要经过试验进行分析\n",
      "\n"
     ]
    }
   ],
   "source": [
    "hint('a.5f00.53d1.578b.95ee.9898.ff0c.53ef.4ee5.7701.7565.ff0c.53ef.4ee5.8d4b.4e88.968f.673a.503c.ff0c.53ef.4ee5.7ed9.4e00.7279.5b9a.503c.ff0c.5177.4f53.60c5.51b5.9700.8981.7ecf.8fc7.8bd5.9a8c.8fdb.884c.5206.6790.a')"
   ]
  },
  {
   "cell_type": "markdown",
   "metadata": {},
   "source": [
    "Q14. 构建完成句子向量之后，句子相似度如何判断？ "
   ]
  },
  {
   "cell_type": "markdown",
   "metadata": {},
   "source": [
    "回答：计算两个矩阵的余弦距离"
   ]
  },
  {
   "cell_type": "code",
   "execution_count": 45,
   "metadata": {
    "ExecuteTime": {
     "end_time": "2019-08-19T08:29:29.315477Z",
     "start_time": "2019-08-19T08:29:29.311453Z"
    }
   },
   "outputs": [
    {
     "name": "stdout",
     "output_type": "stream",
     "text": [
      "\n",
      "cosine， 余弦距离\n",
      "\n"
     ]
    }
   ],
   "source": [
    "hint('a.63.6f.73.69.6e.65.ff0c.20.4f59.5f26.8ddd.79bb.a')"
   ]
  },
  {
   "cell_type": "markdown",
   "metadata": {},
   "source": [
    "Q15. 为什么要用cosine距离进行判断，为何不用欧几里得？ "
   ]
  },
  {
   "cell_type": "markdown",
   "metadata": {},
   "source": [
    " 回答："
   ]
  },
  {
   "cell_type": "code",
   "execution_count": 46,
   "metadata": {
    "ExecuteTime": {
     "end_time": "2019-08-19T08:29:29.321425Z",
     "start_time": "2019-08-19T08:29:29.316440Z"
    }
   },
   "outputs": [
    {
     "name": "stdout",
     "output_type": "stream",
     "text": [
      "\n",
      "提示：请参考word2vec训练时候的的概率分布的定义，可以看到其loss当时优化的就是 exp(v1 . v2), 那么当 v1 . v2最大的时候，\n",
      "就是这两个向量方向一致的时候，所以，该词向量在训练的时候的loss的衡量，就是依据方向进行的。 \n",
      "\n"
     ]
    }
   ],
   "source": [
    "hint('a.63d0.793a.ff1a.8bf7.53c2.8003.77.6f.72.64.32.76.65.63.8bad.7ec3.65f6.5019.7684.7684.6982.7387.5206.5e03.7684.5b9a.4e49.ff0c.53ef.4ee5.770b.5230.5176.6c.6f.73.73.5f53.65f6.4f18.5316.7684.5c31.662f.20.65.78.70.28.76.31.20.2e.20.76.32.29.2c.20.90a3.4e48.5f53.20.76.31.20.2e.20.76.32.6700.5927.7684.65f6.5019.ff0c.a.5c31.662f.8fd9.4e24.4e2a.5411.91cf.65b9.5411.4e00.81f4.7684.65f6.5019.ff0c.6240.4ee5.ff0c.8be5.8bcd.5411.91cf.5728.8bad.7ec3.7684.65f6.5019.7684.6c.6f.73.73.7684.8861.91cf.ff0c.5c31.662f.4f9d.636e.65b9.5411.8fdb.884c.7684.3002.20.a')"
   ]
  },
  {
   "cell_type": "code",
   "execution_count": 47,
   "metadata": {
    "ExecuteTime": {
     "end_time": "2019-08-19T08:29:29.325441Z",
     "start_time": "2019-08-19T08:29:29.322422Z"
    }
   },
   "outputs": [
    {
     "name": "stdout",
     "output_type": "stream",
     "text": [
      "\n",
      "另外，也不是不能用欧几里得，但是依据上一提示之分析，欧几里得是不能很好保持语义相似性的。 \n",
      "\n"
     ]
    }
   ],
   "source": [
    "hint('a.53e6.5916.ff0c.4e5f.4e0d.662f.4e0d.80fd.7528.6b27.51e0.91cc.5f97.ff0c.4f46.662f.4f9d.636e.4e0a.4e00.63d0.793a.4e4b.5206.6790.ff0c.6b27.51e0.91cc.5f97.662f.4e0d.80fd.5f88.597d.4fdd.6301.8bed.4e49.76f8.4f3c.6027.7684.3002.20.a')"
   ]
  },
  {
   "cell_type": "markdown",
   "metadata": {},
   "source": [
    "Q16. cosine距离的时候，如果两个向量的长度区别很大，但是方向类似，cosine的距离是小还是大？ "
   ]
  },
  {
   "cell_type": "markdown",
   "metadata": {},
   "source": [
    "回答：cosine只考虑“方向“是否一样"
   ]
  },
  {
   "cell_type": "code",
   "execution_count": 48,
   "metadata": {
    "ExecuteTime": {
     "end_time": "2019-08-19T08:29:29.331398Z",
     "start_time": "2019-08-19T08:29:29.326412Z"
    }
   },
   "outputs": [
    {
     "name": "stdout",
     "output_type": "stream",
     "text": [
      "cosine只考虑“方向“是否一样\n"
     ]
    }
   ],
   "source": [
    "hint('63.6f.73.69.6e.65.53ea.8003.8651.201c.65b9.5411.201c.662f.5426.4e00.6837')"
   ]
  },
  {
   "cell_type": "code",
   "execution_count": 49,
   "metadata": {
    "ExecuteTime": {
     "end_time": "2019-08-19T08:29:29.337384Z",
     "start_time": "2019-08-19T08:29:29.332396Z"
    }
   },
   "outputs": [],
   "source": [
    "#先将所有的词向量都乘以一个常数alpha，然后将它们相加，之后再通过PCA提取他们的句向量\n",
    "\n",
    "def sentence_embedding(sentence, cut=cut):\n",
    "    # weight = alpah/(alpah + p) \n",
    "    # alpha is a parameter, 1e-3 ~ 1e-5\n",
    "    alpha = 1e-4\n",
    "    \n",
    "    global frequence\n",
    "    \n",
    "    max_fre = max(frequence.values())\n",
    "    \n",
    "    words = cut(sentence).split()\n",
    "    \n",
    "    sentence_vec = np.zeros_like(model.wv['测试'])\n",
    "    \n",
    "    words = [w for w in words if w in model]\n",
    "    \n",
    "    for w in words:\n",
    "        weight = alpha / (alpha + frequence.get(w, max_fre))\n",
    "        sentence_vec += weight * model.wv[w]\n",
    "    \n",
    "    sentence_vec /= len(words)\n",
    "    # Skip the PCA\n",
    "    return sentence_vec\n"
   ]
  },
  {
   "cell_type": "code",
   "execution_count": 50,
   "metadata": {
    "ExecuteTime": {
     "end_time": "2019-08-19T08:29:29.345363Z",
     "start_time": "2019-08-19T08:29:29.339379Z"
    }
   },
   "outputs": [],
   "source": [
    "from scipy.spatial.distance import cosine\n",
    "from functools import partial\n",
    "def get_corrlations(text, cut_fn):\n",
    "    if isinstance(text, list): text = ' '.join(text)\n",
    "        \n",
    "    sub_sentences = split_sentence(text)\n",
    "    sentence_vector = sentence_embedding(text, cut_fn)\n",
    "        \n",
    "    correlations = {}\n",
    "    \n",
    "    for sub_sentence in sub_sentences:\n",
    "        sub_sen_vec = sentence_embedding(sub_sentence, cut_fn)\n",
    "        correlation = cosine(sentence_vector, sub_sen_vec)\n",
    "        correlations[sub_sentence]= correlation\n",
    "\n",
    "    return sorted(correlations.items(), key=lambda x: x[1], reverse=True)"
   ]
  },
  {
   "cell_type": "code",
   "execution_count": 51,
   "metadata": {
    "ExecuteTime": {
     "end_time": "2019-08-19T08:29:29.353340Z",
     "start_time": "2019-08-19T08:29:29.346360Z"
    }
   },
   "outputs": [],
   "source": [
    "corrlations_with_global_cut = partial(get_corrlations, cut_fn=cut)\n"
   ]
  },
  {
   "cell_type": "code",
   "execution_count": 52,
   "metadata": {
    "ExecuteTime": {
     "end_time": "2019-08-19T08:29:29.358327Z",
     "start_time": "2019-08-19T08:29:29.354338Z"
    }
   },
   "outputs": [],
   "source": [
    "def get_summarization_simple_by_sen_embedding(text, constraint=200):\n",
    "    return get_summarization_simple(text, corrlations_with_global_cut, constraint)"
   ]
  },
  {
   "cell_type": "code",
   "execution_count": 53,
   "metadata": {
    "ExecuteTime": {
     "end_time": "2019-08-19T08:29:30.585620Z",
     "start_time": "2019-08-19T08:29:29.359323Z"
    }
   },
   "outputs": [
    {
     "name": "stderr",
     "output_type": "stream",
     "text": [
      "Building prefix dict from the default dictionary ...\n",
      "Loading model from cache C:\\Users\\Andywong\\AppData\\Local\\Temp\\jieba.cache\n",
      "Loading model cost 0.570 seconds.\n",
      "Prefix dict has been built succesfully.\n",
      "e:\\anaconda\\envs\\aicourse\\lib\\site-packages\\ipykernel_launcher.py:16: DeprecationWarning: Call to deprecated `__contains__` (Method will be removed in 4.0.0, use self.wv.__contains__() instead).\n",
      "  app.launch_new_instance()\n"
     ]
    }
   ],
   "source": [
    "corrlations = get_corrlations(sharp_news, cut)"
   ]
  },
  {
   "cell_type": "code",
   "execution_count": 59,
   "metadata": {
    "ExecuteTime": {
     "end_time": "2019-08-19T08:53:12.364567Z",
     "start_time": "2019-08-19T08:53:12.358550Z"
    }
   },
   "outputs": [
    {
     "data": {
      "text/plain": [
       "'（原标题：武汉警方一下子抓了808人，还都是俊男靓女！原来他们每天偷偷摸摸干这事！）\\r\\n武汉警方一下子抓了808人，还都是俊男靓女！原来他们每天偷偷摸摸干这事！\\r\\n大家还记得今年4月光谷曾发生的一件大事吗？\\r\\n当时微博和朋友圈上都传疯了，\\r\\n说是光谷国际广场大量白领被捕！\\r\\n现场手铐都不够用！\\r\\n结果经记者深入调查后发现，\\r\\n这些被抓的并不是网传的“白领”\\r\\n而是一个有282名涉案人员的诈骗团伙！\\r\\n天呐！接近300人的犯罪团伙，\\r\\n你以为这个数字已经够庞大了吗？\\r\\n错，还有让你更震惊的！！\\r\\n据武汉市公安局通报：\\r\\n6月9日，警方在武汉三镇的10处窝点内，\\r\\n抓获了808名嫌疑人！\\r\\n而且令人大跌眼镜的是，\\r\\n他们当中大多都是年青人，\\r\\n用“俊男靓女”来形容也不为过！\\r\\n年纪不大，外形不差，那么到底是犯了什么事呢？\\r\\n其实说起来，这事估计绝大多数人都碰到过！那就是网络诈骗！\\r\\n涉案电脑800余台、手机2000余部、\\r\\n银行卡3000余张....\\r\\n因为涉及的账户太多，\\r\\n涉案金额目前还没统计出来。\\r\\n这是全国涉案人数最多的一起特大网络诈骗案！\\r\\n这些惊人的数字背后，究竟藏着什么样的秘密？警方把他们一锅端了！\\r\\n今年4月，武汉警方获悉在塔子湖地区有电信网络诈骗活动，经过2个多月的秘密侦查，发现了一个特大网络诈骗犯罪团伙。\\r\\n原来该团伙利用非法互联网金融平台，实施推荐股票、炒期货等诈骗，其10处窝点散布在江岸、洪山、东湖高新、硚口、江汉等5个区的写字楼内，涉案人员多达800余名！\\r\\n6月9日上午，武汉警方组织了1000余名警力，分成14个抓捕组，同时对首脑分子和10处窝点实施了突击抓捕行动！\\r\\n目前，警方已依法刑事拘留411人，对45人取保候审。该案还在进一步调查中。\\r\\n他们是如何进行诈骗的？\\r\\n人数众多的这个诈骗组织是怎么样进行人员分工？又是如何一步步引受害人上钩的呢？\\r\\n2015年以来，该犯罪团伙以投资组建的某集团公司为总部，旗下成立多家分公司、子公司，设立人事部、财务部、行政部等机构部门，分为经理、分析师、业务小组长、业务员等组织层级。\\r\\n在网上发布招聘信息招揽、培训业务员\\r\\n依托虚构的互联网金融平台，通过业务员散布“有内幕消息”等虚假信息，引诱受害人加入专门的QQ群、微信群。\\r\\n再由所谓的“证券公司资深分析师”和“经理”逐个联系受害人，引诱受害人交易股票、期货、贵金属、外汇等金融产品，\\r\\n受害人若获利则按“五五”、“六四”分成，\\r\\n若亏损则拉入“黑名单”不再联系。\\r\\n网友热评\\r\\n李晓猫不吃鱼：在人信汇写字楼面试过一个这种工作，一听不对劲就撤了，说不适合我，我嘴巴笨\\r\\n习惯就好33xxzz：八百多人？可能相当部分人都不大清楚自己到底是啥性质工作吧？\\r\\n刑法守望者：\\r\\n要警惕了，普法：各种工作都要预防法律风险，要做个明白人，不是什么钱都可以拿，尤其是从事金融、保险、银行、财务的人员，不小心就触犯刑法……\\r\\n童颜永在--心理医生：盘在写字楼内的诈骗公司，以高薪招聘业务人员为诱饵，实行诈骗的顽疾，终于被揣掉了。\\r\\n你的渔船：联系一下自己的朋友，看有多少个被抓了\\r\\nThe-former-degrees：\\r\\n招聘平台和销售会上百分之八十就是这种工作。从源头抓起，防止更多人受伤。\\r\\n宇宇家的小仙女：恐怖 进了一个星期发现不太对劲 这尼玛是让我骗人啊 ?赶紧自己跑路了\\r\\nz_路漫漫：\\r\\n我做过， ?后来听说公司跑路了\\r\\n睡不饱怎么办啊小铭大：我都面试过这种工作，，还培训了几天，，话术一看就的套路骗，，果断闪人，，这种公司太多了，，\\r\\n遗忘的金叶子：碰到这样的骗子找我们做视频，最后被我打电话骂了一顿！\\r\\na一元复始c：\\r\\n还有那些天天电话骚扰别人信贷的、卖房的、卖邮票的、发票的社会生活中一不留神就会被坑，所以活着需要理智\\r\\n笑看世间丑2448337651：这是在路上发骗广告搞高利贷的那些互联网金融公司吗？\\r\\n未来温暖的时光属于自己：金融港，街道口都是这些……好多同学刚刚毕业都去做过，都是网上投简历，这些公司就猛联系你，其实好多都不知道这是骗人的吧\\r\\n有强迫症的天蝎座怪咖：吓到我了\\r\\n冉冉的彗星是个宝：早上还接到说做期货\\r\\n霖心金鱼And张蒙：\\r\\n都不敢去找工作了\\r\\n蒋妈妈1\\r\\n5：刚回到武汉，准备找份工作，看网上好多这种招聘的，感觉像骗人的，都不看的\\r\\n看了网友的评论，\\r\\n小编只有一个感觉：\\r\\n找工作时一定要擦亮双眼\\r\\n不要因为一时疏忽，\\r\\n而给自己的生活抹上污点！\\r\\n俗话说，知己知彼百战不殆\\r\\n弄清网络诈骗的常见手法?\\r\\n才能避免上当受骗\\r\\n下面就为大家奉上防骗攻略\\r\\n遇到诈骗只需见招拆招！\\r\\n网络防骗攻略\\r\\n电信网络诈骗犯罪往往表现为“六大陷阱”：\\r\\n1.物美价廉的网购陷阱\\r\\n2.推销产品的便利陷阱\\r\\n3.异性交友的情感陷阱\\r\\n4.中奖信息的惊喜陷阱\\r\\n5.冒充国家工作人员的恐吓陷阱\\r\\n6.钓鱼网站和网上银行的迷惑陷阱\\r\\n下面是网络诈骗中比较常见的几种类型，一起学习如何防范，让骗子无处遁形！\\r\\n1虚假红包诈骗\\r\\n临近节日时，各大电商平台会以派发红包的形式，为促销活动预热。有不法分子趁机在微信朋友圈、微信群等平台中，派发虚假红包，诱骗大家点击，套取个人信息，或传播木马病毒，盗取银行账号。\\r\\n识骗方法：慎点此类红包领取链接，如果不小心点击，应第一时间关闭手机网络，修改网银、支付宝等重要账户密码，并通过安全软件查杀木马病毒。\\r\\n2二维码诈骗\\r\\n抢购高峰期，网页打开慢，网银交易出现比较迟钝现象。有不法分子会冒充客服或店主，以单子出现“调单”“卡单”等说法为幌子，故意说没有收到款项欺诈消费者，取得信任后要求消费者以其他办法进行转账。\\r\\n识骗方法：消费者要注意，调单、卡单、激活订单等多为诈骗术语，见此类词语基本可以断定对方是骗子。没有收到款项这样的问题，是不会在东京、天猫这样的大型网络购物平台出现的。\\r\\n3钓鱼网站诈骗\\r\\n节假日期间，公众的购物热情高涨，假冒正规电商官方网站、在线支付平台等的钓鱼网站活动频繁。消费者在忙于浏览各色商品页面时，往往容易忽略链接的安全性，从而误入诈骗分子发来的虚假钓鱼网站。\\r\\n识骗方法：对陌生人发来的商品链接要提高警惕，谨慎打开。如遇网络诈骗应第一时间向属地公安机关报案，并向举报中心举报。\\r\\n4虚假客服诈骗\\r\\n抢购高峰期，网页打开慢，网银交易出现比较迟钝现象。有不法分子会冒充客服或店主，以单子出现“调单”“卡单”等说法为幌子，故意说没有收到款项欺诈消费者，取得信任后要求消费者以其他办法进行转账。\\r\\n识骗方法：消费者要注意，调单、卡单、激活订单等多为诈骗术语，见此类词语基本可以断定对方是骗子。没有收到款项这样的问题，是不会在东京、天猫这样的大型网络购物平台出现的。\\r\\n5预购诈骗\\r\\n还有不法分子会以“提前购”、“预售”为诱饵向用户发送木马链接。除了网购链接被植入木马、钓鱼网站，还有不法分子会在“预售”活动上做文章，骗取买家“定金”。\\r\\n识骗方法：慎点不明链接，有关购物短信也不要轻信，同时也请给手机装上杀毒软件，提供安全的上网环境。\\r\\n6中奖诈骗\\r\\n购物过后，很多人会陆陆续续收到一些商家的中奖信息，切记不要随意拨打中奖信息提供的电话号码或点击发来的网站链接地址，很可能会让手机或电脑感染上木马病毒。\\r\\n识骗方法：收到中奖信息后留心一下，看一看你所购买的产品中有没有这家的产品，然后最好能在天猫店里直接和卖家联系确认消息。\\r\\n7朋友圈诈骗\\r\\n由于缺少第三方监管平台，不法分子会在朋友圈发布虚假低价购物信息，骗取消费者汇款购买。\\r\\n识骗方法：朋友圈里的销售行为，存在取证难，查处难的问题。因此建议大家在朋友圈买东西时，尽可能选择正规第三方支付平台进行支付，避免直接支付，以确保安全。\\r\\n8快递诈骗\\r\\n不法分子会从非法渠道获得客户信息，制作假的快递单，随后冒充快递员提前联系受骗者，把虚假货品送到消费者手中，骗取钱财。\\r\\n识骗方法：签收包裹前，务必按官方的信息核实对方身份，并确认是否是自己的包裹。在取货之后；一定记得把自己的个人信息从包裹上完全抹去；避免个人信息泄露。\\r\\n9退款诈骗\\r\\n不法分子常以“退款”或“退货”为由假扮网店客服，要求消费者点击其提供的“钓鱼网站”链接，盗取持卡人的银行密码及动态验证码。\\r\\n识骗方法：如果接到网上购物退款的电话或短信等信息，一定要谨慎对待，切莫泄露银行卡账号、户名，动态验证码等个人信息。\\r\\n同时，提醒大家：保护好自己账户信息，遇到情况一定及时报警。\\r\\n武汉破特大网络诈骗案抓808人:以\"内幕消息\"骗人\\r\\n6月12日，武汉市公安局向澎湃新闻通报，该局破获一起特大网络诈骗案。抓获包括卢某、熊某等8名首脑分子在内的涉案人员808名，查扣涉案电脑800余台、手机2000余部、银行卡3000余张。据悉，这是全国打击利用非法互联网金融平台实施诈骗犯罪中，查获涉案人数最多的一起案件。\\r\\n'"
      ]
     },
     "execution_count": 59,
     "metadata": {},
     "output_type": "execute_result"
    }
   ],
   "source": [
    "sharp_news"
   ]
  },
  {
   "cell_type": "code",
   "execution_count": 54,
   "metadata": {
    "ExecuteTime": {
     "end_time": "2019-08-19T08:29:30.598583Z",
     "start_time": "2019-08-19T08:29:30.587615Z"
    }
   },
   "outputs": [
    {
     "data": {
      "text/plain": [
       "[('）', 1.130783572793007),\n",
       " ('4', 1.100191369652748),\n",
       " ('5', 1.0819260776042938),\n",
       " ('6', 1.077786274254322),\n",
       " ('1', 1.0763503164052963),\n",
       " ('2', 1.073316715657711),\n",
       " ('The-former-degrees：', 1.0680594444274902),\n",
       " ('3', 1.0387866906821728),\n",
       " ('a一元复始c：', 0.9343020394444466),\n",
       " ('刑法守望者：', 0.89299276471138),\n",
       " ('z_路漫漫：', 0.8596546649932861),\n",
       " ('蒋妈妈1', 0.7754957377910614),\n",
       " ('天呐', 0.7335845232009888),\n",
       " ('俗话说，知己知彼百战不殆', 0.7192385196685791),\n",
       " ('霖心金鱼And张蒙：', 0.7047199904918671),\n",
       " ('这尼玛是让我骗人啊', 0.682900458574295),\n",
       " ('说是光谷国际广场大量白领被捕', 0.6693127751350403),\n",
       " ('据武汉市公安局通报：', 0.6616958379745483),\n",
       " ('而且令人大跌眼镜的是，', 0.6350645124912262),\n",
       " ('抓获了808名嫌疑人', 0.6335879862308502),\n",
       " ('6月9日，警方在武汉三镇的10处窝点内，', 0.6242031157016754),\n",
       " ('目前，警方已依法刑事拘留411人，对45人取保候审', 0.6119232475757599),\n",
       " ('进了一个星期发现不太对劲', 0.5889772474765778),\n",
       " ('6月9日上午，武汉警方组织了1000余名警力，分成14个抓捕组，同时对首脑分子和10处窝点实施了突击抓捕行动',\n",
       "  0.5778388381004333),\n",
       " ('冉冉的彗星是个宝：早上还接到说做期货', 0.5690303146839142),\n",
       " ('小编只有一个感觉：', 0.5665955245494843),\n",
       " ('?赶紧自己跑路了', 0.5548296570777893),\n",
       " ('6月12日，武汉市公安局向澎湃新闻通报，该局破获一起特大网络诈骗案', 0.5374309122562408),\n",
       " ('结果经记者深入调查后发现，', 0.5278003811836243),\n",
       " ('宇宇家的小仙女：恐怖', 0.5254793763160706),\n",
       " ('?后来听说公司跑路了', 0.5237464308738708),\n",
       " ('2015年以来，该犯罪团伙以投资组建的某集团公司为总部，旗下成立多家分公司、子公司，设立人事部、财务部、行政部等机构部门，分为经理、分析师、业务小组长、业务员等组织层级',\n",
       "  0.5227784514427185),\n",
       " ('用“俊男靓女”来形容也不为过', 0.519716739654541),\n",
       " ('他们当中大多都是年青人，', 0.5125126242637634),\n",
       " ('大家还记得今年4月光谷曾发生的一件大事吗', 0.5098662972450256),\n",
       " ('不要因为一时疏忽，', 0.5088393986225128),\n",
       " ('接近300人的犯罪团伙，', 0.5009793639183044),\n",
       " ('我做过，', 0.5003107488155365),\n",
       " ('原来他们每天偷偷摸摸干这事', 0.4956743121147156),\n",
       " ('该案还在进一步调查中', 0.48001980781555176),\n",
       " ('这是全国涉案人数最多的一起特大网络诈骗案', 0.47769421339035034),\n",
       " ('有强迫症的天蝎座怪咖：吓到我了', 0.47400593757629395),\n",
       " ('武汉破特大网络诈骗案抓808人:以\"内幕消息\"骗人', 0.4634571075439453),\n",
       " ('网友热评', 0.45248085260391235),\n",
       " ('从源头抓起，防止更多人受伤', 0.43677425384521484),\n",
       " ('（原标题：武汉警方一下子抓了808人，还都是俊男靓女', 0.43551766872406006),\n",
       " ('错，还有让你更震惊的', 0.4154215455055237),\n",
       " ('这些惊人的数字背后，究竟藏着什么样的秘密', 0.41258442401885986),\n",
       " ('看了网友的评论，', 0.40941405296325684),\n",
       " ('都不敢去找工作了', 0.4091986417770386),\n",
       " ('下面就为大家奉上防骗攻略', 0.40330833196640015),\n",
       " ('习惯就好33xxzz：八百多人', 0.4026835560798645),\n",
       " ('异性交友的情感陷阱', 0.4005676507949829),\n",
       " ('年纪不大，外形不差，那么到底是犯了什么事呢', 0.3990330696105957),\n",
       " ('今年4月，武汉警方获悉在塔子湖地区有电信网络诈骗活动，经过2个多月的秘密侦查，发现了一个特大网络诈骗犯罪团伙',\n",
       "  0.39424532651901245),\n",
       " ('而给自己的生活抹上污点', 0.3913128972053528),\n",
       " ('临近节日时，各大电商平台会以派发红包的形式，为促销活动预热', 0.3883574604988098),\n",
       " ('可能相当部分人都不大清楚自己到底是啥性质工作吧', 0.38218724727630615),\n",
       " ('这些被抓的并不是网传的“白领”', 0.3815258741378784),\n",
       " ('受害人若获利则按“五五”、“六四”分成，', 0.37818390130996704),\n",
       " ('其实说起来，这事估计绝大多数人都碰到过', 0.3777450919151306),\n",
       " ('警方把他们一锅端了', 0.37467873096466064),\n",
       " ('抓获包括卢某、熊某等8名首脑分子在内的涉案人员808名，查扣涉案电脑800余台、手机2000余部、银行卡3000余张',\n",
       "  0.3736489415168762),\n",
       " ('现场手铐都不够用', 0.3697010278701782),\n",
       " ('网络防骗攻略', 0.36015117168426514),\n",
       " ('你以为这个数字已经够庞大了吗', 0.35920578241348267),\n",
       " ('李晓猫不吃鱼：在人信汇写字楼面试过一个这种工作，一听不对劲就撤了，说不适合我，我嘴巴笨', 0.3564966320991516),\n",
       " ('找工作时一定要擦亮双眼', 0.35638320446014404),\n",
       " ('武汉警方一下子抓了808人，还都是俊男靓女', 0.3546752333641052),\n",
       " ('招聘平台和销售会上百分之八十就是这种工作', 0.35330361127853394),\n",
       " ('涉案电脑800余台、手机2000余部、', 0.3440399765968323),\n",
       " ('当时微博和朋友圈上都传疯了，', 0.3437482714653015),\n",
       " ('才能避免上当受骗', 0.3372584581375122),\n",
       " ('5：刚回到武汉，准备找份工作，看网上好多这种招聘的，感觉像骗人的，都不看的', 0.3314419984817505),\n",
       " ('银行卡3000余张', 0.3300466537475586),\n",
       " ('又是如何一步步引受害人上钩的呢', 0.32854974269866943),\n",
       " ('5预购诈骗', 0.32281947135925293),\n",
       " ('而是一个有282名涉案人员的诈骗团伙', 0.3219491243362427),\n",
       " ('因为涉及的账户太多，', 0.32012367248535156),\n",
       " ('若亏损则拉入“黑名单”不再联系', 0.31945645809173584),\n",
       " ('再由所谓的“证券公司资深分析师”和“经理”逐个联系受害人，引诱受害人交易股票、期货、贵金属、外汇等金融产品，',\n",
       "  0.31739670038223267),\n",
       " ('未来温暖的时光属于自己：金融港，街道口都是这些……好多同学刚刚毕业都去做过，都是网上投简历，这些公司就猛联系你，其实好多都不知道这是骗人的吧',\n",
       "  0.3131788372993469),\n",
       " ('睡不饱怎么办啊小铭大：我都面试过这种工作，，还培训了几天，，话术一看就的套路骗，，果断闪人，，这种公司太多了，，',\n",
       "  0.3124237656593323),\n",
       " ('推销产品的便利陷阱', 0.3092365264892578),\n",
       " ('原来该团伙利用非法互联网金融平台，实施推荐股票、炒期货等诈骗，其10处窝点散布在江岸、洪山、东湖高新、硚口、江汉等5个区的写字楼内，涉案人员多达800余名',\n",
       "  0.3066059947013855),\n",
       " ('据悉，这是全国打击利用非法互联网金融平台实施诈骗犯罪中，查获涉案人数最多的一起案件', 0.3050656318664551),\n",
       " ('遗忘的金叶子：碰到这样的骗子找我们做视频，最后被我打电话骂了一顿', 0.29776066541671753),\n",
       " ('物美价廉的网购陷阱', 0.2977377772331238),\n",
       " ('涉案金额目前还没统计出来', 0.29151153564453125),\n",
       " ('笑看世间丑2448337651：这是在路上发骗广告搞高利贷的那些互联网金融公司吗', 0.28976017236709595),\n",
       " ('3钓鱼网站诈骗', 0.28956443071365356),\n",
       " ('6中奖诈骗', 0.2890523672103882),\n",
       " ('在网上发布招聘信息招揽、培训业务员', 0.2862201929092407),\n",
       " ('9退款诈骗', 0.2714564800262451),\n",
       " ('7朋友圈诈骗', 0.26639676094055176),\n",
       " ('抢购高峰期，网页打开慢，网银交易出现比较迟钝现象', 0.25768566131591797),\n",
       " ('遇到诈骗只需见招拆招', 0.25717979669570923),\n",
       " ('中奖信息的惊喜陷阱', 0.25628405809402466),\n",
       " ('电信网络诈骗犯罪往往表现为“六大陷阱”：', 0.25131845474243164),\n",
       " ('8快递诈骗', 0.2451760172843933),\n",
       " ('钓鱼网站和网上银行的迷惑陷阱', 0.2443564534187317),\n",
       " ('你的渔船：联系一下自己的朋友，看有多少个被抓了', 0.24364489316940308),\n",
       " ('那就是网络诈骗', 0.22552448511123657),\n",
       " ('1虚假红包诈骗', 0.22263437509536743),\n",
       " ('识骗方法：签收包裹前，务必按官方的信息核实对方身份，并确认是否是自己的包裹', 0.22021842002868652),\n",
       " ('2二维码诈骗', 0.218245267868042),\n",
       " ('弄清网络诈骗的常见手法?', 0.21384960412979126),\n",
       " ('如遇网络诈骗应第一时间向属地公安机关报案，并向举报中心举报', 0.212055504322052),\n",
       " ('节假日期间，公众的购物热情高涨，假冒正规电商官方网站、在线支付平台等的钓鱼网站活动频繁', 0.21089333295822144),\n",
       " ('冒充国家工作人员的恐吓陷阱', 0.2070809006690979),\n",
       " ('人数众多的这个诈骗组织是怎么样进行人员分工', 0.20528435707092285),\n",
       " ('识骗方法：对陌生人发来的商品链接要提高警惕，谨慎打开', 0.2011796236038208),\n",
       " ('没有收到款项这样的问题，是不会在东京、天猫这样的大型网络购物平台出现的', 0.19959908723831177),\n",
       " ('要警惕了，普法：各种工作都要预防法律风险，要做个明白人，不是什么钱都可以拿，尤其是从事金融、保险、银行、财务的人员，不小心就触犯刑法……',\n",
       "  0.19750475883483887),\n",
       " ('还有不法分子会以“提前购”、“预售”为诱饵向用户发送木马链接', 0.19234204292297363),\n",
       " ('4虚假客服诈骗', 0.18769598007202148),\n",
       " ('识骗方法：朋友圈里的销售行为，存在取证难，查处难的问题', 0.18146204948425293),\n",
       " ('他们是如何进行诈骗的', 0.1789330244064331),\n",
       " ('同时，提醒大家：保护好自己账户信息，遇到情况一定及时报警', 0.16098862886428833),\n",
       " ('童颜永在--心理医生：盘在写字楼内的诈骗公司，以高薪招聘业务人员为诱饵，实行诈骗的顽疾，终于被揣掉了', 0.15028786659240723),\n",
       " ('不法分子常以“退款”或“退货”为由假扮网店客服，要求消费者点击其提供的“钓鱼网站”链接，盗取持卡人的银行密码及动态验证码',\n",
       "  0.14516782760620117),\n",
       " ('因此建议大家在朋友圈买东西时，尽可能选择正规第三方支付平台进行支付，避免直接支付，以确保安全', 0.13919943571090698),\n",
       " ('还有那些天天电话骚扰别人信贷的、卖房的、卖邮票的、发票的社会生活中一不留神就会被坑，所以活着需要理智', 0.13233977556228638),\n",
       " ('在取货之后；一定记得把自己的个人信息从包裹上完全抹去；避免个人信息泄露', 0.13069605827331543),\n",
       " ('由于缺少第三方监管平台，不法分子会在朋友圈发布虚假低价购物信息，骗取消费者汇款购买', 0.13023138046264648),\n",
       " ('下面是网络诈骗中比较常见的几种类型，一起学习如何防范，让骗子无处遁形', 0.12939083576202393),\n",
       " ('依托虚构的互联网金融平台，通过业务员散布“有内幕消息”等虚假信息，引诱受害人加入专门的QQ群、微信群', 0.1287512183189392),\n",
       " ('识骗方法：收到中奖信息后留心一下，看一看你所购买的产品中有没有这家的产品，然后最好能在天猫店里直接和卖家联系确认消息',\n",
       "  0.12778407335281372),\n",
       " ('识骗方法：慎点不明链接，有关购物短信也不要轻信，同时也请给手机装上杀毒软件，提供安全的上网环境', 0.12517720460891724),\n",
       " ('购物过后，很多人会陆陆续续收到一些商家的中奖信息，切记不要随意拨打中奖信息提供的电话号码或点击发来的网站链接地址，很可能会让手机或电脑感染上木马病毒',\n",
       "  0.11952424049377441),\n",
       " ('消费者在忙于浏览各色商品页面时，往往容易忽略链接的安全性，从而误入诈骗分子发来的虚假钓鱼网站', 0.11640298366546631),\n",
       " ('识骗方法：慎点此类红包领取链接，如果不小心点击，应第一时间关闭手机网络，修改网银、支付宝等重要账户密码，并通过安全软件查杀木马病毒',\n",
       "  0.11147135496139526),\n",
       " ('有不法分子趁机在微信朋友圈、微信群等平台中，派发虚假红包，诱骗大家点击，套取个人信息，或传播木马病毒，盗取银行账号',\n",
       "  0.10740286111831665),\n",
       " ('除了网购链接被植入木马、钓鱼网站，还有不法分子会在“预售”活动上做文章，骗取买家“定金”', 0.10044527053833008),\n",
       " ('有不法分子会冒充客服或店主，以单子出现“调单”“卡单”等说法为幌子，故意说没有收到款项欺诈消费者，取得信任后要求消费者以其他办法进行转账',\n",
       "  0.0980905294418335),\n",
       " ('不法分子会从非法渠道获得客户信息，制作假的快递单，随后冒充快递员提前联系受骗者，把虚假货品送到消费者手中，骗取钱财',\n",
       "  0.09347790479660034),\n",
       " ('识骗方法：如果接到网上购物退款的电话或短信等信息，一定要谨慎对待，切莫泄露银行卡账号、户名，动态验证码等个人信息',\n",
       "  0.08536458015441895),\n",
       " ('识骗方法：消费者要注意，调单、卡单、激活订单等多为诈骗术语，见此类词语基本可以断定对方是骗子', 0.0798601508140564)]"
      ]
     },
     "execution_count": 54,
     "metadata": {},
     "output_type": "execute_result"
    }
   ],
   "source": [
    "corrlations"
   ]
  },
  {
   "cell_type": "code",
   "execution_count": 55,
   "metadata": {
    "ExecuteTime": {
     "end_time": "2019-08-19T08:29:30.877838Z",
     "start_time": "2019-08-19T08:29:30.600581Z"
    }
   },
   "outputs": [
    {
     "name": "stderr",
     "output_type": "stream",
     "text": [
      "e:\\anaconda\\envs\\aicourse\\lib\\site-packages\\ipykernel_launcher.py:16: DeprecationWarning: Call to deprecated `__contains__` (Method will be removed in 4.0.0, use self.wv.__contains__() instead).\n",
      "  app.launch_new_instance()\n"
     ]
    },
    {
     "data": {
      "text/plain": [
       "'2013。 年退出中国市场，但是今年。 3。 又会是怎么样的手机呢。 FS8016。 的夏普神秘新机悄然出现在。 GeekBench。 的跑分库上。 660。 4GB。 660。 14。 纳米工艺，八个。 Kryo。 260。 核心设计，集成。 Adreno。 512。 GPU。 和。 X12。 LTE。 调制解调器。 660。 R11。 660。 820。 不过，由于。 与高通签署了排他性协议，可以独占两三个月时间。 660。 新品了。 2013。 EDGEST。 302SH。 28。 在。 5。 月份的媒体沟通会上，惠普罗忠生表示：“我敢打赌，12。 个月之后，在座的各位手机都会换掉。 ”'"
      ]
     },
     "execution_count": 55,
     "metadata": {},
     "output_type": "execute_result"
    }
   ],
   "source": [
    "sharp_news = pure_content.iloc[6]['content']\n",
    "'。 '.join(get_summarization_simple_by_sen_embedding(sharp_news, constraint=200))"
   ]
  },
  {
   "cell_type": "code",
   "execution_count": 56,
   "metadata": {
    "ExecuteTime": {
     "end_time": "2019-08-19T08:29:30.882825Z",
     "start_time": "2019-08-19T08:29:30.878835Z"
    }
   },
   "outputs": [],
   "source": [
    "def get_sequent_correlation(text):\n",
    "    sub_sentence = split_sentence(text)\n",
    "    #corrleations = corrlations_with_global_cut(sub_sentence)\n",
    "    correlation_with_sequent = [cosine(sen, corrlations[sen]) for sen in sub_sentence]\n",
    "    return correlation_with_sequent"
   ]
  },
  {
   "cell_type": "code",
   "execution_count": 57,
   "metadata": {
    "ExecuteTime": {
     "end_time": "2019-08-19T08:29:31.020491Z",
     "start_time": "2019-08-19T08:29:30.883822Z"
    }
   },
   "outputs": [
    {
     "ename": "TypeError",
     "evalue": "list indices must be integers or slices, not str",
     "output_type": "error",
     "traceback": [
      "\u001b[1;31m---------------------------------------------------------------------------\u001b[0m",
      "\u001b[1;31mTypeError\u001b[0m                                 Traceback (most recent call last)",
      "\u001b[1;32m<ipython-input-57-1b5f0a80968e>\u001b[0m in \u001b[0;36m<module>\u001b[1;34m\u001b[0m\n\u001b[1;32m----> 1\u001b[1;33m \u001b[0msub_sentence\u001b[0m \u001b[1;33m=\u001b[0m \u001b[0mget_sequent_correlation\u001b[0m\u001b[1;33m(\u001b[0m\u001b[0msharp_news\u001b[0m\u001b[1;33m)\u001b[0m\u001b[1;33m\u001b[0m\u001b[1;33m\u001b[0m\u001b[0m\n\u001b[0m\u001b[0;32m      2\u001b[0m \u001b[0msub_sentence\u001b[0m\u001b[1;33m\u001b[0m\u001b[1;33m\u001b[0m\u001b[0m\n",
      "\u001b[1;32m<ipython-input-56-a24df38c4b49>\u001b[0m in \u001b[0;36mget_sequent_correlation\u001b[1;34m(text)\u001b[0m\n\u001b[0;32m      2\u001b[0m     \u001b[0msub_sentence\u001b[0m \u001b[1;33m=\u001b[0m \u001b[0msplit_sentence\u001b[0m\u001b[1;33m(\u001b[0m\u001b[0mtext\u001b[0m\u001b[1;33m)\u001b[0m\u001b[1;33m\u001b[0m\u001b[1;33m\u001b[0m\u001b[0m\n\u001b[0;32m      3\u001b[0m     \u001b[1;31m#corrleations = corrlations_with_global_cut(sub_sentence)\u001b[0m\u001b[1;33m\u001b[0m\u001b[1;33m\u001b[0m\u001b[1;33m\u001b[0m\u001b[0m\n\u001b[1;32m----> 4\u001b[1;33m     \u001b[0mcorrelation_with_sequent\u001b[0m \u001b[1;33m=\u001b[0m \u001b[1;33m[\u001b[0m\u001b[0mcosine\u001b[0m\u001b[1;33m(\u001b[0m\u001b[0msen\u001b[0m\u001b[1;33m,\u001b[0m \u001b[0mcorrlations\u001b[0m\u001b[1;33m[\u001b[0m\u001b[0msen\u001b[0m\u001b[1;33m]\u001b[0m\u001b[1;33m)\u001b[0m \u001b[1;32mfor\u001b[0m \u001b[0msen\u001b[0m \u001b[1;32min\u001b[0m \u001b[0msub_sentence\u001b[0m\u001b[1;33m]\u001b[0m\u001b[1;33m\u001b[0m\u001b[1;33m\u001b[0m\u001b[0m\n\u001b[0m\u001b[0;32m      5\u001b[0m     \u001b[1;32mreturn\u001b[0m \u001b[0mcorrelation_with_sequent\u001b[0m\u001b[1;33m\u001b[0m\u001b[1;33m\u001b[0m\u001b[0m\n",
      "\u001b[1;32m<ipython-input-56-a24df38c4b49>\u001b[0m in \u001b[0;36m<listcomp>\u001b[1;34m(.0)\u001b[0m\n\u001b[0;32m      2\u001b[0m     \u001b[0msub_sentence\u001b[0m \u001b[1;33m=\u001b[0m \u001b[0msplit_sentence\u001b[0m\u001b[1;33m(\u001b[0m\u001b[0mtext\u001b[0m\u001b[1;33m)\u001b[0m\u001b[1;33m\u001b[0m\u001b[1;33m\u001b[0m\u001b[0m\n\u001b[0;32m      3\u001b[0m     \u001b[1;31m#corrleations = corrlations_with_global_cut(sub_sentence)\u001b[0m\u001b[1;33m\u001b[0m\u001b[1;33m\u001b[0m\u001b[1;33m\u001b[0m\u001b[0m\n\u001b[1;32m----> 4\u001b[1;33m     \u001b[0mcorrelation_with_sequent\u001b[0m \u001b[1;33m=\u001b[0m \u001b[1;33m[\u001b[0m\u001b[0mcosine\u001b[0m\u001b[1;33m(\u001b[0m\u001b[0msen\u001b[0m\u001b[1;33m,\u001b[0m \u001b[0mcorrlations\u001b[0m\u001b[1;33m[\u001b[0m\u001b[0msen\u001b[0m\u001b[1;33m]\u001b[0m\u001b[1;33m)\u001b[0m \u001b[1;32mfor\u001b[0m \u001b[0msen\u001b[0m \u001b[1;32min\u001b[0m \u001b[0msub_sentence\u001b[0m\u001b[1;33m]\u001b[0m\u001b[1;33m\u001b[0m\u001b[1;33m\u001b[0m\u001b[0m\n\u001b[0m\u001b[0;32m      5\u001b[0m     \u001b[1;32mreturn\u001b[0m \u001b[0mcorrelation_with_sequent\u001b[0m\u001b[1;33m\u001b[0m\u001b[1;33m\u001b[0m\u001b[0m\n",
      "\u001b[1;31mTypeError\u001b[0m: list indices must be integers or slices, not str"
     ]
    }
   ],
   "source": [
    "sub_sentence = get_sequent_correlation(sharp_news)\n",
    "sub_sentence"
   ]
  },
  {
   "cell_type": "code",
   "execution_count": null,
   "metadata": {},
   "outputs": [],
   "source": []
  },
  {
   "cell_type": "code",
   "execution_count": null,
   "metadata": {
    "ExecuteTime": {
     "end_time": "2019-08-19T08:29:31.021453Z",
     "start_time": "2019-08-19T08:28:47.631Z"
    }
   },
   "outputs": [],
   "source": [
    "plt.plot(range(len(sub_sentence)), [y for _, y in correlation_with_sequent])"
   ]
  },
  {
   "cell_type": "code",
   "execution_count": null,
   "metadata": {},
   "outputs": [],
   "source": []
  },
  {
   "cell_type": "code",
   "execution_count": null,
   "metadata": {},
   "outputs": [],
   "source": []
  },
  {
   "cell_type": "code",
   "execution_count": null,
   "metadata": {
    "ExecuteTime": {
     "end_time": "2019-08-19T08:29:31.022451Z",
     "start_time": "2019-08-19T08:28:47.635Z"
    }
   },
   "outputs": [],
   "source": [
    "import numpy as np\n",
    "from sklearn.decomposition import TruncatedSVD\n",
    "\n"
   ]
  },
  {
   "cell_type": "code",
   "execution_count": null,
   "metadata": {
    "ExecuteTime": {
     "end_time": "2019-08-19T08:29:31.023473Z",
     "start_time": "2019-08-19T08:28:47.636Z"
    }
   },
   "outputs": [],
   "source": [
    "def compute_pc(X,npc=1):\n",
    "    svd = TruncatedSVD(n_components=1, n_iter=7, random_state=0)\n",
    "    svd.fit(X)\n",
    "    return svd.components_\n",
    "\n",
    "def remove_pc(X, npc=1):\n",
    "    \"\"\"\n",
    "    Remove the projection on the principal components\n",
    "    :param X: X[i,:] is a data point\n",
    "    :param npc: number of principal components to remove\n",
    "    :return: XX[i, :] is the data point after removing its projection\n",
    "    \"\"\"\n",
    "    pc = compute_pc(X, npc)\n",
    "    if npc==1:\n",
    "        XX = X - X.dot(pc.transpose()) * pc\n",
    "    else:\n",
    "        XX = X - X.dot(pc.transpose()).dot(pc)\n",
    "    return XX\n",
    "\n",
    "def SIF_embedding(We, x, w, params):\n",
    "    \"\"\"\n",
    "    Compute the scores between pairs of sentences using weighted average + removing the projection on the first principal component\n",
    "    :param We: We[i,:] is the vector for word i\n",
    "    :param x: x[i, :] are the indices of the words in the i-th sentence\n",
    "    :param w: w[i, :] are the weights for the words in the i-th sentence\n",
    "    :param params.rmpc: if >0, remove the projections of the sentence embeddings to their first principal component\n",
    "    :return: emb, emb[i, :] is the embedding for sentence i\n",
    "    \"\"\"\n",
    "    emb = get_weighted_average(We, x, w)\n",
    "    if  params.rmpc > 0:\n",
    "        emb = remove_pc(emb, params.rmpc)\n",
    "    return emb\n",
    "\n",
    "def get_cos(v1, v2):\n",
    "    return cosine(v1, v2)"
   ]
  },
  {
   "cell_type": "code",
   "execution_count": null,
   "metadata": {
    "ExecuteTime": {
     "end_time": "2019-08-19T08:29:31.024445Z",
     "start_time": "2019-08-19T08:28:47.637Z"
    }
   },
   "outputs": [],
   "source": [
    "sub_vector = remove_pc(np.array(X))[1]"
   ]
  },
  {
   "cell_type": "code",
   "execution_count": null,
   "metadata": {
    "ExecuteTime": {
     "end_time": "2019-08-19T08:29:31.025443Z",
     "start_time": "2019-08-19T08:28:47.639Z"
    }
   },
   "outputs": [],
   "source": [
    "from scipy.spatial.distance import cosine\n",
    "minCOS=10\n",
    "minCount=0\n",
    "for i,item in enumerate(X):\n",
    "    if minCOS>get_cos(item,all_vector):\n",
    "        minCOS=get_cos(item,all_vector)\n",
    "        minCount=i"
   ]
  },
  {
   "cell_type": "code",
   "execution_count": null,
   "metadata": {
    "ExecuteTime": {
     "end_time": "2019-08-19T08:29:31.027438Z",
     "start_time": "2019-08-19T08:28:47.641Z"
    }
   },
   "outputs": [],
   "source": [
    "sub_content[i]"
   ]
  },
  {
   "cell_type": "code",
   "execution_count": null,
   "metadata": {
    "ExecuteTime": {
     "end_time": "2019-08-19T08:29:31.028435Z",
     "start_time": "2019-08-19T08:28:47.642Z"
    }
   },
   "outputs": [],
   "source": [
    "sharp_news"
   ]
  },
  {
   "cell_type": "code",
   "execution_count": null,
   "metadata": {
    "ExecuteTime": {
     "end_time": "2019-08-19T08:29:31.030431Z",
     "start_time": "2019-08-19T08:28:47.643Z"
    }
   },
   "outputs": [],
   "source": [
    "remove_pc(np.array([sentence_embedding(\"这是一个测试\"),sentence_embedding(\"我觉得你不应该这样子\"),sentence_embedding(\"但那又怎么样呢\"),sentence_embedding(\"那就再来一个测试吧\")]))"
   ]
  },
  {
   "cell_type": "markdown",
   "metadata": {},
   "source": [
    "#### Task15 基于Sentene Embedding 在pycharm里边完成句子摘要的完整过程"
   ]
  },
  {
   "cell_type": "markdown",
   "metadata": {},
   "source": [
    "Q17. 找出几个句子进行plot， 解释其与全文的相关性的排序"
   ]
  },
  {
   "cell_type": "markdown",
   "metadata": {},
   "source": [
    "请阐述："
   ]
  },
  {
   "cell_type": "markdown",
   "metadata": {},
   "source": [
    "Q18. 不同类型的文章，例如时政，财经，社会，故事，其相关性分布有何区别？ "
   ]
  },
  {
   "cell_type": "markdown",
   "metadata": {},
   "source": [
    "请阐述："
   ]
  },
  {
   "cell_type": "code",
   "execution_count": null,
   "metadata": {
    "ExecuteTime": {
     "end_time": "2019-08-19T08:29:31.032424Z",
     "start_time": "2019-08-19T08:28:47.647Z"
    }
   },
   "outputs": [],
   "source": [
    "hint('a.63d0.793a.ff1a.53ef.4ee5.4ece.5176.5206.5e03.7684.5bc6.5ea6.ff0c.5206.5e03.53d8.5316.7b49.8d8b.52bf.8fdb.884c.89c2.5bdf.3002.a')"
   ]
  },
  {
   "cell_type": "markdown",
   "metadata": {},
   "source": [
    "## More Added Feature"
   ]
  },
  {
   "cell_type": "markdown",
   "metadata": {},
   "source": [
    "### KNN思想"
   ]
  },
  {
   "cell_type": "markdown",
   "metadata": {},
   "source": [
    "例如，当我们有一个列表是 [1, 1, 2, 3, 8, 1, 2]的时候，其中的 8 数值太大，这在我们的摘要中的表现为，该句子周围的句子都是不那么相关的，但是该句子单独的相关性很高。 那么，如果把这个句子摘录进来，就会导致“不通顺”. 我们可以采用KNN的思想，将这个列表进行重新计算，让它每一个元素的值，等于自己的值和周围的几个值的一个计算结果。 "
   ]
  },
  {
   "cell_type": "markdown",
   "metadata": {},
   "source": [
    "Q19. 如何使用KNN思想进行“平滑”操作? 请代码实现"
   ]
  },
  {
   "cell_type": "markdown",
   "metadata": {},
   "source": [
    "回答：\n",
    "\n",
    "`请补全代码：`\n",
    "```\n",
    "L = []\n",
    "def knn_smooth(): pass\n",
    "\n",
    "```"
   ]
  },
  {
   "cell_type": "code",
   "execution_count": null,
   "metadata": {
    "ExecuteTime": {
     "end_time": "2019-08-19T08:29:31.033422Z",
     "start_time": "2019-08-19T08:28:47.651Z"
    }
   },
   "outputs": [],
   "source": [
    "hint('a.23.4e00.4e2a.53ef.4ee5.7684.73.6f.6c.75.74.69.6f.6e.662f.ff1a.a.a.4c.20.3d.20.5b.31.2c.20.32.2c.20.33.2c.20.34.2c.20.31.30.2c.20.31.2c.20.32.5d.a.77.69.6e.64.6f.77.20.3d.20.33.a.a.4c.20.3d.20.5b.6e.70.2e.6d.65.61.6e.28.4c.5b.69.2d.77.69.6e.64.6f.77.3a.69.2b.77.69.6e.64.6f.77.5d.29.20.66.6f.72.20.69.20.69.6e.20.72.61.6e.67.65.28.6c.65.6e.28.4c.29.29.5d.a.23.20.5f53.7136.ff0c.8fd9.91cc.7684.6e.70.2e.6d.65.61.6e.662f.4e00.79cd.6700.7b80.5355.7684.5e73.5747.5316.65b9.6cd5.ff0c.6211.4eec.8fd8.53ef.4ee5.8003.8651.5176.4ed6.7684.4f8b.5982.8ddd.79bb.52a0.6743.ff0c.7b49.65b9.6cd5.a')"
   ]
  },
  {
   "cell_type": "markdown",
   "metadata": {},
   "source": [
    "### Title 标题"
   ]
  },
  {
   "cell_type": "markdown",
   "metadata": {},
   "source": [
    "如果该文本有标题，那么标题可以帮助我们很多。在之前，我们计算每个句子与文章整体的相似度是对每个子句与整体文章进行相似度距离计算，那么，我们这个时候，就可以把标题的embedding结果拿出来，那么每句话的相似度就是这句话与整体文章的相似度和标题的相似度的一个“结合”。"
   ]
  },
  {
   "cell_type": "markdown",
   "metadata": {},
   "source": [
    "Q20. 请代码实现这一思路。"
   ]
  },
  {
   "cell_type": "markdown",
   "metadata": {},
   "source": [
    "回答："
   ]
  },
  {
   "cell_type": "code",
   "execution_count": null,
   "metadata": {
    "ExecuteTime": {
     "end_time": "2019-08-19T08:29:31.034419Z",
     "start_time": "2019-08-19T08:28:47.654Z"
    }
   },
   "outputs": [],
   "source": [
    "hint('a.74.69.74.6c.65.20.3d.20.27.73.6f.6d.65.20.77.6f.72.64.73.27.a.63.6f.6e.74.65.6e.74.20.3d.20.27.6d.6f.72.65.20.61.6e.64.20.6d.6f.72.65.20.77.6f.72.64.73.27.a.73.65.6e.74.65.6e.65.5f.76.65.63.5f.74.69.74.6c.65.20.3d.20.67.65.74.5f.73.65.6e.74.65.6e.63.65.5f.76.65.63.28.74.69.74.6c.65.29.a.73.65.6e.74.65.6e.65.5f.76.65.63.5f.63.6f.6e.74.65.6e.74.20.3d.20.67.65.74.5f.73.65.6e.74.65.6e.63.65.5f.76.65.63.28.63.6f.6e.74.65.6e.74.29.a.23.5bf9.4e8e.4e00.4e2a.5b50.53e5.20.73.75.62.5f.73.65.6e.5f.6e.2c.20.4ee5.524d.7684.73.69.6d.69.6c.61.72.69.74.79.662f.20.63.6f.73.69.6e.65.28.67.65.74.5f.73.65.6e.74.65.6e.65.5f.76.65.63.28.73.75.62.5f.73.65.6e.5f.6e.29.2c.20.73.65.6e.74.65.6e.65.5f.76.65.63.5f.63.6f.6e.74.65.6e.74.29.a.23.73b0.5728.53ef.4ee5.662f.a.70.20.3d.20.30.2e.35.a.73.65.6e.5f.76.65.63.20.3d.20.67.65.74.5f.73.65.6e.74.65.6e.65.5f.76.65.63.28.73.75.62.5f.73.65.6e.5f.6e.29.a.73.69.6d.69.6c.61.72.69.74.79.20.3d.20.70.20.2a.20.63.6f.73.69.6e.65.28.73.65.6e.5f.76.65.63.2c.20.73.65.6e.74.65.6e.65.5f.76.65.63.5f.74.69.74.6c.65.29.20.2b.20.28.31.20.2d.20.70.29.20.2a.20.63.6f.73.69.6e.65.28.73.65.6e.5f.76.65.63.2c.20.73.65.6e.74.65.6e.65.5f.76.65.63.5f.63.6f.6e.74.65.6e.74.29.a.23.20.5f53.7136.ff0c.8fd9.91cc.7684.70.4ee5.53ca.70.548c.63.6f.73.69.6e.65.7684.6784.5efa.90fd.662f.53ef.4ee5.53d8.5316.7684.3002.20.70.20.548c.20.31.2d.70.662f.7ebf.6027.5173.7cfb.ff0c.53ef.4ee5.662f.5176.4ed6.7684.5173.7cfb.3002.81ea.5df1.5b9a.5373.53ef.a')"
   ]
  },
  {
   "cell_type": "markdown",
   "metadata": {},
   "source": [
    "### Keywords 关键字"
   ]
  },
  {
   "cell_type": "markdown",
   "metadata": {},
   "source": [
    "对整篇文章提取关键字，该关键字可以通过TextRank或者tfidf或者gensim自带的包进行提取。 然后对包含了关键词的句子进行手动加权"
   ]
  },
  {
   "cell_type": "markdown",
   "metadata": {},
   "source": [
    "#### Task 请代码实现"
   ]
  },
  {
   "cell_type": "markdown",
   "metadata": {},
   "source": [
    "### Position 位置信息"
   ]
  },
  {
   "cell_type": "markdown",
   "metadata": {},
   "source": [
    "对于句子而言，如果其出现在段落开端，结尾，是否是重要的？ 请做实验证明之，并且代码进行改进。 "
   ]
  },
  {
   "cell_type": "markdown",
   "metadata": {},
   "source": [
    "#### Task 加入位置信息的考量"
   ]
  },
  {
   "cell_type": "markdown",
   "metadata": {},
   "source": [
    "### Topic 主题信息"
   ]
  },
  {
   "cell_type": "markdown",
   "metadata": {},
   "source": [
    "自学Gensim LDA的使用方法，对于文章获得其主题，然后依据主题对每个句子进行判断，每个句子是否和该主题相关。 \n",
    "参考网站： \n",
    "1. Google Search： Gensim LDA\n",
    "2. https://github.com/xiaoyichao/-python-gensim-LDA-/blob/master/topicmodel3.py"
   ]
  },
  {
   "cell_type": "markdown",
   "metadata": {},
   "source": [
    "#### Task 合并以上功能，实现一个单独的函数，该函数接受一个长文本和字数限制，输出一个短文中"
   ]
  },
  {
   "cell_type": "markdown",
   "metadata": {},
   "source": [
    "## Questions 思考题："
   ]
  },
  {
   "cell_type": "markdown",
   "metadata": {},
   "source": [
    "1. 除了Sentence Embedding和TextRank, 还有什么方案？"
   ]
  },
  {
   "cell_type": "markdown",
   "metadata": {},
   "source": [
    "2. 为什么这个课题不用Seq2Seq?"
   ]
  },
  {
   "cell_type": "markdown",
   "metadata": {},
   "source": [
    "3. 深度学习、机器学习与NLP之间的关系是什么？ "
   ]
  },
  {
   "cell_type": "markdown",
   "metadata": {},
   "source": [
    "4. 你还有什么其他的思考和心得？ "
   ]
  },
  {
   "cell_type": "markdown",
   "metadata": {},
   "source": [
    "## 最后一步： 使用Flask、Bottle、Bootstrap变成一个网络应用并且部署在服务器上，这样别人就可以直接通过网址访问你的应用啦。"
   ]
  }
 ],
 "metadata": {
  "kernelspec": {
   "display_name": "Python 3",
   "language": "python",
   "name": "python3"
  },
  "language_info": {
   "codemirror_mode": {
    "name": "ipython",
    "version": 3
   },
   "file_extension": ".py",
   "mimetype": "text/x-python",
   "name": "python",
   "nbconvert_exporter": "python",
   "pygments_lexer": "ipython3",
   "version": "3.6.8"
  }
 },
 "nbformat": 4,
 "nbformat_minor": 2
}
