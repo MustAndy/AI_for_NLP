{
 "cells": [
  {
   "cell_type": "markdown",
   "metadata": {},
   "source": [
    "## Assignments for Week-03\n",
    "因为最近开始写毕业论文了...所以用英文注释和回答来多习惯一下..."
   ]
  },
  {
   "cell_type": "markdown",
   "metadata": {},
   "source": [
    "### 1. Re-code the titanic machine learning\n",
    "\n",
    "###### 1. Random Choose Method to get optimal *k* and *b*\n",
    "        Ans:change_directions = [\n",
    "            (+1, -1), \n",
    "            (+1, +1),\n",
    "            (-1, +1),\n",
    "            (-1, -1) ] \n",
    "            direction = random.choice(change_directions)\n",
    "            k_delta_direction, b_delta_direction = direction\n",
    "            k_delta = k_delta_direction * step()\n",
    "            b_delta = b_delta_direction * step()\n",
    "        \n",
    "###### 2.Supervised Direction to get optimal *k* and *b*\n",
    "        Ans: #Above code append below code.\n",
    "             if error_rate < min_error_rate:\n",
    "                 min_error_rate = error_rate\n",
    "                 best_k, best_b = new_k, new_b\n",
    "                 best_k, best_b = k_hat, b_hat\n",
    "                \n",
    "###### 3.Gradient Descent to get optimal *k* and *b*\n",
    "        Ans: def derivate_k(y, yhat, x):\n",
    "                abs_values = [1 if (y_i - yhat_i) > 0 else -1 for y_i, yhat_i in zip(y, yhat)]\n",
    "                return np.mean([a * -x_i for a, x_i in zip(abs_values, x)])\n",
    "\n",
    "            def derivate_b(y, yhat):\n",
    "                abs_values = [1 if (y_i - yhat_i) > 0 else -1 for y_i, yhat_i in zip(y, yhat)]\n",
    "                return np.mean([a * -1 for a in abs_values])\n",
    "            learing_rate = 1e-1\n",
    "            k_delta = -1 * learing_rate * derivate_k(sub_fare, func(sub_age, k_hat, b_hat), sub_age)\n",
    "            b_delta = -1 * learing_rate * derivate_b(sub_fare, func(sub_age, k_hat, b_hat))\n",
    "       "
   ]
  },
  {
   "cell_type": "markdown",
   "metadata": {},
   "source": [
    "## 2. Answer following questions:\n",
    "\n",
    "\n",
    "###### 1. Why we need machine learning methods instead of creating a complicated formula?\n"
   ]
  },
  {
   "cell_type": "markdown",
   "metadata": {},
   "source": [
    "Ans: Since the complexity of the problem increase, we cannot easily create the formula to describe the problem. Fitting the formula to the problem is also too difficult to finish. Thus, we need to use the machine to help us fit the complicate formula."
   ]
  },
  {
   "cell_type": "markdown",
   "metadata": {},
   "source": [
    "###### 2.  Wha't's the disadvantages of `the 1st Random Choosen` methods in our course? "
   ]
  },
  {
   "cell_type": "markdown",
   "metadata": {},
   "source": [
    "   Ans: The performance of the formula is totally decide by the random function. It could work well and it could work bad."
   ]
  },
  {
   "cell_type": "markdown",
   "metadata": {},
   "source": [
    "###### 3. Is the `2nd method supervised direction` better than 1st one?  What's the disadvantages of `the 2nd supversied directin` method? "
   ]
  },
  {
   "cell_type": "markdown",
   "metadata": {},
   "source": [
    "Ans: The second method can supervise the formula changing to the better direction. If the formula doesn't become better, it just ignore this round. The disadvantages of the 2nd method is that it is still decide by the random function. It will be very slow to fit the formula."
   ]
  },
  {
   "cell_type": "markdown",
   "metadata": {},
   "source": [
    "###### 4. Why do we use `Derivative / Gredient` to fit a target function? "
   ]
  },
  {
   "cell_type": "markdown",
   "metadata": {},
   "source": [
    "Ans: The gradient of a point shows the biggest change direction of the function at that point. We use the gradient to change the function parameter to get the fastest fitting speed."
   ]
  },
  {
   "cell_type": "markdown",
   "metadata": {},
   "source": [
    "###### 5. In the words 'Gredient Descent', what's the `Gredient` and what's the `Descent`?"
   ]
  },
  {
   "cell_type": "markdown",
   "metadata": {},
   "source": [
    "Ans: The gradient of a point shows the biggest change direction of the function at that point. We want to go to the smallest point of the loss function in very fast speed, so we change the parameter of the fomula according to the gradient."
   ]
  },
  {
   "cell_type": "markdown",
   "metadata": {},
   "source": [
    "###### 6. What's the advantages of `the 3rd gradient descent method` compared to the previous methods?"
   ]
  },
  {
   "cell_type": "markdown",
   "metadata": {},
   "source": [
    "Ans: It use the gradient descent to go to the smallest point of the loss function in fastest speed."
   ]
  },
  {
   "cell_type": "markdown",
   "metadata": {},
   "source": [
    "###### 7. Using the simple words to describe: What's the machine leanring."
   ]
  },
  {
   "cell_type": "markdown",
   "metadata": {},
   "source": [
    "Ans: Using machines' power to fit the formula which can describe the real world problem."
   ]
  },
  {
   "cell_type": "markdown",
   "metadata": {},
   "source": [
    "## 3. Finish the search problem"
   ]
  },
  {
   "cell_type": "markdown",
   "metadata": {},
   "source": [
    "Please using the search policy to implement an agent. This agent receives two input, one is @param start station and the other is @param destination. Your agent should give the optimal route based on Beijing Subway system. "
   ]
  },
  {
   "cell_type": "markdown",
   "metadata": {},
   "source": [
    "> Deadline: 2019-April-20\n",
    "\n",
    ">Submit: Submit the source code and result to github. \n",
    "\n"
   ]
  },
  {
   "cell_type": "markdown",
   "metadata": {},
   "source": [
    "#### Dataflow: "
   ]
  },
  {
   "cell_type": "markdown",
   "metadata": {},
   "source": [
    "##### 1.\tGet data from web page.\n",
    "\n",
    "> a.\tGet web page source from: https://baike.baidu.com/item/%E5%8C%97%E4%BA%AC%E5%9C%B0%E9%93%81/408485\n",
    "        \n",
    "> b.\tYou may need @package requests page to get the response via url\n",
    "\n",
    "> c.\tYou may need save the page source to file system."
   ]
  },
  {
   "cell_type": "code",
   "execution_count": 1,
   "metadata": {},
   "outputs": [
    {
     "data": {
      "text/plain": [
       "376339"
      ]
     },
     "execution_count": 1,
     "metadata": {},
     "output_type": "execute_result"
    }
   ],
   "source": [
    "url='https://baike.baidu.com/item/%E5%8C%97%E4%BA%AC%E5%9C%B0%E9%93%81/408485'\n",
    "import urllib.request\n",
    "response = urllib.request.urlopen(url)\n",
    "html_baike = response.read().decode('utf-8')\n",
    "webText = open(\"./baikesubway.txt\",'w',encoding='gb18030')\n",
    "webText.write(html_baike)\n"
   ]
  },
  {
   "cell_type": "markdown",
   "metadata": {},
   "source": [
    "> d.\tThe target of this step is get station information of all the subway lines; \n",
    "\n",
    "> e.\tYou may need install @package beautiful soup  to get the url information, or just use > Regular Expression to get the url.  Our recommendation is that using the Regular Expression and BeautiflSoup both. "
   ]
  },
  {
   "cell_type": "code",
   "execution_count": 2,
   "metadata": {},
   "outputs": [],
   "source": [
    "import re \n",
    "\"\"\"\n",
    "匹配‘北京地铁___线’\n",
    "\"\"\"\n",
    "subway_line=re.compile('/item/%E5%8C%97%E4%BA%AC%E5%9C%B0%E9%93%81.{1,50}%BA%BF')\n",
    "subway_line_all=subway_line.findall(str(html_baike))\n"
   ]
  },
  {
   "cell_type": "markdown",
   "metadata": {},
   "source": [
    "> f.\tYou may need BFS to get all the related page url from one url. \n",
    "Question: Why do we use BFS to traverse web page (or someone said, build a web spider)?  Can DFS do this job? which is better?"
   ]
  },
  {
   "cell_type": "markdown",
   "metadata": {},
   "source": [
    "##### 2.\tPreprocessing data from page source.\n",
    "\n",
    "> a.\tBased on the page source gotten from url. You may need some more preprocessing of the page. \n",
    "\n",
    "> I am not really get trouble with the regular expression and the web crawler. So I choose to get the source from official website: http://www.bjsubway.com/station/zjgls/#"
   ]
  },
  {
   "cell_type": "code",
   "execution_count": 3,
   "metadata": {},
   "outputs": [
    {
     "data": {
      "text/plain": [
       "62787"
      ]
     },
     "execution_count": 3,
     "metadata": {},
     "output_type": "execute_result"
    }
   ],
   "source": [
    "\"\"\"\n",
    "I am not really get trouble with the regular expression and the web crawler.\n",
    "So I choose to get the source from official website: http://www.bjsubway.com/station/zjgls/#\n",
    "\"\"\"\n",
    "\n",
    "url='http://www.bjsubway.com/station/zjgls/#'\n",
    "import urllib.request\n",
    "response = urllib.request.urlopen(url)\n",
    "html = response.read().decode('gb18030')\n",
    "webText = open(\"./subway.txt\",'w',encoding='gb18030')\n",
    "webText.write(html)\n"
   ]
  },
  {
   "cell_type": "markdown",
   "metadata": {},
   "source": [
    "> b.\tthe Regular Expression you may need to process the text information."
   ]
  },
  {
   "cell_type": "code",
   "execution_count": 4,
   "metadata": {},
   "outputs": [
    {
     "name": "stdout",
     "output_type": "stream",
     "text": [
      "[['苹果园', '古城', '2606'], ['古城', '八角游乐园', '1921'], ['八角游乐园', '八宝山', '1953'], ['八宝山', '玉泉路', '1479'], ['玉泉路', '五棵松', '1810'], ['五棵松', '万寿路', '1778'], ['万寿路', '公主坟', '1313'], ['公主坟', '军事博物馆', '1172'], ['军事博物馆', '木樨地', '1166'], ['木樨地', '南礼士路', '1291']]\n"
     ]
    }
   ],
   "source": [
    "\"\"\"\n",
    "Create the oneway information of the subway.\n",
    "\"\"\"\n",
    "\n",
    "import re \n",
    "from bs4 import BeautifulSoup\n",
    "\n",
    "\"\"\"\n",
    "<th>安河桥北——北宫门</th>\n",
    "<td>1363</td>\n",
    "\"\"\"\n",
    "def get_station_info(textStream):\n",
    "    subway_pattern = re.compile('<th>.{0,100}</th>\\r\\n\\s+<td.*>\\d{0,8}</td>')\n",
    "    replace_pattern = re.compile('[^(<.*th>|\\r|\\n|<td>|</td>)]')\n",
    "\n",
    "    #replace_pattern = re.compile('<.*th>')\n",
    "    temp_findth=subway_pattern.findall(str(textStream))\n",
    "       \n",
    "    if temp_findth:\n",
    "        temp_findth[0]=temp_findth[0].replace(\"<td width=\\\"146\\\">\",'<td>')\n",
    "    subway_list=list()\n",
    "    for i in temp_findth:\n",
    "        i=''.join(re.findall(replace_pattern,str(i)))\n",
    "        i=i.replace('T3','3号')\n",
    "        i=i.replace('T2','2号')\n",
    "        i=i.replace('——',' ')\n",
    "        i=i.replace('    ',' ')\n",
    "        i=i.replace('   ',' ')\n",
    "        i=i.replace('  ',' ')\n",
    "        subway_list.append(i)\n",
    "\n",
    "    station_list=list()\n",
    "    for i in subway_list:\n",
    "        temp=i.split(' ')\n",
    "        station_list.append(temp)\n",
    "    return station_list\n",
    "\n",
    "station_list=get_station_info(html)\n",
    "\n",
    "print(station_list[:10])\n",
    "\n",
    "   \n"
   ]
  },
  {
   "cell_type": "markdown",
   "metadata": {},
   "source": [
    "> c.\tYou may need @package networkx, @package matplotlib to visualize data. \n",
    "\n",
    "> d.\tYou should build a dictionary or graph which could represent the connection information of Beijing subway routes.\n",
    "\n",
    "> e.\tYou may need the defaultdict, set data structures to implement this procedure. "
   ]
  },
  {
   "cell_type": "code",
   "execution_count": 5,
   "metadata": {},
   "outputs": [
    {
     "name": "stderr",
     "output_type": "stream",
     "text": [
      "d:\\anaconda3\\envs\\aicourse\\lib\\site-packages\\networkx\\drawing\\nx_pylab.py:611: MatplotlibDeprecationWarning: isinstance(..., numbers.Number)\n",
      "  if cb.is_numlike(alpha):\n"
     ]
    },
    {
     "data": {
      "image/png": "[encoded data removed]",
      "text/plain": [
       "<Figure size 432x288 with 1 Axes>"
      ]
     },
     "metadata": {},
     "output_type": "display_data"
    }
   ],
   "source": [
    "\"\"\"Using the one-way information above to create the undirected graph of the subway.\"\"\"\n",
    "\n",
    "import networkx as nx\n",
    "%matplotlib inline\n",
    "\n",
    "connection_graph={}\n",
    "for i in station_list:\n",
    "    if i[0] in connection_graph and i[1] in connection_graph:\n",
    "        connection_graph[i[0]].append(i[1])\n",
    "        connection_graph[i[1]].append(i[0])\n",
    "        \n",
    "    elif i[0] in connection_graph and not i[1] in connection_graph:\n",
    "        connection_graph[i[1]]=[i[0]]\n",
    "        connection_graph[i[0]].append(i[1])\n",
    "    elif i[1] in connection_graph and not i[0] in connection_graph:\n",
    "        connection_graph[i[0]]=[i[1]]\n",
    "        connection_graph[i[1]].append(i[0])\n",
    "    else:\n",
    "        connection_graph[i[0]]=[i[1]]\n",
    "        connection_graph[i[1]]=[i[0]]\n",
    "\n",
    "#print(connection_graph.items())\n",
    "g = nx.Graph(connection_graph)\n",
    "nx.draw(g,with_label=True,node_size=10)\n",
    "\n"
   ]
  },
  {
   "cell_type": "markdown",
   "metadata": {},
   "source": [
    "##### 3. Build the search agent\n",
    "\n",
    "> a.\tBuild the search agent based on the graph we build.\n",
    "\n",
    "> b.\tAs much as you can to use the already implemented search agent. You just need to define the is_goal, get_successor, strategy three functions. "
   ]
  },
  {
   "cell_type": "code",
   "execution_count": 6,
   "metadata": {},
   "outputs": [
    {
     "name": "stdout",
     "output_type": "stream",
     "text": [
      "BFS: 39站  天宫院->生物医药基地->义和庄->黄村火车站->黄村西大街->清源路->枣园->高米店南->高米店北->西红门->新宫->公益西桥->角门西->马家堡->北京南站->陶然亭->菜市口->宣武门->长椿街->复兴门->阜成门->车公庄->西直门->大钟寺->知春路->五道口->上地->西二旗->生命科学园->朱辛庄->巩华城->沙河->沙河高教园->南邵->北邵洼->昌平东关->昌平->十三陵景区->昌平西山口\n",
      "\n",
      "\n",
      "DFS: 47站  天宫院->生物医药基地->义和庄->黄村火车站->黄村西大街->清源路->枣园->高米店南->高米店北->西红门->新宫->公益西桥->角门西->草桥->纪家庙->首经贸->丰台站->泥洼->西局->七里庄->六里桥->莲花桥->公主坟->西钓鱼台->慈寿寺->车道沟->长春桥->火器营->巴沟->苏州街->海淀黄庄->知春里->知春路->五道口->上地->西二旗->生命科学园->朱辛庄->巩华城->沙河->沙河高教园->南邵->北邵洼->昌平东关->昌平->十三陵景区->昌平西山口\n"
     ]
    }
   ],
   "source": [
    "def is_goal(next_station,destination):\n",
    "    if next_station==destination: \n",
    "        return True\n",
    "    else:\n",
    "        return False\n",
    "\n",
    "def get_successor(froniter):\n",
    "    successors=connection_graph[froniter]\n",
    "    return successors\n",
    "\n",
    "def Search_agent(start,destination,connection_graph,strategy):\n",
    "    \n",
    "    pathes=[[start]]\n",
    "    result=list()\n",
    "    #print(pathes)\n",
    "    seen=set()\n",
    "    if strategy=='bfs':\n",
    "        strategy=0\n",
    "    else:\n",
    "        strategy=-1\n",
    "    while pathes:\n",
    "        #print(pathes)\n",
    "        path=pathes.pop(strategy)        \n",
    "        froniter=path[-1]\n",
    "        \n",
    "        try:\n",
    "            get_successor(froniter)\n",
    "            successors=get_successor(froniter)\n",
    "        except KeyError:\n",
    "            print(\"Not such station, please try another.\")\n",
    "            return ''\n",
    "        \n",
    "        for s in successors:\n",
    "\n",
    "            if s in seen:\n",
    "                continue\n",
    "            if is_goal(s,destination): \n",
    "                path.append(s)\n",
    "                result.append(path)\n",
    "                return path\n",
    "            else:\n",
    "                pathes.append(path+[s])\n",
    "\n",
    "        pathes=sorted(pathes,key=len)\n",
    "        seen.add(froniter)\n",
    "    return result\n",
    "\n",
    "#print(Search_agent('五棵松','北沙滩',connection_graph,'bfs'))\n",
    "#print(Search_agent('五棵松','北沙滩',connection_graph,'dfs'))\n",
    "bfs_result=Search_agent('天宫院','昌平西山口',connection_graph,'bfs')\n",
    "print('BFS: '+str(len(bfs_result))+'站  '+'->'.join(bfs_result))\n",
    "print('\\n')\n",
    "dfs_result=Search_agent('天宫院','昌平西山口',connection_graph,'dfs')\n",
    "print('DFS: '+str(len(dfs_result))+'站  '+'->'.join(dfs_result))"
   ]
  },
  {
   "cell_type": "markdown",
   "metadata": {},
   "source": [
    "##### 4.\tCreate different policies for transfer system.\n",
    "\n",
    "> a.\tDefine different policies for transfer system. \n",
    "\n",
    "> b.\tSuch as Shortest Path Priority（路程最短优先）, Minimum Transfer Priority(最少换乘优先), Comprehensive Priority(综合优先)\n",
    "\n",
    "> c.\tImplement Continuous transfer. Based on the Agent you implemented, please add this feature: Besides the @param start and @param destination two stations, add some more stations, we called @param by_way, it means, our path should from the start and end, but also include the  @param by_way stations. \n",
    "\n",
    "e.g \n",
    "```\n",
    "1. Input:  start=A,  destination=B, by_way=[C] \n",
    "    Output: [A, … .., C, …. B]\n",
    "2. Input: start=A, destination=B, by_way=[C, D, E]\n",
    "    Output: [A … C … E … D … B]  \n",
    "    # based on your policy, the E station could be reached firstly. \n",
    "![image.png](attachment:image.png)\n",
    "```"
   ]
  },
  {
   "cell_type": "code",
   "execution_count": 7,
   "metadata": {},
   "outputs": [
    {
     "name": "stdout",
     "output_type": "stream",
     "text": [
      "['复兴门', '阜成门', '车公庄', '西直门', '积水潭', '鼓楼大街', '安定门', '雍和宫']\n",
      "Total:9.397 km\n",
      "['复兴门', '阜成门', '车公庄', '平安里', '北海北', '南锣鼓巷', '东四', '张自忠路', '北新桥', '雍和宫']\n",
      "Total:11.515 km\n",
      "['复兴门', '西单', '天安门西', '天安门东', '王府井', '东单', '建国门', '朝阳门', '东四十条', '东直门', '雍和宫']\n",
      "Total:12.43 km\n",
      "['复兴门', '西单', '天安门西', '天安门东', '王府井', '东单', '灯市口', '东四', '张自忠路', '北新桥', '雍和宫']\n",
      "Total:9.824 km\n",
      "['复兴门', '西单', '灵境胡同', '西四', '平安里', '北海北', '南锣鼓巷', '东四', '张自忠路', '北新桥', '雍和宫']\n",
      "Total:11.85 km\n",
      "['复兴门', '阜成门', '车公庄', '平安里', '北海北', '南锣鼓巷', '东四', '朝阳门', '东四十条', '东直门', '雍和宫']\n",
      "Total:14.32 km\n",
      "['复兴门', '阜成门', '车公庄', '西直门', '积水潭', '鼓楼大街', '安德里北街', '安华桥', '北土城', '安贞门', '惠新西街南口', '和平西桥', '和平里北街', '雍和宫']\n",
      "Total:15.978 km\n",
      "\n",
      "SPP: 8站 距离：9.397km  复兴门->阜成门->车公庄->西直门->积水潭->鼓楼大街->安定门->雍和宫\n"
     ]
    }
   ],
   "source": [
    "\"\"\"\n",
    "Shortest Path Priority\n",
    "Find out all of the path, and compare them to give out the shortest one.\n",
    "\"\"\"\n",
    "\n",
    "def find_distance(first,second):\n",
    "    for items in station_list:\n",
    "        if items[0]==first and items[1]==second:\n",
    "            return items[2]\n",
    "        if items[0]==second and items[1]==first:\n",
    "            return items[2]\n",
    "\n",
    "def Shortest_Path_Priority(start,destination,connection_graph):\n",
    "    pathes=[[start]]\n",
    "    result=list()\n",
    "    best_result=list()\n",
    "    #print(pathes)\n",
    "    seen=set()\n",
    "    \n",
    "    while pathes:\n",
    "        #print(pathes)\n",
    "        path=pathes.pop(0)        \n",
    "        froniter=path[-1]\n",
    "        \n",
    "        try:\n",
    "            get_successor(froniter)\n",
    "            successors=get_successor(froniter)\n",
    "        except KeyError:\n",
    "            print(\"Not such station, please try another.\")\n",
    "            return ''\n",
    "        \n",
    "        for s in successors:\n",
    "\n",
    "            if s in seen:\n",
    "                continue\n",
    "            if is_goal(s,destination): \n",
    "                path.append(s)\n",
    "                result.append(path)\n",
    "            else:\n",
    "                pathes.append(path+[s])\n",
    "\n",
    "        pathes=sorted(pathes,key=len)\n",
    "        seen.add(froniter)\n",
    "    smallest_distance=1000000000\n",
    "    for path in result:\n",
    "        i=len(path)\n",
    "        distance = 0        \n",
    "        for j in range(0,i-1):\n",
    "            distance+=int(find_distance(path[j],path[j+1]))\n",
    "        \n",
    "        if smallest_distance>distance:\n",
    "            smallest_distance=distance\n",
    "            best_result=path \n",
    "        \n",
    "        print(path)\n",
    "        print('Total:{} km'.format(distance/1000))\n",
    "    \n",
    "    return best_result,smallest_distance/1000\n",
    "\n",
    "SPP_result,distan=Shortest_Path_Priority('复兴门','雍和宫',connection_graph)\n",
    "print('\\nSPP: '+str(len(SPP_result))+'站 '+'距离：'+str(distan)+'km  '+'->'.join(SPP_result))"
   ]
  },
  {
   "cell_type": "code",
   "execution_count": 8,
   "metadata": {},
   "outputs": [
    {
     "name": "stdout",
     "output_type": "stream",
     "text": [
      "['复兴门', '阜成门', '车公庄', '西直门', '积水潭', '鼓楼大街', '安定门', '雍和宫']\n",
      "Total:9.397 km\n",
      "['复兴门', '阜成门', '车公庄', '平安里', '北海北', '南锣鼓巷', '东四', '张自忠路', '北新桥', '雍和宫']\n",
      "Total:11.515 km\n",
      "['复兴门', '西单', '天安门西', '天安门东', '王府井', '东单', '建国门', '朝阳门', '东四十条', '东直门', '雍和宫']\n",
      "Total:12.43 km\n",
      "['复兴门', '西单', '天安门西', '天安门东', '王府井', '东单', '灯市口', '东四', '张自忠路', '北新桥', '雍和宫']\n",
      "Total:9.824 km\n",
      "['复兴门', '西单', '灵境胡同', '西四', '平安里', '北海北', '南锣鼓巷', '东四', '张自忠路', '北新桥', '雍和宫']\n",
      "Total:11.85 km\n",
      "['复兴门', '阜成门', '车公庄', '平安里', '北海北', '南锣鼓巷', '东四', '朝阳门', '东四十条', '东直门', '雍和宫']\n",
      "Total:14.32 km\n",
      "['复兴门', '阜成门', '车公庄', '西直门', '积水潭', '鼓楼大街', '安德里北街', '安华桥', '北土城', '安贞门', '惠新西街南口', '和平西桥', '和平里北街', '雍和宫']\n",
      "Total:15.978 km\n",
      "\n",
      "SPP: 8站 距离：9.397km  复兴门->阜成门->车公庄->西直门->积水潭->鼓楼大街->安定门->雍和宫\n"
     ]
    }
   ],
   "source": [
    "\"\"\"\n",
    "Minimum Transfer Priority\n",
    "When we are going to find the way from a station to another station, we need to found out the line they are belong to. \n",
    "\"\"\"\n",
    "\n",
    "def find_distance(first,second):\n",
    "    for items in station_list:\n",
    "        if items[0]==first and items[1]==second:\n",
    "            return items[2]\n",
    "        if items[0]==second and items[1]==first:\n",
    "            return items[2]\n",
    "\n",
    "def Shortest_Path_Priority(start,destination,connection_graph):\n",
    "    pathes=[[start]]\n",
    "    result=list()\n",
    "    best_result=list()\n",
    "    #print(pathes)\n",
    "    seen=set()\n",
    "    \n",
    "    while pathes:\n",
    "        #print(pathes)\n",
    "        path=pathes.pop(0)        \n",
    "        froniter=path[-1]\n",
    "        \n",
    "        try:\n",
    "            get_successor(froniter)\n",
    "            successors=get_successor(froniter)\n",
    "        except KeyError:\n",
    "            print(\"Not such station, please try another.\")\n",
    "            return ''\n",
    "        \n",
    "        for s in successors:\n",
    "\n",
    "            if s in seen:\n",
    "                continue\n",
    "            if is_goal(s,destination): \n",
    "                path.append(s)\n",
    "                result.append(path)\n",
    "            else:\n",
    "                pathes.append(path+[s])\n",
    "\n",
    "        pathes=sorted(pathes,key=len)\n",
    "        seen.add(froniter)\n",
    "    smallest_distance=1000000000\n",
    "    for path in result:\n",
    "        i=len(path)\n",
    "        distance = 0        \n",
    "        for j in range(0,i-1):\n",
    "            distance+=int(find_distance(path[j],path[j+1]))\n",
    "        \n",
    "        if smallest_distance>distance:\n",
    "            smallest_distance=distance\n",
    "            best_result=path \n",
    "        \n",
    "        print(path)\n",
    "        print('Total:{} km'.format(distance/1000))\n",
    "    \n",
    "    return best_result,smallest_distance/1000\n",
    "\n",
    "SPP_result,distan=Shortest_Path_Priority('复兴门','雍和宫',connection_graph)\n",
    "print('\\nSPP: '+str(len(SPP_result))+'站 '+'距离：'+str(distan)+'km  '+'->'.join(SPP_result))"
   ]
  },
  {
   "cell_type": "markdown",
   "metadata": {},
   "source": [
    "##### 5.\tTest your result with commercial applications. \n",
    "\n",
    "将你的结果和高德地图或者百度地图进行比较，如果有不同，请分析原因\n",
    "\n",
    "BFS基本相同，在换乘选择上明显有问题。\n"
   ]
  }
 ],
 "metadata": {
  "kernelspec": {
   "display_name": "Python 3",
   "language": "python",
   "name": "python3"
  },
  "language_info": {
   "codemirror_mode": {
    "name": "ipython",
    "version": 3
   },
   "file_extension": ".py",
   "mimetype": "text/x-python",
   "name": "python",
   "nbconvert_exporter": "python",
   "pygments_lexer": "ipython3",
   "version": "3.6.8"
  }
 },
 "nbformat": 4,
 "nbformat_minor": 2
}
