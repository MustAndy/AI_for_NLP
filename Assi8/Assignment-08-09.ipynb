{
 "cells": [
  {
   "cell_type": "markdown",
   "metadata": {},
   "source": [
    "## Key points\n",
    "+ 机器学习的基本概念\n",
    "+ 数据分布、数据预处理\n",
    "+ Linear Regression, Logstic Regression\n",
    "+ Gredient Descent\n",
    "+ 作业练习"
   ]
  },
  {
   "cell_type": "markdown",
   "metadata": {},
   "source": [
    "## 基础概念复习"
   ]
  },
  {
   "cell_type": "markdown",
   "metadata": {},
   "source": [
    "1. 机器学习方法主要用在什么特点的常见下？ "
   ]
  },
  {
   "cell_type": "markdown",
   "metadata": {},
   "source": [
    "Ans: 1.数据量大 2.有标签的数据可用作监督学习。 3.很难去定义规则。 "
   ]
  },
  {
   "cell_type": "markdown",
   "metadata": {},
   "source": [
    "2. 提出 3 个你认为使用了机器学习方法的现实场景."
   ]
  },
  {
   "cell_type": "markdown",
   "metadata": {},
   "source": [
    "Ans: 1.用户个性推荐 2.垃圾邮件分类 3.面部识别"
   ]
  },
  {
   "cell_type": "markdown",
   "metadata": {},
   "source": [
    "3. 提出 3 个你认为可以使用机器学习但是还没有使用机器学习方法的场景. "
   ]
  },
  {
   "cell_type": "markdown",
   "metadata": {},
   "source": [
    "Ans: 1.船舶调度 2.医学诊断问题，有些疾病已经开始使用ML了。 3.电脑故障诊断！"
   ]
  },
  {
   "cell_type": "markdown",
   "metadata": {},
   "source": [
    "4. 什么是“模型”？ 为什么说“All models are wrong, but some useful”."
   ]
  },
  {
   "cell_type": "markdown",
   "metadata": {},
   "source": [
    "Ans: 现实问题的抽象。在抽象简化问题的过程中，我们总是会遗失一些特征、参数，而往往这些参数都是决定结果的因素之一，所以模型都有局限性。"
   ]
  },
  {
   "cell_type": "markdown",
   "metadata": {},
   "source": [
    "5. Classification 和 Regressionu主要针对什么？ 有什么区别？ "
   ]
  },
  {
   "cell_type": "markdown",
   "metadata": {},
   "source": [
    "Ans: Classification往往用于标签分类任务；Regression一般用于数值预测。分类任务所有的标签都是等值不同，回归的预测值是有相互关系的区分。"
   ]
  },
  {
   "cell_type": "markdown",
   "metadata": {},
   "source": [
    "6. precision， recall，f1, auc 分别是什么意思？ 假设一个城市有 10000 人，有 30 个犯罪分子，警察抓到了 35 个人，其中 20 个是犯罪分子，请问这个警察的 precision, recall, f1,auc 分别是什么？ "
   ]
  },
  {
   "cell_type": "markdown",
   "metadata": {},
   "source": [
    "Ans: Auc针对全局结果数量、Pre针对预测为真的预测结果、Rec针对正确答案的预测结果、f1是一种综合考量。\n",
    "\n",
    "TP-将正预测为真，FN-将正预测为假，FP-将假预测为真，TN-将假预测为假。\n",
    "\n",
    "$$ Auc = \\frac {TP+TN} {TP+FN+FP+TN} $$\n",
    "\n",
    "$$ Pre = \\frac {TP} {TP+FP} $$\n",
    "\n",
    "$$ Rec = \\frac {TP} {TP+FN} $$\n",
    "\n",
    "$$ F1  = \\frac {2*(Pre*Rec)} {(Pre+Rec)}$$\n",
    "\n",
    "抓坏蛋 抓35个人，20个是真罪犯，5个是无辜的，剩下10个是冤枉抓错的？\n",
    "\n",
    "Pre = 20/(20+15)=4/7\n",
    "\n",
    "Rec = 20/(20+9950)=2/997\n",
    "\n",
    "f1 = "
   ]
  },
  {
   "cell_type": "markdown",
   "metadata": {},
   "source": [
    "7. 请提出两种场景，第一种场景下，对模型的评估很注重 precision, 第二种很注重 recall. "
   ]
  },
  {
   "cell_type": "markdown",
   "metadata": {},
   "source": [
    "Ans:搜索任务中，当你要获得精准的结果时，注重pre；\n",
    "\n",
    "但你要获得更加发散的结果时，注重recall。"
   ]
  },
  {
   "cell_type": "markdown",
   "metadata": {},
   "source": [
    "8. 什么是 Overfitting， 什么是 Underfitting?"
   ]
  },
  {
   "cell_type": "markdown",
   "metadata": {},
   "source": [
    "Ans: 过拟合：模型过于复杂/数据量过少，以至于完全拟合训练数据而导致对于未来的预测出现较为严重的错误。\n",
    "\n",
    "欠拟合：模型简单，数据量过大，无法从训练集中得出规律或特征。"
   ]
  },
  {
   "cell_type": "markdown",
   "metadata": {},
   "source": [
    "9. Lazy-Learning， Lazy在哪里？ "
   ]
  },
  {
   "cell_type": "markdown",
   "metadata": {},
   "source": [
    "Ans:"
   ]
  },
  {
   "cell_type": "markdown",
   "metadata": {},
   "source": [
    "10. Median， Mode， Mean分别是什么？ 有什么意义？ "
   ]
  },
  {
   "cell_type": "markdown",
   "metadata": {},
   "source": [
    "Ans: 中位数、众数、均值。三者在某种程度上都能概括一组数据的模式；"
   ]
  },
  {
   "cell_type": "markdown",
   "metadata": {},
   "source": [
    "11. Outlinear（异常值、离群值）是什么？ 如何定义？ "
   ]
  },
  {
   "cell_type": "markdown",
   "metadata": {},
   "source": [
    "Ans:一般指高于/低于某个标准而被略过的数据；"
   ]
  },
  {
   "cell_type": "markdown",
   "metadata": {},
   "source": [
    "12. Bias 和 Variance 有什么关系？ 他们之间为什么是一种 tradeoff 的？ "
   ]
  },
  {
   "cell_type": "markdown",
   "metadata": {},
   "source": [
    "Ans: 互为相反的两种描述；过于极端的两种情况都会导致模型的测试效果低下。"
   ]
  },
  {
   "cell_type": "markdown",
   "metadata": {},
   "source": [
    "13. Train， Validation，Test 数据集之间是什么关系？ 为什么要这么划分？ "
   ]
  },
  {
   "cell_type": "markdown",
   "metadata": {},
   "source": [
    "Ans: 训练、验证、测试数据集之间要求不能有重复数据；train、validation用于训练过程中，两者的loss用来衡量训练时模型的好坏。validation和test都用于测试模型在没见过的数据上的表现好坏。因为train和validation在训练中模型‘见过’；所以在最后要用test来测试总效率。"
   ]
  },
  {
   "cell_type": "markdown",
   "metadata": {},
   "source": [
    "14. Supervised Learning 的 Supervised 体现在什么地方？ "
   ]
  },
  {
   "cell_type": "markdown",
   "metadata": {},
   "source": [
    "Ans: 训练数据有标签"
   ]
  },
  {
   "cell_type": "markdown",
   "metadata": {},
   "source": [
    "15. Linear Regression 中，什么是“线性关系”？ "
   ]
  },
  {
   "cell_type": "markdown",
   "metadata": {},
   "source": [
    "Ans: 模型表达式中所有的X的幂次都是相等的。"
   ]
  },
  {
   "cell_type": "markdown",
   "metadata": {},
   "source": [
    "16. Linear Regression中，Loss 函数怎么定义的？ 为什么要写成这样？ 什么是凸函数？ 优化中有什么意义？ "
   ]
  },
  {
   "cell_type": "markdown",
   "metadata": {},
   "source": [
    "Ans: 模型到数据的距离，我们用下面这个公式来定义线性回归的Loss。 $$ Loss_n = \\frac {1}{n} \\sum (y_i - f(x_i))^2 $$\n",
    "\n",
    "这样写可以让Loss形成一个凸函数。\n",
    "\n",
    "凸函数在某个区间内的局部最小值等于全局最小值； 老师上课例子：打方向盘只往一个方向打。\n",
    "\n",
    "优化中的目标就是可以到达凸函数的最低点。"
   ]
  },
  {
   "cell_type": "markdown",
   "metadata": {},
   "source": [
    "17. 简述Gradient Descent的过程，以 $y = -10 * x^2 + 3x + 4 $ 为例，从一个任一点 $ x = 10 $ 开始，如何根据 Gradient Descent 找到最值。"
   ]
  },
  {
   "cell_type": "markdown",
   "metadata": {},
   "source": [
    "Ans: 选择不错步长为0.05，y导数为：$$\\dot y=-20x+3$$\n",
    "\n",
    "\n",
    "| iteration  | X             |y导  | y             |\n",
    "| --------- | ------------------ |------------------|------------------|\n",
    "| 1 |10| -197 |-996 |\n",
    "| 2 |0.15|0 | 4.225|\n"
   ]
  },
  {
   "cell_type": "markdown",
   "metadata": {},
   "source": [
    "18. 一般在机器学习数量时，会做一个预处理（Normalization）， 简述 Normalization 的过程，以及数据经过 Normalization之后的平均值和标准差的情况。"
   ]
  },
  {
   "cell_type": "markdown",
   "metadata": {},
   "source": [
    "Ans: 使数据的的绝对值变成某种相对值关系；平均值变为无限接近于0，标准差为1。"
   ]
  },
  {
   "cell_type": "markdown",
   "metadata": {},
   "source": [
    "19. Logstic Regression 的 Logstic 是什么曲线，被用在什么地方？ "
   ]
  },
  {
   "cell_type": "markdown",
   "metadata": {},
   "source": [
    "Ans: 是用指数次方构造的Y值位于0-1之间的函数。0-1的性质让他可以预测概率分类问题"
   ]
  },
  {
   "cell_type": "markdown",
   "metadata": {},
   "source": [
    "20. Logstic Regression 的 Loss 函数 Cross Entropy 是怎么样的形式？ 有什么意义？ "
   ]
  },
  {
   "cell_type": "markdown",
   "metadata": {},
   "source": [
    "Ans：p为正确答案，q为模型输出答案\n",
    "$$ H(p,q) = -\\sum_{i=0}^n y'_ilog(y_i) $$\n",
    "\n"
   ]
  },
  {
   "cell_type": "markdown",
   "metadata": {},
   "source": [
    "## 问题实战"
   ]
  },
  {
   "cell_type": "markdown",
   "metadata": {},
   "source": [
    "问题描述： 在新闻出版业中一个常常的问题就是新闻版权抄袭，所以我们现在为了避免这个事情，需要建立一个模型，判断这个文章是不是由某个新闻出版单位出版的。 在我们这个问题里，我们需要建立一个模型，该模型接受一个作为文本的输入，然后判断该文本是不是由“新华社”发布的。 "
   ]
  },
  {
   "cell_type": "markdown",
   "metadata": {},
   "source": [
    "Enviroment: \n",
    "\n",
    "+ Python 3.6\n",
    "+ numpy \n",
    "+ scikit learning"
   ]
  },
  {
   "cell_type": "markdown",
   "metadata": {},
   "source": [
    "**请在 pycharm 中运行程序，该处只作为关键信息的记录。 **"
   ]
  },
  {
   "cell_type": "markdown",
   "metadata": {},
   "source": [
    "1. 问那么此问题应该用机器学习方法？ "
   ]
  },
  {
   "cell_type": "markdown",
   "metadata": {},
   "source": [
    "Ans：逻辑回归：先判断输入文本有多少概率是新华社新闻，然后再根据定下的标准来分类。\n",
    "传统CNN分类器：根据输入分类。"
   ]
  },
  {
   "cell_type": "markdown",
   "metadata": {},
   "source": [
    "2. 问什么要对文本进行向量化？ 如何进行文本向量化表示？ （请使用tfidf 或者词向量）"
   ]
  },
  {
   "cell_type": "markdown",
   "metadata": {},
   "source": [
    "Ans: 要将文本用向量数据表征，然后才能进行训练；可以使用doc2Vec 词向量、tfidf"
   ]
  },
  {
   "cell_type": "markdown",
   "metadata": {},
   "source": [
    "hint: 如果你使用 tfidf，则需要 scikit learning 如果你需要词向量，则需要 gensim"
   ]
  },
  {
   "cell_type": "markdown",
   "metadata": {},
   "source": [
    "3. 请对数据进行Preprocessing, Normalization 操作\n",
    "（你需要在 Preprocssing 的时候，把文章开头的“新华社”3 个字去掉。如果不去掉，会出现什么问题？）\n",
    "\n",
    "对矩阵进行了最大最小归一化操作将句向量的权重矩阵的值调整到[-1,1]之间。\n",
    "去掉新华社之后，能够去掉这个关键词对句向量的影响；让模型能够更加专注于句子的内容而不是‘新华社’的这个关键词。"
   ]
  },
  {
   "cell_type": "markdown",
   "metadata": {},
   "source": [
    "4. 请确定模型的 Baseline 以及确定评测指标（Evaluation）."
   ]
  },
  {
   "cell_type": "markdown",
   "metadata": {},
   "source": [
    "5. 尝试不同的模型、不同的参数，观察结果变化。 "
   ]
  },
  {
   "cell_type": "markdown",
   "metadata": {},
   "source": [
    "6. 依据模型的表现，进行参数调节。 "
   ]
  },
  {
   "cell_type": "code",
   "execution_count": 1,
   "metadata": {},
   "outputs": [
    {
     "name": "stderr",
     "output_type": "stream",
     "text": [
      "d:\\anaconda3\\envs\\aicourse\\lib\\site-packages\\smart_open\\ssh.py:34: UserWarning: paramiko missing, opening SSH/SCP/SFTP paths will be disabled.  `pip install paramiko` to suppress\n",
      "  warnings.warn('paramiko missing, opening SSH/SCP/SFTP paths will be disabled.  `pip install paramiko` to suppress')\n",
      "d:\\anaconda3\\envs\\aicourse\\lib\\site-packages\\gensim\\utils.py:1197: UserWarning: detected Windows; aliasing chunkize to chunkize_serial\n",
      "  warnings.warn(\"detected Windows; aliasing chunkize to chunkize_serial\")\n"
     ]
    }
   ],
   "source": [
    "import jieba\n",
    "import re\n",
    "import pandas as pd\n",
    "from gensim.test.utils import common_texts\n",
    "from gensim.models.doc2vec import Doc2Vec, TaggedDocument\n",
    "import os\n",
    "import numpy as np\n",
    "import random\n",
    "\n",
    "\n",
    "def cut(string): return ' '.join(jieba.cut(string))\n",
    "symbol='[^((新华社)|\\r|\\n|)]'\n",
    "#print(symbol)\n",
    "def token(string):\n",
    "    return ''.join(re.findall(symbol,string))\n",
    "\n",
    "\n",
    "class dataLoading():\n",
    "      \n",
    "    news=None\n",
    "    content=None\n",
    "    model=None\n",
    "    newSource=None\n",
    "    newLabel=None\n",
    "    \n",
    "    def __init__(self,input_vector_size):\n",
    "        self.loadCsvfile()\n",
    "        self.loadContent()\n",
    "        self.loadModel(self.content,input_vector_size)\n",
    "    \n",
    "    def loadCsvfile(self):\n",
    "        filepath = 'D:/senior/aiCourse/datasource/sqlResult_1558435.csv'\n",
    "        self.news = pd.read_csv(filepath, encoding='gb18030')\n",
    "        self.newSource = self.news['source'].tolist()\n",
    "        return self.news\n",
    "    \n",
    "    def loadContent(self):\n",
    "        self.newLabel = []\n",
    "        news_content = []\n",
    "        #self.newSource=[]\n",
    "        i=0\n",
    "        \n",
    "        if not os.path.exists('D://senior/aiCourse/dataSource/news.txt'):\n",
    "            news_content = self.news['content'].tolist()\n",
    "            news_content = [token(str(n)) for n in news_content]\n",
    "            self.content = [''.join(n) for n in news_content]\n",
    "            news_content = [cut(n) for n in news_content]\n",
    "            with open(\"D://senior/aiCourse/dataSource/news.txt\",'w',encoding='gb18030') as inputFile:\n",
    "                for line in news_content:\n",
    "                    inputFile.write(line+'\\n')\n",
    "        self.content = []\n",
    "        with open('D://senior/aiCourse/dataSource/news.txt',encoding='gb18030')as f:\n",
    "            for line in f.readlines():\n",
    "                if line.strip() == 'nan' :\n",
    "                    i+=1\n",
    "                    continue\n",
    "                else:            \n",
    "                    self.content.append(line[:-1])\n",
    "                    if self.newSource[i]=='新华社':\n",
    "                        self.newLabel.append(1)\n",
    "                    else:\n",
    "                        self.newLabel.append(0)\n",
    "                    i+=1                    \n",
    "        return self.content\n",
    "    \n",
    "    def loadModel(self,news_content,input_vector_size):\n",
    "        \n",
    "        if not os.path.exists(\"./doc2vec-\"+str(input_vector_size)+\".txt\"):\n",
    "            documents = [TaggedDocument(doc, [i]) for i, doc in enumerate(news_content)]\n",
    "            model = Doc2Vec(documents, vector_size=input_vector_size, window=2, min_count=1, workers=4)\n",
    "            model.save(\"./doc2vec-\"+str(input_vector_size)+\".txt\")\n",
    "            \n",
    "        self.model = Doc2Vec.load(\"./doc2vec-\"+str(input_vector_size)+\".txt\")\n",
    "        return self.model\n",
    "    \n",
    "    def loadingTest(self):\n",
    "        print(self.model.docvecs.most_similar(16))\n",
    "        print(self.content[16]+'\\n')\n",
    "        print(self.content[32])\n",
    "    \n",
    "\n",
    "    #def loadTestData"
   ]
  },
  {
   "cell_type": "code",
   "execution_count": 2,
   "metadata": {},
   "outputs": [
    {
     "name": "stdout",
     "output_type": "stream",
     "text": [
      "[(34, 0.8984363675117493), (32, 0.8837586641311646), (58, 0.8730727434158325), (10, 0.8716028928756714), (1, 0.866899847984314), (76, 0.86388099193573), (5778, 0.8617154359817505), (3536, 0.8614997863769531), (18, 0.8584107160568237), (6217, 0.8544027805328369)]\n",
      "九成 以上 的 源 包用 逐位 对应 的 方式 构建 ， 未来 版本 的   Debian   还 将 提供 验证 包 的 工具 和 元 数据 ； X   显示 系统 不再 需要   root   权限 运行 ； GnuPG   经典 版本 将 被 淘汰 ， 引入 的 现代 版本 增加 了 椭圆 曲线 加密 ， 改进 默认设置 ， 模块化 架构 ， 改进 智能卡 支持 ； 改进   UEFI   支持 等 。 软件 方面 的 变化 包括 ： Apache   2.4 . 25 、 Chromium   59.0 . 3071.8 、 Firefox   45.9 、 GIMP   2.8 . 18 、 更版 的   GNOME   3.22 、 GnuPG   2.1 、 LibreOffice   5.2 、 Linux   4.9 、 MariaDB   10.1 、 PHP   7.0 .... 更 详细 清单 见 发布公告 。\n",
      "\n",
      "其他 规格 方面 ， 搭载 飞思 卡尔 IMX6SL 处理器 ， 内存 512MB ， 存储 8GB ， 采用 定制 版 系统 ， 低耗 稳定 ， 阅读 流畅 。 提供 3.5 mm 耳机 接口 ， 支持 听书 功能 。 内容 方面 ， 可 无缝 对接 QQ 阅读 、 起点 中文网 等 正版 书籍 平台 ， 支持 QQ 、 微信 登录 ， 自动 云 同步 QQ 阅读 APP 书架 和 阅读 进度 。\n"
     ]
    }
   ],
   "source": [
    "data = dataLoading(30)\n",
    "data.loadingTest()"
   ]
  },
  {
   "cell_type": "code",
   "execution_count": 4,
   "metadata": {},
   "outputs": [],
   "source": [
    "class inputData():\n",
    "    \n",
    "    X=[]\n",
    "    Y=[]\n",
    "\n",
    "    def __init__(self,data):\n",
    "        length = len(data.newLabel)\n",
    "        for i in range(0,length):\n",
    "            self.X.append(data.model.docvecs.vectors_docs[i])\n",
    "            self.Y.append(data.newLabel[i])           \n",
    "        \n",
    "        #for i in range(0,length):\n",
    "        #    self.X[i]=self.normalization(self.X[i])\n",
    "        #print(len(self.X))\n",
    "       # print(len(self.Y))  \n",
    "            \n",
    "    def prepare(self):\n",
    "        x_training = []\n",
    "        y_training = []\n",
    "        x_testing = []\n",
    "        y_testing = []\n",
    "        temp = list(zip(self.X, self.Y))\n",
    "        random.shuffle(temp)\n",
    "        self.X[:], self.Y[:] = zip(*temp)\n",
    "        #print(len(self.X))\n",
    "       # print(len(self.Y))\n",
    "        temp = len(self.Y)-1\n",
    "        for i in range (0,75000):\n",
    "            tempNum = random.randint(1,temp)\n",
    "            if self.Y[tempNum]==1:\n",
    "                del self.X[tempNum]\n",
    "                del self.Y[tempNum]\n",
    "                temp-=1\n",
    "                \n",
    "        temp = list(zip(self.X, self.Y))\n",
    "        random.shuffle(temp)\n",
    "        self.X[:], self.Y[:] = zip(*temp)\n",
    "        length = int(len(self.X)*9/10)-1\n",
    "        x_training = np.array(self.X[:length])\n",
    "        y_training = np.array(self.Y[:length])\n",
    "        \n",
    "        x_testing = np.array(self.X[length:])\n",
    "        y_testing = np.array(self.Y[length:])\n",
    "        \n",
    "        return x_training,y_training,x_testing,y_testing\n",
    "        \n",
    "        \n",
    "    def normalization(self,arr):\n",
    "        #print(arr)\n",
    "        # normalizing doc2vec\n",
    "        m = np.mean(arr)\n",
    "        h = max(arr)\n",
    "        l = min(arr)\n",
    "        result = [(float(i) - m) / (h - l) for i in arr]\n",
    "        result = np.array(result)\n",
    "        return result\n",
    "    "
   ]
  },
  {
   "cell_type": "code",
   "execution_count": 5,
   "metadata": {},
   "outputs": [],
   "source": [
    "inputdata=inputData(data)\n",
    "X_train,Y_train,X_test,Y_test = inputdata.prepare()\n"
   ]
  },
  {
   "cell_type": "code",
   "execution_count": 6,
   "metadata": {},
   "outputs": [
    {
     "data": {
      "text/plain": [
       "0.689928628072958"
      ]
     },
     "execution_count": 6,
     "metadata": {},
     "output_type": "execute_result"
    }
   ],
   "source": [
    "pos = 0\n",
    "negi=0\n",
    "for i in Y_test:\n",
    "    if i==1:\n",
    "        pos+=1\n",
    "    if i==0:\n",
    "        negi+=1\n",
    "pos/len(Y_test)"
   ]
  },
  {
   "cell_type": "code",
   "execution_count": 7,
   "metadata": {},
   "outputs": [],
   "source": [
    "import numpy as np\n",
    "import pandas as pd\n",
    "import matplotlib.pyplot as plt\n",
    "%matplotlib inline\n",
    "import seaborn as sns\n",
    "import sklearn\n",
    "from sklearn.model_selection import train_test_split\n",
    "from sklearn.preprocessing import StandardScaler\n",
    "from sklearn.metrics import accuracy_score"
   ]
  },
  {
   "cell_type": "code",
   "execution_count": 8,
   "metadata": {},
   "outputs": [],
   "source": [
    "def weightInitialzation(n_features):\n",
    "    w=np.zeros((1,n_features))\n",
    "    b=0\n",
    "    return w,b"
   ]
  },
  {
   "cell_type": "code",
   "execution_count": 9,
   "metadata": {},
   "outputs": [],
   "source": [
    "def sigmoid_activation(result):\n",
    "    final_result = 1/(1+np.exp(-result))\n",
    "    return final_result"
   ]
  },
  {
   "cell_type": "code",
   "execution_count": 10,
   "metadata": {},
   "outputs": [],
   "source": [
    "def model_optimize(w,b,X,Y):\n",
    "    m = X.shape[0]\n",
    "    \n",
    "    #prediction\n",
    "    final_result = sigmoid_activation(np.dot(w,X.T)+b)\n",
    "    Y_T=Y.T\n",
    "    cost = (-1/m)*(np.sum((Y_T*np.log(final_result))+((1-Y_T)*(np.log(1-final_result)))))\n",
    "    \n",
    "    \n",
    "    \n",
    "    #gradient calculation\n",
    "    dw = (1/m)*(np.dot(X.T,(final_result-Y.T).T))\n",
    "    db=(1/m)*(np.sum(final_result-Y.T))\n",
    "    \n",
    "    grads = {'dw':dw,'db':db}\n",
    "    return grads,cost"
   ]
  },
  {
   "cell_type": "code",
   "execution_count": 11,
   "metadata": {},
   "outputs": [],
   "source": [
    "def model_training(w,b,X,Y,learning_rate,no_iterations):\n",
    "    costs = []\n",
    "    for i in range (no_iterations):\n",
    "        grads,cost = model_optimize(w,b,X,Y)\n",
    "        dw = grads[\"dw\"]\n",
    "        db = grads[\"db\"]\n",
    "        \n",
    "        w=w-(learning_rate*(dw.T))\n",
    "        b=b-(learning_rate*db)\n",
    "\n",
    "        if(i%50 ==0):\n",
    "            costs.append(cost)\n",
    "    coeff={'w':w,'b':b}\n",
    "    gradient={'dw':dw,'db':db}\n",
    "    \n",
    "    return coeff,gradient,costs\n"
   ]
  },
  {
   "cell_type": "code",
   "execution_count": 12,
   "metadata": {},
   "outputs": [],
   "source": [
    "def predict(final_pred,m):\n",
    "    y_pred = np.zeros((1,m))\n",
    "    for i in range(final_pred.shape[1]):\n",
    "        if final_pred[0][i]>0.5:\n",
    "            y_pred[0][i]=1\n",
    "    return y_pred"
   ]
  },
  {
   "cell_type": "code",
   "execution_count": 13,
   "metadata": {},
   "outputs": [
    {
     "name": "stdout",
     "output_type": "stream",
     "text": [
      "Optimized weights [[-0.22542522  1.08194072 -0.41778078  0.08739245  0.53374221  0.21814638\n",
      "   0.32874651  0.90688331  0.25994235  0.49909484 -0.02571224 -0.44222839\n",
      "  -0.40304322 -0.71074615 -0.09212775  0.36742139 -0.02021553 -0.3581552\n",
      "   0.07976719  1.40426665 -0.26550129 -1.04949331 -0.17509513 -0.5222274\n",
      "  -0.09351695  0.25026311  0.32974392 -1.29501383  0.60674559  0.25916297\n",
      "  -0.56346227 -1.58003647 -0.69153301 -0.43638246 -0.63544601  0.19935834\n",
      "  -0.37599013  0.15488204 -0.36568353 -0.3134497  -0.06469854  0.52028317\n",
      "  -0.79791836 -0.39307615  1.19709928 -0.75525906 -0.01075699 -0.30985929\n",
      "  -0.8731408  -0.07113357]]\n",
      "Optimized intercept 1.607198646243754\n",
      "Training Accuracy 0.8774241889985895\n",
      "Test Accuracy 0.8893735130848532\n",
      "used time: 10.464765548706055\n"
     ]
    }
   ],
   "source": [
    "import time\n",
    "\n",
    "start=time.time()\n",
    "n_features = X_train.shape[1]\n",
    "\n",
    "w,b = weightInitialzation(n_features)\n",
    "\n",
    "coeff,gradient,costs = model_training(w,b,X_train,Y_train,learning_rate=0.1,no_iterations=1000)\n",
    "w = coeff['w']\n",
    "b = coeff['b']\n",
    "\n",
    "print('Optimized weights', w)\n",
    "print('Optimized intercept',b)\n",
    "final_train_pred = sigmoid_activation(np.dot(w,X_train.T)+b)\n",
    "final_test_pred = sigmoid_activation(np.dot(w,X_test.T)+b)\n",
    "m_tr =  X_train.shape[0]\n",
    "m_ts =  X_test.shape[0]\n",
    "y_tr_pred = predict(final_train_pred, m_tr)\n",
    "print('Training Accuracy',accuracy_score(y_tr_pred.T, Y_train))\n",
    "#\n",
    "y_ts_pred = predict(final_test_pred, m_ts)\n",
    "print('Test Accuracy',accuracy_score(y_ts_pred.T, Y_test))\n",
    "\n",
    "print('used time: {}'.format(time.time()-start))"
   ]
  },
  {
   "cell_type": "code",
   "execution_count": 14,
   "metadata": {},
   "outputs": [
    {
     "data": {
      "text/plain": [
       "array([[0.94797801, 0.47702941, 0.42601425, ..., 0.62432846, 0.19897427,\n",
       "        0.85810137]])"
      ]
     },
     "execution_count": 14,
     "metadata": {},
     "output_type": "execute_result"
    }
   ],
   "source": [
    "final_test_pred"
   ]
  },
  {
   "cell_type": "code",
   "execution_count": 15,
   "metadata": {},
   "outputs": [
    {
     "data": {
      "text/plain": [
       "[array([0.94797801, 0.47702941, 0.42601425, ..., 0.62432846, 0.19897427,\n",
       "        0.85810137])]"
      ]
     },
     "execution_count": 15,
     "metadata": {},
     "output_type": "execute_result"
    }
   ],
   "source": [
    "sorted(final_test_pred)"
   ]
  },
  {
   "cell_type": "code",
   "execution_count": 16,
   "metadata": {},
   "outputs": [
    {
     "data": {
      "image/png": "[encoded data removed]",
      "text/plain": [
       "<Figure size 432x288 with 1 Axes>"
      ]
     },
     "metadata": {
      "needs_background": "light"
     },
     "output_type": "display_data"
    }
   ],
   "source": [
    "plt.plot(costs)\n",
    "plt.ylabel('cost')\n",
    "plt.xlabel('iterations (per hundreds)')\n",
    "plt.title('Cost reduction over time')\n",
    "plt.show()"
   ]
  },
  {
   "cell_type": "code",
   "execution_count": 17,
   "metadata": {},
   "outputs": [],
   "source": [
    "from sklearn.linear_model import LogisticRegression"
   ]
  },
  {
   "cell_type": "code",
   "execution_count": 18,
   "metadata": {},
   "outputs": [],
   "source": [
    "clf = LogisticRegression(max_iter=10)"
   ]
  },
  {
   "cell_type": "code",
   "execution_count": 19,
   "metadata": {},
   "outputs": [
    {
     "name": "stderr",
     "output_type": "stream",
     "text": [
      "d:\\anaconda3\\envs\\aicourse\\lib\\site-packages\\sklearn\\linear_model\\logistic.py:432: FutureWarning: Default solver will be changed to 'lbfgs' in 0.22. Specify a solver to silence this warning.\n",
      "  FutureWarning)\n"
     ]
    },
    {
     "data": {
      "text/plain": [
       "LogisticRegression(C=1.0, class_weight=None, dual=False, fit_intercept=True,\n",
       "                   intercept_scaling=1, l1_ratio=None, max_iter=10,\n",
       "                   multi_class='warn', n_jobs=None, penalty='l2',\n",
       "                   random_state=None, solver='warn', tol=0.0001, verbose=0,\n",
       "                   warm_start=False)"
      ]
     },
     "execution_count": 19,
     "metadata": {},
     "output_type": "execute_result"
    }
   ],
   "source": [
    "clf.fit(X_train, Y_train)"
   ]
  },
  {
   "cell_type": "code",
   "execution_count": 20,
   "metadata": {},
   "outputs": [
    {
     "name": "stdout",
     "output_type": "stream",
     "text": [
      "[1 0 0 ... 1 0 1]\n",
      "Accuracy from sk-learn: 0.8961141950832673\n"
     ]
    }
   ],
   "source": [
    "pred = clf.predict(X_test)\n",
    "print(pred)\n",
    "print ('Accuracy from sk-learn: {0}'.format(clf.score(X_test, Y_test)))"
   ]
  },
  {
   "cell_type": "code",
   "execution_count": 21,
   "metadata": {},
   "outputs": [
    {
     "data": {
      "text/plain": [
       "array([[0.0208133 , 0.9791867 ],\n",
       "       [0.55674976, 0.44325024],\n",
       "       [0.63482137, 0.36517863],\n",
       "       ...,\n",
       "       [0.44062143, 0.55937857],\n",
       "       [0.87776508, 0.12223492],\n",
       "       [0.06276924, 0.93723076]])"
      ]
     },
     "execution_count": 21,
     "metadata": {},
     "output_type": "execute_result"
    }
   ],
   "source": [
    "clf.predict_proba(X_test)"
   ]
  },
  {
   "cell_type": "code",
   "execution_count": 22,
   "metadata": {},
   "outputs": [
    {
     "data": {
      "text/plain": [
       "array([2.82524834])"
      ]
     },
     "execution_count": 22,
     "metadata": {},
     "output_type": "execute_result"
    }
   ],
   "source": [
    "clf.intercept_"
   ]
  },
  {
   "cell_type": "code",
   "execution_count": 23,
   "metadata": {},
   "outputs": [
    {
     "data": {
      "text/plain": [
       "array([[-0.19826284,  1.60410934, -0.37279858,  0.01677279,  0.6716776 ,\n",
       "         0.32037814,  0.41726197,  1.47803707,  0.08222858,  1.00411354,\n",
       "        -0.10471824, -0.70422102, -0.63999225, -1.12108522, -0.36770492,\n",
       "         0.55529861, -0.1270738 , -0.42354497,  0.20737183,  1.8682283 ,\n",
       "        -0.3637253 , -1.32600681, -0.3599002 , -0.82424815, -0.11705289,\n",
       "         0.45617193,  0.60321361, -1.8054836 ,  0.86043849,  0.49115138,\n",
       "        -0.79355913, -1.88035691, -1.15232405, -0.75394079, -0.57138379,\n",
       "         0.25301578, -0.46110653,  0.08427305, -0.592627  , -0.35957139,\n",
       "        -0.25818968,  0.62060914, -1.00773012, -0.51585442,  1.63030095,\n",
       "        -1.21375113,  0.02812509, -0.42292324, -1.09277811, -0.31227543]])"
      ]
     },
     "execution_count": 23,
     "metadata": {},
     "output_type": "execute_result"
    }
   ],
   "source": [
    "clf.coef_"
   ]
  },
  {
   "cell_type": "code",
   "execution_count": null,
   "metadata": {},
   "outputs": [],
   "source": []
  },
  {
   "cell_type": "code",
   "execution_count": null,
   "metadata": {},
   "outputs": [],
   "source": []
  }
 ],
 "metadata": {
  "kernelspec": {
   "display_name": "Python 3",
   "language": "python",
   "name": "python3"
  },
  "language_info": {
   "codemirror_mode": {
    "name": "ipython",
    "version": 3
   },
   "file_extension": ".py",
   "mimetype": "text/x-python",
   "name": "python",
   "nbconvert_exporter": "python",
   "pygments_lexer": "ipython3",
   "version": "3.6.8"
  }
 },
 "nbformat": 4,
 "nbformat_minor": 2
}
