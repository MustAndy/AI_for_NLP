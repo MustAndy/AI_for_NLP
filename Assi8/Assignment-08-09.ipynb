{
 "cells": [
  {
   "cell_type": "markdown",
   "metadata": {},
   "source": [
    "## Key points\n",
    "+ 机器学习的基本概念\n",
    "+ 数据分布、数据预处理\n",
    "+ Linear Regression, Logstic Regression\n",
    "+ Gredient Descent\n",
    "+ 作业练习"
   ]
  },
  {
   "cell_type": "markdown",
   "metadata": {},
   "source": [
    "## 基础概念复习"
   ]
  },
  {
   "cell_type": "markdown",
   "metadata": {},
   "source": [
    "1. 机器学习方法主要用在什么特点的常见下？ "
   ]
  },
  {
   "cell_type": "markdown",
   "metadata": {},
   "source": [
    "Ans: 1.数据量大 2.有标签的数据可用作监督学习。 3.很难去定义规则。 "
   ]
  },
  {
   "cell_type": "markdown",
   "metadata": {},
   "source": [
    "2. 提出 3 个你认为使用了机器学习方法的现实场景."
   ]
  },
  {
   "cell_type": "markdown",
   "metadata": {},
   "source": [
    "Ans: 1.用户个性推荐 2.垃圾邮件分类 3.面部识别"
   ]
  },
  {
   "cell_type": "markdown",
   "metadata": {},
   "source": [
    "3. 提出 3 个你认为可以使用机器学习但是还没有使用机器学习方法的场景. "
   ]
  },
  {
   "cell_type": "markdown",
   "metadata": {},
   "source": [
    "Ans: 1.船舶调度 2.医学诊断问题，有些疾病已经开始使用ML了。 3.电脑故障诊断！"
   ]
  },
  {
   "cell_type": "markdown",
   "metadata": {},
   "source": [
    "4. 什么是“模型”？ 为什么说“All models are wrong, but some useful”."
   ]
  },
  {
   "cell_type": "markdown",
   "metadata": {},
   "source": [
    "Ans: 现实问题的抽象。在抽象简化问题的过程中，我们总是会遗失一些特征、参数，而往往这些参数都是决定结果的因素之一，所以模型都有局限性。"
   ]
  },
  {
   "cell_type": "markdown",
   "metadata": {},
   "source": [
    "5. Classification 和 Regressionu主要针对什么？ 有什么区别？ "
   ]
  },
  {
   "cell_type": "markdown",
   "metadata": {},
   "source": [
    "Ans: Classification往往用于标签分类任务；Regression一般用于数值预测。分类任务所有的标签都是等值不同，回归的预测值是有相互关系的区分。"
   ]
  },
  {
   "cell_type": "markdown",
   "metadata": {},
   "source": [
    "6. precision， recall，f1, auc 分别是什么意思？ 假设一个城市有 10000 人，有 30 个犯罪分子，警察抓到了 35 个人，其中 20 个是犯罪分子，请问这个警察的 precision, recall, f1,auc 分别是什么？ "
   ]
  },
  {
   "cell_type": "markdown",
   "metadata": {},
   "source": [
    "Ans: Auc针对全局结果数量、Pre针对预测为真的预测结果、Rec针对正确答案的预测结果、f1是一种综合考量。\n",
    "\n",
    "TP-将正预测为真，FN-将正预测为假，FP-将假预测为真，TN-将假预测为假。\n",
    "\n",
    "$$ Auc = \\frac {TP+TN} {TP+FN+FP+TN} $$\n",
    "\n",
    "$$ Pre = \\frac {TP} {TP+FP} $$\n",
    "\n",
    "$$ Rec = \\frac {TP} {TP+FN} $$\n",
    "\n",
    "$$ F1  = \\frac {2*(Pre*Rec)} {(Pre+Rec)}$$\n",
    "\n",
    "抓坏蛋 抓35个人，20个是真罪犯，5个是无辜的，剩下10个是冤枉抓错的？\n",
    "\n",
    "Pre = 20/(20+15)=4/7\n",
    "\n",
    "Rec = 20/(20+9950)=2/997\n",
    "\n",
    "f1 = "
   ]
  },
  {
   "cell_type": "markdown",
   "metadata": {},
   "source": [
    "7. 请提出两种场景，第一种场景下，对模型的评估很注重 precision, 第二种很注重 recall. "
   ]
  },
  {
   "cell_type": "markdown",
   "metadata": {},
   "source": [
    "Ans:搜索任务中，当你要获得精准的结果时，注重pre；\n",
    "\n",
    "但你要获得更加发散的结果时，注重recall。"
   ]
  },
  {
   "cell_type": "markdown",
   "metadata": {},
   "source": [
    "8. 什么是 Overfitting， 什么是 Underfitting?"
   ]
  },
  {
   "cell_type": "markdown",
   "metadata": {},
   "source": [
    "Ans: 过拟合：模型过于复杂/数据量过少，以至于完全拟合训练数据而导致对于未来的预测出现较为严重的错误。\n",
    "\n",
    "欠拟合：模型简单，数据量过大，无法从训练集中得出规律或特征。"
   ]
  },
  {
   "cell_type": "markdown",
   "metadata": {},
   "source": [
    "9. Lazy-Learning， Lazy在哪里？ "
   ]
  },
  {
   "cell_type": "markdown",
   "metadata": {},
   "source": [
    "Ans:"
   ]
  },
  {
   "cell_type": "markdown",
   "metadata": {},
   "source": [
    "10. Median， Mode， Mean分别是什么？ 有什么意义？ "
   ]
  },
  {
   "cell_type": "markdown",
   "metadata": {},
   "source": [
    "Ans: 中位数、众数、均值。三者在某种程度上都能概括一组数据的模式；"
   ]
  },
  {
   "cell_type": "markdown",
   "metadata": {},
   "source": [
    "11. Outlinear（异常值、离群值）是什么？ 如何定义？ "
   ]
  },
  {
   "cell_type": "markdown",
   "metadata": {},
   "source": [
    "Ans:一般指高于/低于某个标准而被略过的数据；"
   ]
  },
  {
   "cell_type": "markdown",
   "metadata": {},
   "source": [
    "12. Bias 和 Variance 有什么关系？ 他们之间为什么是一种 tradeoff 的？ "
   ]
  },
  {
   "cell_type": "markdown",
   "metadata": {},
   "source": [
    "Ans: 互为相反的两种描述；过于极端的两种情况都会导致模型的测试效果低下。"
   ]
  },
  {
   "cell_type": "markdown",
   "metadata": {},
   "source": [
    "13. Train， Validation，Test 数据集之间是什么关系？ 为什么要这么划分？ "
   ]
  },
  {
   "cell_type": "markdown",
   "metadata": {},
   "source": [
    "Ans: 训练、验证、测试数据集之间要求不能有重复数据；train、validation用于训练过程中，两者的loss用来衡量训练时模型的好坏。validation和test都用于测试模型在没见过的数据上的表现好坏。因为train和validation在训练中模型‘见过’；所以在最后要用test来测试总效率。"
   ]
  },
  {
   "cell_type": "markdown",
   "metadata": {},
   "source": [
    "14. Supervised Learning 的 Supervised 体现在什么地方？ "
   ]
  },
  {
   "cell_type": "markdown",
   "metadata": {},
   "source": [
    "Ans: 训练数据有标签"
   ]
  },
  {
   "cell_type": "markdown",
   "metadata": {},
   "source": [
    "15. Linear Regression 中，什么是“线性关系”？ "
   ]
  },
  {
   "cell_type": "markdown",
   "metadata": {},
   "source": [
    "Ans: 模型表达式中所有的X的幂次都是相等的。"
   ]
  },
  {
   "cell_type": "markdown",
   "metadata": {},
   "source": [
    "16. Linear Regression中，Loss 函数怎么定义的？ 为什么要写成这样？ 什么是凸函数？ 优化中有什么意义？ "
   ]
  },
  {
   "cell_type": "markdown",
   "metadata": {},
   "source": [
    "Ans: 模型到数据的距离，我们用下面这个公式来定义线性回归的Loss。 $$ Loss_n = \\frac {1}{n} \\sum (y_i - f(x_i))^2 $$\n",
    "\n",
    "这样写可以让Loss形成一个凸函数。\n",
    "\n",
    "凸函数在某个区间内的局部最小值等于全局最小值； 老师上课例子：打方向盘只往一个方向打。\n",
    "\n",
    "优化中的目标就是可以到达凸函数的最低点。"
   ]
  },
  {
   "cell_type": "markdown",
   "metadata": {},
   "source": [
    "17. 简述Gradient Descent的过程，以 $y = -10 * x^2 + 3x + 4 $ 为例，从一个任一点 $ x = 10 $ 开始，如何根据 Gradient Descent 找到最值。"
   ]
  },
  {
   "cell_type": "markdown",
   "metadata": {},
   "source": [
    "Ans: 选择不错步长为0.05，y导数为：$$\\dot y=-20x+3$$\n",
    "\n",
    "\n",
    "| iteration  | X             |y导  | y             |\n",
    "| --------- | ------------------ |------------------|------------------|\n",
    "| 1 |10| -197 |-996 |\n",
    "| 2 |0.15|0 | 4.225|\n"
   ]
  },
  {
   "cell_type": "markdown",
   "metadata": {},
   "source": [
    "18. 一般在机器学习数量时，会做一个预处理（Normalization）， 简述 Normalization 的过程，以及数据经过 Normalization之后的平均值和标准差的情况。"
   ]
  },
  {
   "cell_type": "markdown",
   "metadata": {},
   "source": [
    "Ans: 使数据的的绝对值变成某种相对值关系；平均值变为无限接近于0，标准差为1。"
   ]
  },
  {
   "cell_type": "markdown",
   "metadata": {},
   "source": [
    "19. Logstic Regression 的 Logstic 是什么曲线，被用在什么地方？ "
   ]
  },
  {
   "cell_type": "markdown",
   "metadata": {},
   "source": [
    "Ans: 是用指数次方构造的Y值位于0-1之间的函数。0-1的性质让他可以预测概率分类问题"
   ]
  },
  {
   "cell_type": "markdown",
   "metadata": {},
   "source": [
    "20. Logstic Regression 的 Loss 函数 Cross Entropy 是怎么样的形式？ 有什么意义？ "
   ]
  },
  {
   "cell_type": "markdown",
   "metadata": {},
   "source": [
    "Ans：p为正确答案，q为模型输出答案\n",
    "$$ H(p,q) = -\\sum_{i=0}^n y'_ilog(y_i) $$\n",
    "\n"
   ]
  },
  {
   "cell_type": "markdown",
   "metadata": {},
   "source": [
    "## 问题实战"
   ]
  },
  {
   "cell_type": "markdown",
   "metadata": {},
   "source": [
    "问题描述： 在新闻出版业中一个常常的问题就是新闻版权抄袭，所以我们现在为了避免这个事情，需要建立一个模型，判断这个文章是不是由某个新闻出版单位出版的。 在我们这个问题里，我们需要建立一个模型，该模型接受一个作为文本的输入，然后判断该文本是不是由“新华社”发布的。 "
   ]
  },
  {
   "cell_type": "markdown",
   "metadata": {},
   "source": [
    "Enviroment: \n",
    "\n",
    "+ Python 3.6\n",
    "+ numpy \n",
    "+ scikit learning"
   ]
  },
  {
   "cell_type": "markdown",
   "metadata": {},
   "source": [
    "**请在 pycharm 中运行程序，该处只作为关键信息的记录。 **"
   ]
  },
  {
   "cell_type": "markdown",
   "metadata": {},
   "source": [
    "1. 问那么此问题应该用机器学习方法？ "
   ]
  },
  {
   "cell_type": "markdown",
   "metadata": {},
   "source": [
    "Ans：逻辑回归：先判断输入文本有多少概率是新华社新闻，然后再根据定下的标准来分类。\n",
    "传统CNN分类器：根据输入分类。"
   ]
  },
  {
   "cell_type": "markdown",
   "metadata": {},
   "source": [
    "2. 问什么要对文本进行向量化？ 如何进行文本向量化表示？ （请使用tfidf 或者词向量）"
   ]
  },
  {
   "cell_type": "markdown",
   "metadata": {},
   "source": [
    "Ans: 要将文本用向量数据表征，然后才能进行训练；可以使用doc2Vec 词向量、tfidf"
   ]
  },
  {
   "cell_type": "markdown",
   "metadata": {},
   "source": [
    "hint: 如果你使用 tfidf，则需要 scikit learning 如果你需要词向量，则需要 gensim"
   ]
  },
  {
   "cell_type": "markdown",
   "metadata": {},
   "source": [
    "3. 请对数据进行Preprocessing, Normalization 操作\n",
    "（你需要在 Preprocssing 的时候，把文章开头的“新华社”3 个字去掉。如果不去掉，会出现什么问题？）\n",
    "\n",
    "对矩阵进行了最大最小归一化操作将句向量的权重矩阵的值调整到[-1,1]之间。\n",
    "去掉新华社之后，能够去掉这个关键词对句向量的影响；让模型能够更加专注于句子的内容而不是‘新华社’的这个关键词。"
   ]
  },
  {
   "cell_type": "markdown",
   "metadata": {},
   "source": [
    "4. 请确定模型的 Baseline 以及确定评测指标（Evaluation）.\n",
    "\n",
    "超过80%的概率就视作抄袭了新华社的新闻。"
   ]
  },
  {
   "cell_type": "markdown",
   "metadata": {},
   "source": [
    "5. 尝试不同的模型、不同的参数，观察结果变化。 \n",
    "\n",
    "改变了学习速率，影响模型的收敛速度。"
   ]
  },
  {
   "cell_type": "markdown",
   "metadata": {},
   "source": [
    "6. 依据模型的表现，进行参数调节。 "
   ]
  },
  {
   "cell_type": "markdown",
   "metadata": {},
   "source": [
    "# 逻辑回归代码实现"
   ]
  },
  {
   "cell_type": "markdown",
   "metadata": {},
   "source": [
    "数据加载类：dataLoading\n",
    "\n",
    "+init：入口初始化函数\n",
    "\n",
    "+loadCsvfile：加载原数据的csv文件。\n",
    "\n",
    "+loadContent；加载已经解析好的txt文件，若是没有，则解析csv文件并保存文本到txt文件。\n",
    "\n",
    "+loadModel：加载已经训练好的doc2vev模型文件，若是没有，则通过上面的content训练出新的模型并保存。\n",
    "\n",
    "+loadTest：测试已加载的模型和内容。\n",
    "\n",
    "————————————————————————————\n",
    "\n",
    "矩阵数据准备类：inputData\n",
    "\n",
    "+init：入口初始化函数，将加载好的model数据放入类中的X,Y里。\n",
    "\n",
    "+prepare：先将所有数据X中的正数据随机的丢弃一部分，最终使得正负数据的比例为1.5:1。然后对剩下的数据进行正则化操作，使得矩阵的所有值落在0-1之间。然后根据1:9的比例分割为训练集与验证集，最终返回训练集与验证集的XY数组。\n",
    "\n",
    "+normalization：正则化方法，返回正则化之后的矩阵。\n",
    "\n",
    "+percentage：打印训练集中，正负样本的比例。\n",
    "\n",
    "————————————————————————————\n",
    "\n",
    "训练用了逻辑回归的基本代码，通过计算损失函数的导数来计算梯度的大小，然后降低损失函数。\n",
    "\n",
    "因为从0开始训练，所以一开始的学习速率可以调的很大，然后随着loss不再下降，我们可以推测在loss的最小值之间震荡，我们就适当的调低学习速率。"
   ]
  },
  {
   "cell_type": "code",
   "execution_count": 2,
   "metadata": {
    "ExecuteTime": {
     "end_time": "2019-06-27T07:03:20.529594Z",
     "start_time": "2019-06-27T07:03:18.738247Z"
    }
   },
   "outputs": [],
   "source": [
    "import jieba\n",
    "import re\n",
    "import pandas as pd\n",
    "from gensim.test.utils import common_texts\n",
    "from gensim.models.doc2vec import Doc2Vec, TaggedDocument\n",
    "import os\n",
    "import numpy as np\n",
    "import random\n",
    "\n",
    "\n",
    "def cut(string): return ' '.join(jieba.cut(string))\n",
    "symbol='[^((新华社)|\\r|\\n|)]'\n",
    "#print(symbol)\n",
    "def token(string):\n",
    "    return ''.join(re.findall(symbol,string))\n",
    "\n",
    "\n",
    "class dataLoading():\n",
    "      \n",
    "    news=None\n",
    "    content=None\n",
    "    model=None\n",
    "    newSource=None\n",
    "    newLabel=None\n",
    "    \n",
    "    def __init__(self,input_vector_size):\n",
    "        self.loadCsvfile()\n",
    "        self.loadContent()\n",
    "        self.loadModel(self.content,input_vector_size)\n",
    "    \n",
    "    def loadCsvfile(self):\n",
    "        filepath = 'D:/senior/aiCourse/datasource/sqlResult_1558435.csv'\n",
    "        self.news = pd.read_csv(filepath, encoding='gb18030')\n",
    "        self.newSource = self.news['source'].tolist()\n",
    "        return self.news\n",
    "    \n",
    "    def loadContent(self):\n",
    "        self.newLabel = []\n",
    "        news_content = []\n",
    "        #self.newSource=[]\n",
    "        i=0\n",
    "        \n",
    "        if not os.path.exists('D://senior/aiCourse/dataSource/news.txt'):\n",
    "            news_content = self.news['content'].tolist()\n",
    "            news_content = [token(str(n)) for n in news_content]\n",
    "            self.content = [''.join(n) for n in news_content]\n",
    "            news_content = [cut(n) for n in news_content]\n",
    "            with open(\"D://senior/aiCourse/dataSource/news.txt\",'w',encoding='gb18030') as inputFile:\n",
    "                for line in news_content:\n",
    "                    inputFile.write(line+'\\n')\n",
    "        self.content = []\n",
    "        with open('D://senior/aiCourse/dataSource/news.txt',encoding='gb18030')as f:\n",
    "            for line in f.readlines():\n",
    "                if line.strip() == 'nan' :\n",
    "                    i+=1\n",
    "                    continue\n",
    "                else:            \n",
    "                    self.content.append(line[:-1])\n",
    "                    if self.newSource[i]=='新华社':\n",
    "                        self.newLabel.append(1)\n",
    "                    else:\n",
    "                        self.newLabel.append(0)\n",
    "                    i+=1                    \n",
    "        return self.content\n",
    "    \n",
    "    def loadModel(self,news_content,input_vector_size):\n",
    "        \n",
    "        if not os.path.exists(\"./doc2vec-\"+str(input_vector_size)+\".txt\"):\n",
    "            documents = [TaggedDocument(doc, [i]) for i, doc in enumerate(news_content)]\n",
    "            model = Doc2Vec(documents, vector_size=input_vector_size, window=2, min_count=1, workers=7)\n",
    "            model.save(\"./doc2vec-\"+str(input_vector_size)+\".txt\")\n",
    "            \n",
    "        self.model = Doc2Vec.load(\"./doc2vec-\"+str(input_vector_size)+\".txt\")\n",
    "        return self.model\n",
    "    \n",
    "    def loadingTest(self):\n",
    "        print(self.model.docvecs.most_similar(16))\n",
    "        print(self.content[16]+'\\n')\n",
    "        print(self.content[32])\n",
    "    \n",
    "\n",
    "    #def loadTestData"
   ]
  },
  {
   "cell_type": "code",
   "execution_count": 3,
   "metadata": {
    "ExecuteTime": {
     "end_time": "2019-06-27T07:03:28.358922Z",
     "start_time": "2019-06-27T07:03:20.535388Z"
    }
   },
   "outputs": [
    {
     "name": "stderr",
     "output_type": "stream",
     "text": [
      "e:\\anaconda\\envs\\aicourse\\lib\\site-packages\\smart_open\\smart_open_lib.py:398: UserWarning: This function is deprecated, use smart_open.open instead. See the migration notes for details: https://github.com/RaRe-Technologies/smart_open/blob/master/README.rst#migrating-to-the-new-open-function\n",
      "  'See the migration notes for details: %s' % _MIGRATION_NOTES_URL\n"
     ]
    },
    {
     "name": "stdout",
     "output_type": "stream",
     "text": [
      "[(58, 0.7649303674697876), (5695, 0.7483332753181458), (34, 0.7408505082130432), (23, 0.7332472801208496), (32, 0.7308980226516724), (5673, 0.7249002456665039), (5778, 0.7190104722976685), (5987, 0.7175047397613525), (53, 0.7165408730506897), (5601, 0.7150400876998901)]\n",
      "九成 以上 的 源 包用 逐位 对应 的 方式 构建 ， 未来 版本 的   Debian   还 将 提供 验证 包 的 工具 和 元 数据 ； X   显示 系统 不再 需要   root   权限 运行 ； GnuPG   经典 版本 将 被 淘汰 ， 引入 的 现代 版本 增加 了 椭圆 曲线 加密 ， 改进 默认设置 ， 模块化 架构 ， 改进 智能卡 支持 ； 改进   UEFI   支持 等 。 软件 方面 的 变化 包括 ： Apache   2.4 . 25 、 Chromium   59.0 . 3071.8 、 Firefox   45.9 、 GIMP   2.8 . 18 、 更版 的   GNOME   3.22 、 GnuPG   2.1 、 LibreOffice   5.2 、 Linux   4.9 、 MariaDB   10.1 、 PHP   7.0 .... 更 详细 清单 见 发布公告 。\n",
      "\n",
      "其他 规格 方面 ， 搭载 飞思 卡尔 IMX6SL 处理器 ， 内存 512MB ， 存储 8GB ， 采用 定制 版 系统 ， 低耗 稳定 ， 阅读 流畅 。 提供 3.5 mm 耳机 接口 ， 支持 听书 功能 。 内容 方面 ， 可 无缝 对接 QQ 阅读 、 起点 中文网 等 正版 书籍 平台 ， 支持 QQ 、 微信 登录 ， 自动 云 同步 QQ 阅读 APP 书架 和 阅读 进度 。\n"
     ]
    }
   ],
   "source": [
    "data = dataLoading(1000)\n",
    "data.loadingTest()"
   ]
  },
  {
   "cell_type": "code",
   "execution_count": 4,
   "metadata": {
    "ExecuteTime": {
     "end_time": "2019-06-27T07:03:28.395829Z",
     "start_time": "2019-06-27T07:03:28.363911Z"
    }
   },
   "outputs": [],
   "source": [
    "class inputData():\n",
    "    \n",
    "    X=[]\n",
    "    Y=[]\n",
    "\n",
    "    def __init__(self,data):\n",
    "        length = len(data.newLabel)\n",
    "        for i in range(0,length):\n",
    "            self.X.append(data.model.docvecs.vectors_docs[i])\n",
    "            self.Y.append(data.newLabel[i])           \n",
    "            \n",
    "    def prepare(self):\n",
    "        x_training = []\n",
    "        y_training = []\n",
    "        x_testing = []\n",
    "        y_testing = []\n",
    "        temp = list(zip(self.X, self.Y))\n",
    "        random.shuffle(temp)\n",
    "        self.X[:], self.Y[:] = zip(*temp)\n",
    "        #print(len(self.X))\n",
    "       # print(len(self.Y))\n",
    "        temp = len(self.Y)-1\n",
    "        for i in range (0,75000):\n",
    "            tempNum = random.randint(1,temp)\n",
    "            if self.Y[tempNum]==1:\n",
    "                del self.X[tempNum]\n",
    "                del self.Y[tempNum]\n",
    "                temp-=1\n",
    "                \n",
    "        temp = list(zip(self.X, self.Y))\n",
    "        random.shuffle(temp)\n",
    "        self.X[:], self.Y[:] = zip(*temp)\n",
    "        \n",
    "        length = len(self.X)\n",
    "        for i in range(0,length):\n",
    "            self.X[i]=self.normalization(self.X[i])       \n",
    "        \n",
    "        length = int(len(self.X)*9/10)-1\n",
    "        x_training = np.array(self.X[:length])\n",
    "        y_training = np.array(self.Y[:length])\n",
    "        \n",
    "        x_testing = np.array(self.X[length:])\n",
    "        y_testing = np.array(self.Y[length:])\n",
    "        \n",
    "        return x_training,y_training,x_testing,y_testing\n",
    "        \n",
    "        \n",
    "    def normalization(self,arr):\n",
    "        #print(arr)\n",
    "        # normalizing doc2vec\n",
    "        m = np.mean(arr)\n",
    "        h = max(arr)\n",
    "        l = min(arr)\n",
    "        result = [(float(i) - m) / (h - l) for i in arr]\n",
    "        result = np.array(result)\n",
    "        return result\n",
    "    \n",
    "    def percentage(self,Y_test):\n",
    "        pos = 0\n",
    "        negi=0\n",
    "        for i in Y_test:\n",
    "            if i==1:\n",
    "                pos+=1\n",
    "            if i==0:\n",
    "                negi+=1\n",
    "        print(\"pos/all:{}\".format(pos/len(Y_test)))"
   ]
  },
  {
   "cell_type": "code",
   "execution_count": 5,
   "metadata": {
    "ExecuteTime": {
     "end_time": "2019-06-27T07:04:48.803357Z",
     "start_time": "2019-06-27T07:03:28.400813Z"
    }
   },
   "outputs": [
    {
     "name": "stdout",
     "output_type": "stream",
     "text": [
      "pos/all:0.6703777335984096\n"
     ]
    }
   ],
   "source": [
    "inputdata=inputData(data)\n",
    "X_train,Y_train,X_test,Y_test = inputdata.prepare()\n",
    "inputdata.percentage(Y_test)"
   ]
  },
  {
   "cell_type": "code",
   "execution_count": 6,
   "metadata": {
    "ExecuteTime": {
     "end_time": "2019-06-27T07:04:49.872546Z",
     "start_time": "2019-06-27T07:04:48.806323Z"
    }
   },
   "outputs": [
    {
     "name": "stderr",
     "output_type": "stream",
     "text": [
      "e:\\anaconda\\envs\\aicourse\\lib\\importlib\\_bootstrap.py:219: RuntimeWarning: numpy.ufunc size changed, may indicate binary incompatibility. Expected 192 from C header, got 216 from PyObject\n",
      "  return f(*args, **kwds)\n"
     ]
    }
   ],
   "source": [
    "import numpy as np\n",
    "import pandas as pd\n",
    "import matplotlib.pyplot as plt\n",
    "%matplotlib inline\n",
    "import seaborn as sns\n",
    "import sklearn\n",
    "from sklearn.model_selection import train_test_split\n",
    "from sklearn.preprocessing import StandardScaler\n",
    "from sklearn.metrics import accuracy_score\n",
    "from sklearn.metrics import precision_score\n",
    "from sklearn.metrics import recall_score\n",
    "from sklearn.metrics import roc_auc_score"
   ]
  },
  {
   "cell_type": "code",
   "execution_count": 7,
   "metadata": {
    "ExecuteTime": {
     "end_time": "2019-06-27T07:04:49.882563Z",
     "start_time": "2019-06-27T07:04:49.874538Z"
    }
   },
   "outputs": [],
   "source": [
    "def performance(y, y_hat):\n",
    "    print(\"accuracy: {}\".format(accuracy_score(y, y_hat)))\n",
    "    print(\"precision: {}\".format(precision_score(y, y_hat)))\n",
    "    print(\"recall: {}\".format(recall_score(y, y_hat)))\n",
    "    print(\"roc_auc: {}\".format(roc_auc_score(y, y_hat)))"
   ]
  },
  {
   "cell_type": "code",
   "execution_count": 8,
   "metadata": {
    "ExecuteTime": {
     "end_time": "2019-06-27T07:04:49.892461Z",
     "start_time": "2019-06-27T07:04:49.886479Z"
    }
   },
   "outputs": [],
   "source": [
    "def weightInitialzation(n_features):\n",
    "    w=np.zeros((1,n_features))\n",
    "    b=0\n",
    "    return w,b"
   ]
  },
  {
   "cell_type": "code",
   "execution_count": 9,
   "metadata": {
    "ExecuteTime": {
     "end_time": "2019-06-27T07:04:49.903424Z",
     "start_time": "2019-06-27T07:04:49.897451Z"
    }
   },
   "outputs": [],
   "source": [
    "def sigmoid_activation(result):\n",
    "    final_result = 1/(1+np.exp(-result))\n",
    "    return final_result"
   ]
  },
  {
   "cell_type": "code",
   "execution_count": 10,
   "metadata": {
    "ExecuteTime": {
     "end_time": "2019-06-27T07:04:49.916391Z",
     "start_time": "2019-06-27T07:04:49.906453Z"
    }
   },
   "outputs": [],
   "source": [
    "def model_optimize(w,b,X,Y):\n",
    "    m = X.shape[0]\n",
    "    \n",
    "    #prediction\n",
    "    final_result = sigmoid_activation(np.dot(w,X.T)+b)\n",
    "    Y_T=Y.T\n",
    "    cost = (-1/m)*(np.sum((Y_T*np.log(final_result))+((1-Y_T)*(np.log(1-final_result)))))\n",
    "    \n",
    "    #gradient calculation\n",
    "    dw = (1/m)*(np.dot(X.T,(final_result-Y.T).T))\n",
    "    db=(1/m)*(np.sum(final_result-Y.T))\n",
    "    \n",
    "    grads = {'dw':dw,'db':db}\n",
    "    return grads,cost"
   ]
  },
  {
   "cell_type": "code",
   "execution_count": 11,
   "metadata": {
    "ExecuteTime": {
     "end_time": "2019-06-27T07:04:49.929525Z",
     "start_time": "2019-06-27T07:04:49.919375Z"
    }
   },
   "outputs": [],
   "source": [
    "def model_training(w,b,X,Y,learning_rate,no_iterations):\n",
    "    costs = []\n",
    "    for i in range (no_iterations):\n",
    "        grads,cost = model_optimize(w,b,X,Y)\n",
    "        dw = grads[\"dw\"]\n",
    "        db = grads[\"db\"]\n",
    "        \n",
    "        w=w-(learning_rate*(dw.T))\n",
    "        b=b-(learning_rate*db)\n",
    "\n",
    "        if(i%100 ==0):\n",
    "            costs.append(cost)\n",
    "        if len(costs)>2 and costs[-1]/costs[-2]<0.05:\n",
    "            learning_rate = learning_rate/2\n",
    "    coeff={'w':w,'b':b}\n",
    "    gradient={'dw':dw,'db':db}\n",
    "    \n",
    "    return coeff,gradient,costs\n"
   ]
  },
  {
   "cell_type": "code",
   "execution_count": 12,
   "metadata": {
    "ExecuteTime": {
     "end_time": "2019-06-27T07:04:49.941531Z",
     "start_time": "2019-06-27T07:04:49.933487Z"
    }
   },
   "outputs": [],
   "source": [
    "def predict(final_pred,m):\n",
    "    y_pred = np.zeros((1,m))\n",
    "    for i in range(final_pred.shape[1]):\n",
    "        if final_pred[0][i]>0.5:\n",
    "            y_pred[0][i]=1\n",
    "    return y_pred"
   ]
  },
  {
   "cell_type": "code",
   "execution_count": 17,
   "metadata": {
    "ExecuteTime": {
     "end_time": "2019-06-27T07:08:22.431314Z",
     "start_time": "2019-06-27T07:07:39.726766Z"
    }
   },
   "outputs": [
    {
     "name": "stdout",
     "output_type": "stream",
     "text": [
      "accuracy: 0.9324055666003976\n",
      "precision: 0.9519572953736655\n",
      "recall: 0.9474616292798111\n",
      "roc_auc: 0.9244007293780298\n",
      "used time: 42.69402194023132\n"
     ]
    }
   ],
   "source": [
    "import time\n",
    "\n",
    "start=time.time()\n",
    "n_features = X_train.shape[1]\n",
    "\n",
    "w,b = weightInitialzation(n_features)\n",
    "\n",
    "coeff,gradient,costs = model_training(w,b,X_train,Y_train,learning_rate=0.1,no_iterations=1000)\n",
    "w = coeff['w']\n",
    "b = coeff['b']\n",
    "\n",
    "#print('Optimized weights', w)\n",
    "#print('Optimized intercept',b)\n",
    "final_train_pred = sigmoid_activation(np.dot(w,X_train.T)+b)\n",
    "final_test_pred = sigmoid_activation(np.dot(w,X_test.T)+b)\n",
    "m_tr =  X_train.shape[0]\n",
    "m_ts =  X_test.shape[0]\n",
    "y_tr_pred = predict(final_train_pred, m_tr)\n",
    "#performance(y_tr_pred.T, Y_train)\n",
    "#\n",
    "y_ts_pred = predict(final_test_pred, m_ts)\n",
    "performance(y_ts_pred.T, Y_test)\n",
    "print('used time: {}'.format(time.time()-start))"
   ]
  },
  {
   "cell_type": "code",
   "execution_count": 18,
   "metadata": {
    "ExecuteTime": {
     "end_time": "2019-06-27T07:18:21.654191Z",
     "start_time": "2019-06-27T07:18:21.649206Z"
    }
   },
   "outputs": [
    {
     "data": {
      "text/plain": [
       "array([[0.20788681, 0.9558261 , 0.02620399, ..., 0.99563667, 0.04404394,\n",
       "        0.95438668]])"
      ]
     },
     "execution_count": 18,
     "metadata": {},
     "output_type": "execute_result"
    }
   ],
   "source": [
    "final_test_pred"
   ]
  },
  {
   "cell_type": "code",
   "execution_count": 19,
   "metadata": {
    "ExecuteTime": {
     "end_time": "2019-06-27T07:18:21.965358Z",
     "start_time": "2019-06-27T07:18:21.960371Z"
    }
   },
   "outputs": [
    {
     "data": {
      "text/plain": [
       "[array([0.20788681, 0.9558261 , 0.02620399, ..., 0.99563667, 0.04404394,\n",
       "        0.95438668])]"
      ]
     },
     "execution_count": 19,
     "metadata": {},
     "output_type": "execute_result"
    }
   ],
   "source": [
    "sorted(final_test_pred)"
   ]
  },
  {
   "cell_type": "code",
   "execution_count": 20,
   "metadata": {
    "ExecuteTime": {
     "end_time": "2019-06-27T07:18:22.685006Z",
     "start_time": "2019-06-27T07:18:22.566937Z"
    }
   },
   "outputs": [
    {
     "data": {
      "image/png": "[encoded data removed]",
      "text/plain": [
       "<Figure size 432x288 with 1 Axes>"
      ]
     },
     "metadata": {
      "needs_background": "light"
     },
     "output_type": "display_data"
    }
   ],
   "source": [
    "plt.plot(costs)\n",
    "plt.ylabel('cost')\n",
    "plt.xlabel('iterations (per hundreds)')\n",
    "plt.title('Cost reduction over time')\n",
    "plt.show()"
   ]
  },
  {
   "cell_type": "markdown",
   "metadata": {},
   "source": [
    "## Sklearn method"
   ]
  },
  {
   "cell_type": "code",
   "execution_count": 22,
   "metadata": {
    "ExecuteTime": {
     "end_time": "2019-06-27T07:19:03.161278Z",
     "start_time": "2019-06-27T07:18:55.303777Z"
    }
   },
   "outputs": [
    {
     "name": "stderr",
     "output_type": "stream",
     "text": [
      "e:\\anaconda\\envs\\aicourse\\lib\\importlib\\_bootstrap.py:219: RuntimeWarning: numpy.ufunc size changed, may indicate binary incompatibility. Expected 192 from C header, got 216 from PyObject\n",
      "  return f(*args, **kwds)\n",
      "e:\\anaconda\\envs\\aicourse\\lib\\site-packages\\sklearn\\linear_model\\logistic.py:432: FutureWarning: Default solver will be changed to 'lbfgs' in 0.22. Specify a solver to silence this warning.\n",
      "  FutureWarning)\n"
     ]
    },
    {
     "name": "stdout",
     "output_type": "stream",
     "text": [
      "Accuracy from sk-learn: 0.9335984095427435\n"
     ]
    }
   ],
   "source": [
    "from sklearn.linear_model import LogisticRegression\n",
    "clf = LogisticRegression(max_iter=10)\n",
    "clf.fit(X_train, Y_train)\n",
    "pred = clf.predict(X_test)\n",
    "print ('Accuracy from sk-learn: {0}'.format(clf.score(X_test, Y_test)))"
   ]
  },
  {
   "cell_type": "code",
   "execution_count": 23,
   "metadata": {
    "ExecuteTime": {
     "end_time": "2019-06-27T07:19:03.167294Z",
     "start_time": "2019-06-27T07:19:03.163275Z"
    }
   },
   "outputs": [
    {
     "data": {
      "text/plain": [
       "array([0, 1, 0, ..., 1, 0, 1])"
      ]
     },
     "execution_count": 23,
     "metadata": {},
     "output_type": "execute_result"
    }
   ],
   "source": [
    "pred"
   ]
  },
  {
   "cell_type": "markdown",
   "metadata": {},
   "source": [
    "## 预测测试文本是否为抄袭"
   ]
  },
  {
   "cell_type": "code",
   "execution_count": 68,
   "metadata": {
    "ExecuteTime": {
     "end_time": "2019-06-15T09:53:53.588170Z",
     "start_time": "2019-06-15T09:53:53.582747Z"
    }
   },
   "outputs": [],
   "source": [
    "\n",
    "testText = \"根据本社记者报道，法国总统在法国巴黎的凡尔赛宫出席新闻发布会。\"\n",
    "testText = testText[::-1]\n",
    "\n",
    "tokens_list = cut(testText).split()"
   ]
  },
  {
   "cell_type": "code",
   "execution_count": 69,
   "metadata": {
    "ExecuteTime": {
     "end_time": "2019-06-15T09:53:53.730564Z",
     "start_time": "2019-06-15T09:53:53.726595Z"
    }
   },
   "outputs": [
    {
     "data": {
      "text/plain": [
       "'。会布发闻新席出宫赛尔凡的黎巴国法在统总国法，道报者记社本据根'"
      ]
     },
     "execution_count": 69,
     "metadata": {},
     "output_type": "execute_result"
    }
   ],
   "source": [
    "testText"
   ]
  },
  {
   "cell_type": "code",
   "execution_count": 70,
   "metadata": {
    "ExecuteTime": {
     "end_time": "2019-06-15T09:53:53.889633Z",
     "start_time": "2019-06-15T09:53:53.884700Z"
    }
   },
   "outputs": [],
   "source": [
    "def checkXinHua(final_pred):\n",
    "    print(\"There is about {} % is plagiarism\".format(final_pred[0]))\n",
    "    if final_pred[0]>0.5:\n",
    "        print(\"Plagiarism!!!!!!!\")\n",
    "    else:\n",
    "        print(\"Ok\")\n",
    "\n",
    "\n",
    "testVector = data.model.infer_vector(tokens_list)\n",
    "final = sigmoid_activation(np.dot(w,testVector.T)+b)\n"
   ]
  },
  {
   "cell_type": "code",
   "execution_count": 71,
   "metadata": {
    "ExecuteTime": {
     "end_time": "2019-06-15T09:53:54.054288Z",
     "start_time": "2019-06-15T09:53:54.049300Z"
    }
   },
   "outputs": [
    {
     "data": {
      "text/plain": [
       "numpy.ndarray"
      ]
     },
     "execution_count": 71,
     "metadata": {},
     "output_type": "execute_result"
    }
   ],
   "source": [
    "type(final)"
   ]
  },
  {
   "cell_type": "code",
   "execution_count": 72,
   "metadata": {
    "ExecuteTime": {
     "end_time": "2019-06-15T09:53:54.233414Z",
     "start_time": "2019-06-15T09:53:54.230464Z"
    }
   },
   "outputs": [
    {
     "name": "stdout",
     "output_type": "stream",
     "text": [
      "There is about 0.3316453149433756 % is plagiarism\n",
      "Ok\n"
     ]
    }
   ],
   "source": [
    "checkXinHua(final)"
   ]
  },
  {
   "cell_type": "code",
   "execution_count": null,
   "metadata": {},
   "outputs": [],
   "source": []
  },
  {
   "cell_type": "code",
   "execution_count": null,
   "metadata": {},
   "outputs": [],
   "source": []
  }
 ],
 "metadata": {
  "kernelspec": {
   "display_name": "Python 3",
   "language": "python",
   "name": "python3"
  },
  "language_info": {
   "codemirror_mode": {
    "name": "ipython",
    "version": 3
   },
   "file_extension": ".py",
   "mimetype": "text/x-python",
   "name": "python",
   "nbconvert_exporter": "python",
   "pygments_lexer": "ipython3",
   "version": "3.6.8"
  }
 },
 "nbformat": 4,
 "nbformat_minor": 2
}
