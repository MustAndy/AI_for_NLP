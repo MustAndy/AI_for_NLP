{
 "cells": [
  {
   "cell_type": "code",
   "execution_count": 1,
   "metadata": {
    "ExecuteTime": {
     "end_time": "2019-08-09T01:59:47.817744Z",
     "start_time": "2019-08-09T01:59:45.722577Z"
    }
   },
   "outputs": [],
   "source": [
    "from dataset import *\n",
    "\n",
    "data_files = ['D:/senior/aiCourse/dataSource/comment_classification/output/train.json']\n",
    "vocab_file = 'D:/senior/aiCourse/dataSource/comment_classification/output/vocab.txt'\n",
    "label_file = 'D:/senior/aiCourse/dataSource/comment_classification/labels.txt'\n",
    "enb_file = 'D:/senior/aiCourse/dataSource/comment_classification/embedding/embedding.txt'\n",
    "batch_size = 128\n",
    "reverse = False\n",
    "split_word = True\n",
    "max_len = 400\n"
   ]
  },
  {
   "cell_type": "code",
   "execution_count": 2,
   "metadata": {
    "ExecuteTime": {
     "end_time": "2019-08-09T01:59:47.828670Z",
     "start_time": "2019-08-09T01:59:47.817744Z"
    }
   },
   "outputs": [],
   "source": [
    "data_files=['../../../dataSource/comment_classification/output/train.json']\n",
    "vocab_file = '../../../dataSource/comment_classification/output/vocab.txt'\n",
    "label_file = '../../../dataSource/comment_classification/labels.txt'\n",
    "enb_file = '../../../dataSource/comment_classification/output/embedding.txt'"
   ]
  },
  {
   "cell_type": "code",
   "execution_count": 3,
   "metadata": {
    "ExecuteTime": {
     "end_time": "2019-08-09T01:59:57.069380Z",
     "start_time": "2019-08-09T01:59:47.830664Z"
    }
   },
   "outputs": [
    {
     "name": "stdout",
     "output_type": "stream",
     "text": [
      "# vocab size:  50000\n",
      "# vocab size:  20\n",
      "# Start to preprocessing data...\n",
      "# load data from ../../../dataSource/comment_classification/output/train.json ...\n",
      "# Got 105000 data items with 820 batches\n"
     ]
    }
   ],
   "source": [
    "dataset1 = DataSet(  data_files,  vocab_file,   label_file,   batch_size, reverse=  reverse, split_word=  split_word, max_len=  max_len)"
   ]
  },
  {
   "cell_type": "code",
   "execution_count": 4,
   "metadata": {
    "ExecuteTime": {
     "end_time": "2019-08-09T01:59:57.150165Z",
     "start_time": "2019-08-09T01:59:57.071373Z"
    }
   },
   "outputs": [
    {
     "name": "stdout",
     "output_type": "stream",
     "text": [
      "402\n"
     ]
    }
   ],
   "source": [
    "for i,(source, lengths, targets, _) in enumerate(dataset1.get_next()):\n",
    "    print(len(source[9]))\n",
    "    break"
   ]
  },
  {
   "cell_type": "code",
   "execution_count": 5,
   "metadata": {
    "ExecuteTime": {
     "end_time": "2019-08-09T01:59:57.156176Z",
     "start_time": "2019-08-09T01:59:57.151160Z"
    }
   },
   "outputs": [],
   "source": [
    "def dig_lists(l):\n",
    "    output = []\n",
    "    for e in l:\n",
    "        if isinstance(e, list):\n",
    "            output += dig_lists(e)\n",
    "        else:\n",
    "            output.append(e)\n",
    "    return(output)"
   ]
  },
  {
   "cell_type": "code",
   "execution_count": 6,
   "metadata": {
    "ExecuteTime": {
     "end_time": "2019-08-09T01:59:57.165122Z",
     "start_time": "2019-08-09T01:59:57.157144Z"
    }
   },
   "outputs": [],
   "source": [
    "def pad_sequences(comment_to_id,maxlen,padding,truncating):\n",
    "    features = np.zeros((len(comment_to_id), maxlen), dtype=int)\n",
    "    for i,comment in enumerate(comment_to_id):\n",
    "        if len(comment) <= maxlen and padding == 'pre':\n",
    "            features[i, -len(comment):] = np.array(comment)[:maxlen]\n",
    "        if len(comment) <= maxlen and padding == 'post':\n",
    "            features[i, :len(comment)] = np.array(comment)[:maxlen]\n",
    "        if len(comment) > maxlen and truncating == 'post':\n",
    "            features[i, :] = np.array(comment)[:maxlen]\n",
    "        if len(comment) > maxlen and truncating == 'pre':\n",
    "            features[i, :] = np.array(comment)[len(comment)-maxlen:]           \n",
    "    return features\n",
    "\n",
    "def split_dataset(pad_comments,labels,split_frac):\n",
    "    split_index = int(len(pad_comments)*split_frac)\n",
    "    data_list = list(zip(pad_comments, labels))\n",
    "    random.shuffle(data_list)\n",
    "    pad_comments, labels = zip(*data_list)\n",
    "    x_train, x_test = pad_comments[:split_index], pad_comments[split_index:]\n",
    "    y_train, y_test = labels[:split_index], labels[split_index:]\n",
    "    return x_train,y_train,x_test,y_test "
   ]
  },
  {
   "cell_type": "code",
   "execution_count": 7,
   "metadata": {
    "ExecuteTime": {
     "end_time": "2019-08-09T01:59:57.976461Z",
     "start_time": "2019-08-09T01:59:57.167118Z"
    }
   },
   "outputs": [],
   "source": [
    "comment_to_id = [x[0] for x in dataset1._raw_data]\n",
    "pad_comments = pad_sequences(comment_to_id,maxlen=max_len,padding='post',truncating='post')"
   ]
  },
  {
   "cell_type": "code",
   "execution_count": 8,
   "metadata": {
    "ExecuteTime": {
     "end_time": "2019-08-09T01:59:58.494729Z",
     "start_time": "2019-08-09T01:59:57.976461Z"
    }
   },
   "outputs": [],
   "source": [
    "labels = [x[2].flatten().tolist() for x in dataset1._raw_data]"
   ]
  },
  {
   "cell_type": "code",
   "execution_count": 9,
   "metadata": {
    "ExecuteTime": {
     "end_time": "2019-08-09T01:59:58.722838Z",
     "start_time": "2019-08-09T01:59:58.494729Z"
    }
   },
   "outputs": [],
   "source": [
    "import random\n",
    "x_train,y_train,x_test,y_test = split_dataset(pad_comments[:10000],labels,0.8)"
   ]
  },
  {
   "cell_type": "markdown",
   "metadata": {},
   "source": [
    "# Model"
   ]
  },
  {
   "cell_type": "code",
   "execution_count": 10,
   "metadata": {
    "ExecuteTime": {
     "end_time": "2019-08-09T01:59:59.214582Z",
     "start_time": "2019-08-09T01:59:58.724533Z"
    }
   },
   "outputs": [
    {
     "name": "stderr",
     "output_type": "stream",
     "text": [
      "Using TensorFlow backend.\n"
     ]
    }
   ],
   "source": [
    "import pandas as pd\n",
    "import numpy as np\n",
    "\n",
    "from keras.preprocessing.text import Tokenizer\n",
    "from keras.engine.topology import Layer\n",
    "from keras import initializers as initializers, regularizers, constraints\n",
    "from keras.callbacks import Callback\n",
    "from keras.layers import concatenate,GlobalMaxPooling1D,GlobalAveragePooling1D,SpatialDropout1D,Embedding, Input, Dense, LSTM, GRU, Bidirectional, TimeDistributed\n",
    "from keras import backend as K\n",
    "from keras.models import Model\n",
    "import keras.layers as layers\n",
    "from sklearn.metrics import roc_auc_score\n",
    "from keras.preprocessing import sequence\n",
    "from keras.models import Sequential\n",
    "from keras.layers import Dense,Dropout,Embedding,LSTM,Bidirectional,Layer\n",
    "from keras.datasets import imdb\n"
   ]
  },
  {
   "cell_type": "code",
   "execution_count": 11,
   "metadata": {
    "ExecuteTime": {
     "end_time": "2019-08-09T01:59:59.264142Z",
     "start_time": "2019-08-09T01:59:59.214582Z"
    }
   },
   "outputs": [],
   "source": [
    "x_train = np.array(x_train)\n",
    "y_train = np.array(y_train)\n",
    "x_test = np.array(x_test)\n",
    "y_test = np.array(y_test) "
   ]
  },
  {
   "cell_type": "code",
   "execution_count": 21,
   "metadata": {
    "ExecuteTime": {
     "end_time": "2019-08-09T02:22:43.247437Z",
     "start_time": "2019-08-09T02:22:43.242449Z"
    }
   },
   "outputs": [],
   "source": [
    "def get_model():\n",
    "    embed_size = 256\n",
    "    inp = Input(shape=(400, ))\n",
    "    x = Embedding(input_dim=len(dataset1.w2i), output_dim=embed_size,)(inp)\n",
    "    print(x)\n",
    "    x = SpatialDropout1D(0.2)(x)\n",
    "    x1 = Bidirectional(GRU(100, return_sequences=True))(x)\n",
    "    x2 = Bidirectional(GRU(100, return_sequences=True))(x1)\n",
    "    x3 = Bidirectional(GRU(100, return_sequences=True))(x2)\n",
    "        \n",
    "    avg_pool = GlobalAveragePooling1D()(x3)\n",
    "    max_pool = GlobalMaxPooling1D()(x3)\n",
    "    conc = concatenate([avg_pool, max_pool])\n",
    "    outp = Dense(80, activation=\"relu\")(conc)\n",
    "    \n",
    "    model = Model(inputs=inp, outputs=outp)\n",
    "    model.compile(loss='binary_crossentropy',\n",
    "                  optimizer='adam',\n",
    "                  metrics=['accuracy'])\n",
    "\n",
    "    return model"
   ]
  },
  {
   "cell_type": "code",
   "execution_count": 27,
   "metadata": {
    "ExecuteTime": {
     "end_time": "2019-08-09T02:24:42.564702Z",
     "start_time": "2019-08-09T02:24:42.559710Z"
    }
   },
   "outputs": [],
   "source": [
    "def get_model():\n",
    "    embed_size = 256\n",
    "    model = Sequential()   \n",
    "    \n",
    "    model.add( Embedding(50000, embed_size,input_length=400))\n",
    "    \n",
    "    \n",
    "    model.add(Bidirectional(GRU(100, return_sequences=False)))\n",
    "    #model.add(SpatialDropout1D(0.2))\n",
    "              \n",
    "    #model.add(Bidirectional(GRU(100, return_sequences=True)))\n",
    "    \n",
    "    #model.add(GlobalAveragePooling1D())\n",
    "    model.add(Dense(80, activation=\"relu\"))\n",
    "    \n",
    "    \n",
    "    model.compile(loss='binary_crossentropy',\n",
    "                  optimizer='adam',\n",
    "                  metrics=['accuracy'])\n",
    "\n",
    "    return model"
   ]
  },
  {
   "cell_type": "code",
   "execution_count": 28,
   "metadata": {
    "ExecuteTime": {
     "end_time": "2019-08-09T02:24:43.288820Z",
     "start_time": "2019-08-09T02:24:43.003499Z"
    }
   },
   "outputs": [],
   "source": [
    "model = get_model()"
   ]
  },
  {
   "cell_type": "code",
   "execution_count": 29,
   "metadata": {
    "ExecuteTime": {
     "end_time": "2019-08-09T02:26:31.742964Z",
     "start_time": "2019-08-09T02:24:51.762521Z"
    }
   },
   "outputs": [
    {
     "name": "stdout",
     "output_type": "stream",
     "text": [
      "_________________________________________________________________\n",
      "Layer (type)                 Output Shape              Param #   \n",
      "=================================================================\n",
      "embedding_7 (Embedding)      (None, 400, 256)          12800000  \n",
      "_________________________________________________________________\n",
      "bidirectional_7 (Bidirection (None, 200)               214200    \n",
      "_________________________________________________________________\n",
      "dense_2 (Dense)              (None, 80)                16080     \n",
      "=================================================================\n",
      "Total params: 13,030,280\n",
      "Trainable params: 13,030,280\n",
      "Non-trainable params: 0\n",
      "_________________________________________________________________\n",
      "None\n",
      "Epoch 1/5\n",
      "4096/8000 [==============>...............] - ETA: 1:30 - loss: 1.1802 - acc: 0.7513"
     ]
    },
    {
     "ename": "KeyboardInterrupt",
     "evalue": "",
     "output_type": "error",
     "traceback": [
      "\u001b[1;31m---------------------------------------------------------------------------\u001b[0m",
      "\u001b[1;31mKeyboardInterrupt\u001b[0m                         Traceback (most recent call last)",
      "\u001b[1;32m<ipython-input-29-98b3e0f043b8>\u001b[0m in \u001b[0;36m<module>\u001b[1;34m\u001b[0m\n\u001b[0;32m      1\u001b[0m \u001b[0mprint\u001b[0m\u001b[1;33m(\u001b[0m\u001b[0mmodel\u001b[0m\u001b[1;33m.\u001b[0m\u001b[0msummary\u001b[0m\u001b[1;33m(\u001b[0m\u001b[1;33m)\u001b[0m\u001b[1;33m)\u001b[0m\u001b[1;33m\u001b[0m\u001b[1;33m\u001b[0m\u001b[0m\n\u001b[1;32m----> 2\u001b[1;33m \u001b[0mhistory\u001b[0m \u001b[1;33m=\u001b[0m \u001b[0mmodel\u001b[0m\u001b[1;33m.\u001b[0m\u001b[0mfit\u001b[0m\u001b[1;33m(\u001b[0m\u001b[0mx_train\u001b[0m\u001b[1;33m,\u001b[0m \u001b[0my_train\u001b[0m\u001b[1;33m,\u001b[0m\u001b[0mepochs\u001b[0m\u001b[1;33m=\u001b[0m\u001b[1;36m5\u001b[0m\u001b[1;33m,\u001b[0m\u001b[0mverbose\u001b[0m\u001b[1;33m=\u001b[0m\u001b[1;36m1\u001b[0m\u001b[1;33m,\u001b[0m \u001b[0mbatch_size\u001b[0m\u001b[1;33m=\u001b[0m\u001b[0mbatch_size\u001b[0m\u001b[1;33m)\u001b[0m\u001b[1;33m\u001b[0m\u001b[1;33m\u001b[0m\u001b[0m\n\u001b[0m",
      "\u001b[1;32me:\\anaconda\\envs\\aicourse\\lib\\site-packages\\keras\\engine\\training.py\u001b[0m in \u001b[0;36mfit\u001b[1;34m(self, x, y, batch_size, epochs, verbose, callbacks, validation_split, validation_data, shuffle, class_weight, sample_weight, initial_epoch, steps_per_epoch, validation_steps, **kwargs)\u001b[0m\n\u001b[0;32m   1037\u001b[0m                                         \u001b[0minitial_epoch\u001b[0m\u001b[1;33m=\u001b[0m\u001b[0minitial_epoch\u001b[0m\u001b[1;33m,\u001b[0m\u001b[1;33m\u001b[0m\u001b[1;33m\u001b[0m\u001b[0m\n\u001b[0;32m   1038\u001b[0m                                         \u001b[0msteps_per_epoch\u001b[0m\u001b[1;33m=\u001b[0m\u001b[0msteps_per_epoch\u001b[0m\u001b[1;33m,\u001b[0m\u001b[1;33m\u001b[0m\u001b[1;33m\u001b[0m\u001b[0m\n\u001b[1;32m-> 1039\u001b[1;33m                                         validation_steps=validation_steps)\n\u001b[0m\u001b[0;32m   1040\u001b[0m \u001b[1;33m\u001b[0m\u001b[0m\n\u001b[0;32m   1041\u001b[0m     def evaluate(self, x=None, y=None,\n",
      "\u001b[1;32me:\\anaconda\\envs\\aicourse\\lib\\site-packages\\keras\\engine\\training_arrays.py\u001b[0m in \u001b[0;36mfit_loop\u001b[1;34m(model, f, ins, out_labels, batch_size, epochs, verbose, callbacks, val_f, val_ins, shuffle, callback_metrics, initial_epoch, steps_per_epoch, validation_steps)\u001b[0m\n\u001b[0;32m    197\u001b[0m                     \u001b[0mins_batch\u001b[0m\u001b[1;33m[\u001b[0m\u001b[0mi\u001b[0m\u001b[1;33m]\u001b[0m \u001b[1;33m=\u001b[0m \u001b[0mins_batch\u001b[0m\u001b[1;33m[\u001b[0m\u001b[0mi\u001b[0m\u001b[1;33m]\u001b[0m\u001b[1;33m.\u001b[0m\u001b[0mtoarray\u001b[0m\u001b[1;33m(\u001b[0m\u001b[1;33m)\u001b[0m\u001b[1;33m\u001b[0m\u001b[1;33m\u001b[0m\u001b[0m\n\u001b[0;32m    198\u001b[0m \u001b[1;33m\u001b[0m\u001b[0m\n\u001b[1;32m--> 199\u001b[1;33m                 \u001b[0mouts\u001b[0m \u001b[1;33m=\u001b[0m \u001b[0mf\u001b[0m\u001b[1;33m(\u001b[0m\u001b[0mins_batch\u001b[0m\u001b[1;33m)\u001b[0m\u001b[1;33m\u001b[0m\u001b[1;33m\u001b[0m\u001b[0m\n\u001b[0m\u001b[0;32m    200\u001b[0m                 \u001b[0mouts\u001b[0m \u001b[1;33m=\u001b[0m \u001b[0mto_list\u001b[0m\u001b[1;33m(\u001b[0m\u001b[0mouts\u001b[0m\u001b[1;33m)\u001b[0m\u001b[1;33m\u001b[0m\u001b[1;33m\u001b[0m\u001b[0m\n\u001b[0;32m    201\u001b[0m                 \u001b[1;32mfor\u001b[0m \u001b[0ml\u001b[0m\u001b[1;33m,\u001b[0m \u001b[0mo\u001b[0m \u001b[1;32min\u001b[0m \u001b[0mzip\u001b[0m\u001b[1;33m(\u001b[0m\u001b[0mout_labels\u001b[0m\u001b[1;33m,\u001b[0m \u001b[0mouts\u001b[0m\u001b[1;33m)\u001b[0m\u001b[1;33m:\u001b[0m\u001b[1;33m\u001b[0m\u001b[1;33m\u001b[0m\u001b[0m\n",
      "\u001b[1;32me:\\anaconda\\envs\\aicourse\\lib\\site-packages\\keras\\backend\\tensorflow_backend.py\u001b[0m in \u001b[0;36m__call__\u001b[1;34m(self, inputs)\u001b[0m\n\u001b[0;32m   2713\u001b[0m                 \u001b[1;32mreturn\u001b[0m \u001b[0mself\u001b[0m\u001b[1;33m.\u001b[0m\u001b[0m_legacy_call\u001b[0m\u001b[1;33m(\u001b[0m\u001b[0minputs\u001b[0m\u001b[1;33m)\u001b[0m\u001b[1;33m\u001b[0m\u001b[1;33m\u001b[0m\u001b[0m\n\u001b[0;32m   2714\u001b[0m \u001b[1;33m\u001b[0m\u001b[0m\n\u001b[1;32m-> 2715\u001b[1;33m             \u001b[1;32mreturn\u001b[0m \u001b[0mself\u001b[0m\u001b[1;33m.\u001b[0m\u001b[0m_call\u001b[0m\u001b[1;33m(\u001b[0m\u001b[0minputs\u001b[0m\u001b[1;33m)\u001b[0m\u001b[1;33m\u001b[0m\u001b[1;33m\u001b[0m\u001b[0m\n\u001b[0m\u001b[0;32m   2716\u001b[0m         \u001b[1;32melse\u001b[0m\u001b[1;33m:\u001b[0m\u001b[1;33m\u001b[0m\u001b[1;33m\u001b[0m\u001b[0m\n\u001b[0;32m   2717\u001b[0m             \u001b[1;32mif\u001b[0m \u001b[0mpy_any\u001b[0m\u001b[1;33m(\u001b[0m\u001b[0mis_tensor\u001b[0m\u001b[1;33m(\u001b[0m\u001b[0mx\u001b[0m\u001b[1;33m)\u001b[0m \u001b[1;32mfor\u001b[0m \u001b[0mx\u001b[0m \u001b[1;32min\u001b[0m \u001b[0minputs\u001b[0m\u001b[1;33m)\u001b[0m\u001b[1;33m:\u001b[0m\u001b[1;33m\u001b[0m\u001b[1;33m\u001b[0m\u001b[0m\n",
      "\u001b[1;32me:\\anaconda\\envs\\aicourse\\lib\\site-packages\\keras\\backend\\tensorflow_backend.py\u001b[0m in \u001b[0;36m_call\u001b[1;34m(self, inputs)\u001b[0m\n\u001b[0;32m   2673\u001b[0m             \u001b[0mfetched\u001b[0m \u001b[1;33m=\u001b[0m \u001b[0mself\u001b[0m\u001b[1;33m.\u001b[0m\u001b[0m_callable_fn\u001b[0m\u001b[1;33m(\u001b[0m\u001b[1;33m*\u001b[0m\u001b[0marray_vals\u001b[0m\u001b[1;33m,\u001b[0m \u001b[0mrun_metadata\u001b[0m\u001b[1;33m=\u001b[0m\u001b[0mself\u001b[0m\u001b[1;33m.\u001b[0m\u001b[0mrun_metadata\u001b[0m\u001b[1;33m)\u001b[0m\u001b[1;33m\u001b[0m\u001b[1;33m\u001b[0m\u001b[0m\n\u001b[0;32m   2674\u001b[0m         \u001b[1;32melse\u001b[0m\u001b[1;33m:\u001b[0m\u001b[1;33m\u001b[0m\u001b[1;33m\u001b[0m\u001b[0m\n\u001b[1;32m-> 2675\u001b[1;33m             \u001b[0mfetched\u001b[0m \u001b[1;33m=\u001b[0m \u001b[0mself\u001b[0m\u001b[1;33m.\u001b[0m\u001b[0m_callable_fn\u001b[0m\u001b[1;33m(\u001b[0m\u001b[1;33m*\u001b[0m\u001b[0marray_vals\u001b[0m\u001b[1;33m)\u001b[0m\u001b[1;33m\u001b[0m\u001b[1;33m\u001b[0m\u001b[0m\n\u001b[0m\u001b[0;32m   2676\u001b[0m         \u001b[1;32mreturn\u001b[0m \u001b[0mfetched\u001b[0m\u001b[1;33m[\u001b[0m\u001b[1;33m:\u001b[0m\u001b[0mlen\u001b[0m\u001b[1;33m(\u001b[0m\u001b[0mself\u001b[0m\u001b[1;33m.\u001b[0m\u001b[0moutputs\u001b[0m\u001b[1;33m)\u001b[0m\u001b[1;33m]\u001b[0m\u001b[1;33m\u001b[0m\u001b[1;33m\u001b[0m\u001b[0m\n\u001b[0;32m   2677\u001b[0m \u001b[1;33m\u001b[0m\u001b[0m\n",
      "\u001b[1;32me:\\anaconda\\envs\\aicourse\\lib\\site-packages\\tensorflow\\python\\client\\session.py\u001b[0m in \u001b[0;36m__call__\u001b[1;34m(self, *args, **kwargs)\u001b[0m\n\u001b[0;32m   1437\u001b[0m           ret = tf_session.TF_SessionRunCallable(\n\u001b[0;32m   1438\u001b[0m               \u001b[0mself\u001b[0m\u001b[1;33m.\u001b[0m\u001b[0m_session\u001b[0m\u001b[1;33m.\u001b[0m\u001b[0m_session\u001b[0m\u001b[1;33m,\u001b[0m \u001b[0mself\u001b[0m\u001b[1;33m.\u001b[0m\u001b[0m_handle\u001b[0m\u001b[1;33m,\u001b[0m \u001b[0margs\u001b[0m\u001b[1;33m,\u001b[0m \u001b[0mstatus\u001b[0m\u001b[1;33m,\u001b[0m\u001b[1;33m\u001b[0m\u001b[1;33m\u001b[0m\u001b[0m\n\u001b[1;32m-> 1439\u001b[1;33m               run_metadata_ptr)\n\u001b[0m\u001b[0;32m   1440\u001b[0m         \u001b[1;32mif\u001b[0m \u001b[0mrun_metadata\u001b[0m\u001b[1;33m:\u001b[0m\u001b[1;33m\u001b[0m\u001b[1;33m\u001b[0m\u001b[0m\n\u001b[0;32m   1441\u001b[0m           \u001b[0mproto_data\u001b[0m \u001b[1;33m=\u001b[0m \u001b[0mtf_session\u001b[0m\u001b[1;33m.\u001b[0m\u001b[0mTF_GetBuffer\u001b[0m\u001b[1;33m(\u001b[0m\u001b[0mrun_metadata_ptr\u001b[0m\u001b[1;33m)\u001b[0m\u001b[1;33m\u001b[0m\u001b[1;33m\u001b[0m\u001b[0m\n",
      "\u001b[1;31mKeyboardInterrupt\u001b[0m: "
     ]
    }
   ],
   "source": [
    "print(model.summary())\n",
    "history = model.fit(x_train, y_train,epochs=2,verbose=1, batch_size=batch_size)"
   ]
  },
  {
   "cell_type": "code",
   "execution_count": 31,
   "metadata": {
    "ExecuteTime": {
     "end_time": "2019-08-09T02:26:45.964222Z",
     "start_time": "2019-08-09T02:26:45.936293Z"
    }
   },
   "outputs": [
    {
     "data": {
      "text/plain": [
       "array([[0.27148858, 0.        , 0.03656801, 0.49509174, 0.16101427,\n",
       "        0.        , 0.        , 0.4964216 , 0.2141101 , 0.01124754,\n",
       "        0.        , 0.        , 0.04661782, 0.04072843, 0.19887982,\n",
       "        0.43112528, 0.37832567, 0.10584863, 0.        , 0.        ,\n",
       "        0.        , 0.        , 0.08206163, 0.39976266, 0.        ,\n",
       "        0.        , 0.        , 0.48179057, 0.15471175, 0.1760441 ,\n",
       "        0.23459688, 0.47964907, 0.24099392, 0.        , 0.04933136,\n",
       "        0.4643405 , 0.18672746, 0.22675116, 0.01986222, 0.5704697 ,\n",
       "        0.29397368, 0.3688913 , 0.        , 0.7803701 , 0.3242618 ,\n",
       "        0.0779756 , 0.03781231, 0.4317289 , 0.23610915, 0.14585766,\n",
       "        0.06815854, 0.47883025, 0.2631844 , 0.07373718, 0.04461501,\n",
       "        0.4500302 , 0.40371394, 0.        , 0.        , 0.4848981 ,\n",
       "        0.4600464 , 0.33543804, 0.04280333, 0.02706825, 0.23082788,\n",
       "        0.06336311, 0.        , 0.4076091 , 0.2201471 , 0.01970156,\n",
       "        0.03127155, 0.6290768 , 0.        , 0.3157961 , 0.14496681,\n",
       "        0.        , 0.263781  , 0.0493007 , 0.        , 0.34170583]],\n",
       "      dtype=float32)"
      ]
     },
     "execution_count": 31,
     "metadata": {},
     "output_type": "execute_result"
    }
   ],
   "source": [
    "model.predict(x_train[:1])"
   ]
  },
  {
   "cell_type": "code",
   "execution_count": null,
   "metadata": {},
   "outputs": [],
   "source": []
  },
  {
   "cell_type": "code",
   "execution_count": null,
   "metadata": {},
   "outputs": [],
   "source": []
  },
  {
   "cell_type": "code",
   "execution_count": null,
   "metadata": {},
   "outputs": [],
   "source": []
  },
  {
   "cell_type": "code",
   "execution_count": null,
   "metadata": {},
   "outputs": [],
   "source": [
    "import matplotlib.pyplot as plt\n",
    "print(history.history.keys())\n",
    "plt.plot(history.history['acc'])\n",
    "plt.plot(history.history['val_acc'])\n",
    "plt.title('model accuracy')\n",
    "plt.ylabel('accuracy')\n",
    "plt.xlabel('epoch')\n",
    "plt.legend(['train', 'test'], loc='upper left')\n",
    "\n",
    "plt.show()\n",
    "plt.plot(history.history['loss'])\n",
    "plt.plot(history.history['val_loss'])\n",
    "plt.title('model loss')\n",
    "plt.ylabel('loss')\n",
    "plt.xlabel('epoch')\n",
    "plt.legend(['train', 'test'], loc='upper left')\n",
    "plt.show()\n",
    "\n",
    "preds = model.predict(x_train)\n",
    "def accuracy(predictions, labels):\n",
    "    return (100.0 * np.sum(np.argmax(predictions, 1) == np.argmax(labels, 1))\n",
    "          / predictions.shape[0])\n",
    "print(accuracy(preds,y_train))"
   ]
  },
  {
   "cell_type": "code",
   "execution_count": null,
   "metadata": {},
   "outputs": [],
   "source": [
    "def convert_2_labels(answer):\n",
    "    labels_input = []\n",
    "    for item in answer:\n",
    "        answer_temp = []\n",
    "        for i in range(0,80,4):\n",
    "            answer_temp.append(np.argmax(item[i:i+4]))\n",
    "        labels_input.append(answer_temp)\n",
    "    return labels_input\n",
    "\n"
   ]
  },
  {
   "cell_type": "code",
   "execution_count": null,
   "metadata": {},
   "outputs": [],
   "source": [
    "convert_2_labels(preds)"
   ]
  },
  {
   "cell_type": "code",
   "execution_count": null,
   "metadata": {},
   "outputs": [],
   "source": [
    "coun=0\n",
    "all1=0\n",
    "for line in convert_2_labels(y_train):\n",
    "    for item in line:\n",
    "        if item == 3:\n",
    "            coun+=1\n",
    "        all1+=1"
   ]
  }
 ],
 "metadata": {
  "kernelspec": {
   "display_name": "Python 3",
   "language": "python",
   "name": "python3"
  },
  "language_info": {
   "codemirror_mode": {
    "name": "ipython",
    "version": 3
   },
   "file_extension": ".py",
   "mimetype": "text/x-python",
   "name": "python",
   "nbconvert_exporter": "python",
   "pygments_lexer": "ipython3",
   "version": "3.6.8"
  }
 },
 "nbformat": 4,
 "nbformat_minor": 2
}
