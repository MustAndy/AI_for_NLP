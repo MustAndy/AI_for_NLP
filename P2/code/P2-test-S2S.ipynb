{
 "cells": [
  {
   "cell_type": "code",
   "execution_count": 1,
   "metadata": {
    "ExecuteTime": {
     "end_time": "2019-07-22T03:20:36.537934Z",
     "start_time": "2019-07-22T03:20:24.470077Z"
    }
   },
   "outputs": [
    {
     "name": "stdout",
     "output_type": "stream",
     "text": [
      "# vocab size:  50000\n",
      "# vocab size:  20\n",
      "# Start to preprocessing data...\n",
      "# load data from D:/senior/aiCourse/dataSource/comment_classification/output/train.json ...\n",
      "# Got 105000 data items with 820 batches\n"
     ]
    }
   ],
   "source": [
    "from dataset import *\n",
    "\n",
    "data_files = ['D:/senior/aiCourse/dataSource/comment_classification/output/train.json']\n",
    "vocab_file = 'D:/senior/aiCourse/dataSource/comment_classification/output/vocab.txt'\n",
    "label_file = 'D:/senior/aiCourse/dataSource/comment_classification/labels.txt'\n",
    "enb_file = 'D:/senior/aiCourse/dataSource/comment_classification/embedding/embedding.txt'\n",
    "batch_size = 128\n",
    "reverse = False\n",
    "split_word = True\n",
    "max_len = 200\n",
    "\n",
    "dataset1 = DataSet(  data_files,  vocab_file,   label_file,   batch_size, reverse=  reverse, split_word=  split_word, max_len=  max_len)"
   ]
  },
  {
   "cell_type": "code",
   "execution_count": 2,
   "metadata": {
    "ExecuteTime": {
     "end_time": "2019-07-22T03:20:36.545918Z",
     "start_time": "2019-07-22T03:20:36.539928Z"
    }
   },
   "outputs": [],
   "source": [
    "def dig_lists(l):\n",
    "    output = []\n",
    "    for e in l:\n",
    "        if isinstance(e, list):\n",
    "            output += dig_lists(e)\n",
    "        else:\n",
    "            output.append(e)\n",
    "    return(output)"
   ]
  },
  {
   "cell_type": "code",
   "execution_count": 3,
   "metadata": {
    "ExecuteTime": {
     "end_time": "2019-07-22T03:20:36.564860Z",
     "start_time": "2019-07-22T03:20:36.549901Z"
    }
   },
   "outputs": [],
   "source": [
    "def pad_sequences(comment_to_id,maxlen,padding,truncating):\n",
    "    features = np.zeros((len(comment_to_id), maxlen), dtype=int)\n",
    "    for i,comment in enumerate(comment_to_id):\n",
    "        if len(comment) <= maxlen and padding == 'pre':\n",
    "            features[i, -len(comment):] = np.array(comment)[:maxlen]\n",
    "        if len(comment) <= maxlen and padding == 'post':\n",
    "            features[i, :len(comment)] = np.array(comment)[:maxlen]\n",
    "        if len(comment) > maxlen and truncating == 'post':\n",
    "            features[i, :] = np.array(comment)[:maxlen]\n",
    "        if len(comment) > maxlen and truncating == 'pre':\n",
    "            features[i, :] = np.array(comment)[len(comment)-maxlen:]           \n",
    "    return features\n",
    "\n",
    "def split_dataset(pad_comments,labels,split_frac):\n",
    "    split_index = int(len(pad_comments)*split_frac)\n",
    "    data_list = list(zip(pad_comments, labels))\n",
    "    random.shuffle(data_list)\n",
    "    pad_comments, labels = zip(*data_list)\n",
    "    x_train, x_test = pad_comments[:split_index], pad_comments[split_index:]\n",
    "    y_train, y_test = labels[:split_index], labels[split_index:]\n",
    "    return x_train,y_train,x_test,y_test "
   ]
  },
  {
   "cell_type": "code",
   "execution_count": 4,
   "metadata": {
    "ExecuteTime": {
     "end_time": "2019-07-22T03:20:37.496878Z",
     "start_time": "2019-07-22T03:20:36.568853Z"
    }
   },
   "outputs": [],
   "source": [
    "comment_to_id = [x[0] for x in dataset1._raw_data]\n",
    "pad_comments = pad_sequences(comment_to_id,maxlen=200,padding='post',truncating='post')"
   ]
  },
  {
   "cell_type": "code",
   "execution_count": 5,
   "metadata": {
    "ExecuteTime": {
     "end_time": "2019-07-22T03:20:41.620836Z",
     "start_time": "2019-07-22T03:20:37.496878Z"
    }
   },
   "outputs": [],
   "source": [
    "emb_dict,emb_size = load_embed_file(enb_file)"
   ]
  },
  {
   "cell_type": "code",
   "execution_count": 6,
   "metadata": {
    "ExecuteTime": {
     "end_time": "2019-07-22T03:20:42.253360Z",
     "start_time": "2019-07-22T03:20:41.620836Z"
    }
   },
   "outputs": [],
   "source": [
    "y_test = [x[2].flatten().tolist() for x in dataset1._raw_data]"
   ]
  },
  {
   "cell_type": "code",
   "execution_count": 7,
   "metadata": {
    "ExecuteTime": {
     "end_time": "2019-07-22T03:20:42.373504Z",
     "start_time": "2019-07-22T03:20:42.253360Z"
    }
   },
   "outputs": [],
   "source": [
    "import random\n",
    "x_train,y_train,x_test,y_test = split_dataset(pad_comments[:20000],y_test,0.8)"
   ]
  },
  {
   "cell_type": "markdown",
   "metadata": {},
   "source": [
    "# Model"
   ]
  },
  {
   "cell_type": "code",
   "execution_count": 8,
   "metadata": {
    "ExecuteTime": {
     "end_time": "2019-07-22T03:20:42.763243Z",
     "start_time": "2019-07-22T03:20:42.377488Z"
    }
   },
   "outputs": [
    {
     "name": "stderr",
     "output_type": "stream",
     "text": [
      "Using TensorFlow backend.\n"
     ]
    }
   ],
   "source": [
    "import pandas as pd\n",
    "import numpy as np\n",
    "\n",
    "from keras.preprocessing.text import Tokenizer\n",
    "from keras.engine.topology import Layer\n",
    "from keras import initializers as initializers, regularizers, constraints\n",
    "from keras.callbacks import Callback\n",
    "from keras.layers import concatenate,GlobalMaxPooling1D,GlobalAveragePooling1D,SpatialDropout1D,Embedding, Input, Dense, LSTM, GRU, Bidirectional, TimeDistributed\n",
    "from keras import backend as K\n",
    "from keras.models import Model\n",
    "\n",
    "from sklearn.metrics import roc_auc_score"
   ]
  },
  {
   "cell_type": "code",
   "execution_count": 9,
   "metadata": {
    "ExecuteTime": {
     "end_time": "2019-07-22T03:20:42.770496Z",
     "start_time": "2019-07-22T03:20:42.765492Z"
    }
   },
   "outputs": [],
   "source": [
    "batch_size = 64\n",
    "epochs = 100\n",
    "latent_dim = 256 # LSTM 的单元个数\n",
    "num_samples = 10000 # 训练样本的大小"
   ]
  },
  {
   "cell_type": "code",
   "execution_count": 10,
   "metadata": {
    "ExecuteTime": {
     "end_time": "2019-07-22T03:20:42.902184Z",
     "start_time": "2019-07-22T03:20:42.773458Z"
    }
   },
   "outputs": [],
   "source": [
    "x_train = np.array(x_train)\n",
    "y_train = np.array(y_train)\n",
    "x_test = np.array(x_test)\n",
    "y_test = np.array(y_test) "
   ]
  },
  {
   "cell_type": "code",
   "execution_count": 11,
   "metadata": {
    "ExecuteTime": {
     "end_time": "2019-07-22T03:20:42.910100Z",
     "start_time": "2019-07-22T03:20:42.904107Z"
    }
   },
   "outputs": [],
   "source": [
    "def get_model():\n",
    "    embed_size = 512\n",
    "    inp = Input(shape=(200, ))\n",
    "    x = Embedding(90000, embed_size)(inp)\n",
    "    x = SpatialDropout1D(0.2)(x)\n",
    "    x = Bidirectional(GRU(120, return_sequences=True))(x)\n",
    "    avg_pool = GlobalAveragePooling1D()(x)\n",
    "    max_pool = GlobalMaxPooling1D()(x)\n",
    "    conc = concatenate([avg_pool, max_pool])\n",
    "    outp = Dense(80, activation=\"sigmoid\")(conc)\n",
    "    \n",
    "    model = Model(inputs=inp, outputs=outp)\n",
    "    model.compile(loss='binary_crossentropy',\n",
    "                  optimizer='adam',\n",
    "                  metrics=['accuracy'])\n",
    "\n",
    "    return model"
   ]
  },
  {
   "cell_type": "code",
   "execution_count": 12,
   "metadata": {
    "ExecuteTime": {
     "end_time": "2019-07-22T03:20:43.302975Z",
     "start_time": "2019-07-22T03:20:42.912085Z"
    }
   },
   "outputs": [],
   "source": [
    "model = get_model()"
   ]
  },
  {
   "cell_type": "code",
   "execution_count": null,
   "metadata": {
    "ExecuteTime": {
     "start_time": "2019-07-22T03:20:24.481Z"
    }
   },
   "outputs": [
    {
     "name": "stdout",
     "output_type": "stream",
     "text": [
      "__________________________________________________________________________________________________\n",
      "Layer (type)                    Output Shape         Param #     Connected to                     \n",
      "==================================================================================================\n",
      "input_1 (InputLayer)            (None, 200)          0                                            \n",
      "__________________________________________________________________________________________________\n",
      "embedding_1 (Embedding)         (None, 200, 512)     46080000    input_1[0][0]                    \n",
      "__________________________________________________________________________________________________\n",
      "spatial_dropout1d_1 (SpatialDro (None, 200, 512)     0           embedding_1[0][0]                \n",
      "__________________________________________________________________________________________________\n",
      "bidirectional_1 (Bidirectional) (None, 200, 240)     455760      spatial_dropout1d_1[0][0]        \n",
      "__________________________________________________________________________________________________\n",
      "global_average_pooling1d_1 (Glo (None, 240)          0           bidirectional_1[0][0]            \n",
      "__________________________________________________________________________________________________\n",
      "global_max_pooling1d_1 (GlobalM (None, 240)          0           bidirectional_1[0][0]            \n",
      "__________________________________________________________________________________________________\n",
      "concatenate_1 (Concatenate)     (None, 480)          0           global_average_pooling1d_1[0][0] \n",
      "                                                                 global_max_pooling1d_1[0][0]     \n",
      "__________________________________________________________________________________________________\n",
      "dense_1 (Dense)                 (None, 80)           38480       concatenate_1[0][0]              \n",
      "==================================================================================================\n",
      "Total params: 46,574,240\n",
      "Trainable params: 46,574,240\n",
      "Non-trainable params: 0\n",
      "__________________________________________________________________________________________________\n",
      "None\n",
      "Train on 16000 samples, validate on 4000 samples\n",
      "Epoch 1/2\n",
      "  760/16000 [>.............................] - ETA: 9:28 - loss: 0.5401 - acc: 0.8098"
     ]
    }
   ],
   "source": [
    "print(model.summary())\n",
    "history = model.fit(x_train, y_train,validation_data=(x_test, y_test), epochs=2,verbose=1, batch_size=40)"
   ]
  },
  {
   "cell_type": "code",
   "execution_count": null,
   "metadata": {
    "ExecuteTime": {
     "start_time": "2019-07-22T03:20:24.484Z"
    }
   },
   "outputs": [],
   "source": [
    "import matplotlib.pyplot as plt"
   ]
  },
  {
   "cell_type": "code",
   "execution_count": null,
   "metadata": {
    "ExecuteTime": {
     "start_time": "2019-07-22T03:20:24.487Z"
    }
   },
   "outputs": [],
   "source": [
    "\n",
    "print(history.history.keys())\n",
    "plt.plot(history.history['acc'])\n",
    "plt.plot(history.history['val_acc'])\n",
    "plt.title('model accuracy')\n",
    "plt.ylabel('accuracy')\n",
    "plt.xlabel('epoch')\n",
    "plt.legend(['train', 'test'], loc='upper left')\n",
    "\n",
    "plt.show()\n",
    "plt.plot(history.history['loss'])\n",
    "plt.plot(history.history['val_loss'])\n",
    "plt.title('model loss')\n",
    "plt.ylabel('loss')\n",
    "plt.xlabel('epoch')\n",
    "plt.legend(['train', 'test'], loc='upper left')\n",
    "plt.show()\n",
    "\n",
    "preds = model.predict(x_train)\n",
    "def accuracy(predictions, labels):\n",
    "  return (100.0 * np.sum(np.argmax(predictions, 1) == np.argmax(labels, 1))\n",
    "          / predictions.shape[0])\n",
    "print(accuracy(preds,y_train))"
   ]
  },
  {
   "cell_type": "code",
   "execution_count": null,
   "metadata": {
    "ExecuteTime": {
     "start_time": "2019-07-22T03:20:24.488Z"
    }
   },
   "outputs": [],
   "source": [
    "def convert_2_labels(answer):\n",
    "    labels_input = []\n",
    "    for item in answer:\n",
    "        answer_temp = []\n",
    "        for i in range(0,80,4):\n",
    "            answer_temp.append(np.argmax(item[i:i+4]))\n",
    "        labels_input.append(answer_temp)\n",
    "    return labels_input\n",
    "\n"
   ]
  },
  {
   "cell_type": "code",
   "execution_count": null,
   "metadata": {
    "ExecuteTime": {
     "start_time": "2019-07-22T03:20:24.490Z"
    }
   },
   "outputs": [],
   "source": [
    "convert_2_labels(preds)"
   ]
  },
  {
   "cell_type": "code",
   "execution_count": null,
   "metadata": {
    "ExecuteTime": {
     "start_time": "2019-07-22T03:20:24.492Z"
    }
   },
   "outputs": [],
   "source": [
    "coun=0\n",
    "all1=0\n",
    "for line in convert_2_labels(y_train):\n",
    "    for item in line:\n",
    "        if item == 3:\n",
    "            coun+=1\n",
    "        all1+=1"
   ]
  },
  {
   "cell_type": "code",
   "execution_count": null,
   "metadata": {
    "ExecuteTime": {
     "start_time": "2019-07-22T03:20:24.494Z"
    }
   },
   "outputs": [],
   "source": [
    "coun/all1"
   ]
  },
  {
   "cell_type": "code",
   "execution_count": null,
   "metadata": {},
   "outputs": [],
   "source": []
  }
 ],
 "metadata": {
  "kernelspec": {
   "display_name": "Python 3",
   "language": "python",
   "name": "python3"
  },
  "language_info": {
   "codemirror_mode": {
    "name": "ipython",
    "version": 3
   },
   "file_extension": ".py",
   "mimetype": "text/x-python",
   "name": "python",
   "nbconvert_exporter": "python",
   "pygments_lexer": "ipython3",
   "version": "3.6.8"
  }
 },
 "nbformat": 4,
 "nbformat_minor": 2
}
