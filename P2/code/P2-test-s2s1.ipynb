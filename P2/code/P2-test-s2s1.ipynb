{
 "cells": [
  {
   "cell_type": "code",
   "execution_count": null,
   "metadata": {},
   "outputs": [],
   "source": [
    "import seq2seq\n",
    "from seq2seq.models import AttentionSeq2Seq\n",
    "\n",
    "model = AttentionSeq2Seq(input_dim=5, input_length=7, hidden_dim=10, output_length=8, output_dim=20, depth=4)\n",
    "model.compile(loss='mse', optimizer='rmsprop')"
   ]
  },
  {
   "cell_type": "code",
   "execution_count": null,
   "metadata": {},
   "outputs": [],
   "source": [
    "from seq2seq import SimpleSeq2Seq, Seq2Seq, AttentionSeq2Seq\n",
    "import numpy as np\n",
    "\n",
    "\n",
    "\n",
    "input_length = 5\n",
    "input_dim = 3\n",
    "\n",
    "output_length = 3\n",
    "output_dim = 4\n",
    "\n",
    "samples = 100\n",
    "hidden_dim = 24\n",
    "\n",
    "\n",
    "\n",
    "def test_SimpleSeq2Seq():\n",
    "    x = np.random.random((samples, input_length, input_dim))\n",
    "    y = np.random.random((samples, output_length, output_dim))\n",
    "\n",
    "    models = []\n",
    "    models += [SimpleSeq2Seq(output_dim=output_dim, hidden_dim=hidden_dim, output_length=output_length, input_shape=(input_length, input_dim))]\n",
    "    models += [SimpleSeq2Seq(output_dim=output_dim, hidden_dim=hidden_dim, output_length=output_length, input_shape=(input_length, input_dim), depth=2)]\n",
    "\n",
    "    for model in models:\n",
    "        model.compile(loss='mse', optimizer='sgd')\n",
    "        model.fit(x, y, nb_epoch=1)\n",
    "\n",
    "\n",
    "\n",
    "def test_Seq2Seq():\n",
    "    x = np.random.random((samples, input_length, input_dim))\n",
    "    y = np.random.random((samples, output_length, output_dim))\n",
    "\n",
    "    models = []\n",
    "    models += [Seq2Seq(output_dim=output_dim, hidden_dim=hidden_dim, output_length=output_length, input_shape=(input_length, input_dim))]\n",
    "    models += [Seq2Seq(output_dim=output_dim, hidden_dim=hidden_dim, output_length=output_length, input_shape=(input_length, input_dim), peek=True)]\n",
    "    models += [Seq2Seq(output_dim=output_dim, hidden_dim=hidden_dim, output_length=output_length, input_shape=(input_length, input_dim), depth=2)]\n",
    "    models += [Seq2Seq(output_dim=output_dim, hidden_dim=hidden_dim, output_length=output_length, input_shape=(input_length, input_dim), peek=True, depth=2)]\n",
    "\n",
    "    for model in models:\n",
    "        model.compile(loss='mse', optimizer='sgd')\n",
    "        model.fit(x, y, epochs=1)\n",
    "\n",
    "    model = Seq2Seq(output_dim=output_dim, hidden_dim=hidden_dim, output_length=output_length, input_shape=(input_length, input_dim), peek=True, depth=2, teacher_force=True)\n",
    "    model.compile(loss='mse', optimizer='sgd')\n",
    "    model.fit([x, y], y, epochs=1)\n",
    "    \n",
    "\n",
    "def test_AttentionSeq2Seq():\n",
    "    x = np.random.random((samples, input_length, input_dim))\n",
    "    y = np.random.random((samples, output_length, output_dim))\n",
    "    print(x,y)\n",
    "    return\n",
    "    models = []\n",
    "    models += [AttentionSeq2Seq(output_dim=output_dim, hidden_dim=hidden_dim, output_length=output_length, input_shape=(input_length, input_dim))]\n",
    "    models += [AttentionSeq2Seq(output_dim=output_dim, hidden_dim=hidden_dim, output_length=output_length, input_shape=(input_length, input_dim), depth=2)]\n",
    "    models += [AttentionSeq2Seq(output_dim=output_dim, hidden_dim=hidden_dim, output_length=output_length, input_shape=(input_length, input_dim), depth=3)]\n",
    "\n",
    "    for model in models:\n",
    "        model.compile(loss='mse', optimizer='sgd')\n",
    "        model.fit(x, y, epochs=1)"
   ]
  },
  {
   "cell_type": "code",
   "execution_count": null,
   "metadata": {},
   "outputs": [],
   "source": [
    "test_AttentionSeq2Seq()"
   ]
  },
  {
   "cell_type": "code",
   "execution_count": null,
   "metadata": {},
   "outputs": [],
   "source": []
  }
 ],
 "metadata": {
  "kernelspec": {
   "display_name": "Python 3",
   "language": "python",
   "name": "python3"
  },
  "language_info": {
   "codemirror_mode": {
    "name": "ipython",
    "version": 3
   },
   "file_extension": ".py",
   "mimetype": "text/x-python",
   "name": "python",
   "nbconvert_exporter": "python",
   "pygments_lexer": "ipython3",
   "version": "3.6.8"
  }
 },
 "nbformat": 4,
 "nbformat_minor": 2
}
