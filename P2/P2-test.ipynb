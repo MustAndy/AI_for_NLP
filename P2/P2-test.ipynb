{
 "cells": [
  {
   "cell_type": "code",
   "execution_count": 1,
   "metadata": {
    "ExecuteTime": {
     "end_time": "2019-07-11T13:43:15.827008Z",
     "start_time": "2019-07-11T13:43:14.648716Z"
    }
   },
   "outputs": [],
   "source": [
    "import pandas as pd\n",
    "from collections import Counter\n",
    "import numpy as np\n",
    "from opencc import OpenCC\n",
    "import jieba\n",
    "import random"
   ]
  },
  {
   "cell_type": "markdown",
   "metadata": {},
   "source": [
    "# 读取数据"
   ]
  },
  {
   "cell_type": "code",
   "execution_count": 2,
   "metadata": {
    "ExecuteTime": {
     "end_time": "2019-07-11T13:43:18.701319Z",
     "start_time": "2019-07-11T13:43:15.828039Z"
    }
   },
   "outputs": [],
   "source": [
    "data = pd.read_csv('D:/senior/aiCourse/dataSource/comment_classification/train/sentiment_analysis_trainingset.csv',encoding='UTF-8')"
   ]
  },
  {
   "cell_type": "code",
   "execution_count": 3,
   "metadata": {
    "ExecuteTime": {
     "end_time": "2019-07-11T13:43:18.724602Z",
     "start_time": "2019-07-11T13:43:18.705583Z"
    }
   },
   "outputs": [
    {
     "data": {
      "text/plain": [
       "Index(['id', 'content', 'location_traffic_convenience',\n",
       "       'location_distance_from_business_district', 'location_easy_to_find',\n",
       "       'service_wait_time', 'service_waiters_attitude',\n",
       "       'service_parking_convenience', 'service_serving_speed', 'price_level',\n",
       "       'price_cost_effective', 'price_discount', 'environment_decoration',\n",
       "       'environment_noise', 'environment_space', 'environment_cleaness',\n",
       "       'dish_portion', 'dish_taste', 'dish_look', 'dish_recommendation',\n",
       "       'others_overall_experience', 'others_willing_to_consume_again'],\n",
       "      dtype='object')"
      ]
     },
     "execution_count": 3,
     "metadata": {},
     "output_type": "execute_result"
    }
   ],
   "source": [
    "data.columns"
   ]
  },
  {
   "cell_type": "code",
   "execution_count": 4,
   "metadata": {
    "ExecuteTime": {
     "end_time": "2019-07-11T13:43:18.762494Z",
     "start_time": "2019-07-11T13:43:18.728149Z"
    }
   },
   "outputs": [],
   "source": [
    "#填充空白格\n",
    "data['content'] = data['content'].fillna('')"
   ]
  },
  {
   "cell_type": "code",
   "execution_count": 5,
   "metadata": {
    "ExecuteTime": {
     "end_time": "2019-07-11T13:43:18.779565Z",
     "start_time": "2019-07-11T13:43:18.766079Z"
    }
   },
   "outputs": [],
   "source": [
    "sample = 5000\n",
    "random_indices = np.random.choice(np.arange(len(data['content'])), sample)\n",
    "sub_data = data.iloc[random_indices]"
   ]
  },
  {
   "cell_type": "code",
   "execution_count": 6,
   "metadata": {
    "ExecuteTime": {
     "end_time": "2019-07-11T13:43:18.821261Z",
     "start_time": "2019-07-11T13:43:18.783013Z"
    }
   },
   "outputs": [
    {
     "data": {
      "text/html": [
       "<div>\n",
       "<style scoped>\n",
       "    .dataframe tbody tr th:only-of-type {\n",
       "        vertical-align: middle;\n",
       "    }\n",
       "\n",
       "    .dataframe tbody tr th {\n",
       "        vertical-align: top;\n",
       "    }\n",
       "\n",
       "    .dataframe thead th {\n",
       "        text-align: right;\n",
       "    }\n",
       "</style>\n",
       "<table border=\"1\" class=\"dataframe\">\n",
       "  <thead>\n",
       "    <tr style=\"text-align: right;\">\n",
       "      <th></th>\n",
       "      <th>id</th>\n",
       "      <th>content</th>\n",
       "      <th>location_traffic_convenience</th>\n",
       "      <th>location_distance_from_business_district</th>\n",
       "      <th>location_easy_to_find</th>\n",
       "      <th>service_wait_time</th>\n",
       "      <th>service_waiters_attitude</th>\n",
       "      <th>service_parking_convenience</th>\n",
       "      <th>service_serving_speed</th>\n",
       "      <th>price_level</th>\n",
       "      <th>...</th>\n",
       "      <th>environment_decoration</th>\n",
       "      <th>environment_noise</th>\n",
       "      <th>environment_space</th>\n",
       "      <th>environment_cleaness</th>\n",
       "      <th>dish_portion</th>\n",
       "      <th>dish_taste</th>\n",
       "      <th>dish_look</th>\n",
       "      <th>dish_recommendation</th>\n",
       "      <th>others_overall_experience</th>\n",
       "      <th>others_willing_to_consume_again</th>\n",
       "    </tr>\n",
       "  </thead>\n",
       "  <tbody>\n",
       "    <tr>\n",
       "      <th>12803</th>\n",
       "      <td>12803</td>\n",
       "      <td>\"环境非常好，交通便利。本来以为要找一下，没想到在凉粉桥公交站旁边就是。店外的招牌就显得相当...</td>\n",
       "      <td>1</td>\n",
       "      <td>-2</td>\n",
       "      <td>1</td>\n",
       "      <td>-2</td>\n",
       "      <td>1</td>\n",
       "      <td>-2</td>\n",
       "      <td>-2</td>\n",
       "      <td>-1</td>\n",
       "      <td>...</td>\n",
       "      <td>1</td>\n",
       "      <td>1</td>\n",
       "      <td>0</td>\n",
       "      <td>1</td>\n",
       "      <td>-2</td>\n",
       "      <td>1</td>\n",
       "      <td>-2</td>\n",
       "      <td>1</td>\n",
       "      <td>1</td>\n",
       "      <td>1</td>\n",
       "    </tr>\n",
       "    <tr>\n",
       "      <th>81145</th>\n",
       "      <td>81145</td>\n",
       "      <td>\"【位置交通】\\n\\n在西单商圈，僻静的胡同里面，第一次去，真的是百度都没有找到，附近交通便...</td>\n",
       "      <td>1</td>\n",
       "      <td>1</td>\n",
       "      <td>-1</td>\n",
       "      <td>0</td>\n",
       "      <td>-2</td>\n",
       "      <td>-2</td>\n",
       "      <td>-2</td>\n",
       "      <td>1</td>\n",
       "      <td>...</td>\n",
       "      <td>0</td>\n",
       "      <td>-1</td>\n",
       "      <td>-1</td>\n",
       "      <td>-2</td>\n",
       "      <td>0</td>\n",
       "      <td>0</td>\n",
       "      <td>1</td>\n",
       "      <td>-2</td>\n",
       "      <td>1</td>\n",
       "      <td>-2</td>\n",
       "    </tr>\n",
       "    <tr>\n",
       "      <th>101979</th>\n",
       "      <td>101979</td>\n",
       "      <td>\"刚从香港回来，又开始心心念念想吃港式了，朋友在美罗城附近上班，说楼上新开了一家港式，而且2...</td>\n",
       "      <td>-2</td>\n",
       "      <td>1</td>\n",
       "      <td>-2</td>\n",
       "      <td>-2</td>\n",
       "      <td>-2</td>\n",
       "      <td>-2</td>\n",
       "      <td>-2</td>\n",
       "      <td>-2</td>\n",
       "      <td>...</td>\n",
       "      <td>-2</td>\n",
       "      <td>-2</td>\n",
       "      <td>-2</td>\n",
       "      <td>-2</td>\n",
       "      <td>1</td>\n",
       "      <td>1</td>\n",
       "      <td>1</td>\n",
       "      <td>1</td>\n",
       "      <td>1</td>\n",
       "      <td>1</td>\n",
       "    </tr>\n",
       "    <tr>\n",
       "      <th>74614</th>\n",
       "      <td>74614</td>\n",
       "      <td>\"多谢大众点评霸王餐给我100大洋代金券，于是我又能愉快的用餐了。店铺很好找，客村地铁d出口...</td>\n",
       "      <td>1</td>\n",
       "      <td>1</td>\n",
       "      <td>1</td>\n",
       "      <td>-2</td>\n",
       "      <td>-2</td>\n",
       "      <td>-2</td>\n",
       "      <td>-2</td>\n",
       "      <td>-1</td>\n",
       "      <td>...</td>\n",
       "      <td>1</td>\n",
       "      <td>-2</td>\n",
       "      <td>-2</td>\n",
       "      <td>-2</td>\n",
       "      <td>-2</td>\n",
       "      <td>0</td>\n",
       "      <td>-2</td>\n",
       "      <td>-2</td>\n",
       "      <td>-1</td>\n",
       "      <td>-1</td>\n",
       "    </tr>\n",
       "    <tr>\n",
       "      <th>90448</th>\n",
       "      <td>90448</td>\n",
       "      <td>\"本来上来是要给五星的，因为觉得蛋糕便宜，味道不错，不过看到有团购自动扣掉一星，买单时看到有...</td>\n",
       "      <td>-2</td>\n",
       "      <td>-2</td>\n",
       "      <td>-2</td>\n",
       "      <td>-2</td>\n",
       "      <td>0</td>\n",
       "      <td>-2</td>\n",
       "      <td>-2</td>\n",
       "      <td>-2</td>\n",
       "      <td>...</td>\n",
       "      <td>-2</td>\n",
       "      <td>-2</td>\n",
       "      <td>-2</td>\n",
       "      <td>-2</td>\n",
       "      <td>-2</td>\n",
       "      <td>1</td>\n",
       "      <td>-2</td>\n",
       "      <td>-2</td>\n",
       "      <td>1</td>\n",
       "      <td>-2</td>\n",
       "    </tr>\n",
       "  </tbody>\n",
       "</table>\n",
       "<p>5 rows × 22 columns</p>\n",
       "</div>"
      ],
      "text/plain": [
       "            id                                            content  \\\n",
       "12803    12803  \"环境非常好，交通便利。本来以为要找一下，没想到在凉粉桥公交站旁边就是。店外的招牌就显得相当...   \n",
       "81145    81145  \"【位置交通】\\n\\n在西单商圈，僻静的胡同里面，第一次去，真的是百度都没有找到，附近交通便...   \n",
       "101979  101979  \"刚从香港回来，又开始心心念念想吃港式了，朋友在美罗城附近上班，说楼上新开了一家港式，而且2...   \n",
       "74614    74614  \"多谢大众点评霸王餐给我100大洋代金券，于是我又能愉快的用餐了。店铺很好找，客村地铁d出口...   \n",
       "90448    90448  \"本来上来是要给五星的，因为觉得蛋糕便宜，味道不错，不过看到有团购自动扣掉一星，买单时看到有...   \n",
       "\n",
       "        location_traffic_convenience  \\\n",
       "12803                              1   \n",
       "81145                              1   \n",
       "101979                            -2   \n",
       "74614                              1   \n",
       "90448                             -2   \n",
       "\n",
       "        location_distance_from_business_district  location_easy_to_find  \\\n",
       "12803                                         -2                      1   \n",
       "81145                                          1                     -1   \n",
       "101979                                         1                     -2   \n",
       "74614                                          1                      1   \n",
       "90448                                         -2                     -2   \n",
       "\n",
       "        service_wait_time  service_waiters_attitude  \\\n",
       "12803                  -2                         1   \n",
       "81145                   0                        -2   \n",
       "101979                 -2                        -2   \n",
       "74614                  -2                        -2   \n",
       "90448                  -2                         0   \n",
       "\n",
       "        service_parking_convenience  service_serving_speed  price_level  ...  \\\n",
       "12803                            -2                     -2           -1  ...   \n",
       "81145                            -2                     -2            1  ...   \n",
       "101979                           -2                     -2           -2  ...   \n",
       "74614                            -2                     -2           -1  ...   \n",
       "90448                            -2                     -2           -2  ...   \n",
       "\n",
       "        environment_decoration  environment_noise  environment_space  \\\n",
       "12803                        1                  1                  0   \n",
       "81145                        0                 -1                 -1   \n",
       "101979                      -2                 -2                 -2   \n",
       "74614                        1                 -2                 -2   \n",
       "90448                       -2                 -2                 -2   \n",
       "\n",
       "        environment_cleaness  dish_portion  dish_taste  dish_look  \\\n",
       "12803                      1            -2           1         -2   \n",
       "81145                     -2             0           0          1   \n",
       "101979                    -2             1           1          1   \n",
       "74614                     -2            -2           0         -2   \n",
       "90448                     -2            -2           1         -2   \n",
       "\n",
       "        dish_recommendation  others_overall_experience  \\\n",
       "12803                     1                          1   \n",
       "81145                    -2                          1   \n",
       "101979                    1                          1   \n",
       "74614                    -2                         -1   \n",
       "90448                    -2                          1   \n",
       "\n",
       "        others_willing_to_consume_again  \n",
       "12803                                 1  \n",
       "81145                                -2  \n",
       "101979                                1  \n",
       "74614                                -1  \n",
       "90448                                -2  \n",
       "\n",
       "[5 rows x 22 columns]"
      ]
     },
     "execution_count": 6,
     "metadata": {},
     "output_type": "execute_result"
    }
   ],
   "source": [
    "sub_data.head()"
   ]
  },
  {
   "cell_type": "markdown",
   "metadata": {},
   "source": [
    "# 预处理，主要处理content字段"
   ]
  },
  {
   "cell_type": "code",
   "execution_count": 7,
   "metadata": {
    "ExecuteTime": {
     "end_time": "2019-07-11T13:43:18.834258Z",
     "start_time": "2019-07-11T13:43:18.822926Z"
    }
   },
   "outputs": [],
   "source": [
    "\n",
    "def is_CN_char(ch):\n",
    "    return ch >= u'\\u4e00' and ch <= u'\\u9fa5'\n",
    "\n",
    "def cut(string):\n",
    "    return list(jieba.cut(string))\n",
    "\n",
    "def get_stopwords(filename = \"D:/senior/aiCourse/dataSource/stop_word.txt\"):\n",
    "    stopwords_dic = open(filename, encoding= 'utf-8')\n",
    "    stopwords = stopwords_dic.readlines()\n",
    "    stopwords = [w.strip() for w in stopwords]\n",
    "    stopwords_dic.close()\n",
    "    return stopwords\n",
    "\n",
    "def convert2simple(word):\n",
    "    openCC = OpenCC('tw2sp')\n",
    "    return openCC.convert(word)"
   ]
  },
  {
   "cell_type": "code",
   "execution_count": 8,
   "metadata": {
    "ExecuteTime": {
     "end_time": "2019-07-11T13:43:18.847936Z",
     "start_time": "2019-07-11T13:43:18.839283Z"
    }
   },
   "outputs": [],
   "source": [
    "stopwords = get_stopwords()"
   ]
  },
  {
   "cell_type": "code",
   "execution_count": 9,
   "metadata": {
    "ExecuteTime": {
     "end_time": "2019-07-11T13:43:18.856746Z",
     "start_time": "2019-07-11T13:43:18.851752Z"
    }
   },
   "outputs": [],
   "source": [
    "def clean_sentence(sentence):\n",
    "    stopwords = get_stopwords()\n",
    "    sentence = ''.join(filter(is_CN_char,sentence))\n",
    "    #sentence = convert2simple(sentence)\n",
    "    words = [w for w in cut(sentence) if len(w)>1 and w not in stopwords]\n",
    "    words = ' '.join(words)\n",
    "    return words  "
   ]
  },
  {
   "cell_type": "code",
   "execution_count": 10,
   "metadata": {
    "ExecuteTime": {
     "end_time": "2019-07-11T13:44:03.136226Z",
     "start_time": "2019-07-11T13:43:18.859599Z"
    }
   },
   "outputs": [
    {
     "name": "stderr",
     "output_type": "stream",
     "text": [
      "Building prefix dict from the default dictionary ...\n",
      "Loading model from cache C:\\Users\\Andywong\\AppData\\Local\\Temp\\jieba.cache\n",
      "Loading model cost 1.390 seconds.\n",
      "Prefix dict has been built succesfully.\n",
      "e:\\anaconda\\envs\\aicourse\\lib\\site-packages\\ipykernel_launcher.py:1: SettingWithCopyWarning: \n",
      "A value is trying to be set on a copy of a slice from a DataFrame.\n",
      "Try using .loc[row_indexer,col_indexer] = value instead\n",
      "\n",
      "See the caveats in the documentation: http://pandas.pydata.org/pandas-docs/stable/indexing.html#indexing-view-versus-copy\n",
      "  \"\"\"Entry point for launching an IPython kernel.\n"
     ]
    }
   ],
   "source": [
    "sub_data['content'] = sub_data['content'].apply(clean_sentence)"
   ]
  },
  {
   "cell_type": "code",
   "execution_count": 11,
   "metadata": {
    "ExecuteTime": {
     "end_time": "2019-07-11T13:44:03.148722Z",
     "start_time": "2019-07-11T13:44:03.139421Z"
    }
   },
   "outputs": [
    {
     "data": {
      "text/plain": [
       "12803     环境 交通 便利 本来 没想到 凉粉 公交站 旁边 店外 招牌 显得 档次 装修 风格 暗色...\n",
       "81145     位置 交通 西单 商圈 僻静 胡同 第一次 真的 百度 找到 交通 便利 西单 地铁站 号线...\n",
       "101979    香港 回来 心心念念 港式 朋友 美罗城 上班 楼上 新开 一家 港式 五折 活动 尝尝鲜 ...\n",
       "74614     多谢 大众 点评 霸王餐 大洋 代金券 愉快 用餐 店铺 好找 客村 地铁 出口 星光 城入...\n",
       "90448     本来 五星 蛋糕 便宜 味道 不错 团购 自动 扣掉 一星 买单 有人 手机 扫一扫 店员 ...\n",
       "60636     周六 计划 朋友 逛下 头天 晚上 策划 第二天 解决 吃饭问题 计划 翠华 点评 这家 烤...\n",
       "99272     晚上 七点 太兴 餐厅 正对面 柱子 贴着 一张 芒果 松饼 甜点 图片 深深 吸引 今晚 ...\n",
       "87311     朋友 相约 日料 点评 随便 翻翻 这家 恒隆 交通 环境 不差 评论 欧凯 就定 这家 周...\n",
       "52317     朋友 聚餐 地理位置 丰利 商场 往东 路南 好找 门口 有个 瓦罐 听说 江西 里边 不算...\n",
       "45951     油饼 妈妈 重庆 火锅 位置 桂林 孩子 迷路 凭着 多方 支援 加上 百度 阿姨 成功 着...\n",
       "Name: content, dtype: object"
      ]
     },
     "execution_count": 11,
     "metadata": {},
     "output_type": "execute_result"
    }
   ],
   "source": [
    "sub_data['content'][:10]"
   ]
  },
  {
   "cell_type": "code",
   "execution_count": 12,
   "metadata": {
    "ExecuteTime": {
     "end_time": "2019-07-11T13:44:03.165490Z",
     "start_time": "2019-07-11T13:44:03.151696Z"
    }
   },
   "outputs": [],
   "source": [
    "def word_to_id(vocab):\n",
    "    counts = Counter(vocab)\n",
    "    vocab = sorted(counts, key=counts.get, reverse=True)\n",
    "    word_to_id = { word : i for i, word in enumerate(vocab)}\n",
    "    id_to_word = {i:word for i,word in enumerate(vocab)}\n",
    "    return word_to_id, id_to_word"
   ]
  },
  {
   "cell_type": "code",
   "execution_count": 13,
   "metadata": {
    "ExecuteTime": {
     "end_time": "2019-07-11T13:44:03.382275Z",
     "start_time": "2019-07-11T13:44:03.168441Z"
    }
   },
   "outputs": [],
   "source": [
    "vocab = ' '.join(sub_data['content']).split()\n",
    "vocab.append('unknown')\n",
    "word_to_id, id_to_word = word_to_id(vocab)"
   ]
  },
  {
   "cell_type": "code",
   "execution_count": 14,
   "metadata": {
    "ExecuteTime": {
     "end_time": "2019-07-11T13:44:03.390858Z",
     "start_time": "2019-07-11T13:44:03.383275Z"
    }
   },
   "outputs": [],
   "source": [
    "def comment_to_id(word_to_id,comments):\n",
    "    comment_to_id = []\n",
    "    for comment in comments:\n",
    "        comment_to_id.append([word_to_id[word] for word in comment.split()] )\n",
    "    return comment_to_id"
   ]
  },
  {
   "cell_type": "code",
   "execution_count": 15,
   "metadata": {
    "ExecuteTime": {
     "end_time": "2019-07-11T13:44:03.584329Z",
     "start_time": "2019-07-11T13:44:03.396076Z"
    }
   },
   "outputs": [],
   "source": [
    "comment_to_id = comment_to_id(word_to_id,sub_data['content'])"
   ]
  },
  {
   "cell_type": "code",
   "execution_count": 16,
   "metadata": {
    "ExecuteTime": {
     "end_time": "2019-07-11T13:44:03.604114Z",
     "start_time": "2019-07-11T13:44:03.586546Z"
    }
   },
   "outputs": [],
   "source": [
    "def pad_sequences(comment_to_id,maxlen,padding='post',truncating='post'):\n",
    "    features = np.zeros((len(comment_to_id), maxlen), dtype=int)\n",
    "    for i,comment in enumerate(comment_to_id):\n",
    "        if len(comment) <= maxlen and padding == 'pre':\n",
    "            features[i, -len(comment):] = np.array(comment)[:maxlen]\n",
    "        if len(comment) <= maxlen and padding == 'post':\n",
    "            features[i, :len(comment)] = np.array(comment)[:maxlen]\n",
    "        if len(comment) > maxlen and truncating == 'post':\n",
    "            features[i, :] = np.array(comment)[:maxlen]\n",
    "        if len(comment) > maxlen and truncating == 'pre':\n",
    "            features[i, :] = np.array(comment)[len(comment)-maxlen:]           \n",
    "    return features"
   ]
  },
  {
   "cell_type": "code",
   "execution_count": 17,
   "metadata": {
    "ExecuteTime": {
     "end_time": "2019-07-11T13:44:03.701745Z",
     "start_time": "2019-07-11T13:44:03.609506Z"
    }
   },
   "outputs": [],
   "source": [
    "pad_comments = pad_sequences(comment_to_id,maxlen=200,padding='post',truncating='post')"
   ]
  },
  {
   "cell_type": "code",
   "execution_count": 18,
   "metadata": {
    "ExecuteTime": {
     "end_time": "2019-07-11T13:44:03.713539Z",
     "start_time": "2019-07-11T13:44:03.705654Z"
    }
   },
   "outputs": [
    {
     "data": {
      "text/plain": [
       "(5000, 200)"
      ]
     },
     "execution_count": 18,
     "metadata": {},
     "output_type": "execute_result"
    }
   ],
   "source": [
    "pad_comments.shape"
   ]
  },
  {
   "cell_type": "code",
   "execution_count": 19,
   "metadata": {
    "ExecuteTime": {
     "end_time": "2019-07-11T13:44:03.725664Z",
     "start_time": "2019-07-11T13:44:03.716852Z"
    }
   },
   "outputs": [
    {
     "data": {
      "text/plain": [
       "Index(['id', 'content', 'location_traffic_convenience',\n",
       "       'location_distance_from_business_district', 'location_easy_to_find',\n",
       "       'service_wait_time', 'service_waiters_attitude',\n",
       "       'service_parking_convenience', 'service_serving_speed', 'price_level',\n",
       "       'price_cost_effective', 'price_discount', 'environment_decoration',\n",
       "       'environment_noise', 'environment_space', 'environment_cleaness',\n",
       "       'dish_portion', 'dish_taste', 'dish_look', 'dish_recommendation',\n",
       "       'others_overall_experience', 'others_willing_to_consume_again'],\n",
       "      dtype='object')"
      ]
     },
     "execution_count": 19,
     "metadata": {},
     "output_type": "execute_result"
    }
   ],
   "source": [
    "data.columns"
   ]
  },
  {
   "cell_type": "code",
   "execution_count": null,
   "metadata": {},
   "outputs": [],
   "source": []
  },
  {
   "cell_type": "code",
   "execution_count": 20,
   "metadata": {
    "ExecuteTime": {
     "end_time": "2019-07-11T13:44:03.745959Z",
     "start_time": "2019-07-11T13:44:03.730182Z"
    }
   },
   "outputs": [],
   "source": [
    "labels = sub_data[[ 'location_traffic_convenience',\n",
    "       'location_distance_from_business_district', 'location_easy_to_find',\n",
    "       'service_wait_time', 'service_waiters_attitude',\n",
    "       'service_parking_convenience', 'service_serving_speed', 'price_level',\n",
    "       'price_cost_effective', 'price_discount', 'environment_decoration',\n",
    "       'environment_noise', 'environment_space', 'environment_cleaness',\n",
    "       'dish_portion', 'dish_taste', 'dish_look', 'dish_recommendation',\n",
    "       'others_overall_experience', 'others_willing_to_consume_again']].values"
   ]
  },
  {
   "cell_type": "code",
   "execution_count": 21,
   "metadata": {
    "ExecuteTime": {
     "end_time": "2019-07-11T13:44:03.908430Z",
     "start_time": "2019-07-11T13:44:03.750154Z"
    }
   },
   "outputs": [],
   "source": [
    "for i in range(len(labels)):\n",
    "    for j in range(20):\n",
    "        labels[i][j]+=2"
   ]
  },
  {
   "cell_type": "code",
   "execution_count": 22,
   "metadata": {
    "ExecuteTime": {
     "end_time": "2019-07-11T13:44:03.922511Z",
     "start_time": "2019-07-11T13:44:03.911730Z"
    }
   },
   "outputs": [
    {
     "data": {
      "text/plain": [
       "array([[3, 0, 3, 0, 3, 0, 0, 1, 0, 0, 3, 3, 2, 3, 0, 3, 0, 3, 3, 3],\n",
       "       [3, 3, 1, 2, 0, 0, 0, 3, 0, 0, 2, 1, 1, 0, 2, 2, 3, 0, 3, 0],\n",
       "       [0, 3, 0, 0, 0, 0, 0, 0, 0, 3, 0, 0, 0, 0, 3, 3, 3, 3, 3, 3],\n",
       "       [3, 3, 3, 0, 0, 0, 0, 1, 0, 3, 3, 0, 0, 0, 0, 2, 0, 0, 1, 1],\n",
       "       [0, 0, 0, 0, 2, 0, 0, 0, 0, 2, 0, 0, 0, 0, 0, 3, 0, 0, 3, 0],\n",
       "       [0, 2, 0, 0, 2, 0, 3, 3, 3, 2, 3, 3, 2, 3, 0, 3, 0, 0, 3, 0],\n",
       "       [0, 0, 0, 0, 0, 0, 0, 2, 0, 2, 0, 0, 0, 0, 0, 2, 1, 0, 0, 0],\n",
       "       [3, 0, 0, 0, 2, 0, 0, 2, 0, 0, 3, 3, 3, 3, 0, 2, 0, 0, 2, 1],\n",
       "       [0, 3, 3, 0, 1, 0, 2, 2, 0, 2, 0, 0, 1, 0, 0, 3, 0, 3, 3, 0],\n",
       "       [0, 0, 0, 0, 3, 0, 3, 3, 0, 2, 0, 0, 0, 0, 0, 3, 0, 0, 3, 0]],\n",
       "      dtype=int64)"
      ]
     },
     "execution_count": 22,
     "metadata": {},
     "output_type": "execute_result"
    }
   ],
   "source": [
    "labels[:10]"
   ]
  },
  {
   "cell_type": "code",
   "execution_count": 23,
   "metadata": {
    "ExecuteTime": {
     "end_time": "2019-07-11T13:44:03.938285Z",
     "start_time": "2019-07-11T13:44:03.929227Z"
    }
   },
   "outputs": [],
   "source": [
    "def split_dataset(pad_comments,labels,split_frac):\n",
    "    split_index = int(len(pad_comments)*split_frac)\n",
    "    data_list = list(zip(pad_comments, labels))\n",
    "    random.shuffle(data_list)\n",
    "    pad_comments, labels = zip(*data_list)\n",
    "    x_train, x_test = pad_comments[:split_index], pad_comments[split_index:]\n",
    "    y_train, y_test = labels[:split_index], labels[split_index:]\n",
    "    return x_train,y_train,x_test,y_test "
   ]
  },
  {
   "cell_type": "code",
   "execution_count": 24,
   "metadata": {
    "ExecuteTime": {
     "end_time": "2019-07-11T13:44:03.976328Z",
     "start_time": "2019-07-11T13:44:03.943223Z"
    }
   },
   "outputs": [],
   "source": [
    "import random\n",
    "x_train,y_train,x_test,y_test = split_dataset(pad_comments,labels,0.8)"
   ]
  },
  {
   "cell_type": "markdown",
   "metadata": {},
   "source": [
    "# Model"
   ]
  },
  {
   "cell_type": "code",
   "execution_count": 100,
   "metadata": {
    "ExecuteTime": {
     "end_time": "2019-07-11T15:20:00.159087Z",
     "start_time": "2019-07-11T15:20:00.153129Z"
    }
   },
   "outputs": [],
   "source": [
    "from keras.models import Sequential\n",
    "from keras.layers import Dense\n",
    "from keras.layers.merge import add\n",
    "from keras.layers import LSTM,Bidirectional, Dropout,GRU\n",
    "from keras.layers.embeddings import Embedding\n",
    "from keras.layers.convolutional import Conv1D\n",
    "from keras.layers.convolutional import MaxPooling1D\n",
    "from keras import regularizers"
   ]
  },
  {
   "cell_type": "code",
   "execution_count": 101,
   "metadata": {
    "ExecuteTime": {
     "end_time": "2019-07-11T15:20:00.300345Z",
     "start_time": "2019-07-11T15:20:00.295391Z"
    }
   },
   "outputs": [],
   "source": [
    "max_comment_length = 200\n",
    "embedding_vecor_length = 300"
   ]
  },
  {
   "cell_type": "code",
   "execution_count": 102,
   "metadata": {
    "ExecuteTime": {
     "end_time": "2019-07-11T15:20:00.466247Z",
     "start_time": "2019-07-11T15:20:00.452287Z"
    }
   },
   "outputs": [],
   "source": [
    "x_train = np.array(x_train)\n",
    "y_train = np.array(y_train)\n",
    "x_test = np.array(x_test)\n",
    "y_test = np.array(y_test) "
   ]
  },
  {
   "cell_type": "code",
   "execution_count": 107,
   "metadata": {
    "ExecuteTime": {
     "end_time": "2019-07-11T15:26:09.375990Z",
     "start_time": "2019-07-11T15:24:50.293151Z"
    }
   },
   "outputs": [
    {
     "name": "stderr",
     "output_type": "stream",
     "text": [
      "e:\\anaconda\\envs\\aicourse\\lib\\site-packages\\ipykernel_launcher.py:2: UserWarning: The `dropout` argument is no longer support in `Embedding`. You can apply a `keras.layers.SpatialDropout1D` layer right after the `Embedding` layer to get the same behavior.\n",
      "  \n"
     ]
    },
    {
     "name": "stdout",
     "output_type": "stream",
     "text": [
      "_________________________________________________________________\n",
      "Layer (type)                 Output Shape              Param #   \n",
      "=================================================================\n",
      "embedding_19 (Embedding)     (None, 200, 300)          13079700  \n",
      "_________________________________________________________________\n",
      "conv1d_16 (Conv1D)           (None, 200, 32)           28832     \n",
      "_________________________________________________________________\n",
      "max_pooling1d_7 (MaxPooling1 (None, 100, 32)           0         \n",
      "_________________________________________________________________\n",
      "bidirectional_22 (Bidirectio (None, 100, 100)          33200     \n",
      "_________________________________________________________________\n",
      "bidirectional_23 (Bidirectio (None, 20)                8880      \n",
      "_________________________________________________________________\n",
      "dropout_11 (Dropout)         (None, 20)                0         \n",
      "_________________________________________________________________\n",
      "dense_19 (Dense)             (None, 20)                420       \n",
      "=================================================================\n",
      "Total params: 13,151,032\n",
      "Trainable params: 13,151,032\n",
      "Non-trainable params: 0\n",
      "_________________________________________________________________\n",
      "None\n",
      "Train on 4000 samples, validate on 1000 samples\n",
      "Epoch 1/5\n",
      "4000/4000 [==============================] - 18s 5ms/step - loss: 2.0472 - acc: 0.5066 - val_loss: 1.7441 - val_acc: 0.6297\n",
      "Epoch 2/5\n",
      "4000/4000 [==============================] - 13s 3ms/step - loss: 1.8005 - acc: 0.5642 - val_loss: 1.5768 - val_acc: 0.6327\n",
      "Epoch 3/5\n",
      "4000/4000 [==============================] - 15s 4ms/step - loss: 1.7222 - acc: 0.5868 - val_loss: 1.5244 - val_acc: 0.6327\n",
      "Epoch 4/5\n",
      "4000/4000 [==============================] - 15s 4ms/step - loss: 1.6788 - acc: 0.6006 - val_loss: 1.4985 - val_acc: 0.6327\n",
      "Epoch 5/5\n",
      "4000/4000 [==============================] - 15s 4ms/step - loss: 1.6443 - acc: 0.6040 - val_loss: 1.4880 - val_acc: 0.6327\n"
     ]
    }
   ],
   "source": [
    "model = Sequential()\n",
    "model.add(Embedding(len(word_to_id), embedding_vecor_length, input_length=max_comment_length, dropout=0.2))\n",
    "model.add(Conv1D(filters=32, kernel_size=3, padding='same', activation='relu'))\n",
    "model.add(MaxPooling1D(pool_size=2))\n",
    "model.add(Bidirectional(LSTM(50, return_sequences=True)))\n",
    "model.add(Bidirectional(LSTM(10)))\n",
    "model.add(Dropout(0.5))\n",
    "model.add(Dense(20, activation='sigmoid', activity_regularizer=regularizers.l2(0.001)))\n",
    "#model.compile(loss='categorical_crossentropy', optimizer='adam', metrics=['accuracy'])\n",
    "model.compile(loss='binary_crossentropy', optimizer='adam', metrics=['accuracy'])\n",
    "print(model.summary())\n",
    "history = model.fit(x_train, y_train,validation_data=(x_test, y_test), epochs=5,verbose=1, batch_size=300)"
   ]
  },
  {
   "cell_type": "code",
   "execution_count": 108,
   "metadata": {
    "ExecuteTime": {
     "end_time": "2019-07-11T15:26:09.390875Z",
     "start_time": "2019-07-11T15:26:09.375990Z"
    }
   },
   "outputs": [],
   "source": [
    "import matplotlib.pyplot as plt"
   ]
  },
  {
   "cell_type": "code",
   "execution_count": 109,
   "metadata": {
    "ExecuteTime": {
     "end_time": "2019-07-11T15:26:11.855334Z",
     "start_time": "2019-07-11T15:26:09.393866Z"
    }
   },
   "outputs": [
    {
     "name": "stdout",
     "output_type": "stream",
     "text": [
      "dict_keys(['val_loss', 'val_acc', 'loss', 'acc'])\n"
     ]
    },
    {
     "data": {
      "image/png": "[encoded data removed]",
      "text/plain": [
       "<Figure size 432x288 with 1 Axes>"
      ]
     },
     "metadata": {
      "needs_background": "light"
     },
     "output_type": "display_data"
    },
    {
     "data": {
      "image/png": "[encoded data removed]",
      "text/plain": [
       "<Figure size 432x288 with 1 Axes>"
      ]
     },
     "metadata": {
      "needs_background": "light"
     },
     "output_type": "display_data"
    },
    {
     "name": "stdout",
     "output_type": "stream",
     "text": [
      "4.9\n"
     ]
    }
   ],
   "source": [
    "print(history.history.keys())\n",
    "plt.plot(history.history['acc'])\n",
    "plt.plot(history.history['val_acc'])\n",
    "plt.title('model accuracy')\n",
    "plt.ylabel('accuracy')\n",
    "plt.xlabel('epoch')\n",
    "plt.legend(['train', 'test'], loc='upper left')\n",
    "\n",
    "plt.show()\n",
    "plt.plot(history.history['loss'])\n",
    "plt.plot(history.history['val_loss'])\n",
    "plt.title('model loss')\n",
    "plt.ylabel('loss')\n",
    "plt.xlabel('epoch')\n",
    "plt.legend(['train', 'test'], loc='upper left')\n",
    "plt.show()\n",
    "\n",
    "preds = model.predict(x_test)\n",
    "def accuracy(predictions, labels):\n",
    "  return (100.0 * np.sum(np.argmax(predictions, 1) == np.argmax(labels, 1))\n",
    "          / predictions.shape[0])\n",
    "print(accuracy(preds,y_test))"
   ]
  },
  {
   "cell_type": "code",
   "execution_count": null,
   "metadata": {},
   "outputs": [],
   "source": []
  }
 ],
 "metadata": {
  "kernelspec": {
   "display_name": "Python 3",
   "language": "python",
   "name": "python3"
  },
  "language_info": {
   "codemirror_mode": {
    "name": "ipython",
    "version": 3
   },
   "file_extension": ".py",
   "mimetype": "text/x-python",
   "name": "python",
   "nbconvert_exporter": "python",
   "pygments_lexer": "ipython3",
   "version": "3.6.8"
  }
 },
 "nbformat": 4,
 "nbformat_minor": 2
}
