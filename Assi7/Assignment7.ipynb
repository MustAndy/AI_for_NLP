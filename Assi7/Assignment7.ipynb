{
 "cells": [
  {
   "cell_type": "markdown",
   "metadata": {},
   "source": [
    "# 1. 对本节课的重要信息进行复习；\n"
   ]
  },
  {
   "cell_type": "markdown",
   "metadata": {},
   "source": [
    "机器学习，能够让计算机获得知识的方法。"
   ]
  },
  {
   "cell_type": "markdown",
   "metadata": {},
   "source": [
    "### 卖饼，各种方法指标去提升销量"
   ]
  },
  {
   "cell_type": "markdown",
   "metadata": {},
   "source": [
    "1. 简单的统计学方法去销售\n",
    "    比如k近邻，回归等方法。\n",
    "\n",
    "优：数据不大时，简单快捷，计算成本低，简单易懂\n",
    "\n",
    "缺：可能结果并不直观"
   ]
  },
  {
   "cell_type": "markdown",
   "metadata": {},
   "source": [
    "2. 类似决策树的方法，一层一层的决定。\n",
    "\n",
    "优：\n",
    "\n",
    "缺："
   ]
  },
  {
   "cell_type": "markdown",
   "metadata": {},
   "source": [
    "3. 概率统计的方法\n",
    "    比如朴素贝叶斯分类\n",
    "\n",
    "优：\n",
    "\n",
    "缺："
   ]
  },
  {
   "cell_type": "markdown",
   "metadata": {},
   "source": [
    "4. 机器学习方法，让机器去拟合函数。\n",
    "\n",
    "优：不用人为的去设计方程参数等\n",
    "\n",
    "缺：数据量不足或者模型设计不好时，准确率与性能下降严重。"
   ]
  },
  {
   "cell_type": "markdown",
   "metadata": {},
   "source": [
    "### 模型性能衡量参数"
   ]
  },
  {
   "cell_type": "markdown",
   "metadata": {},
   "source": [
    "TP-将正预测为真，FN-将正预测为假，FP-将反预测为真，TN-将反预测为假。"
   ]
  },
  {
   "cell_type": "markdown",
   "metadata": {},
   "source": [
    "$$ Acc = \\frac {TP+TN} {TP+FN+FP+TN} $$"
   ]
  },
  {
   "cell_type": "markdown",
   "metadata": {},
   "source": [
    "$$ Pre = \\frac {TP} {TP+FP} $$"
   ]
  },
  {
   "cell_type": "markdown",
   "metadata": {},
   "source": [
    "$$ Rec = \\frac {TP} {TP+FN} $$"
   ]
  },
  {
   "cell_type": "markdown",
   "metadata": {},
   "source": [
    "### 过拟合，欠拟合"
   ]
  },
  {
   "cell_type": "markdown",
   "metadata": {},
   "source": [
    "过拟合：模型与训练函数过度拟合，导致在训练阶段性能良好，但是测试阶段表现差\n",
    "\n",
    "欠拟合：模型无法从数据中得出知识，无法拟合数据。"
   ]
  },
  {
   "cell_type": "markdown",
   "metadata": {},
   "source": [
    "# 2. 整理 Overfitting, Underfitting 的产生原因，并整理成文本资料到 GitHub 中。"
   ]
  },
  {
   "cell_type": "markdown",
   "metadata": {},
   "source": [
    "Overfitting产生的原因：\n",
    "\n",
    "1. 数据量过小\n",
    "\n",
    "2. 数据噪声\n",
    "\n",
    "3. 训练过度，模型复杂。"
   ]
  },
  {
   "cell_type": "markdown",
   "metadata": {},
   "source": [
    "Underfitting产生的原因：\n",
    "\n",
    "1. 模型不够复杂，无法解决问题\n",
    "\n",
    "2. 训练不足\n",
    "\n",
    "3. 数据集特征不足"
   ]
  }
 ],
 "metadata": {
  "kernelspec": {
   "display_name": "Python 3",
   "language": "python",
   "name": "python3"
  },
  "language_info": {
   "codemirror_mode": {
    "name": "ipython",
    "version": 3
   },
   "file_extension": ".py",
   "mimetype": "text/x-python",
   "name": "python",
   "nbconvert_exporter": "python",
   "pygments_lexer": "ipython3",
   "version": "3.6.8"
  }
 },
 "nbformat": 4,
 "nbformat_minor": 2
}
