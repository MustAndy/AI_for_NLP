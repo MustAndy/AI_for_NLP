{
 "cells": [
  {
   "cell_type": "markdown",
   "metadata": {},
   "source": [
    "## Assignment of Lecture 04"
   ]
  },
  {
   "cell_type": "markdown",
   "metadata": {},
   "source": [
    "In this week, we need complete following tasks:\n",
    "+ Re-review the course online programming; \n",
    "+ Choose 1 - 2 books which you interested and keep reading; \n",
    "+ Answer the review questions\n",
    "+ Prepare the basic requirement of our 1st project. "
   ]
  },
  {
   "cell_type": "markdown",
   "metadata": {},
   "source": [
    "### Part I Review the online programming. "
   ]
  },
  {
   "cell_type": "code",
   "execution_count": 1,
   "metadata": {},
   "outputs": [],
   "source": [
    "original_prices = [1,5, 8, 9, 10, 17, 17, 20, 24, 30]\n",
    "from collections import defaultdict\n",
    "price = defaultdict(int)"
   ]
  },
  {
   "cell_type": "code",
   "execution_count": 2,
   "metadata": {},
   "outputs": [],
   "source": [
    "for i,p in enumerate(original_prices):\n",
    "    price[i+1]=p"
   ]
  },
  {
   "cell_type": "code",
   "execution_count": 3,
   "metadata": {},
   "outputs": [
    {
     "data": {
      "text/plain": [
       "0"
      ]
     },
     "execution_count": 3,
     "metadata": {},
     "output_type": "execute_result"
    }
   ],
   "source": [
    "price[132]"
   ]
  },
  {
   "cell_type": "code",
   "execution_count": 4,
   "metadata": {},
   "outputs": [],
   "source": [
    "import time\n",
    "def call_time(func_1,arg):\n",
    "    start=time.time()\n",
    "    func_1(arg)\n",
    "    print('used time: {}'.format(time.time()-start))"
   ]
  },
  {
   "cell_type": "markdown",
   "metadata": {},
   "source": [
    "引入函数装饰器的概念，一个函数可以去修饰一群函数"
   ]
  },
  {
   "cell_type": "code",
   "execution_count": 5,
   "metadata": {},
   "outputs": [],
   "source": [
    "def get_call_time(func):\n",
    "    def _wrap(arg):\n",
    "        start=time.time()\n",
    "        result=func(arg)\n",
    "        print('used time: {}'.format(time.time()-start))\n",
    "        return result\n",
    "    return _wrap"
   ]
  },
  {
   "cell_type": "code",
   "execution_count": 6,
   "metadata": {},
   "outputs": [],
   "source": [
    "from functools import lru_cache"
   ]
  },
  {
   "cell_type": "code",
   "execution_count": 7,
   "metadata": {},
   "outputs": [],
   "source": [
    "solution  = {}\n",
    "@lru_cache(maxsize=2*100*100)\n",
    "def r(n):\n",
    "    max_price, split_point = max(\n",
    "        [(price[n],0)]+[(r(i)+r(n-i),i) for i in range (1,n)],key = lambda x:x[0]\n",
    "    )\n",
    "    solution[n]=(split_point,n-split_point)\n",
    "    return max_price"
   ]
  },
  {
   "cell_type": "code",
   "execution_count": 8,
   "metadata": {},
   "outputs": [
    {
     "data": {
      "text/plain": [
       "1668"
      ]
     },
     "execution_count": 8,
     "metadata": {},
     "output_type": "execute_result"
    }
   ],
   "source": [
    "r(557)\n"
   ]
  },
  {
   "cell_type": "code",
   "execution_count": 9,
   "metadata": {},
   "outputs": [],
   "source": [
    "aaa=get_call_time(r)"
   ]
  },
  {
   "cell_type": "code",
   "execution_count": 10,
   "metadata": {},
   "outputs": [
    {
     "name": "stdout",
     "output_type": "stream",
     "text": [
      "used time: 0.2109997272491455\n"
     ]
    },
    {
     "data": {
      "text/plain": [
       "2995"
      ]
     },
     "execution_count": 10,
     "metadata": {},
     "output_type": "execute_result"
    }
   ],
   "source": [
    "aaa(999)"
   ]
  },
  {
   "cell_type": "code",
   "execution_count": 11,
   "metadata": {},
   "outputs": [],
   "source": [
    "def not_cut(split):return split==0\n",
    "\n",
    "def parse_solution(target_length,revenue_solution):\n",
    "    left,right = revenue_solution[target_length]\n",
    "    if not_cut(left):return [right]\n",
    "    \n",
    "    return parse_solution(left,revenue_solution)+(parse_solution(right,revenue_solution))\n"
   ]
  },
  {
   "cell_type": "code",
   "execution_count": 12,
   "metadata": {},
   "outputs": [
    {
     "data": {
      "text/plain": [
       "[2, 3, 10, 10, 10, 10, 10]"
      ]
     },
     "execution_count": 12,
     "metadata": {},
     "output_type": "execute_result"
    }
   ],
   "source": [
    "parse_solution(55,solution)"
   ]
  },
  {
   "cell_type": "markdown",
   "metadata": {},
   "source": [
    "### Part1-2: Finish the Solution Parse Part of Edit-Distance"
   ]
  },
  {
   "cell_type": "code",
   "execution_count": 13,
   "metadata": {},
   "outputs": [],
   "source": [
    "from functools import lru_cache\n",
    "\n",
    "class Edit_Distance():\n",
    "    \n",
    "    def __init__(self,input_a,input_b):\n",
    "        self.input_a = input_a\n",
    "        self.input_b = input_b\n",
    "        self.distance = 0\n",
    "        self.solution_Edit_Dis = {}\n",
    "        self.result = []\n",
    "    def get_solution(self):\n",
    "        self.distance = self.edit_distance(self.input_a,self.input_b)\n",
    "        print('Distance is {}'.format(self.distance))\n",
    "        return \n",
    "    \n",
    "    def show_solution(self):\n",
    "        print('Solution set is as follow:')\n",
    "        for v,k in self.solution_Edit_Dis.items():\n",
    "                print('{v}:{k}'.format(v = v, k = k))\n",
    "        return \n",
    "        #return result\n",
    "        \n",
    "    def parse_solution(self,left_input,right_input):\n",
    "        if len(left_input)==0:return len(right_input)\n",
    "        if len(right_input)==0:return len(left_input)\n",
    "        \n",
    "        tail_s1=left_input[-1]\n",
    "        tail_s2=right_input[-1]\n",
    "        temp = self.solution_Edit_Dis[(left_input, right_input)]\n",
    "        if temp=='':\n",
    "            return self.parse_solution(left_input[:-1],right_input[:-1])\n",
    "        if 'DEL' in temp:\n",
    "            self.result.append(temp)\n",
    "            return self.parse_solution(left_input[:-1],right_input)\n",
    "        if 'ADD' in temp:\n",
    "            self.result.append(temp)\n",
    "            return self.parse_solution(left_input,right_input[:-1])\n",
    "        if 'SUB' in temp:\n",
    "            self.result.append(temp)\n",
    "            return self.parse_solution(left_input[:-1],right_input[:-1])\n",
    "        return\n",
    "    \n",
    "    \n",
    "    @lru_cache(maxsize=2**10)\n",
    "    def edit_distance(self,string1,string2):\n",
    "\n",
    "        #一边到头了的情况\n",
    "        if len(string1)==0:return len(string2)\n",
    "        if len(string2)==0:return len(string1)\n",
    "\n",
    "        #取最后一位，作为要增减的部分。\n",
    "        tail_s1=string1[-1]\n",
    "        tail_s2=string2[-1]\n",
    "        candidates = [\n",
    "            ( self.edit_distance(string1[:-1],string2)+1,'DEL {}'.format(tail_s1)),\n",
    "            ( self.edit_distance(string1,string2[:-1])+1,'ADD {}'.format(tail_s2)),\n",
    "        ]\n",
    "        if tail_s1==tail_s2:\n",
    "            both_forward = (self.edit_distance(string1[:-1],string2[:-1])+0,'')\n",
    "        else:\n",
    "            both_forward = (self.edit_distance(string1[:-1],string2[:-1])+2,'SUB {} => {}'.format(tail_s1,tail_s2))\n",
    "\n",
    "        candidates.append(both_forward)\n",
    "\n",
    "        min_distance, operation = min(candidates, key=lambda x: x[0])\n",
    "\n",
    "        self.solution_Edit_Dis[(string1, string2)] = operation \n",
    "\n",
    "        return min_distance             \n"
   ]
  },
  {
   "cell_type": "code",
   "execution_count": 14,
   "metadata": {},
   "outputs": [
    {
     "name": "stdout",
     "output_type": "stream",
     "text": [
      "Distance is 2\n",
      "['DEL A', 'ADD G']\n"
     ]
    }
   ],
   "source": [
    "test1=Edit_Distance('ATCGGAA','ATCGGGA')\n",
    "test1.get_solution()\n",
    "#test1.show_solution()\n",
    "test1.parse_solution(test1.input_a,test1.input_b)\n",
    "print(test1.result)"
   ]
  },
  {
   "cell_type": "markdown",
   "metadata": {},
   "source": [
    "### Part 2 Choose 1 - 2 books to keep reading: \n",
    "\n",
    "+ Introduction to Algorithms \n",
    "+ Artificial Intelligence A Modern Approach (3rd Edition) \n",
    "+ Programming Pearls \n",
    "\n",
    "\n",
    "> most books you may find in our github: https://github.com/Computing-Intelligence/References"
   ]
  },
  {
   "cell_type": "markdown",
   "metadata": {},
   "source": [
    "### Part 3: Answer following questions: "
   ]
  },
  {
   "cell_type": "markdown",
   "metadata": {},
   "source": [
    "1. Why do we need dynamic programming? What's the difference of dynamic programming and previous talked `search` problme? "
   ]
  },
  {
   "cell_type": "markdown",
   "metadata": {},
   "source": [
    "Ans: 我们遇到复杂问题时，我们将其分解成多个子问题，一一求解并记录；在子问题重复出现时，即可使用之前的结果直接得出结论，无需更多的计算。\n",
    "\n",
    "    不同在于，动态规划先找出复杂问题与子问题之间的联系后，求解子问题，组合成答案；搜索方法则是按照一定算法不断递归，一直寻找直到找到结果为止。"
   ]
  },
  {
   "cell_type": "markdown",
   "metadata": {},
   "source": [
    "2. Why do we still need dynamic programming? Why not we train a machine learning to fit a function which could get the `right` answer based on inputs?"
   ]
  },
  {
   "cell_type": "markdown",
   "metadata": {},
   "source": [
    "Ans: 动态规划可快速解决不太复杂的问题，无需数据集训练验证等繁琐的过程。"
   ]
  },
  {
   "cell_type": "markdown",
   "metadata": {},
   "source": [
    "3. Can you catch up at least 3 problems which could solved by Dynamic Programming? "
   ]
  },
  {
   "cell_type": "markdown",
   "metadata": {},
   "source": [
    "Ans: 二分查找树，最短路径，论文查重。"
   ]
  },
  {
   "cell_type": "markdown",
   "metadata": {},
   "source": [
    "4. Can you catch up at least 3 problems wich could sloved by Edit Distance? "
   ]
  },
  {
   "cell_type": "markdown",
   "metadata": {},
   "source": [
    "Ans: 论文查重，错别字修改。想不到了Orz"
   ]
  },
  {
   "cell_type": "markdown",
   "metadata": {},
   "source": [
    "5. Please summarize the three main features of Dynamic Programming, and make a concise explain for each feature. "
   ]
  },
  {
   "cell_type": "markdown",
   "metadata": {},
   "source": [
    "Ans: 寻找子问题关系，子问题结果储存，查表。\n",
    "\n",
    "    1. 不断递归的查找子问题与复杂问题之间的联系\n",
    "    2. 在过程中储存子问题的解决结果\n",
    "    3. 在后面解决类似问题时直接查表得出结果。"
   ]
  },
  {
   "cell_type": "markdown",
   "metadata": {},
   "source": [
    "6. What's the disadvantages of Dynamic Programming? (You may need search by yourself in Internet)"
   ]
  },
  {
   "cell_type": "markdown",
   "metadata": {},
   "source": [
    "Ans: 空间换时间的一种算法，空间要求较高。对于高维度的问题不能很好地解决。"
   ]
  },
  {
   "cell_type": "markdown",
   "metadata": {},
   "source": [
    "## Part 4 Preparation of Project-01，之前完成过个人网站的相关项目，不是大问题，最近毕设比较忙就留到五月中再整"
   ]
  },
  {
   "cell_type": "markdown",
   "metadata": {},
   "source": [
    "1. Using python Flask or Bottle to finish your first simple web app:\n",
    "> https://bottlepy.org/\n",
    "\n",
    "2. Learn what's the SQL, and try some simple SQL operations:\n",
    "> https://www.w3schools.com/sql/sql_intro.asp\n",
    "\n",
    "3. Learn what's the HTML ( *ONLY* need to know the basic things)\n",
    "> https://getbootstrap.com/; https://www.w3schools.com/html/"
   ]
  },
  {
   "cell_type": "markdown",
   "metadata": {},
   "source": [
    "### (Optinal) Finish the k-person-salesman problem:"
   ]
  },
  {
   "cell_type": "code",
   "execution_count": 15,
   "metadata": {},
   "outputs": [],
   "source": [
    "import random\n",
    "import matplotlib.pylab as plt"
   ]
  },
  {
   "cell_type": "code",
   "execution_count": 16,
   "metadata": {},
   "outputs": [],
   "source": [
    "latitudes = [random.randint(-100, 100) for _ in range(21)]\n",
    "longitude = [random.randint(-100, 100) for _ in range(21)]"
   ]
  },
  {
   "cell_type": "code",
   "execution_count": 17,
   "metadata": {},
   "outputs": [
    {
     "data": {
      "text/plain": [
       "<matplotlib.collections.PathCollection at 0x25d14e66710>"
      ]
     },
     "execution_count": 17,
     "metadata": {},
     "output_type": "execute_result"
    },
    {
     "data": {
      "image/png": "[encoded data removed]",
      "text/plain": [
       "<Figure size 432x288 with 1 Axes>"
      ]
     },
     "metadata": {
      "needs_background": "light"
     },
     "output_type": "display_data"
    }
   ],
   "source": [
    "plt.scatter(latitudes, longitude)"
   ]
  },
  {
   "cell_type": "markdown",
   "metadata": {},
   "source": [
    "给定一个初始点 $P$, 已经 $k$个车辆，如何从该点出发，经这 k 个车辆经过所以的点全部一次，而且所走过的路程最短? "
   ]
  },
  {
   "cell_type": "markdown",
   "metadata": {},
   "source": [
    "例如： "
   ]
  },
  {
   "cell_type": "code",
   "execution_count": 18,
   "metadata": {},
   "outputs": [],
   "source": [
    "chosen_p = (5, 10)"
   ]
  },
  {
   "cell_type": "code",
   "execution_count": 19,
   "metadata": {},
   "outputs": [
    {
     "data": {
      "text/plain": [
       "<matplotlib.collections.PathCollection at 0x25d14ed5390>"
      ]
     },
     "execution_count": 19,
     "metadata": {},
     "output_type": "execute_result"
    },
    {
     "data": {
      "image/png": "[encoded data removed]",
      "text/plain": [
       "<Figure size 432x288 with 1 Axes>"
      ]
     },
     "metadata": {
      "needs_background": "light"
     },
     "output_type": "display_data"
    }
   ],
   "source": [
    "plt.scatter(latitudes, longitude)\n",
    "plt.scatter([chosen_p[0]], [chosen_p[1]], color='r')"
   ]
  },
  {
   "cell_type": "code",
   "execution_count": 20,
   "metadata": {},
   "outputs": [
    {
     "data": {
      "text/plain": [
       "{0: (5, 10),\n",
       " 1: (46, 15),\n",
       " 2: (6, -75),\n",
       " 3: (-49, 54),\n",
       " 4: (-50, 44),\n",
       " 5: (5, 57),\n",
       " 6: (70, -69),\n",
       " 7: (41, 68),\n",
       " 8: (-88, 23),\n",
       " 9: (2, -14),\n",
       " 10: (1, 75),\n",
       " 11: (-71, 5),\n",
       " 12: (25, 17),\n",
       " 13: (-54, -36),\n",
       " 14: (-64, 75),\n",
       " 15: (79, -93),\n",
       " 16: (-19, 75),\n",
       " 17: (-70, -59),\n",
       " 18: (38, -77),\n",
       " 19: (31, -47),\n",
       " 20: (-100, 38),\n",
       " 21: (-77, -74)}"
      ]
     },
     "execution_count": 20,
     "metadata": {},
     "output_type": "execute_result"
    }
   ],
   "source": [
    "coordinates_point=list()\n",
    "point_code = {}\n",
    "point_code[0]=chosen_p\n",
    "for i in range(len(latitudes)):\n",
    "    point_code[i+1]=(latitudes[i], longitude[i])\n",
    "point_code"
   ]
  },
  {
   "cell_type": "markdown",
   "metadata": {},
   "source": [
    "目前这里有20个点加随机起始点则为21个点，我们为他们附上相应的代号{1-21}，并建立大地图，对每个点与另外的20个点求出一张距离图。"
   ]
  },
  {
   "cell_type": "code",
   "execution_count": 21,
   "metadata": {},
   "outputs": [],
   "source": [
    "import math\n",
    "\n",
    "map_list = list()\n",
    "for code,points in point_code.items():\n",
    "    dis_map={}\n",
    "    for code_in,points_in in point_code.items():\n",
    "        \n",
    "        if code==code_in:\n",
    "            continue\n",
    "        dis_map[code_in] = int(math.sqrt(pow(points_in[0]-points[0],2)+pow(points_in[1]-points[1],2)))\n",
    "    sorted(dis_map.items(),key=lambda item:item[1])\n",
    "    map_list.append(dis_map)"
   ]
  },
  {
   "cell_type": "markdown",
   "metadata": {},
   "source": [
    "这里的思路是当K=1的时候使用贪婪算法解决Orz，想不出别的了"
   ]
  },
  {
   "cell_type": "code",
   "execution_count": 22,
   "metadata": {},
   "outputs": [],
   "source": [
    "temp = map_list\n",
    "visited_list = [0] * len(map_list)\n",
    "visited_list[0]=1\n",
    "path=[]\n",
    "now_place = 0\n",
    "distance = 0\n",
    "while True:\n",
    "    if 0 in visited_list:\n",
    "        now_full_map = temp[now_place]\n",
    "        \n",
    "        path.append(now_place)\n",
    "        for counter,i in enumerate(visited_list): \n",
    "            if i==1 and counter in now_full_map:\n",
    "                    del now_full_map[counter]\n",
    "\n",
    "        \n",
    "        now_map = sorted(now_full_map.items(),key=lambda item:item[1])\n",
    "        if(len(now_map)==0):\n",
    "            break\n",
    "        visited_list[now_place]=1\n",
    "        now_place=now_map[0][0]\n",
    "        distance+=now_map[0][1]\n",
    "        \n",
    "    else:\n",
    "        break"
   ]
  },
  {
   "cell_type": "code",
   "execution_count": 26,
   "metadata": {},
   "outputs": [
    {
     "name": "stdout",
     "output_type": "stream",
     "text": [
      "0->12->1->9->19->18->2->6->15->13->17->21->11->8->20->4->3->14->16->10->5->7\n",
      "\n",
      "\n",
      "(5, 10)->(25, 17)->(46, 15)->(2, -14)->(31, -47)->(38, -77)->(6, -75)->(70, -69)->(79, -93)->(-54, -36)->(-70, -59)->(-77, -74)->(-71, 5)->(-88, 23)->(-100, 38)->(-50, 44)->(-49, 54)->(-64, 75)->(-19, 75)->(1, 75)->(5, 57)->(41, 68)\n",
      "\n",
      "\n",
      "Total distance is: 803\n"
     ]
    }
   ],
   "source": [
    "print('->'.join(str(p) for p in path))  \n",
    "print('\\n')\n",
    "print('->'.join(str(point_code[p]) for p in path))   \n",
    "print('\\n')\n",
    "print('Total distance is: {}'.format(distance))"
   ]
  },
  {
   "cell_type": "code",
   "execution_count": null,
   "metadata": {},
   "outputs": [],
   "source": []
  }
 ],
 "metadata": {
  "kernelspec": {
   "display_name": "Python 3",
   "language": "python",
   "name": "python3"
  },
  "language_info": {
   "codemirror_mode": {
    "name": "ipython",
    "version": 3
   },
   "file_extension": ".py",
   "mimetype": "text/x-python",
   "name": "python",
   "nbconvert_exporter": "python",
   "pygments_lexer": "ipython3",
   "version": "3.6.8"
  }
 },
 "nbformat": 4,
 "nbformat_minor": 2
}
